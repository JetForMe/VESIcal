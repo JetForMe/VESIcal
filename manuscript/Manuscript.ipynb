{
 "cells": [
  {
   "cell_type": "markdown",
   "metadata": {},
   "source": [
    "# VESIcal: An open-source thermodynamic model engine for mixed volatile (H$_2$O-CO$_2$) solubility in silicate melts\n",
    "## (For Earth and Space Sciences, an AGU Journal)\n",
    "***\n",
    "## Kayla Iacovino$^1$, Simon Matthews$^2$, Penny Wieser$^3$, Gordon M. Moore$^1$, Florence Bégué$^4$\n",
    "$^1$Jacobs, NASA Johnson Space Center, Houston, TX 77058, USA\n",
    "<br>$^2$Johns Hopkins University, Department of Earth and Planetary Sciences, Baltimore, MD 21218, USA\n",
    "<br>$^3$University of Cambridge, Department of Earth Sciences, Downing Street, Cambridge CB2 3EQ, UK\n",
    "<br>$^4$University of Lausanne, Institute of Earth Sciences, Lausanne, Switzerland"
   ]
  },
  {
   "cell_type": "markdown",
   "metadata": {},
   "source": [
    "# Key Points\n",
    "1. The first comprehensive volatile solubility tool capable of processing large datasets automatically\n",
    "2. Eight built-in solubility models, with automatic calculation and plotting functionality\n",
    "3. Build in python but easily usable by scientists with any level of coding skill"
   ]
  },
  {
   "cell_type": "markdown",
   "metadata": {},
   "source": [
    "# Abstract\n",
    "\n",
    "Thermodynamic modeling has been the backbone of interpreting geologic data and modelling geologic systems for decades. However, more recent advancements in computational capabilities and a marked increase in researchers' accessibility to computing tools has outpaced the functionality and extensibility of currently available modeling tools. Here we present the first comprehensive modelling tool for H$_2$O, CO$_2$, and mixed (H$_2$O-CO$_2$) solubility in silicate melts. VESIcal is a thermodynamic framework that: a) allows users access to all commonly used models, inlcuding easy intercomparison between models; b) provides universal functionality for all models (e.g., functions for calculating saturation pressures, degassing paths, etc.); c) can process large datasets (1,000's of samples) automatically; d) outputs computed data into an excel spreadsheet for simple post-modelling analysis; e) integrates advanced plotting capabilities directly within the tool; and f) provides all of these within the framework of a python library, making the tool extensible by the user and allowing any of the model functions to be incorporated into any other code capable of calling python. The tool is presented within this manuscript, which is a Jupyter notebook containing worked examples accessible to python users with a range of skill levels. The VESIcal python library is open-source and available for download at [https://github.com/kaylai/VESIcal](https://github.com/kaylai/VESIcal)."
   ]
  },
  {
   "cell_type": "markdown",
   "metadata": {},
   "source": [
    "# Plain Language Summary\n",
    "To be written after first full draft is complete."
   ]
  },
  {
   "cell_type": "markdown",
   "metadata": {},
   "source": [
    "# 1. Introduction\n",
    "<a id='introduction'></a>\n",
    "\n",
    "The most abundant volatile components found in terrestrial magmatic systems are H$_2$O and CO$_2$. It has been known for nearly a century (Bowen, 1924; Tuttle & Bowen, 1952) that these components have profound effects on the chemical and material properties of magmas (e.g. phase equilibria, melting temperatures, magma viscosity and density), and thus significantly affect their geochemical and dynamical behavior (e.g. eruption and degassing style, role of magmatism in terrestrial C/H budgets, etc). Therefore, in order to accurately understand the behavior of magmas in both plutonic and volcanic environments, it is critical to assess how H$_2$O and CO$_2$ behave in magmatic systems as a function of intensive variables such as pressure, temperature, and melt/fluid composition.  \n",
    "\n",
    "One specific and critically important behavior of volatiles in magmas is their solubility. The volatile solubility of a magma varies significantly as it rises from depth to the surface, as it is particularly dependent on the pressure, melt composition, and more weakly on temperature. Volatile solubility of a magma is defined at a given pressure and temperature as the volatile content at which a magma becomes volatile saturated; i.e., the conditions where the melt can no longer hold the volatile in solution, and there is a resulting change in the number of magmatic phases present (e.g. from melt + crystals to melt + crystals + fluid). This change from volatile under-saturated to volatile-saturated is significant in terms of both the chemical and physical evolution of a rising magma, as 1.) the formation of a volatile fluid phase comes with a large change in total volume due to bubble formation and the large molar volume of H$_2$O-CO$_2$ fluids, 2.) the bubbles themselves may increase the bulk magma viscosity (refs?) and become nucleation sites for crystals (refs?), 3.) the volatile content of the silicate melt portion of the magma is no longer constant and begins to decrease with pressure, thereby increasing the viscosity of the melt (ref’s?), and thus bulk magma viscosity, and 4.) with decreasing volatile content in the melt, mineral phase boundaries may be crossed, resulting in the stabilization (crystallization) or destabilization (reaction melting) of phenocryst phases (ref’s?). \n",
    "\n",
    "## 1.1 Experimental studies determining volatile solubility in magmas\n",
    "Given the critical importance of volatile solubility to our understanding of magmatic systems discussed above, it is no surprise that there is a great deal of past work to quantify it, starting with the classic treatise of Tuttle & Bowen (1952?). This study led to the wider recognition of the importance of volatiles, and initiated a significant effort in the development of both the experimental and analytical approaches to determining volatile solubilities as a function of pressure, temperature, and melt composition. Hamilton et al (1964) was one of the first studies that compared H$_2$O solubilities for differing melt compositions (basalt and andesite), while also investigating the effect of dissolved H$_2$O and oxidation state on the magmatic phase equilibria. This study was followed by the groundbreaking experimental measurements of the Burnham group on the dissolution of H$_2$O in albite melts (Burnham et al, 197?; 197??; Holloway et al, 19??).  Many subsequent studies have continued since, aided significantly by developments in analytical techniques to determine dissolved volatile contents, such as infra-red spectroscopy (FTIR; e.g., Stolper, 1980; Stolper et al, 198??, Fine & Stolper, 1980; etc), and secondary ion mass spectrometry (SIMS; Hervig, Hauri, etc, need more ref’s here). The fact that both the FTIR and SIMS techniques allow micro-determinations of volatile contents on sample sizes at the ~10 micron scale, their development also facilitated a new approach to determining pre-eruptive magmatic volatile contents by allowing precise measurement of volatiles in trapped glass/melt inclusions (Wallace, Roggensack, Plank, etc).  This explosion of new information from melt inclusion measurements about pre-eruptive volatile contents made understanding volatile solubility in magmas as a function of pressure and temperature even more critical for the interpretation of the data, and highlighted the need for flexible and precise solubility models that allowed estimation of solubility conditions for a broad range of pressure, temperature, and melt/fluid compositions. \n",
    "\n",
    "## 1.2 Model availability prior to VESIcal\n",
    "Until now, calculating saturation pressures, dissolved volatile contents, and isobars and isopleths has been a time-consuming endeavour. In many cases, the authors of solubility models provided no accompanying tool to perform these calculations, requiring users to correctly combine and interpret the relevant equations (e.g., Dixon et al., 1995; Dixon, 1997; Liu et al., 2005; Shishkina et al., 2014). This is problematic, given that typesetting can sometimes result in errors such as typos within model equations (See Table ? for corrected versions). For some models, an excel spreadsheet is provided, or available at request from the authors. For example, Newman and Lowenstern (2002) included a simplified version of the Dixon (1997) model as part of “VolatileCalc”, which is written in Visual Basic for Excel. Due to its simplicity, allowing users to calculate saturation pressures, degassing paths, isobars and isopleths with a few button clicks and pop-up boxes, this tool has proved extremely popular (with 741 citations at the time of writing). However, to calculate saturation pressures using VolatileCalc, the user must individually enter the SiO2, H2O, CO2 content and temperature of every single sample into pop-up boxes. Similarly, the excel spreadsheet for the Moore et al. (1998) model calculates dissolved H2O contents based on the concentration of 9 oxides, temperature, and the fraction of XH2O in the vapour, which must be pasted in for every sample. Finally, Allison et al. (2019) provide an excel spreadsheet that allows users to calculate fugacities, partial pressures, isobars, isopleths and saturation pressures. Again, parameters for each sample must be entered individually, with no way to calculate large numbers of samples automatically. \n",
    "\n",
    "More recently, authors have provided web-hosted interfaces to calculating saturation pressures and dissolved volatile contents (e.g., Iacono-Marziano et al., 2012; http://calcul-isto.cnrs-orleans.fr/, and Ghiorso and Gualda, 2015; http://melts.ofm-research.org/CORBA_CTserver/GG-H2O-CO2.html). Ghiorso and Gualda (2015) also provide a Mac Application. Interestingly, the web-hosted version of Magmasat returns the error message “no conv” when calculating saturation pressures for many samples which do return an output using the Mac Application. The main limitation of these tools is that they require manual entry of the concentrations of 8-10 major oxides, temperature, as well as CO2 and H2O concentrations to calculate saturation pressures, or XH2O to calculate dissolved volatile contents. Unlike the Moore et al. (1998) spreadsheet, the oxide concentrations for a single sample cannot be pasted in en-mass, but must be individually typed or pasted into each box. This is particularly time consuming for melt inclusion studies, where saturation pressures are calculated for hundreds of inclusions, each with different entrapment temperatures, CO2, H2O, and major element concentrations. For example, the saturation pressures from 105 Gakkel ridge melt inclusions calculated in Magmasat by Bennet et al. (2019) required the manual entry of 1365 values! The potential for user error in this data entry stage should not be overlooked. Another issue with these web-hosted tools is their longevity; the link provided in the Iacono-Marziano et al. (2012) manuscript returns an error “this site cannot be reached”, although email contact with the author directed us towards the newer link given above. Similarly, the web tool for the popular Papale et al. (2006) H2O-CO2 solubility model no longer works (due to updates in MELTS?), and the link to H2O-CO2 equation of state web tool of Duan and Zhang (2006) provided in their manuscript returns a 404 error. \n",
    "\n",
    "In contrast, VESIcal is an open source tool and as such is far less prone to the preservation issues discussed above. Because the VESIcal code is hosted on GitHub, every change to the code is tracked publicly (Perkel, 2016). VESIcal’s current release is also archived on Zenodo, which provides a static citable DOI (DOI here) for the current version of the code, along with a snapshot of the GitHub repository at the time of release.\n",
    "    \n",
    "<a id='figure-calibration-ranges'></a>\n",
    "\n",
    "### Figure X. Calibration ranges of VESIcal models\n",
    "<img src=\"figures/Fig_Calibration_PW.png\">"
   ]
  },
  {
   "cell_type": "markdown",
   "metadata": {},
   "source": [
    "# 2. Research Methodology\n",
    "<a id='research_methodology'></a>\n",
    "\n",
    "Here we present a thermodynamic volatile calculation model engine capable of performing a wide array of calculations using any one of eight of the most popular volatile solubility models:\n",
    "\n",
    "-\tMagmaSat (MELTS v. 1.2.0; Ghiorso and Gualda, 2015; the default model)\n",
    "-\tDixon (1997)\n",
    "-\tMoore et al. (1998; water only, but H$_2$O fluid concentration can be specified)\n",
    "-\tLiu et al (2005; H$_2$O-CO$_2$, rhyolitic compositions only)\n",
    "-\tIacono-Marziano et al. (2002)\n",
    "-\tShishkina et al. (2014)\n",
    "-\tEguchi and Dasgupta (2018; carbon only)\n",
    "-\tAllison et al. (2019, carbon only).\n",
    "\n",
    "The combination of these models produces a single tool with an extensive pressure-temperature-composition calibration range (Figure calibrange). VESIcal represents the first volatile solubility tool with the ability to perform calculations for multiple samples at once, with built-in functionality for extracting data from an Excel file. In addition, the code is written such that it is flexible (sample, calculation type, and model type can be chosen discretely) and extensible (VESIcal code can be easily imported for use in python scripts, and the code is formatted such that new volatile models can be easily added).\n",
    "\n",
    "As discussed below, any individual model is only valid within its calibrated range, and each model is parameterized and expressed differently, making it impractical to simply combine them into one large model. Instead, VESIcal provides one set of tools that can access and utilize all of these models.\n",
    "\n",
    "VESIcal has been designed for practicality and ease of use. It is designed to be used by anyone, from someone who is completely unfamiliar with coding to an adept programmer. The non-coder user can interact with VESIcal through this manuscript, and can upload a file with data, execute the tutorial below, and save the results to an Excel file to work with outside of VESIcal. The programmer user may wish to use the more advanced functionality provided by VESIcal, including the ability to hybridize models (e.g., use one model for H$_2$O and another for CO$_2$) or write their own routines and code that calls VESIcal methods. Specific instructions on how to interact with this code are provided in section X.\n",
    "\n",
    "All of the calculations implemented in VESIcal can be performed using any of the models included. The code is structured by calculation rather than by model, which provides an intuitive way for users to interact with the code and compare outputs from multiple models. A python class is definied for each calculation. These classes can be called as python methods, take the model name and any applicable data as arguments, and return the results of the calculation. Each class performs five key functions: 1) creates the requested model object and performs any necessary pre-processing (e.g., ensuring relevant data are present; normalizing data); 2) takes user input and performs the mathematical calculation; 3) does any necessary processing of the output (e.g., normalizing totals); 4) checks that the model is being used within its calibrated range; and 5) returns calcualted outputs in an intuitive and manipulatable format (e.g., a python dictionary, a figure, or a pandas DataFrame). Results of calculations can easily be saved to one or more Excel files (.xslx).\n",
    "\n",
    "<a id='model_calibration_ranges'></a>\n",
    "## 2.1 Models included in VESIcal\n",
    "### Penny can you start this section?\n",
    "[add text from word doc here]\n",
    "\n",
    "<a id='table-calibration-ranges'></a>\n",
    "\n",
    "### Table X. Calibration ranges of VESIcal models\n",
    "<img src=\"tables/Table_of_Compositional_ranges.png\">"
   ]
  },
  {
   "cell_type": "markdown",
   "metadata": {},
   "source": [
    "## 2.2 Format of the python library\n",
    "In this section, the basic organization and use cases of VESIcal are discussed. Specific details on how to perform model calculations are discussed in Section 3 and include worked examples. The VESIcal library is written so that users can interact first and foremost with the calculation they want to perform. Five standard calculations can be performed with any model in the library: \n",
    "1. `calculate_dissolved_volatiles()`\n",
    "2. `calculate_equilibrium_fluid_composition()`\n",
    "3. `calculate_saturation_pressure()`\n",
    "4. `calculate_isobars_and_isopleths()` (plus functionality for plotting; only for mixed volatiles models)\n",
    "5. `calculate_degassing_path()` (plus functionality for plotting; only for mixed volatiles models)\n",
    "\n",
    "Figure 1 illustrates the basic organization of the code. First, the user determines which calculation they wish to perform by accessing one of the five core calculation classes (listed above). In this step, the user specifies any input parameters needed for the calculation (e.g., sample composition, pressure, temperature) as well as the model they wish to use. The default model is MagmaSat, but the user may specify any model in the library. As an example, the code to calculate the saturation pressure of some sample using the MagmaSat model would be written as:\n",
    "\n",
    "`calculate_saturation_pressure(sample=mysample, temperature=850.0)`\n",
    "\n",
    "where `mysample` is a dictionary or pandas Series containing the composition of the sample in oxide wt%, and the temperature is given in $^{\\circ}$C. If a different model is desired, for example Shishkina et al. (2014), it can be passed as:\n",
    "\n",
    "`calculate_saturation_pressure(sample=mysample, temperature=850.0, model='Shishkina')`\n",
    "\n",
    "The core calculation classes each perform two functions: 1) a check is performed to ensure that the user input is within the model's recommended calibration range; 2) the `calculate()` method sends the user input to the appropriate model. Each model in the library is defined as a python class and contains model-specific methods for performing the five standard calculations. Standard pre-processing of the data (e.g., normalizing the composition to 100%, ignoring extranneous compositional information) is performed before the calculation and is uniquely defined for each model.\n",
    "\n",
    "### Figure 1 \n",
    "<img src=\"figures/code_flowchart.png\">\n",
    "\n",
    "*Flowchart illustrating the basic organization of the python library. First, a user chooses a calculation to perform and calls one of the five core calculation classes. Here, any necessary parameters are passed such as sample composition, pressure, and temperature. A check is run to ensure the calculation is being performed within model-specified limits. The Calculate() class then calls on one of the Model() classes. The default model is MagmaSat, but a user may specify a different model when defining the calculation parameters. Standard pre-processing is then performed on the input data, and this pre-processing step is unique to each model. The processed data are then fed into a model-specific method to perform the desired core calculation.*\n",
    "<hr>\n",
    "\n",
    "The VESIcal code has been designed to facilitate easy use by a user with any skill level in coding or in the python language. To facilitate this, we have structured the code as two basic end-member computational paths: a batch processing path (simpler) and a single sample path (more advanced options). The level of simplicity of either path is indirectly proportional to the level of customization and extensibility (Figure 2). \n",
    "\n",
    "The \"simplest\" way to interact with the VESIcal code is via the batch processing path. Here, the user provides input data in the form of a Microsoft Excel spreadsheet (.xlsx file) and instructs the model to perform whatever calculation is desired. The model returns data formatted like a Microsoft Excel spreadsheet, which contains the user's original input data plus whatever model outputs were calculated. This path always operates in a \"verbse\" output style; that is, calculations return not only the specific calculated values requested but also any other relevant data calculated along the way. For example, a call to `calculate_saturation_pressure()` in the batch processing path returns, for every sample, the saturation pressure in bars, the mass of fluid present in grams, and the composition of the fluid present. After the calculation is performed, the user can continue to work with the returned data in their jupyter notebook or terminal window, or they can simply export the data to an excel file with one simple command `save_excel_file()`.\n",
    "\n",
    "The more advanced calculation path is actually the most fundamental as it allows the user access to the most basic model functions and even to hybridize models. Calculations are performed on a single sample; iterating over large datasets is left to the user to implement. However, this allows the user to input information in a variety of ways without being constrained to formatting the input data in a particular way or naming scheme. This also gives the user more flexibility in integrating any VESIcal model function into some other python code.\n",
    "\n",
    "### Figure 2\n",
    "<img src=\"figures/batch_v_singlesample.png\">\n",
    "\n",
    "*Flowchart illustrating the different operational paths. On top, batch calculation is shown, in which an Excel file with any amount of samples is fed into the model, calcualtions are performed, and the original user data plus newly calculated values are returned and can be saved as an Excel file. Below, single-sample calculation is shown. These methods can run calculations on one sample at a time, but multi-sample calculations can be performed iteratively with code written by the user. Calculated values are returned as a variable. For single-sample calculations, more advanced modelling options can be set, and hybridization of models can be performed.*\n",
    "<hr>\n",
    "\n",
    "## 2.3 Extensibility\n",
    "Some text on how awesome this tool is because it's written in Python and can easily be combined with other libraries.\n",
    "\n",
    "### Penny do you have some initial thoughts for this section?\n",
    "\n",
    "## 2.4 Integration within the ENKI framework\n",
    "Introduce ENKI\n",
    "\n",
    "**some older text** MagmaSat+ is a volatile-focused tool capable of producing outputs relevant to volatile solubility and degassing processes. MagmaSat determines the saturation conditions for a mixed H2O-CO2 fluid in natural composition silicate melts <cite data-cite=\"ghiorso_gualda2015\">(Ghiorso & Gualda, 2015)</cite>. MagmaSat+ is a rewrite of the MagmaSat app and based on the thermodynamic model of <cite data-cite=\"ghiorso_gualda2015\">Ghiorso & Gualda (2015)</cite>. Our implementation in the ENKI framework based on Mark’s MELTS-v.1.2.0-equilibrium example notebook (ENKI Equilibrate package).\n",
    "\n",
    "## 2.5 Running the code\n",
    "This tool can be used in a number of ways, via this jupyter notebook or by directly accessing the code in any python script. The first and simplest way to use VESIcal is within this very manuscript, in the form of a jupyter notebook. Because this manuscript and VESIcal python library files are hosted on the ENKI server, code can be manipulated and executed in the code cells below. Making changes won't affect the public version of this manuscript. Second, if jupyter notebook is installed on your local machine, this manuscript notebook can be downloaded along with the VESIcal python library and run locally. Python3 and ENKI thermoengine must be installed, plus the dependencies specified below. Once dependencies are installed, simply ensure that both the notebook (manuscript.ipynb) and library (VESIcal.py) are in the same directory. Instructions on installing and running jupyter notebook can be found on the jupyter website (https://jupyter.org/). Third, the VESIcal python library can be downloaded via the github repository (https://github.com/kaylai/MagmaSatPlus) or installed directly via the python package manager pip using the command `pip install VESIcal`. The same dependencies, including Python3 and ENKI thermoengine, are required for this code to run.\n",
    "\n",
    "**To run the code in this notebook**, nothing needs to be installed. Simply execute the code cells below, changing parameters as necessary. Custom data may be processed by uploading an excel file into the same folder containing this notebook and then changing the filename in Section 3.1.1.\n",
    "\n",
    "**To run this code locally**, some python packages must first be installed:\n",
    "* Python3 (https://www.python.org/downloads/)\n",
    "* ENKI thermoengine (https://gitlab.com/ENKI-portal/ThermoEngine)\n",
    "* Python pandas (https://pandas.pydata.org/)\n",
    "* Numpy (https://numpy.org/)\n",
    "* SciPy (https://www.scipy.org/)\n",
    "* Matplotlib (https://matplotlib.org/)\n",
    "\n",
    "Pandas, Numpy, SciPy, Matplotlib, and jupyter all come standard in Anaconda (https://www.anaconda.com/products/individual), a python package manager for use in data science.\n",
    "\n",
    "## 2.6 Documentation\n",
    "This manuscript serves as documentation of the VESIcal library aimed at python users of all levels. However, the code itself is documented with explanations of each method and its input parameters and returned values. This documentation can be accessed after VESIcal has been imported in Section 3.0.1 by typing `help(v)`, which returns all of the documentation text directly from the code in one large block. An easier way to look through the documentation is at our readthedocs website (https://vesical.readthedocs.io/).\n",
    "\n",
    "Video tutorials are also available on the VESIcal YouTube (link-to-youtube). Currently, tutorials cover: blah blah blah."
   ]
  },
  {
   "cell_type": "markdown",
   "metadata": {},
   "source": [
    "## 2.7 Generic methods for calculating mixed-fluid properties\n",
    "VESIcal provides a set of methods for calculating the properties of mixed CO$_2$-H$_2$O fluids, which can be used with any combinations of H$_2$O and CO$_2$ solubility model. This allows additional models to be added to VESIcal by defining only the (simpler) expressions describing pure fluid solubility. Non-ideality of mixing in the fluid or magma phases can be incorporated by defining activity and fugacity models, which are then accessed by the pure-fluid models. We provide a summary here of how we approach calculating the properties of mixed-fluid systems."
   ]
  },
  {
   "cell_type": "markdown",
   "metadata": {},
   "source": [
    "### 2.7.1 Pure fluid solutions\n",
    "Whilst the variables required for each pure-fluid solubility model are different, we take a very similar approach to calculating fluid properties for each. In general pure-fluid models provide analytical expressions for the concentration of a volatile species dissolved in a magma as a function of either its partial-pressure or fugacity in the vapour phase. To provide a homogeneous framework, each model must have a fugacity model associated with it. Where a solubility model uses partial-pressure in place of fugacity, the fugacity model is set to being an ideal gas.\n",
    "\n",
    "In general, an analytical expression does not exist for the inverse calculation, i.e., calculating the saturation pressure given the concentration of dissolved volatile species. The calculation must then be solved numerically. Numerical methods obtain the answer by making guesses for the saturation pressure, checking whether the predicted concentration of the dissolved volatile species matches the measured value, and refining the guesses as appropriate. When the saturation pressure is found, this equality holds:\n",
    "\n",
    "\\begin{equation}\n",
    " V^L_\\textrm{measured} - V^L_\\textrm{predicted}(P,...) = 0\n",
    "\\end{equation}\n",
    "\n",
    "When the guessed pressure is too high the left hand side of the equation will be negative, and if the guessed pressure is too low it will be positive, We therefore require an algorithm to find the root of the equation. To this end we employ the scipy.optimize.root_scalar() method. The advantage of using a generic scipy algorithm, in preference to creating a bespoke routine, is that it affords us flexibility in how the problem is solved, and the algorithm is underlain by robust, well-tested, efficient code."
   ]
  },
  {
   "cell_type": "markdown",
   "metadata": {},
   "source": [
    "### 2.7.2 Finding saturation pressure of mixed-fluid\n",
    "Describe how scipy.optimize is used here"
   ]
  },
  {
   "cell_type": "markdown",
   "metadata": {},
   "source": [
    "### 2.7.3 Finding the equilibrium fluid composition\n",
    "When calculating the dissolved volatile concentrations in a progressively degassing magma, we break the calculation into steps, each with a small decrement in pressure. As pressure decreases the mass of fluid in equilibrium with the magma increases and its composition will change. At each stage we must, therefore, solve for the mass and composition of the fluid in equilibrium with the magma, given the total mass of volatiles in the system. This calculation is implemented in MixedFluid.calculate_equilibrium_fluid_comp(), which in turn is called by MixedFluid.calculate_degassing_path(). Here we summarise the methodology for the calculation.\n",
    "\n",
    "Mass balance in the system can be expressed in terms of the mole fractions of H$_2$O ($X_{\\textrm{H}_2 \\textrm{O}}$) and CO$_2$ ($X_{\\textrm{CO}_2}$) in the silicate-liquid ($L$), the H$_2$O-CO$_2$O fluid ($F$), and the system total ($T$), and the fraction of fluid present ($f$).\n",
    "\n",
    "\\begin{equation}\n",
    "X^F_{\\textrm{CO}_2} + X^F_{\\textrm{H}_2 \\textrm{O}} = 1\n",
    "\\end{equation}\n",
    "\n",
    "\\begin{equation}\n",
    "(1-f)X^L_{\\textrm{CO}_2} + f X^F_{\\textrm{CO}_2} = X^T_{\\textrm{CO}_2}\n",
    "\\end{equation}\n",
    "\n",
    "\\begin{equation}\n",
    "(1-f)X^L_{\\textrm{H}_2 \\textrm{O}} + f X^F_{\\textrm{H}_2 \\textrm{O}} = X^T_{\\textrm{H}_2 \\textrm{O}}\n",
    "\\end{equation}\n",
    "\n",
    "The fraction of fluid ($f$) can be eliminated by substitution, obtaining Equation --NUMBER-- of --CITATION--:\n",
    "\n",
    "\\begin{equation}\n",
    "\\frac{X^T_{\\textrm{CO}_2}-X^L_{\\textrm{CO}_2}}{X^F_{\\textrm{CO}_2}-X^L_{\\textrm{CO}_2}} - \\frac{X^T_{\\textrm{H}_2\\textrm{O}}-X^L_{\\textrm{H}_2\\textrm{O}}}{X^F_{\\textrm{H}_2\\textrm{O}}-X^L_{\\textrm{H}_2\\textrm{O}}} = 0\n",
    "\\end{equation}\n",
    "\n",
    "In principle, this equation allows us to numerically solve for mass balance; however, the equation is valid only for both $X^F_{\\textrm{CO}_2} \\neq X^L_{\\textrm{CO}_2}$ and $X^F_{\\textrm{H}_2 \\textrm{O}} \\neq X^L_{\\textrm{H}_2 \\textrm{O}}$. When $X^F_{\\textrm{CO}_2} \\rightarrow X^L_{\\textrm{CO}_2}$ or $X^F_{\\textrm{H}_2 \\textrm{O}} \\rightarrow X^L_{\\textrm{H}_2 \\textrm{O}}$ the equation tends to $\\pm \\infty$, which the scipy.optimize.root_scalar() routine will mistake for a root of the equation. The regions over which the expression is not infinite can be found; however we find a more reliable approach when using the scipy.optimize library is to use the equation in a different form.\n",
    "\n",
    "Rearranging the CO$_2$ mass-balance expression allows the fraction of fluid ($f$) to be calculated:\n",
    "\n",
    "\\begin{equation}\n",
    "f = \\frac{X^T_{\\textrm{CO}_2}-X^L_{\\textrm{CO}_2}}{X^F_{\\textrm{CO}_2}-X^L_{\\textrm{CO}_2}}\n",
    "\\end{equation}\n",
    "\n",
    "This is valid for $X^F_{\\textrm{CO}_2} \\neq X^L_{\\textrm{CO}_2}$. It is much more unlikely that a solution will exist near $X^F_{\\textrm{CO}_2} = X^L_{\\textrm{CO}_2}$ than near $X^F_{\\textrm{H}_2 \\textrm{O}} = X^L_{\\textrm{H}_2 \\textrm{O}}$. By not directly eliminating $f$ by dividing through by both ($X^F_{\\textrm{CO}_2} - X^L_{\\textrm{CO}_2}$) and ($X^F_{\\textrm{H}_2 \\textrm{O}} - X^L_{\\textrm{H}_2 \\textrm{O}}$)  we significantly increase the reliability of using this expression with scipy.optimize.root_scalar(). In this expression, the only known value is $X^T_{\\textrm{CO}_2}$. However, if a guess is provided for $X^F_{\\textrm{CO}_2}$, the partial pressure of CO$_2$ can be calculated and the corresponding value for $X^L_{\\textrm{CO}_2}$ obtained. In general the guess for $X^F_{\\textrm{CO}_2}$ will not satisfy mass balance when the same parameters are applied to both CO$_2$ and H$_2$O. \n",
    "\n",
    "Since $X^F_{\\textrm{H}_2 \\textrm{O}} = 1 - X^F_{\\textrm{CO}_2}$, when we provide a guess for $X^F_{\\textrm{CO}_2}$ we also fix $X^F_{\\textrm{H}_2 \\textrm{O}}$. This in turn fixes the partial pressure of H$_2$O, allowing us to calculate $X^L_{\\textrm{H}_2 \\textrm{O}}$ consistent with that guess. We can then test whether our guess for $X^F_{\\textrm{CO}_2}$ satisfies mass balance by checking for the equality:\n",
    "\n",
    "\\begin{equation}\n",
    "(1-f)X^L_{\\textrm{H}_2 \\textrm{O}} + f X^F_{\\textrm{H}_2 \\textrm{O}} - X^T_{\\textrm{H}_2 \\textrm{O}} = 0\n",
    "\\end{equation}\n",
    "\n",
    "The value of $X^F_{\\textrm{CO}_2}$ that uniquely satisfies mass balance can then be found numerically by solving this equation using scipy.optimize.root_scalar()."
   ]
  },
  {
   "cell_type": "markdown",
   "metadata": {},
   "source": [
    "# 3. Workable example uses"
   ]
  },
  {
   "cell_type": "markdown",
   "metadata": {},
   "source": [
    "In this section we detail how to use the various functions available in VESIcal through worked examples. The python code presented below may be copied and pasted into a script or can be edited and executed directly within the Jupyter notebook version of this manuscript. For all examples, code in sections 3.0 and 3.1 must be executed to initialize the model and import data from the provided companion excel file. The following sections then may be executed on their own and do not need to be executed in order.\n",
    "\n",
    "Workable examples detailed here are:\n",
    "1. [Loading, viewing, and preparing user data](#loading_viewing_preparing)<br>\n",
    "    1.1. [Loading an Excel file](#batch_processing)<br>\n",
    "    1.2. [Defining a single sample composition](#defining_single_sample)<br>\n",
    "    1.3. [Plotting user data](#plotting_user_data)<br>\n",
    "    1.4. [Extracting a single sample from an Excel file](#extracting_single_melt_composition)<br>\n",
    "    1.5. [Normalizing and transforming data](#normalizing_transforming_data)<br>\n",
    "2. [Calculating dissolved volatile concentrations](#calculating_dissolved_volatile_concentrations)\n",
    "3. [Calculating equilibrium fluid compositions](#calculating_equilibrium_fluid_compositions)\n",
    "4. [Calculating saturation pressures](#calculating_saturation_pressures)\n",
    "5. [Calculating and plotting isobars and isopleths](#calculating_plotting_isobars_isopleths)\n",
    "6. [Calculating and plotting degassing paths](#calculating_plotting_degassing_paths)\n",
    "7. [Plotting multiple calculations](#plotting_multiple_calculations)\n",
    "8. [Comparing results from multiple models](#comparing_results_from_multiple_models)\n",
    "9. [Code hybridization (Advanced)](#code_hybridization)\n",
    "10. [Exporting data](#exporting_data)"
   ]
  },
  {
   "cell_type": "markdown",
   "metadata": {},
   "source": [
    "### 3.0.1 Initialize packages"
   ]
  },
  {
   "cell_type": "markdown",
   "metadata": {},
   "source": [
    "For any code using the VESIcal library, the library must be imported for use. Here we import VESIcal as v. Any time we wish to use a function from VESIcal, that function must be preceded by `v.`. Specific examples of this usage follow. Here we also import some other python libraries that we will be using in the worked examples below."
   ]
  },
  {
   "cell_type": "code",
   "execution_count": 1,
   "metadata": {},
   "outputs": [],
   "source": [
    "import sys\n",
    "sys.path.insert(0, '../')\n",
    "\n",
    "import VESIcal as v\n",
    "import matplotlib.pyplot as plt\n",
    "import numpy as np\n",
    "import pandas as pd\n",
    "from IPython.display import display, HTML\n",
    "%matplotlib inline"
   ]
  },
  {
   "cell_type": "markdown",
   "metadata": {},
   "source": [
    "<a id='loading_viewing_preparing'></a>\n",
    "\n",
    "## 3.1. Loading, viewing, and preparing user data\n",
    "\n",
    "All of the following examples will use data loaded in the code cells in this section. Both batch processing of data in an Excel file and single-sample processing are shown. An example file called 'example_data.xlsx' is included with this manuscript. You can load in your own data by first ensuring that your file is in the same folder as this notebook and then by replacing the filename in the code cell below with the name of your file. The code cell below must be executed for the examples in the rest of this section to function properly.\n",
    "\n",
    "<a id='batch_processing'></a>\n",
    "### 3.1.1 Batch processing\n",
    "Batch calculations are always facilitated via the `ExcelFile()` class, which the user uses to specify the filename corresponding to sample data. Loading in data is as simple as calling `ExcelFile(filename)`. Optionally, `input_type` can be used to specify whether the oxide data are in wt%, mol fraction, or mol%. Calculations will always be performed and returned with melt composition in wt% and fluid composition in mol fraction.\n",
    "\n",
    "**Structure of the input file:** A file containing compositions and optional pressure and/or temperature information on one or multiple samples can be loaded into this code. The loaded file must be a Microsoft Excel file with the extension .xsl or .xslx. The file must be laid out in the same manner as the example file 'example_data.xlsx'. The basic structure is also shown in Table 1. Any extranneous columns that are not labeled as oxides or input parameters will be ignored during calculations. The first column titled 'Label' contains sample names. The following columns must contain compositional information as oxides. The only allowable oxides are: SiO$_2$, TiO$_2$, Al$_2$O$_3$, Fe$_2$O$_3$, FeO, Cr$_2$O$_3$, MnO, MgO, CaO, NiO, CoO, Na$_2$O, K$_2$O, P$_2$O$_5$, H$_2$O, and CO$_2$. All of these oxides need not be included; if for example your samples contain no NiO concentration information, you can omit the NiO column. If other oxide columns not listed here are included in your file, they will be ignored during calculations. Compositions can be entered either in wt% (the default), mol%, or mole fraction. If mol% or mole fraction data are loaded, this must be specified when importing the tile.\n",
    "\n",
    "Pressure and temperature data may optionally be included, if they are known. Column names for these data do not matter, as they can be specified by the user as will be shown in following examples.\n",
    "\n",
    "The standard units used by VESIcal are always pressure in bars, temperature in $^{\\circ}$C, liquid composition as oxides in wt%, and fluid composition as mol fraction (typically specified as X_fluid, the mol fraction of H$_2$O in an H$_2$O-CO$_2$ fluid, ranging from 0-1). The composition may be translated between wt%, mol%, and mol fraction if necessary.\n",
    "\n",
    "**Class structure:** `class ExcelFile(object)`\n",
    "`def __init__(self, filename, input_type='wtpercent', label='Label')`\n",
    "\n",
    "**Required inputs:**<br>\n",
    ">`filename`: A file name must be passed in quotes. This file must be in the same folder as the notebook or script that is calling it. This imports the data from the file name given and saves it to a variable of your choosing.\n",
    "\n",
    "**Optional inputs:** By default, the ExcelFile class assumes that loaded data is in units of wt%; alternatively, data in mol% or mole fraction may be loaded. In that case, loaded data is converted into wt% values, since compositions must be in wt% when performing model calculations.<br>\n",
    ">`input_type`: This is optional but must be specified if the data are input in mol% or mole fraction. In these cases, the data will be converted to wt% for the calculations. The user can pass `'molpercent'` for data in mol% or `'molfrac'` for data in mol fraction. The example below includes `input_type='wtpercent`. This is actually not necessary if data is in wt% but is included for clarity.\n",
    "\n",
    ">`label`: This is optional but must be specified if the column title referring to sample names is anything other than \"Label\". The default value is \"Label\".\n",
    "\n",
    "**Outputs:**<br>\n",
    ">A special type of python object defined in the VESIcal code known as an ExcelFile object."
   ]
  },
  {
   "cell_type": "code",
   "execution_count": 2,
   "metadata": {},
   "outputs": [],
   "source": [
    "myfile = v.ExcelFile('../testDataSets/example_data.xlsx', input_type='wtpercent')\n",
    "\n",
    "# A number of example datasets are included and can be imported to this manuscript (TableX).\n",
    "# Replace the line of code above with any of the following.\n",
    "# myfile = v.ExcelFile('example_data_Basaltic_MI.xlsx', input_type='wtpercent')\n",
    "# myfile = v.ExcelFile('Moore_et_al_1998.xlsx', input_type='wtpercent')\n",
    "# myfile = v.ExcelFile('roggensack_EPSL_CN.xlsx', input_type='wtpercent')"
   ]
  },
  {
   "cell_type": "markdown",
   "metadata": {},
   "source": [
    "Once the ExcelFile object is created and assigned to a variable, the user can then access the data loaded from their file as `variable.data`. In this example, the variable corresponding to the `ExcelFile` object is named `myfile` and so the data in that file can be accessed with `myfile.data`. Below, `myfile.data` is saved to a variable we name `data`. The variable `data` is a pandas DataFrame object, which makes displaying the data itself quite simple and aesthetically pleasing, since pandas DataFrames mimic spreadsheets."
   ]
  },
  {
   "cell_type": "markdown",
   "metadata": {},
   "source": [
    "### Table X. Example datasets included with VESIcal"
   ]
  },
  {
   "cell_type": "code",
   "execution_count": 3,
   "metadata": {},
   "outputs": [
    {
     "data": {
      "text/html": [
       "<div>\n",
       "<style scoped>\n",
       "    .dataframe tbody tr th:only-of-type {\n",
       "        vertical-align: middle;\n",
       "    }\n",
       "\n",
       "    .dataframe tbody tr th {\n",
       "        vertical-align: top;\n",
       "    }\n",
       "\n",
       "    .dataframe thead th {\n",
       "        text-align: right;\n",
       "    }\n",
       "</style>\n",
       "<table border=\"1\" class=\"dataframe\">\n",
       "  <thead>\n",
       "    <tr style=\"text-align: right;\">\n",
       "      <th></th>\n",
       "      <th>Explanation</th>\n",
       "      <th>Compositions</th>\n",
       "      <th>Citations</th>\n",
       "    </tr>\n",
       "    <tr>\n",
       "      <th>Filename</th>\n",
       "      <th></th>\n",
       "      <th></th>\n",
       "      <th></th>\n",
       "    </tr>\n",
       "  </thead>\n",
       "  <tbody>\n",
       "    <tr>\n",
       "      <th>example_data_Basaltic_MI</th>\n",
       "      <td>Basaltic melt inclusion data</td>\n",
       "      <td>Basaltic</td>\n",
       "      <td>Tucker et al. (2019); Bennet et al. (2019)</td>\n",
       "    </tr>\n",
       "    <tr>\n",
       "      <th>Moore_et_al_1998</th>\n",
       "      <td>Experimental and natural glass compositions us...</td>\n",
       "      <td>Basaltic to Rhyolitic, mostly calc-alkaline</td>\n",
       "      <td>Moore et al. (1998)</td>\n",
       "    </tr>\n",
       "    <tr>\n",
       "      <th>roggensack_EPSL_CN</th>\n",
       "      <td>Olivine-hosted melt inclusions</td>\n",
       "      <td>Basaltic</td>\n",
       "      <td>Roggensack (2001)</td>\n",
       "    </tr>\n",
       "  </tbody>\n",
       "</table>\n",
       "</div>"
      ],
      "text/plain": [
       "                                                                Explanation  \\\n",
       "Filename                                                                      \n",
       "example_data_Basaltic_MI                       Basaltic melt inclusion data   \n",
       "Moore_et_al_1998          Experimental and natural glass compositions us...   \n",
       "roggensack_EPSL_CN                           Olivine-hosted melt inclusions   \n",
       "\n",
       "                                                         Compositions  \\\n",
       "Filename                                                                \n",
       "example_data_Basaltic_MI                                     Basaltic   \n",
       "Moore_et_al_1998          Basaltic to Rhyolitic, mostly calc-alkaline   \n",
       "roggensack_EPSL_CN                                           Basaltic   \n",
       "\n",
       "                                                           Citations  \n",
       "Filename                                                              \n",
       "example_data_Basaltic_MI  Tucker et al. (2019); Bennet et al. (2019)  \n",
       "Moore_et_al_1998                                 Moore et al. (1998)  \n",
       "roggensack_EPSL_CN                                 Roggensack (2001)  "
      ]
     },
     "execution_count": 3,
     "metadata": {},
     "output_type": "execute_result"
    }
   ],
   "source": [
    "pd.read_excel(\"tables/List_of_Datasets.xlsx\", index_col=\"Filename\")"
   ]
  },
  {
   "cell_type": "markdown",
   "metadata": {},
   "source": [
    "### Table 1. User input data: Melt inclusion compositions\n",
    "Execute the below cell to display Table 1."
   ]
  },
  {
   "cell_type": "code",
   "execution_count": 4,
   "metadata": {},
   "outputs": [
    {
     "data": {
      "text/html": [
       "<div>\n",
       "<style scoped>\n",
       "    .dataframe tbody tr th:only-of-type {\n",
       "        vertical-align: middle;\n",
       "    }\n",
       "\n",
       "    .dataframe tbody tr th {\n",
       "        vertical-align: top;\n",
       "    }\n",
       "\n",
       "    .dataframe thead th {\n",
       "        text-align: right;\n",
       "    }\n",
       "</style>\n",
       "<table border=\"1\" class=\"dataframe\">\n",
       "  <thead>\n",
       "    <tr style=\"text-align: right;\">\n",
       "      <th></th>\n",
       "      <th>CITATION</th>\n",
       "      <th>ROCK TYPE</th>\n",
       "      <th>SiO2</th>\n",
       "      <th>TiO2</th>\n",
       "      <th>Al2O3</th>\n",
       "      <th>Fe2O3</th>\n",
       "      <th>Cr2O3</th>\n",
       "      <th>FeO</th>\n",
       "      <th>MnO</th>\n",
       "      <th>MgO</th>\n",
       "      <th>NiO</th>\n",
       "      <th>CoO</th>\n",
       "      <th>CaO</th>\n",
       "      <th>Na2O</th>\n",
       "      <th>K2O</th>\n",
       "      <th>P2O5</th>\n",
       "      <th>H2O</th>\n",
       "      <th>CO2</th>\n",
       "      <th>Press</th>\n",
       "      <th>Temp</th>\n",
       "    </tr>\n",
       "    <tr>\n",
       "      <th>Label</th>\n",
       "      <th></th>\n",
       "      <th></th>\n",
       "      <th></th>\n",
       "      <th></th>\n",
       "      <th></th>\n",
       "      <th></th>\n",
       "      <th></th>\n",
       "      <th></th>\n",
       "      <th></th>\n",
       "      <th></th>\n",
       "      <th></th>\n",
       "      <th></th>\n",
       "      <th></th>\n",
       "      <th></th>\n",
       "      <th></th>\n",
       "      <th></th>\n",
       "      <th></th>\n",
       "      <th></th>\n",
       "      <th></th>\n",
       "      <th></th>\n",
       "    </tr>\n",
       "  </thead>\n",
       "  <tbody>\n",
       "    <tr>\n",
       "      <th>Kil3-6_1a</th>\n",
       "      <td>Tucker et al. (2019)</td>\n",
       "      <td>Basalt</td>\n",
       "      <td>48.249207</td>\n",
       "      <td>2.222114</td>\n",
       "      <td>11.692194</td>\n",
       "      <td>0.00</td>\n",
       "      <td>0.0</td>\n",
       "      <td>0.000000</td>\n",
       "      <td>0.079999</td>\n",
       "      <td>14.183817</td>\n",
       "      <td>0.0</td>\n",
       "      <td>0.0</td>\n",
       "      <td>9.892732</td>\n",
       "      <td>1.810522</td>\n",
       "      <td>0.352014</td>\n",
       "      <td>0.210479</td>\n",
       "      <td>0.424695</td>\n",
       "      <td>0.002873</td>\n",
       "      <td>62.5</td>\n",
       "      <td>1299.094712</td>\n",
       "    </tr>\n",
       "    <tr>\n",
       "      <th>Kil3-6_3a</th>\n",
       "      <td>Tucker et al. (2019)</td>\n",
       "      <td>Basalt</td>\n",
       "      <td>48.295691</td>\n",
       "      <td>2.165357</td>\n",
       "      <td>11.755584</td>\n",
       "      <td>0.00</td>\n",
       "      <td>0.0</td>\n",
       "      <td>0.000000</td>\n",
       "      <td>0.084045</td>\n",
       "      <td>13.403980</td>\n",
       "      <td>0.0</td>\n",
       "      <td>0.0</td>\n",
       "      <td>10.052578</td>\n",
       "      <td>2.268198</td>\n",
       "      <td>0.373328</td>\n",
       "      <td>0.204452</td>\n",
       "      <td>0.425984</td>\n",
       "      <td>0.006786</td>\n",
       "      <td>128.0</td>\n",
       "      <td>1283.419991</td>\n",
       "    </tr>\n",
       "    <tr>\n",
       "      <th>Kil3-6_4a</th>\n",
       "      <td>Tucker et al. (2019)</td>\n",
       "      <td>Basalt</td>\n",
       "      <td>49.124079</td>\n",
       "      <td>2.360984</td>\n",
       "      <td>12.172833</td>\n",
       "      <td>0.00</td>\n",
       "      <td>0.0</td>\n",
       "      <td>0.000000</td>\n",
       "      <td>0.098809</td>\n",
       "      <td>11.997699</td>\n",
       "      <td>0.0</td>\n",
       "      <td>0.0</td>\n",
       "      <td>10.308188</td>\n",
       "      <td>2.001863</td>\n",
       "      <td>0.396512</td>\n",
       "      <td>0.238996</td>\n",
       "      <td>0.437758</td>\n",
       "      <td>0.004984</td>\n",
       "      <td>124.5</td>\n",
       "      <td>1255.153759</td>\n",
       "    </tr>\n",
       "    <tr>\n",
       "      <th>10*</th>\n",
       "      <td>Roggensack (2001)</td>\n",
       "      <td>Basalt</td>\n",
       "      <td>47.960000</td>\n",
       "      <td>0.780000</td>\n",
       "      <td>18.770000</td>\n",
       "      <td>0.00</td>\n",
       "      <td>0.0</td>\n",
       "      <td>10.920000</td>\n",
       "      <td>0.150000</td>\n",
       "      <td>6.860000</td>\n",
       "      <td>0.0</td>\n",
       "      <td>0.0</td>\n",
       "      <td>12.230000</td>\n",
       "      <td>1.950000</td>\n",
       "      <td>0.210000</td>\n",
       "      <td>0.170000</td>\n",
       "      <td>4.500000</td>\n",
       "      <td>0.047900</td>\n",
       "      <td>0.0</td>\n",
       "      <td>0.000000</td>\n",
       "    </tr>\n",
       "    <tr>\n",
       "      <th>19*</th>\n",
       "      <td>Roggensack (2001)</td>\n",
       "      <td>Basalt</td>\n",
       "      <td>49.640000</td>\n",
       "      <td>0.710000</td>\n",
       "      <td>18.050000</td>\n",
       "      <td>0.00</td>\n",
       "      <td>0.0</td>\n",
       "      <td>10.540000</td>\n",
       "      <td>0.190000</td>\n",
       "      <td>6.430000</td>\n",
       "      <td>0.0</td>\n",
       "      <td>0.0</td>\n",
       "      <td>12.090000</td>\n",
       "      <td>1.990000</td>\n",
       "      <td>0.200000</td>\n",
       "      <td>0.170000</td>\n",
       "      <td>5.100000</td>\n",
       "      <td>0.111300</td>\n",
       "      <td>0.0</td>\n",
       "      <td>0.000000</td>\n",
       "    </tr>\n",
       "    <tr>\n",
       "      <th>25</th>\n",
       "      <td>Roggensack (2001)</td>\n",
       "      <td>Basalt</td>\n",
       "      <td>50.320000</td>\n",
       "      <td>0.720000</td>\n",
       "      <td>18.030000</td>\n",
       "      <td>0.00</td>\n",
       "      <td>0.0</td>\n",
       "      <td>10.110000</td>\n",
       "      <td>0.140000</td>\n",
       "      <td>5.650000</td>\n",
       "      <td>0.0</td>\n",
       "      <td>0.0</td>\n",
       "      <td>12.780000</td>\n",
       "      <td>1.800000</td>\n",
       "      <td>0.240000</td>\n",
       "      <td>0.230000</td>\n",
       "      <td>5.200000</td>\n",
       "      <td>0.043700</td>\n",
       "      <td>0.0</td>\n",
       "      <td>0.000000</td>\n",
       "    </tr>\n",
       "    <tr>\n",
       "      <th>SAT-M12-1</th>\n",
       "      <td>Moore et al. (1998)</td>\n",
       "      <td>Andesite</td>\n",
       "      <td>62.600000</td>\n",
       "      <td>0.630000</td>\n",
       "      <td>17.300000</td>\n",
       "      <td>2.01</td>\n",
       "      <td>0.0</td>\n",
       "      <td>2.010000</td>\n",
       "      <td>0.060000</td>\n",
       "      <td>2.650000</td>\n",
       "      <td>0.0</td>\n",
       "      <td>0.0</td>\n",
       "      <td>5.640000</td>\n",
       "      <td>4.050000</td>\n",
       "      <td>1.610000</td>\n",
       "      <td>0.240000</td>\n",
       "      <td>2.620000</td>\n",
       "      <td>0.000000</td>\n",
       "      <td>703.0</td>\n",
       "      <td>1100.000000</td>\n",
       "    </tr>\n",
       "    <tr>\n",
       "      <th>SAT-M12-2</th>\n",
       "      <td>Moore et al. (1998)</td>\n",
       "      <td>Andesite</td>\n",
       "      <td>62.600000</td>\n",
       "      <td>0.630000</td>\n",
       "      <td>17.300000</td>\n",
       "      <td>2.01</td>\n",
       "      <td>0.0</td>\n",
       "      <td>2.010000</td>\n",
       "      <td>0.060000</td>\n",
       "      <td>2.650000</td>\n",
       "      <td>0.0</td>\n",
       "      <td>0.0</td>\n",
       "      <td>5.640000</td>\n",
       "      <td>4.050000</td>\n",
       "      <td>1.610000</td>\n",
       "      <td>0.240000</td>\n",
       "      <td>5.030000</td>\n",
       "      <td>0.000000</td>\n",
       "      <td>1865.0</td>\n",
       "      <td>1100.000000</td>\n",
       "    </tr>\n",
       "    <tr>\n",
       "      <th>SAT-M12-4</th>\n",
       "      <td>Moore et al. (1998)</td>\n",
       "      <td>Andesite</td>\n",
       "      <td>62.600000</td>\n",
       "      <td>0.630000</td>\n",
       "      <td>17.300000</td>\n",
       "      <td>2.01</td>\n",
       "      <td>0.0</td>\n",
       "      <td>2.010000</td>\n",
       "      <td>0.060000</td>\n",
       "      <td>2.650000</td>\n",
       "      <td>0.0</td>\n",
       "      <td>0.0</td>\n",
       "      <td>5.640000</td>\n",
       "      <td>4.050000</td>\n",
       "      <td>1.610000</td>\n",
       "      <td>0.240000</td>\n",
       "      <td>6.760000</td>\n",
       "      <td>0.000000</td>\n",
       "      <td>2985.0</td>\n",
       "      <td>1050.000000</td>\n",
       "    </tr>\n",
       "    <tr>\n",
       "      <th>samp. P1968</th>\n",
       "      <td>Myers et al. (2019)</td>\n",
       "      <td>Rhyolite</td>\n",
       "      <td>76.974880</td>\n",
       "      <td>0.085516</td>\n",
       "      <td>3.110636</td>\n",
       "      <td>0.00</td>\n",
       "      <td>0.0</td>\n",
       "      <td>4.788883</td>\n",
       "      <td>0.000000</td>\n",
       "      <td>12.549439</td>\n",
       "      <td>0.0</td>\n",
       "      <td>0.0</td>\n",
       "      <td>1.207910</td>\n",
       "      <td>0.138963</td>\n",
       "      <td>1.133084</td>\n",
       "      <td>0.000000</td>\n",
       "      <td>4.340000</td>\n",
       "      <td>0.007000</td>\n",
       "      <td>0.0</td>\n",
       "      <td>0.000000</td>\n",
       "    </tr>\n",
       "    <tr>\n",
       "      <th>samp. P1968</th>\n",
       "      <td>Myers et al. (2019)</td>\n",
       "      <td>Rhyolite</td>\n",
       "      <td>76.943845</td>\n",
       "      <td>0.133125</td>\n",
       "      <td>3.169657</td>\n",
       "      <td>0.00</td>\n",
       "      <td>0.0</td>\n",
       "      <td>4.763435</td>\n",
       "      <td>0.000000</td>\n",
       "      <td>12.446403</td>\n",
       "      <td>0.0</td>\n",
       "      <td>0.0</td>\n",
       "      <td>1.231728</td>\n",
       "      <td>0.140993</td>\n",
       "      <td>1.170806</td>\n",
       "      <td>0.000000</td>\n",
       "      <td>5.850000</td>\n",
       "      <td>0.012300</td>\n",
       "      <td>0.0</td>\n",
       "      <td>0.000000</td>\n",
       "    </tr>\n",
       "    <tr>\n",
       "      <th>samp. P1968</th>\n",
       "      <td>Myers et al. (2019)</td>\n",
       "      <td>Rhyolite</td>\n",
       "      <td>77.187205</td>\n",
       "      <td>0.119506</td>\n",
       "      <td>3.167827</td>\n",
       "      <td>0.00</td>\n",
       "      <td>0.0</td>\n",
       "      <td>4.814076</td>\n",
       "      <td>0.000000</td>\n",
       "      <td>12.229534</td>\n",
       "      <td>0.0</td>\n",
       "      <td>0.0</td>\n",
       "      <td>1.184773</td>\n",
       "      <td>0.138201</td>\n",
       "      <td>1.158924</td>\n",
       "      <td>0.000000</td>\n",
       "      <td>5.754571</td>\n",
       "      <td>0.010663</td>\n",
       "      <td>0.0</td>\n",
       "      <td>0.000000</td>\n",
       "    </tr>\n",
       "    <tr>\n",
       "      <th>samp. HPR3-1_XL-3</th>\n",
       "      <td>Mercer et al. (2015)</td>\n",
       "      <td>Rhyolite</td>\n",
       "      <td>75.413966</td>\n",
       "      <td>0.095164</td>\n",
       "      <td>14.077692</td>\n",
       "      <td>0.00</td>\n",
       "      <td>0.0</td>\n",
       "      <td>0.654992</td>\n",
       "      <td>0.125882</td>\n",
       "      <td>0.012003</td>\n",
       "      <td>0.0</td>\n",
       "      <td>0.0</td>\n",
       "      <td>0.636124</td>\n",
       "      <td>3.703110</td>\n",
       "      <td>5.128392</td>\n",
       "      <td>0.000000</td>\n",
       "      <td>5.943750</td>\n",
       "      <td>0.010000</td>\n",
       "      <td>0.0</td>\n",
       "      <td>0.000000</td>\n",
       "    </tr>\n",
       "    <tr>\n",
       "      <th>samp. HPR3-1_XL-4_INCL-1</th>\n",
       "      <td>Mercer et al. (2015)</td>\n",
       "      <td>Rhyolite</td>\n",
       "      <td>76.613586</td>\n",
       "      <td>0.095843</td>\n",
       "      <td>13.476762</td>\n",
       "      <td>0.00</td>\n",
       "      <td>0.0</td>\n",
       "      <td>0.620769</td>\n",
       "      <td>0.113495</td>\n",
       "      <td>0.032069</td>\n",
       "      <td>0.0</td>\n",
       "      <td>0.0</td>\n",
       "      <td>0.624350</td>\n",
       "      <td>3.676972</td>\n",
       "      <td>4.579799</td>\n",
       "      <td>0.000000</td>\n",
       "      <td>5.340000</td>\n",
       "      <td>0.008000</td>\n",
       "      <td>0.0</td>\n",
       "      <td>0.000000</td>\n",
       "    </tr>\n",
       "    <tr>\n",
       "      <th>AW-6</th>\n",
       "      <td>Iacovino et al. (2016)</td>\n",
       "      <td>Phonotephrite</td>\n",
       "      <td>48.030000</td>\n",
       "      <td>2.840000</td>\n",
       "      <td>18.120000</td>\n",
       "      <td>0.00</td>\n",
       "      <td>0.0</td>\n",
       "      <td>9.600000</td>\n",
       "      <td>0.230000</td>\n",
       "      <td>3.080000</td>\n",
       "      <td>0.0</td>\n",
       "      <td>0.0</td>\n",
       "      <td>7.570000</td>\n",
       "      <td>6.040000</td>\n",
       "      <td>3.080000</td>\n",
       "      <td>1.410000</td>\n",
       "      <td>1.420000</td>\n",
       "      <td>0.129800</td>\n",
       "      <td>2000.0</td>\n",
       "      <td>1050.000000</td>\n",
       "    </tr>\n",
       "    <tr>\n",
       "      <th>AW-46</th>\n",
       "      <td>Iacovino et al. (2016)</td>\n",
       "      <td>Basaltic-Trachyandesite</td>\n",
       "      <td>52.980000</td>\n",
       "      <td>2.180000</td>\n",
       "      <td>20.490000</td>\n",
       "      <td>0.00</td>\n",
       "      <td>0.0</td>\n",
       "      <td>5.540000</td>\n",
       "      <td>0.200000</td>\n",
       "      <td>2.000000</td>\n",
       "      <td>0.0</td>\n",
       "      <td>0.0</td>\n",
       "      <td>7.100000</td>\n",
       "      <td>5.680000</td>\n",
       "      <td>3.160000</td>\n",
       "      <td>0.660000</td>\n",
       "      <td>4.760000</td>\n",
       "      <td>0.343900</td>\n",
       "      <td>4000.0</td>\n",
       "      <td>1000.000000</td>\n",
       "    </tr>\n",
       "    <tr>\n",
       "      <th>KI-07</th>\n",
       "      <td>Iacovino et al. (2016)</td>\n",
       "      <td>Basanite</td>\n",
       "      <td>44.610000</td>\n",
       "      <td>4.370000</td>\n",
       "      <td>14.410000</td>\n",
       "      <td>0.00</td>\n",
       "      <td>0.0</td>\n",
       "      <td>10.600000</td>\n",
       "      <td>0.170000</td>\n",
       "      <td>7.690000</td>\n",
       "      <td>0.0</td>\n",
       "      <td>0.0</td>\n",
       "      <td>11.550000</td>\n",
       "      <td>3.930000</td>\n",
       "      <td>1.740000</td>\n",
       "      <td>0.920000</td>\n",
       "      <td>2.900000</td>\n",
       "      <td>0.113100</td>\n",
       "      <td>2000.0</td>\n",
       "      <td>1100.000000</td>\n",
       "    </tr>\n",
       "  </tbody>\n",
       "</table>\n",
       "</div>"
      ],
      "text/plain": [
       "                                        CITATION                ROCK TYPE  \\\n",
       "Label                                                                       \n",
       "Kil3-6_1a                   Tucker et al. (2019)                   Basalt   \n",
       "Kil3-6_3a                   Tucker et al. (2019)                   Basalt   \n",
       "Kil3-6_4a                   Tucker et al. (2019)                   Basalt   \n",
       "10*                            Roggensack (2001)                   Basalt   \n",
       "19*                            Roggensack (2001)                   Basalt   \n",
       "25                             Roggensack (2001)                   Basalt   \n",
       "SAT-M12-1                    Moore et al. (1998)                 Andesite   \n",
       "SAT-M12-2                    Moore et al. (1998)                 Andesite   \n",
       "SAT-M12-4                    Moore et al. (1998)                 Andesite   \n",
       "samp. P1968                  Myers et al. (2019)                 Rhyolite   \n",
       "samp. P1968                  Myers et al. (2019)                 Rhyolite   \n",
       "samp. P1968                  Myers et al. (2019)                 Rhyolite   \n",
       "samp. HPR3-1_XL-3           Mercer et al. (2015)                 Rhyolite   \n",
       "samp. HPR3-1_XL-4_INCL-1    Mercer et al. (2015)                 Rhyolite   \n",
       "AW-6                      Iacovino et al. (2016)            Phonotephrite   \n",
       "AW-46                     Iacovino et al. (2016)  Basaltic-Trachyandesite   \n",
       "KI-07                     Iacovino et al. (2016)                 Basanite   \n",
       "\n",
       "                               SiO2      TiO2      Al2O3  Fe2O3  Cr2O3  \\\n",
       "Label                                                                    \n",
       "Kil3-6_1a                 48.249207  2.222114  11.692194   0.00    0.0   \n",
       "Kil3-6_3a                 48.295691  2.165357  11.755584   0.00    0.0   \n",
       "Kil3-6_4a                 49.124079  2.360984  12.172833   0.00    0.0   \n",
       "10*                       47.960000  0.780000  18.770000   0.00    0.0   \n",
       "19*                       49.640000  0.710000  18.050000   0.00    0.0   \n",
       "25                        50.320000  0.720000  18.030000   0.00    0.0   \n",
       "SAT-M12-1                 62.600000  0.630000  17.300000   2.01    0.0   \n",
       "SAT-M12-2                 62.600000  0.630000  17.300000   2.01    0.0   \n",
       "SAT-M12-4                 62.600000  0.630000  17.300000   2.01    0.0   \n",
       "samp. P1968               76.974880  0.085516   3.110636   0.00    0.0   \n",
       "samp. P1968               76.943845  0.133125   3.169657   0.00    0.0   \n",
       "samp. P1968               77.187205  0.119506   3.167827   0.00    0.0   \n",
       "samp. HPR3-1_XL-3         75.413966  0.095164  14.077692   0.00    0.0   \n",
       "samp. HPR3-1_XL-4_INCL-1  76.613586  0.095843  13.476762   0.00    0.0   \n",
       "AW-6                      48.030000  2.840000  18.120000   0.00    0.0   \n",
       "AW-46                     52.980000  2.180000  20.490000   0.00    0.0   \n",
       "KI-07                     44.610000  4.370000  14.410000   0.00    0.0   \n",
       "\n",
       "                                FeO       MnO        MgO  NiO  CoO        CaO  \\\n",
       "Label                                                                           \n",
       "Kil3-6_1a                  0.000000  0.079999  14.183817  0.0  0.0   9.892732   \n",
       "Kil3-6_3a                  0.000000  0.084045  13.403980  0.0  0.0  10.052578   \n",
       "Kil3-6_4a                  0.000000  0.098809  11.997699  0.0  0.0  10.308188   \n",
       "10*                       10.920000  0.150000   6.860000  0.0  0.0  12.230000   \n",
       "19*                       10.540000  0.190000   6.430000  0.0  0.0  12.090000   \n",
       "25                        10.110000  0.140000   5.650000  0.0  0.0  12.780000   \n",
       "SAT-M12-1                  2.010000  0.060000   2.650000  0.0  0.0   5.640000   \n",
       "SAT-M12-2                  2.010000  0.060000   2.650000  0.0  0.0   5.640000   \n",
       "SAT-M12-4                  2.010000  0.060000   2.650000  0.0  0.0   5.640000   \n",
       "samp. P1968                4.788883  0.000000  12.549439  0.0  0.0   1.207910   \n",
       "samp. P1968                4.763435  0.000000  12.446403  0.0  0.0   1.231728   \n",
       "samp. P1968                4.814076  0.000000  12.229534  0.0  0.0   1.184773   \n",
       "samp. HPR3-1_XL-3          0.654992  0.125882   0.012003  0.0  0.0   0.636124   \n",
       "samp. HPR3-1_XL-4_INCL-1   0.620769  0.113495   0.032069  0.0  0.0   0.624350   \n",
       "AW-6                       9.600000  0.230000   3.080000  0.0  0.0   7.570000   \n",
       "AW-46                      5.540000  0.200000   2.000000  0.0  0.0   7.100000   \n",
       "KI-07                     10.600000  0.170000   7.690000  0.0  0.0  11.550000   \n",
       "\n",
       "                              Na2O       K2O      P2O5       H2O       CO2  \\\n",
       "Label                                                                        \n",
       "Kil3-6_1a                 1.810522  0.352014  0.210479  0.424695  0.002873   \n",
       "Kil3-6_3a                 2.268198  0.373328  0.204452  0.425984  0.006786   \n",
       "Kil3-6_4a                 2.001863  0.396512  0.238996  0.437758  0.004984   \n",
       "10*                       1.950000  0.210000  0.170000  4.500000  0.047900   \n",
       "19*                       1.990000  0.200000  0.170000  5.100000  0.111300   \n",
       "25                        1.800000  0.240000  0.230000  5.200000  0.043700   \n",
       "SAT-M12-1                 4.050000  1.610000  0.240000  2.620000  0.000000   \n",
       "SAT-M12-2                 4.050000  1.610000  0.240000  5.030000  0.000000   \n",
       "SAT-M12-4                 4.050000  1.610000  0.240000  6.760000  0.000000   \n",
       "samp. P1968               0.138963  1.133084  0.000000  4.340000  0.007000   \n",
       "samp. P1968               0.140993  1.170806  0.000000  5.850000  0.012300   \n",
       "samp. P1968               0.138201  1.158924  0.000000  5.754571  0.010663   \n",
       "samp. HPR3-1_XL-3         3.703110  5.128392  0.000000  5.943750  0.010000   \n",
       "samp. HPR3-1_XL-4_INCL-1  3.676972  4.579799  0.000000  5.340000  0.008000   \n",
       "AW-6                      6.040000  3.080000  1.410000  1.420000  0.129800   \n",
       "AW-46                     5.680000  3.160000  0.660000  4.760000  0.343900   \n",
       "KI-07                     3.930000  1.740000  0.920000  2.900000  0.113100   \n",
       "\n",
       "                           Press         Temp  \n",
       "Label                                          \n",
       "Kil3-6_1a                   62.5  1299.094712  \n",
       "Kil3-6_3a                  128.0  1283.419991  \n",
       "Kil3-6_4a                  124.5  1255.153759  \n",
       "10*                          0.0     0.000000  \n",
       "19*                          0.0     0.000000  \n",
       "25                           0.0     0.000000  \n",
       "SAT-M12-1                  703.0  1100.000000  \n",
       "SAT-M12-2                 1865.0  1100.000000  \n",
       "SAT-M12-4                 2985.0  1050.000000  \n",
       "samp. P1968                  0.0     0.000000  \n",
       "samp. P1968                  0.0     0.000000  \n",
       "samp. P1968                  0.0     0.000000  \n",
       "samp. HPR3-1_XL-3            0.0     0.000000  \n",
       "samp. HPR3-1_XL-4_INCL-1     0.0     0.000000  \n",
       "AW-6                      2000.0  1050.000000  \n",
       "AW-46                     4000.0  1000.000000  \n",
       "KI-07                     2000.0  1100.000000  "
      ]
     },
     "execution_count": 4,
     "metadata": {},
     "output_type": "execute_result"
    }
   ],
   "source": [
    "data = myfile.data\n",
    "data"
   ]
  },
  {
   "cell_type": "markdown",
   "metadata": {},
   "source": [
    "<a id='defining_single_sample'></a>\n",
    "### 3.1.2 Defining a single sample\n",
    "More advanced functionality of VESIcal is facilitated directly through the five core calculation classes. Each calculation requires its own unique inputs, but all calculations require that a sample composition be passed. We can pass in a sample either as a python dictionary or pandas Series. Below, we define a sample and name it `my_sample`. Oxides are given in wt%. Only the oxides shown here can be used, but not all oxides are required. Any extra oxides (or other information not in the oxide list) the user defines will be ignored during calculations."
   ]
  },
  {
   "cell_type": "code",
   "execution_count": 5,
   "metadata": {},
   "outputs": [],
   "source": [
    "#To manually input a bulk composition, fill in the oxides in wt% below:\n",
    "my_sample = {'SiO2':  77.3,\n",
    "             'TiO2':   0.08, \n",
    "             'Al2O3': 12.6,\n",
    "             'Fe2O3':  0.207,\n",
    "             'Cr2O3':  0.0,\n",
    "             'FeO':    0.473,\n",
    "             'MnO':    0.0,\n",
    "             'MgO':    0.03,\n",
    "             'NiO':    0.0,\n",
    "             'CoO':    0.0,\n",
    "             'CaO':    0.43,\n",
    "             'Na2O':   3.98,\n",
    "             'K2O':    4.88,\n",
    "             'P2O5':   0.0,\n",
    "             'H2O':    6.5,\n",
    "             'CO2':    0.05}"
   ]
  },
  {
   "cell_type": "markdown",
   "metadata": {},
   "source": [
    "<a id='plotting_user_data'></a>\n",
    "\n",
    "### 3.1.3 Comparing User Data to Model Calibrations: Which Model Should I Use?\n",
    "MagmaSat is the most thermodynamically robust model implemented in VESIcal, and thus it is the most generally appropriate model to use. However, one of the great powers of VESIcal is its ability to utilize up to eight different solubility models. As discussed in Section X, each of these models is based on its own calibration dataset, meaning the pressure-temperature-composition space over which models are calibrated is quite variable from model to model. \n",
    "\n",
    "VESIcal includes some built-in functionality for comparing melt compositions from user loaded data to those in the datasets upon which each of the VESIcal models is calibrated using the method `calib_plot`. This can be visualized as a total alkalis vs silica (TAS) diagram or as any x-y plot in which x and y are oxides.\n",
    "\n",
    "**Method structure:** `calib_plot(user_data=None, model='all', plot_type='TAS', save_fig=False, **kwargs)`\n",
    "\n",
    "**Optional inputs:**<br>\n",
    ">`user_data`: The default value is None, in which case only the model calibration set is plotted. User provided sample data describing the oxide composition of one or more samples. Multiple samples can be passed as an ExcelFile object or pandas DataFrame. A single sample can be passed as a pandas Series.\n",
    "\n",
    "> `model`: The default value is 'all', in which case all model calibration datasets will be plotted. Otherwise, any model can be plotted by passing the name of the model desired (e.g., 'Shishkina'). Multiple models can be plotted by passing them as strings within a list (e.g., ['Shishkina', 'Dixon'])\n",
    "\n",
    "> `plot_type`: The default value is 'TAS', which returns a total alkali vs silica (TAS) diagram. Any two oxides can be plotted as an x-y plot by setting plot_type='xy' and specifying x- and y-axis oxides, e.g., x='SiO2', y='Al2O3'.\n",
    "\n",
    "> `save_fig`: The default value is False, in which case the plot will be generated and displayed but not saved. If the user wishes to save the figure, the desired filename (including the file extension, e.g., .png) can be passed here.\n",
    "\n",
    "**Outputs:**<br>\n",
    ">A TAS or x-y plot of user data and model calibration data.\n",
    "\n",
    "<a id='figure3'></a>\n",
    "### Figure 3\n",
    "Figure 3a."
   ]
  },
  {
   "cell_type": "code",
   "execution_count": null,
   "metadata": {},
   "outputs": [],
   "source": [
    "v.calib_plot(user_data=myfile)"
   ]
  },
  {
   "cell_type": "markdown",
   "metadata": {},
   "source": [
    "Figure 3b."
   ]
  },
  {
   "cell_type": "code",
   "execution_count": null,
   "metadata": {},
   "outputs": [],
   "source": [
    "v.calib_plot(user_data=myfile, model='IaconoMarziano', plot_type='xy', x='SiO2', y='K2O', save_fig=False)"
   ]
  },
  {
   "cell_type": "markdown",
   "metadata": {},
   "source": [
    "*Figure 3: Example calibration plots. 3a. The default plot with user_data defined as myfile and no other options set. This produces a TAS digram with the user data plotted atop data from calibration datasets for all models. 3b. A plot with all options specified. This example produces an x-y plot for user_data (myfile) and the Moore et al. (1998) calibration dataset where x and y are SiO2 and MgO concentration in wt%.*"
   ]
  },
  {
   "cell_type": "markdown",
   "metadata": {},
   "source": [
    "Using the functionality built into python and the matplotlib library, user data can be plotted on its own at any time, including before any calculations are performed. Almost any plot type imaginable can be produced, and users should refer to the maptlotlib documentation (https://matplotlib.org/3.2.1/index.html) if more complex plotting is desired. "
   ]
  },
  {
   "cell_type": "markdown",
   "metadata": {},
   "source": [
    "<a id='extracting_single_melt_composition'></a>\n",
    "\n",
    "### 3.1.4 Extracting a single sample from an Excel file\n",
    "Defined within the `ExcelFile()` class, the method `get_sample_oxide_comp()` allows for the extraction of a melt composition from a loaded excel file.\n",
    "\n",
    "**Method structure:** `def get_sample_oxide_comp(self, sample, norm='none')`\n",
    "\n",
    "**Required inputs:**<br>\n",
    ">`sample`: The name of the sample, as a string, as defined in the 'Label' column of the input excel file.\n",
    "\n",
    "**Optional inputs:**<br>\n",
    ">`norm`: This is optional and determines the style of normalization performed on a sample. The default value is `'none'`, which returns the value-for-value un-normalized composition. Passing `'standard'` returns the composition normalized to 100%, including any volatiles. Passing `'fixedvolatiles'` normalizes the oxides to 100%, but volatiles remain fixed while other major element oxides are reduced proporitonally so that the total is 100 wt%. Passing `'additionalvolatiles'` normalizes oxides to 100% assuming the sample is volatile-free. If H$_2$O or CO$_2$ concentrations are passed to the function, their un-normalized values will be retained in addition to the normalized non-volatile oxides, summing to >100%.\n",
    "\n",
    "**Outputs:**<br>\n",
    ">The bulk composition stored in a dictionary, with values in wt%."
   ]
  },
  {
   "cell_type": "code",
   "execution_count": null,
   "metadata": {},
   "outputs": [],
   "source": [
    "\"\"\"To get composition from a specific sample in the input data:\"\"\"\n",
    "SampleName = 'AW-46'\n",
    "extracted_bulk_comp = myfile.get_sample_oxide_comp(SampleName)\n",
    "\n",
    "\"\"\"To see the extracted sample composition, uncomment the line below and execute this code cell\"\"\"\n",
    "#extracted_bulk_comp\n",
    "\n",
    "\"\"\"To see the sum of the composition, uncomment the line below and execute this code cell\"\"\"\n",
    "#sum(extracted_bulk_comp.values())"
   ]
  },
  {
   "cell_type": "markdown",
   "metadata": {},
   "source": [
    "In some cases, it may be desired to simply retrieve a sample composition and use it elsewhere. In case normalization is desired, the 'norm' variable can be defined. To specify a normalization style, for example the 'fixedvolatiles' normalization routine, the above code could instead be written as:<br>\n",
    "`extracted_bulk_comp = myfile.get_sample_oxide_comp(SampleName, norm='fixedvolatiles')`\n",
    "\n",
    "This normalization is not necessary if the sample composition will be used in other VESIcal calculations, since any necessary pre-processing is performed automatically."
   ]
  },
  {
   "cell_type": "markdown",
   "metadata": {},
   "source": [
    "<a id='normalizing_transforming_data'></a>\n",
    "\n",
    "### 3.1.5 Normalizing and transforming data\n",
    "\n",
    "Before performing model calculations on your data, it may be desired to normalize the input composition to a total of 100 wt%. VESIcal has multiple methods for normalizing sample data using various routines. Normalization can be done automatically when retrieving a single sample from an Excel file, as detailed above. Each of the normalization routines can be accessed by the user at any time to normalize either a signle sample or all samples in an ExcelFile object. \n",
    "\n",
    "All three normalization functions can take in either a single composition as a dictionary or multiple compositions either as an ExcelFile object or a pandas DataFrame object (e.g., `yourexcelfile` or `yourexcelfile.data`). The standard normalize functino returns the composition normalized to 100%, including any volatiles. The FixedVolatiles function normalizes the oxides to 100%, but volatiles remain fixed while other major element oxides are reduced proporitonally so that the total is 100 wt%. The AdditionalVolatiles function normalizes oxides to 100% assuming the sample is volatile-free. If H$_2$O or CO$_2$ concentrations are passed to the function, their un-normalized values will be retained in addition to the normalized non-volatile oxides, summing to >100%.\n",
    "\n",
    "**Method structures:** `def normalize(sample)`, `def normalize_FixedVolatiles(sample)`, `def normalize_AdditionalVolatiles(sample)`\n",
    "\n",
    "**Required inputs:**<br>\n",
    ">`sample` can be a dictionary containing compositional data for a single sample, an ExcelFile object containing compositional data for multiple samples, or a pandas DataFrame object containing compositional data for multiple samples. Examples are shown for all three cases below.\n",
    "\n",
    "**Outputs:**<br>\n",
    ">If a single composition is passed, a dictionary or pandas Series is returned. If multiple compositions are passed, a pandas DataFrame object is returned.\n",
    "\n",
    "In any of the below examples, `myfile`, `myfile.data`, or `my_sample` can all be passed to any function."
   ]
  },
  {
   "cell_type": "code",
   "execution_count": null,
   "metadata": {},
   "outputs": [],
   "source": [
    "\"\"\"Standard normalization\"\"\"\n",
    "standard = v.normalize(myfile)\n",
    "#print(standard)\n",
    "\n",
    "\"\"\"FixedVolatiles normalization\"\"\"\n",
    "fixed = v.normalize_FixedVolatiles(myfile)\n",
    "#print(fixed)\n",
    "\n",
    "\"\"\"AdditionalVolatiles normalization\"\"\"\n",
    "additional = v.normalize_AdditionalVolatiles(myfile)\n",
    "#print(additional)"
   ]
  },
  {
   "cell_type": "markdown",
   "metadata": {},
   "source": [
    "<a id='table2'></a>\n",
    "\n",
    "### Table 2. Viewing extracted sample composition\n",
    "The user may wish to print extracted sample composition to a terminal or notebook cell to verify that the correct data was extracted. Using the current example, this can be done simpy by typing `print(extracted_bulk_comp)`. However, VESIcal also has a built in function to display these values as a table, rather than as a list of values.\n",
    "\n",
    "The `printTable(myDict)` function takes in any python dictionary and converts it to a pandas DataFrame, which can then be displayed in an aesthetically pleasing format.\n",
    "\n",
    "**Method structure:** `def printTable(myDict)`\n",
    "\n",
    "**Required inputs:**<br>\n",
    ">`myDict` is any python dictionary\n",
    "\n",
    "**Outputs:**<br>\n",
    ">A pandas DataFrame is returned."
   ]
  },
  {
   "cell_type": "code",
   "execution_count": null,
   "metadata": {},
   "outputs": [],
   "source": [
    "\"\"\"Execute the following line to print the data as a list of values\"\"\"\n",
    "print(extracted_bulk_comp)\n",
    "\n",
    "\"\"\"Execute the following line to display Table 2 and print the data as a table.\"\"\"\n",
    "v.printTable(extracted_bulk_comp)"
   ]
  },
  {
   "cell_type": "markdown",
   "metadata": {},
   "source": [
    "<a id='calculating_dissolved_volatile_concentrations'></a>\n",
    "\n",
    "## 3.2. Calculating dissolved volatile concentrations\n",
    "<hr style=\"background-color: #a2b969;height: 8.0px;\"/>\n",
    "\n",
    "The `calculate_dissolved_volatiles()` function calcutions the concentration of dissolved H$_2$O and CO$_2$ in the liquid at a given pressure-temperature condition and with a given H$_2$O-CO$_2$ fluid composition, defined as the mole fraction of H$_2$O in an H$_2$O-CO$_2$ fluid (XH$_2$O$^{fluid}$). The default MagmaSat model relies on the underlying functionatlity of MELTS, whose basic function is to calculate the equilibrium phase assemblage given the bulk composition of the system and pressure-temperature conditions. To calculate dissolved volatile concentrations thus requires computing the equilibrium state of a system at fixed pressure and temperature over a range of bulk volatile concentrations until a solution is found that satisfies the user defined fluid composition.\n",
    "\n",
    "First, the function makes an initial guess at the appropriate bulk volatile concentrations by finding the minimum dissolved volatile concentrations in the liquid at saturation, while asserting that the weight fraction of H$_2$O/$\\Sigma$volatiles in the system is equal to the user input mole fraction of H$_2$O/$\\Sigma$volatiles in the fluid. This is done by increasing the H$_2$O and CO$_2$ concentrations appropriately until a fluid phase is stable. Once fluid saturation is determined, the code then performs directional, iterative, and progressively more refined searches, increasing the proportion of H$_2$O or CO$_2$ in the system if the mole fraction of H$_2$O calculated in the fluid is greater than or less than that defined by the user, respectively. Four iterative searches are performed; the precision of the match between the calculated and defined XH$_2$O$^{fluid}$ increases from 0.1 in the first iteration to 0.01, 0.001, and finally to 0.0001. Thus, the calculated dissolved volatile concentrations correspond to a system with XH$_2$O$^{fluid}$ within 0.0001 of the user defined value.\n",
    "\n",
    "#SimonTODO can you write more details about how the other functions calculate dissolved volatiles? It's much more straightforward with the other models, since you can directly access fugacity, etc.\n",
    "\n",
    "**Method structure:**<br>\n",
    "> Single sample: `calculate_dissolved_volatiles(self, sample, temperature, pressure, X_fluid=1, verbose=False).result`\n",
    "\n",
    ">ExcelFile batch process: `calculate_dissolved_volatiles(self, temperature, pressure, X_fluid=1, print_status=False)`\n",
    "\n",
    "**Required inputs:**<br>\n",
    ">`sample`: *Only for single-sample calculations.* The composition of a sample. A single sample may be passed as a dictionary of values, with compositions of oxides in wt%.\n",
    "\n",
    ">`temperature`, `pressure`, and `X_fluid`: the temperature in $^{\\circ}$C, the pressure in bars, and the mole fraction of H$_2$O in the H$_2$O-CO$_2$ fluid, XH$_2$O$^{fluid}$. Temperature and pressure of the sample or samples must be passed unless an ExcelFile object with a column for temperature and/or pressure is passed to `sample`. XH$_2$O$^{fluid}$ is optional, with a default value of 1 (pure H$_2$O fluid). If a numerical (float) value is passed for either temperature, pressure, or X_fluid, that will be the value used for one or all samples. If, alternatively, the user wishes to use temperature, pressure, and/or X_fluid information in their ExcelFile object, the title of the column containing temperature, pressure, or X_fluid data should be passed in quotes (as a string) to `temperature`,  `pressure`, and/or `X_fluid`, respectively. Note for batch calculations that if temperature, pressure, or XH$_2$O$^{fluid}$ information exists in the ExcelFile but a single numerical value is defined for one or both of these variables, both the original information plus the values used for the calculations will be returned.\n",
    "\n",
    "**Optional inputs:**<br>\n",
    ">`verbose`: *Only for single-sample calculations.* Default value is False. If set to True, additional parameters are returned in a dictionary: H$_2$O and CO$_2$ concentrations in the fluid in mole fraction, temperature, pressure, and proportion of the fluid in the system in wt%.\n",
    "\n",
    "> `print_status`: *Only for ExcelFile batch calcualtions.* The default value is False. If True is passed, the progress of the calculation will be printed to the terminal. The user may desire to see the status of the calculation, as this particular function can be quite slow, averaging between 3-5 seconds per sample. #TODO test this more and verify average compute time.\n",
    "\n",
    "**Calculated outputs:**<br>\n",
    ">If a single sample is passed to `sample`, a dictionary with keys 'H2O' and 'CO2' corresponding to the calculated dissolved H$_2$O and CO$_2$ concentrations in the liquid is returned (plus additional variables 'temperature' in $^{\\circ}$C, 'pressure' in bars, 'XH2O_fl', 'XCO2_fl', and 'FluidProportion_wtper' (the proportion of the fluid in the system in wt%) if `verbose` is set to True). \n",
    "\n",
    ">If mutliple samples are passed as an ExcelFile object, a pandas DataFrame is returned with sample information plus calculated dissolved H$_2$O and CO$_2$ concentrations in the liquid, the fluid composition in mole fraction, and the proportion of the fluid in the system in wt%. Pressure (in bars) and Temperature (in $^{\\circ}$C) columns are always returned."
   ]
  },
  {
   "cell_type": "code",
   "execution_count": null,
   "metadata": {},
   "outputs": [],
   "source": [
    "\"\"\"To get composition from a specific sample in the input data:\"\"\"\n",
    "SampleName = 'AW-46'\n",
    "bulk_comp = myfile.get_sample_oxide_comp(SampleName)\n",
    "\n",
    "\"\"\"Calculate dissolved volatiles for the extracted sample\"\"\"\n",
    "v.calculate_dissolved_volatiles(sample=bulk_comp, temperature=900.0, pressure=2000.0, \n",
    "                                X_fluid=0.5, verbose=True).result"
   ]
  },
  {
   "cell_type": "code",
   "execution_count": null,
   "metadata": {},
   "outputs": [],
   "source": [
    "\"\"\"Calculate dissolved for all samples in an ExcelFile object\"\"\"\n",
    "dissolved = myfile.calculate_dissolved_volatiles(temperature=900.0, pressure=2000.0, X_fluid=1, print_status=True)"
   ]
  },
  {
   "cell_type": "code",
   "execution_count": null,
   "metadata": {},
   "outputs": [],
   "source": [
    "dissolved"
   ]
  },
  {
   "cell_type": "markdown",
   "metadata": {},
   "source": [
    "<a id='calculating_equilibrium_fluid_compositions'></a>\n",
    "\n",
    "## 3.3. Calculating equilibrium fluid compositions\n",
    "<hr style=\"background-color: #f7931f;height: 8.0px;\"/>\n",
    "\n",
    "The `calculate_equilibrium_fluid_comp()` function calculates the composition of a fluid phase in equilibrium with a given silicate melt with known pressure, temperature, and dissolved H$_2$O and CO$_2$ concentrations. The calculation is performed simply by calculating the equilibrium state of the given sample at the given conditions and determining if that melt is fluid saturated. If the melt is saturated, fluid composition and mass are reported back. If the calculation finds that the melt is not saturated at the given pressure and temperature, values of 0.0 will be returned for the H$_2$O and CO$_2$ concentrations in the fluid.\n",
    "\n",
    "#SimonTODO can you write more details about how the other functions calculate equilibrium fluid comps?\n",
    "\n",
    "**Method structure:**<br>\n",
    ">Single sample: `calculate_equilibrium_fluid_comp(self, sample, temperature, pressure, verbose=False).result`\n",
    "\n",
    ">ExcelFile batch process: `calculate_equilibrium_fluid_comp(self, temperature, pressure, print_status=False, model='MagmaSat')`\n",
    "\n",
    "**Required inputs:**<br>\n",
    ">`sample`: *Only for single-sample calculations.* The composition of a sample. A single sample may be passed as a dictionary of values, with compositions of oxides in wt%.\n",
    "\n",
    ">`temperature` and `pressure`: the temperature in $^{\\circ}$C and the pressure in bars. Temperature and pressure of the sample or samples must be passed unless an ExcelFile object with a column for temperature and/or pressure is passed to `sample`. If a numerical (float) value is passed for either temperature or pressure, that will be the value used for one or all samples. If, alternatively, the user wishes to use temperature and/or pressure information in their ExcelFile object, the title of the column containing temperature or pressure data should be passed in quotes (as a string) to `temperature` and `pressure`, respectively. Note for batch calculations that if pressure or temperature information exists in the ExcelFile but a single numerical value is defined for one or both of these variables, both the original pressure and temperature information plus the pressure and temperature values used for the calculations will be returned.\n",
    "\n",
    "**Optional inputs:**<br>\n",
    ">`verbose`: *Only for single-sample calculations.* Default value is False. If set to True, additional parameters are returned in a dictionary: H$_2$O and CO$_2$ concentrations in the fluid, mass of the fluid in grams, and proportion of the fluid in the system in wt%. \n",
    "\n",
    ">`print_status`: *Only for ExcelFile batch calcualtions.* The default value is False. If True is passed, the progress of the calculation will be printed to the terminal.\n",
    "\n",
    "**Calculated outputs:**<br>\n",
    ">If a single sample is passed to `sample`, a dictionary with keys 'H2O' and 'CO2' is returned (plus additional variables 'FluidMass_grams' and 'FluidProportion_wtper' if `verbose` is set to True). \n",
    "\n",
    ">If mutliple samples are passed as an ExcelFile object, a pandas DataFrame is returned with sample information plus calculated equilibrium fluid compositions, mass of the fluid in grams, and proportion of the fluid in the system in wt%. Pressure (in bars) and Temperature (in $^{\\circ}$C) columns are always returned."
   ]
  },
  {
   "cell_type": "code",
   "execution_count": null,
   "metadata": {},
   "outputs": [],
   "source": [
    "\"\"\"To get composition from a specific sample in the input data:\"\"\"\n",
    "SampleName = 'AW-46'\n",
    "bulk_comp = myfile.get_sample_oxide_comp(SampleName)\n",
    "\n",
    "\"\"\"Calculate fluid composition for the extracted sample\"\"\"\n",
    "v.calculate_equilibrium_fluid_comp(sample=bulk_comp, temperature=900.0, pressure=100.0).result"
   ]
  },
  {
   "cell_type": "markdown",
   "metadata": {},
   "source": [
    "Below we calculate equilibrium fluid compositions for all samples at a single temperature of 900 $^{\\circ}$C and a single pressure of 1000 bars. Note that some samples in this dataset have quite low volatile concentrations (e.g., the Tucker et al. (2019) basalts from Kilauea), and so are below saturation at this P-T condition. The fluid composition for undersaturated samples is returned as values of 0 for both H$_2$O and CO$_2$."
   ]
  },
  {
   "cell_type": "code",
   "execution_count": null,
   "metadata": {},
   "outputs": [],
   "source": [
    "\"\"\"Calculate fluid composition for all samples in an ExcelFile object\"\"\"\n",
    "eqfluid = myfile.calculate_equilibrium_fluid_comp(temperature=900.0, pressure=1000.0)\n",
    "eqfluid"
   ]
  },
  {
   "cell_type": "code",
   "execution_count": null,
   "metadata": {},
   "outputs": [],
   "source": [
    "\"\"\"Calculate fluid composition for all samples with unique pressure and temperature values for each sample.\n",
    "Pressure and temperature values are taken from columns named \"Press\" and \"Temp\" in the example ExcelFile\"\"\"\n",
    "\n",
    "eqfluid_wtemps = myfile.calculate_equilibrium_fluid_comp(temperature='Temp', pressure='Press')\n",
    "eqfluid_wtemps"
   ]
  },
  {
   "cell_type": "markdown",
   "metadata": {},
   "source": [
    "<a id='converting_fluid_composition_units'></a>\n",
    "\n",
    "### 3.3.1. Converting fluid composition units\n",
    "The fluid composition is always returned in units of mol fraction. Two functions exist to transform only the H$_2$O-CO$_2$ fluid composition between mol fraction and wt% and can easily be applied to returned data sets from calculations. Both functions require that the user provide the dataframe containing fluid composition information plus the names of the columns corresponding to the H$_2$O and CO$_2$ concentrations in the fluid. The default values for column names are set to those that may be returned by VESIcal core calculations, such that they need not be specified unless the user has change them or is supplying their own data (e.g., imported data not processed through a core calcuation).\n",
    "\n",
    "**Method structure:**<br>\n",
    ">Mol fraction to wt%: `fluid_molfrac_to_wt(data, H2O_colname='XH2O_fl_VESIcal', CO2_colname='XCO2_fl_VESIcal')`\n",
    "\n",
    ">Wt% to mol fraction: `fluid_wt_to_molfrac(data, H2O_colname='H2O_fl_wt', CO2_colname='CO2_fl_wt')`\n",
    "\n",
    "**Required inputs:**<br>\n",
    ">`data`: A pandas DataFrame containing columns for H$_2$O and CO$_2$ concentrations in the fluid.\n",
    "\n",
    "**Optional inputs:**<br>\n",
    ">`H2O_colname` and `CO2_colname`: The default values are 'XH2O_fl' and 'XCO2_fl' if input data are in mol fraction or 'H2O_fl_wt' and 'CO2_fl_wt' if the data are in wt%. Strings containing the name of the columns corresponding to the H$_2$O and CO$_2$ concentrations in the fluid.\n",
    "\n",
    "**Calculated outputs:**<br>\n",
    ">The original data passed plus newly calculated values are returned in a DataFrame."
   ]
  },
  {
   "cell_type": "code",
   "execution_count": null,
   "metadata": {},
   "outputs": [],
   "source": [
    "\"\"\"Converting from mol fraction to wt%\"\"\"\n",
    "eqfluid_wt = v.fluid_molfrac_to_wt(eqfluid)\n",
    "eqfluid_wt"
   ]
  },
  {
   "cell_type": "code",
   "execution_count": null,
   "metadata": {},
   "outputs": [],
   "source": [
    "\"\"\"Converting from wt% to mol fraction\"\"\"\n",
    "eqfluid_mol = v.fluid_wt_to_molfrac(eqfluid_wt)\n",
    "eqfluid_mol"
   ]
  },
  {
   "cell_type": "markdown",
   "metadata": {},
   "source": [
    "<a id='calculating_saturation_pressures'></a>\n",
    "\n",
    "## 3.4. Calculating saturation pressures\n",
    "<hr style=\"background-color: #4cc1ef;height: 8.0px;\"/>\n",
    "\n",
    "The `calculate_saturation_pressure()` function calculates the minimum pressure at which a given silicate melt with known temperature and H$_2$O and CO$_2$ concentrations would be saturated with fluid. This is calcualted by finding the pressure at which the smallest amount of vapor is present. This function also calculates the composition of the vapor in equilibrium with the melt at those conditions.\n",
    "\n",
    "The function works by calculating the equilibrium state of the given melt at very high pressure (20,000 bars) and then decreasing the pressure in steps of 1,000 bars until the mass of vapor is >0 grams. At this point, the pressure space is narrowed and searched in steps of 100 bars and then in steps of 10 bars until the saturation pressure is found. Thus, these calculations are accurate to 10 bars.\n",
    "\n",
    "**Method structure:**<br>\n",
    ">Single sample: `calculate_saturation_pressure(self, sample, temperature, verbose=False).result`\n",
    "\n",
    ">ExcelFile batch process: `calculate_saturation_pressure(self, temperature, print_status=False)`\n",
    "\n",
    "**Required inputs:**<br>\n",
    "> `sample`: *Only for single-sample calculations.* The composition of the melt, inclusing the H$_2$O and CO$_2$ concentrations, in wt%.\n",
    "\n",
    "> `temperature`: The temperature in °C. For ExcelFile batch calculations, if temperature information is present in the ExcelFile (e.g., as a column with unique temperature values for each sample), this can be accessed by passing the column name in quotes to the temperature variable.\n",
    "\n",
    "**Optional inputs:**<br>\n",
    "> `verbose`: *Only for single-sample calculations.* Default value is False. If set to True, additional parameters are returned in a dictionary: saturation pressure in bars, H$_2$O and CO$_2$ concentrations in the fluid, mass of the fluid in grams, and proportion of the fluid in the system in wt%.\n",
    "\n",
    "> `print_status`: *Only for ExcelFile batch calcualtions.* The default value is False. If True is passed, the progress of the calculation will be printed to the terminal.\n",
    "\n",
    "**Calculated outputs:**<br>\n",
    ">If a single sample is passed to `sample`, the saturation pressure in bars is returned as a numerical value (float) (plus additional variables 'XH2O_fl', 'XCO2_fl', 'FluidMass_grams', and 'FluidProportion_wtper' if `verbose` is set to True). \n",
    "\n",
    ">If mutliple samples are passed as an ExcelFile object, a pandas DataFrame is returned with sample information plus calculated saturation pressures, equilibrium fluid compositions, mass of the fluid in grams, and proportion of the fluid in the system in wt%. Temperature (in $^{\\circ}$C) is always returned."
   ]
  },
  {
   "cell_type": "code",
   "execution_count": null,
   "metadata": {},
   "outputs": [],
   "source": [
    "\"\"\"Calculate the saturation pressure of the single sample we defined in Section 3.1.2 at 925 degrees C\"\"\"\n",
    "v.calculate_saturation_pressure(sample=my_sample, temperature=925.0, verbose=True).result"
   ]
  },
  {
   "cell_type": "code",
   "execution_count": null,
   "metadata": {},
   "outputs": [],
   "source": [
    "\"\"\"Calculate the saturation pressure for all samples in an ExcelFile object at 925 degrees C\"\"\"\n",
    "satPs = myfile.calculate_saturation_pressure(temperature=925.0, model=\"Dixon\")\n",
    "satPs"
   ]
  },
  {
   "cell_type": "code",
   "execution_count": null,
   "metadata": {},
   "outputs": [],
   "source": [
    "\"\"\"Calculate the saturation pressure for all samples in an ExcelFile object, taking temperature\n",
    "values from a column named \"Temp\" in the ExcelFile\"\"\"\n",
    "satPs_wtemps = myfile.calculate_saturation_pressure(temperature=\"Temp\")\n",
    "satPs_wtemps"
   ]
  },
  {
   "cell_type": "markdown",
   "metadata": {},
   "source": [
    "<a id='calculating_plotting_isobars_isopleths'></a>\n",
    "\n",
    "## 3.5. Calculating isobars and isopleths\n",
    "<hr style=\"background-color: #ffcc4c;height: 8.0px;\"/>\n",
    "\n",
    "In this example, we demonstrate how isobars (lines of constant pressure) and isopleths (lines of constant fluid composition) can be calculated for any one composition. A single melt composition can be extracted from a loaded excel file, or a composition can be enterred by hand an stored within a dictionary. Due to computational intensity, isobars and isopleths can only be computed for one sample composition at a time.\n",
    "\n",
    "Once a single composition is defined, conditions over which to calculate isobars and isopleths must be specified. The generated plot is isothermal, so only one temperature can be chosen. Isobars can be calculated for any number of pressures, passed as a list.\n",
    "\n",
    "The calculation is performed by iterating through possible concentrations of H$_2$O and CO$_2$ and calculating the equilibrium state for the system. The iteration begins at a fixed H$_2$O concentration, increasing the CO$_2$ concentration in steps of 0.1 wt% until a fluid phase is stable. The H$_2$O concentration is then increased by 0.5 wt% and CO$_2$ is again increased from 0 until a fluid phase is stable. This process is repeated for H$_2$O values ranging from 0–15 wt%. The H$_2$O and CO$_2$ concentrations from each system for which a fluid phase was found to be stable are saved and written to a pandas DataFrame, which is returned upon completion of the calculation.\n",
    "\n",
    "**Method structure:**<br>\n",
    ">*Only single-sample calculations.* `calculate_isobars_and_isopleths(self, sample, temperature, pressure_list, isopleth_list, print_status=False).result`\n",
    "\n",
    "**Required inputs:**<br>\n",
    ">`sample`: The sample composition, as a dictionary with values in wt%\n",
    "\n",
    ">`temperature`: The temperature in $^{\\circ}$C. \n",
    "\n",
    ">`pressure_list`: A list of all pressures in bars at which to calculate isobars.\n",
    "\n",
    "**Optional inputs:**<br>\n",
    ">`isopleth_list`: The default value is None in which case only isobars will be calcualted. A list of all fluid composition values, in mole fraction H$_2$O (XH$_2$O$^{fluid}$), at which to calculate isopleths. Values can range from 0–1.\n",
    "\n",
    ">`print_status`: The default value is False. If set to `True`, the progress of the calculations will be printed to the terminal.\n",
    "\n",
    "**Calculated outputs:** \n",
    ">The function returns two pandas DataFrames: the first has isobar data, and the second has isopleth data. Columns in the isobar dataframe are 'Pressure', 'H2Omelt', and 'CO2melt', correpsonding to pressure in bars and dissolved H$_2$O and CO$_2$ in the liquid in wt%. Columns in the isopleth dataframe are 'XH2O_fl', 'H2O_liq', and 'CO2_liq', corresponding to XH$_2$O$^{fluid}$ and dissolved H$_2$O and CO$_2$ in the liquid in wt%."
   ]
  },
  {
   "cell_type": "code",
   "execution_count": 6,
   "metadata": {},
   "outputs": [],
   "source": [
    "\"\"\"To get composition from a specific sample in the input data:\"\"\"\n",
    "SampleName = '10*'\n",
    "bulk_comp = myfile.get_sample_oxide_comp(SampleName, norm='standard')\n",
    "\n",
    "\"\"\"Define all variables to be passed to the function for calculating isobars and isopleths\"\"\"\n",
    "\"\"\"Define the temperature in degrees C\"\"\"\n",
    "temperature = 1200.0\n",
    "\n",
    "\"\"\"Define a list of pressures in bars:\"\"\"\n",
    "pressures = [1000.0, 2000.0, 3000.0]"
   ]
  },
  {
   "cell_type": "markdown",
   "metadata": {},
   "source": [
    "Next, the H$_2$O and CO$_2$ dissolved in the melt at saturation is calculated at the specified temperature and over the range of specified pressures. The user does not need to change anything in the below cell. This calculation can be quite slow, and so it is recommended to set print_status to True."
   ]
  },
  {
   "cell_type": "code",
   "execution_count": 7,
   "metadata": {},
   "outputs": [
    {
     "name": "stdout",
     "output_type": "stream",
     "text": [
      "Calculating isobar at 1000.0 bars\n",
      "Calculating isopleth at 0\n",
      "Calculating isopleth at 0.25\n",
      "Calculating isopleth at 0.5\n",
      "Calculating isopleth at 0.75\n",
      "Calculating isopleth at 1\n",
      "Calculating isobar at 2000.0 bars\n",
      "Calculating isopleth at 0\n",
      "Calculating isopleth at 0.25\n",
      "Calculating isopleth at 0.5\n",
      "Calculating isopleth at 0.75\n",
      "Calculating isopleth at 1\n",
      "Calculating isobar at 3000.0 bars\n",
      "Calculating isopleth at 0\n",
      "Calculating isopleth at 0.25\n",
      "Calculating isopleth at 0.5\n",
      "Calculating isopleth at 0.75\n",
      "Calculating isopleth at 1\n",
      "Done!\n"
     ]
    }
   ],
   "source": [
    "isobars, isopleths = v.calculate_isobars_and_isopleths(sample=bulk_comp, \n",
    "                                            temperature=temperature,\n",
    "                                            pressure_list=pressures,\n",
    "                                            isopleth_list=[0.25,0.5,0.75],\n",
    "                                            print_status=True).result"
   ]
  },
  {
   "cell_type": "markdown",
   "metadata": {},
   "source": [
    "<a id='calculating_plotting_degassing_paths'></a>\n",
    "\n",
    "## 3.6. Calculating degassing paths\n",
    "<hr style=\"background-color: #c13017;height: 8.0px;\"/>\n",
    "\n",
    "A degassing path is a series of volatile concentrations both in the liquid and fluid that a magma will follow during decompression. In the calculation, the saturation pressure is computed, and then the system is equilibrated along a trajectory of decreasing pressure values at steps of 100 bars (or 10 bars if the starting pressure is <500 bars). If so desired, this calculation can be performed for any initial pressure, but the default is the saturation pressure. If a pressure is specified that is above the saturation pressure, the calculation will simlpy proceed from the saturation pressure, since the magma cannot degas until it reaches saturation. \n",
    "\n",
    "Completely open-system, completely closed-system or partially open-system degassing paths can be calculated by specifying what proportion of the fluid to fractionate. The fluid fractionation value can range between 0 (closed-system: no fluid is removed, all is retained at each pressure step) and 1 (open-system: all fluid is removed, none is retained at each pressure step). Closed and partially open-system runs allow the user to speficy the initial presence of exsolved fluid that is in equilirium with the melt at the starting pressure.\n",
    "\n",
    "**Method structure:**<br>\n",
    ">*Only single-sample calculations.* `calculate_degassing_path(self, sample, temperature, pressure='saturation', fractionate_vapor=0.0, init_vapor=0.0).result`\n",
    "\n",
    "**Required inputs:**<br>\n",
    ">`sample`: The sample composition, as a dictionary with values in wt%\n",
    "\n",
    ">`temperature`: The temperature in $^{\\circ}$C. \n",
    "\n",
    "**Optional inputs:**<br>\n",
    ">`pressure`: The perssure at which to begin the degassing calculations, in bars. Default value is 'saturation', which runs the calculation with the initial pressure at the saturation pressure. If a pressure greater than the saturation pressure is input, the calculation will start at saturation, since this is the first pressure at which any degassing will occur.\n",
    "\n",
    ">`fractionate_vapor`: Proportion of vapor removed at each pressure step. Default value is 0.0 (completely closed-system degassing). Specifies the type of calculation performed, either closed system (0.0) or open system (1.0) degassing. If any value between <1.0 is chosen, user can also specify the 'init_vapor' argument (see below). A value in between 0 and 1 will remove that proportion of vapor at each step. For example, for a value of 0.2, the calculation will remove 20% of the vapor and retain 80% of the vapor at each pressure step.\n",
    "\n",
    ">`init_vapor`: Default value is 0.0. Specifies the amount of vapor (in wt%) coexisting with the melt before degassing.\n",
    "\n",
    "**Calculated outputs:** \n",
    ">The function returns a pandas DataFrame with columns as: 'Pressure_bars', 'H2O_liq' and 'CO2_liq' (the concentration of H$_2$O and CO$_2$ in the liquid, in wt%), 'XH2O_fl' and 'XCO2_fl' (the composition of the H$_2$O-CO$_2$ fluid, in mol fraction), and 'FluidProportion_wt' (the proportion of fluid in the fluid-melt system, in wt%)."
   ]
  },
  {
   "cell_type": "code",
   "execution_count": null,
   "metadata": {},
   "outputs": [],
   "source": [
    "\"\"\"To get composition from a specific sample in the input data:\"\"\"\n",
    "SampleName = 'AW-46' #this sample causes segmentation fault on degassing path calcs!\n",
    "bulk_comp = myfile.get_sample_oxide_comp(SampleName)\n",
    "bulk_comp = v.normalize(bulk_comp)\n",
    "\n",
    "temp = 1200 #temperature in °C\n",
    "\n",
    "\"\"\"Calculate open, closed, and closed + 2 wt% initial vapor\"\"\"\n",
    "#closed_df = v.calculate_degassing_path(sample=bulk_comp, temperature=temp).result\n",
    "open_df = v.calculate_degassing_path(sample=bulk_comp, temperature=temp, fractionate_vapor=1.0).result\n",
    "half_df = v.calculate_degassing_path(sample=bulk_comp, temperature=temp, fractionate_vapor=0.5).result\n",
    "#exsolved_df = v.calculate_degassing_path(sample=bulk_comp, temperature=temp, init_vapor=2.0).result"
   ]
  },
  {
   "cell_type": "code",
   "execution_count": null,
   "metadata": {},
   "outputs": [],
   "source": [
    "\"\"\"Calculate closed-system degassing starting from a pressure of 2000 bars\"\"\"\n",
    "start2000_df = v.calculate_degassing_path(sample=bulk_comp, temperature=temp, pressure=2000.0).result"
   ]
  },
  {
   "cell_type": "markdown",
   "metadata": {},
   "source": [
    "<a id='plotting'></a>\n",
    "\n",
    "## 3.7. Plotting\n",
    "\n",
    "After calculating isobars, isopleths, and degassing paths, any or all of these may be plotted in an H$_2$O versus CO$_2$ plot with one simple function call. The plot will be printed directly in the notebook or, if the code is run as script in a command line, the plot will appear it its own window, at which point it can be saved as an image file. VESIcal's `plot` function takes in lists of pandas DataFrames with calculated isobar, isopleth, and degassing path information (e.g., output from calculate_isobars_and_isopleths or calculate_degassing_path) and plots data as isobars (lines of constant pressure), isopleths (lines of constant fluid composition), and degassing paths (lines indicating the concentrations of H$_2$O and CO$_2$ in a melt equilibrated along a path of decreasing pressure).\n",
    "\n",
    "Labels can be assigned to isobars, isopleths, and/or degasing paths separately. Any or all of these data can be passed to the `plot` function. Multiple sets of plottable data can be passed. For example, isobars calculated with two different models can be passed to the `isobars` argument as a list.\n",
    "\n",
    "**Method structure:**<br>\n",
    ">`plot(isobars=None, isopleths=None, degassing_paths=None, isobar_labels=None, isopleth_labels=None, degassing_path_labels=None, **kwargs)`\n",
    "\n",
    "**Optional inputs:**<br>\n",
    ">`isobars`: DataFrame object containing isobar information as calculated by calculate_isobars_and_isopleths. Or a list\n",
    "of DataFrame objects.\n",
    "\n",
    ">`isopleths`: DataFrame object containing isopleth information as calculated by calculate_isobars_and_isopleths. Or a list of DataFrame objects.\n",
    "\n",
    ">`degassing_paths`: List of DataFrames with degassing information as generated by calculate_degassing_path().\n",
    "\n",
    ">`custom_H2O`: List of groups of H$_2$O concentration values to plot as points. For example `myfile.data['H2O']` is one group of H$_2$O values. Must be passed with custom_CO2 and must be same length as custom_CO2.\n",
    "\n",
    ">`custom_CO2`: List of groups of CO$_2$ values to plot as points.For example `myfile.data['CO2']` is one group of CO$_2$ values. Must be passed with custom_H2O and must be same length as custom_H2O.\n",
    "\n",
    ">`isobar_labels`: Labels for the plot legend. Default is None, in which case each plotted line will be given the generic legend name of \"Isobars n\", with n referring to the nth isobars passed. Isobar pressure is given in parentheses. The user can pass their own labels as a list of strings. If more than one set of isobars is passed, the labels should refer to each set of isobars, not each pressure. \n",
    "\n",
    ">`isopleth_labels`: Labels for the plot legend. Default is None, in which case each plotted isopleth will be given the generic legend name of \"Isopleth n\", with n referring to the nth isopleths passed. Isopleth XH$_2$O values are given in parentheses. The user can pass their own labels as a list of strings. If more than one set of isopleths is passed,  the labels should refer to each set of isopleths, not each XH$_2$O value.\n",
    "\n",
    ">`degassing_path_labels`: Labels for the plot legend. Default is None, in which case each plotted line will be given the generic legend name of \"Pathn\", with n referring to the nth degassing path passed. The user can pass their own labels as a list of strings.\n",
    "\n",
    ">`custom_labels`: Labels for the plot legend. Default is None, in which case each group of custom points will be given the generic legend name of \"Customn\", with n referring to the nth degassing path passed. The user can pass their own labels as a list of strings.\n",
    "\n",
    "**Calculated outputs:** \n",
    ">The function returns a plot with x-axis as H$_2$O wt% in the melt and y-axis as CO$_2$ wt% in the melt. Isobars, or lines of constant pressure at which the sample magma composition is saturated, and isopleths, or lines of constant fluid composition at which the sample magma composition is saturated, are plotted if passed. Degassing paths, or the concentration of dissolved H$_2$O and CO$_2$ in a melt equilibrated along a path of decreasing pressure, is plotted if passed.\n",
    "\n",
    "### 3.7.1 A simple example: Isobars and isopleths"
   ]
  },
  {
   "cell_type": "code",
   "execution_count": null,
   "metadata": {},
   "outputs": [],
   "source": [
    "v.plot(isobars=isobars, isopleths=isopleths)"
   ]
  },
  {
   "cell_type": "markdown",
   "metadata": {},
   "source": [
    "When plotting isobars and isopleths, the values calculated by `calculate_isobars_and_isopleths()` are used to calculate polynomial fits using Numpy's `polyfit`. These polynomial fits, not the raw calculated data, are what have been plotted above. This minimal interpolation is for aesthetic purposes. This process of fitting polynomial curves to these data is common in the literature (Iacovino et al., 2013; Lesne? Iacono?).\n",
    "\n",
    "A user may wish to apply custom formatting to the plot, in which case the polynomial fits can be calculated and returned as a pandas DataFrame, which the user can then plot up manually using Matplotlib, excel, or some other preferred method. To calculate polynomial fits to isobar and isopleth data, isobars and isopleths can be passed to `smooth_isobars_and_isopleths()`. For this advanced case, we refer the reader to the documentation ([link-to-readthedocs-example])."
   ]
  },
  {
   "cell_type": "markdown",
   "metadata": {},
   "source": [
    "<a id='plotting_degassing_paths'></a>\n",
    "\n",
    "### 3.7.2. A simple example: Degassing paths"
   ]
  },
  {
   "cell_type": "code",
   "execution_count": null,
   "metadata": {},
   "outputs": [],
   "source": [
    "v.plot(degassing_paths=[open_df, half_df, closed_df, exsolved_df],\n",
    "       degassing_path_labels=[\"Open\", \"Half\", \"Closed\", \"Exsolved\"])\n",
    "\n",
    "v.plot(degassing_paths=[exsolved_df, start2000_df],\n",
    "       degassing_path_labels=[\"Exsolved\", \"2000 bars\"])"
   ]
  },
  {
   "cell_type": "markdown",
   "metadata": {},
   "source": [
    "<a id='plotting_multiple_calculations'></a>\n",
    "\n",
    "### 3.7.3 Plotting multiple calculations\n",
    "\n",
    "One of the major advantages to VESIcal over any other model is the ability to quickly calculate and plot multiple calculations. In this example we will use data imported in Section 3.1 and calculations performed in Sections 3.5 and 3.6. Of course, all of the data calculated with VESIcal can be exported to an Excel file for manipulation and plotting as desired. However, some examples of plotting that can be done within this notebook or in a python script are shown below. There are no built-in functions for plotting more than one calculation, so the following examples use the code snippets for plotting various results given above.\n",
    "\n",
    "<a id='degassing_paths_plus_isobars_isopleths'></a>\n",
    "\n",
    "### 3.7.1. Degassing paths plus isobars and isopleths\n",
    "The code below uses the example code snippets for plotting degassing paths and then for plotting isobars and isopleths. All calculations here were performed on sample BT-ex."
   ]
  },
  {
   "cell_type": "code",
   "execution_count": null,
   "metadata": {},
   "outputs": [],
   "source": [
    "#calculate more isobars, isopleths"
   ]
  },
  {
   "cell_type": "code",
   "execution_count": null,
   "metadata": {},
   "outputs": [],
   "source": [
    "#v.plot(stuff)"
   ]
  },
  {
   "cell_type": "markdown",
   "metadata": {},
   "source": [
    "<a id='sample_data_plus_isobars_isopleths'></a>\n",
    "\n",
    "### 3.7.2 Sample data plus isobars and isopleths\n",
    "The code below uses the example code snippets for plotting data imported from a file in Section 3.1 as well as for plotting isobars and isopleths for sample BT-ex."
   ]
  },
  {
   "cell_type": "code",
   "execution_count": null,
   "metadata": {},
   "outputs": [],
   "source": [
    "v.plot(isobars=isobars, isopleths=isopleths, custom_H2O=data['H2O'], custom_CO2=data['CO2'])"
   ]
  },
  {
   "cell_type": "markdown",
   "metadata": {},
   "source": [
    "## 3.8. Code hybridization (Advanced)\n",
    "<a id='code_hybridization'></a>\n",
    "\n",
    "One of the advantages of implementing the solubility models in a generic python module is the flexibility this affords the user in changing the way solubility models are defined and used. In particular, the structure allows any combination of pure-fluid models to be used together in modelling mixed-fluids, and fugacity or activity models can be quickly changed without modifying code. To access these more advanced features, the "
   ]
  },
  {
   "cell_type": "markdown",
   "metadata": {},
   "source": [
    "### 3.8.1 Using Model objects directly\n",
    "The calculations shown in this manuscript utilise the python-class Calculation interfaces. When the class is called, the required model is usually selected from the default models using the model name as a string, e.g.,"
   ]
  },
  {
   "cell_type": "code",
   "execution_count": null,
   "metadata": {},
   "outputs": [],
   "source": [
    "calculation = v.calculate_dissolved_volatiles(sample=my_sample, pressure=1000.0, X_fluid=0.1, model='Shishkina')"
   ]
  },
  {
   "cell_type": "markdown",
   "metadata": {},
   "source": [
    "When the `calculate_dissolved_volatiles` class is initiated, it retrieves a pre-defined model object instance. However, creating model objects directly affords greater control over how the calculation is performed. A model object for a pure fluid can be created by:"
   ]
  },
  {
   "cell_type": "code",
   "execution_count": null,
   "metadata": {},
   "outputs": [],
   "source": [
    "model_object = v.ShishkinaCarbon()"
   ]
  },
  {
   "cell_type": "markdown",
   "metadata": {},
   "source": [
    "Any method that is used during solubility calculations can now be accessed directly. For example, the compositional dependence of CO$_2$ solubility is captured by the $\\pi^*$ parameter in the --SHISHKINA-- parameterisation. The value of this parameter is calculated everytime a solubility calculation is performed using the `ShishkinaCarbon` model, but is not accessible through the `Calculation` class interfaces. However, the method that calculates $\\pi^*$ can be called directly from the model object:"
   ]
  },
  {
   "cell_type": "code",
   "execution_count": null,
   "metadata": {},
   "outputs": [],
   "source": [
    "model_object.PiStar(sample=my_sample)"
   ]
  },
  {
   "cell_type": "markdown",
   "metadata": {},
   "source": [
    "The available methods can be found when using Jupyterlab or ipython by pressing the tab key after typing `model_object.`. Calculation methods can also be called directly from the model object, without using the `Calculation` class interface:"
   ]
  },
  {
   "cell_type": "code",
   "execution_count": null,
   "metadata": {},
   "outputs": [],
   "source": [
    "model_object.calculate_dissolved_volatiles(sample=my_sample, pressure=1000.0)"
   ]
  },
  {
   "cell_type": "markdown",
   "metadata": {},
   "source": [
    "This is computationally faster than using the `Calculation` interface, but does not automatically pre-process the sample composition, or run calibration checks. Alternatively, the `model_object` can be used with the `Calculation` class interface by passing the object in place of a string for the `model` variable:"
   ]
  },
  {
   "cell_type": "code",
   "execution_count": null,
   "metadata": {},
   "outputs": [],
   "source": [
    "calculation = v.calculate_dissolved_volatiles(sample=my_sample, pressure=1000.0, model=model_object)\n",
    "calculation.result"
   ]
  },
  {
   "cell_type": "markdown",
   "metadata": {},
   "source": [
    "### 3.8.2 Changing Model fugacity and activity models\n",
    "This functionality is more powerful when the user makes changes to components of the model. For example, when every model object is initialized in VESIcal, it has a fugacity and activity model associated with it. Where models parameterise solubility as a function of pressure (or partial pressure) directly, as done by --SHISHKINA--, this is equivalent to assuming the fugacity is that of an ideal gas. By retrieving the fugacity model from the `model_object` we created above, we can see that this is the case:"
   ]
  },
  {
   "cell_type": "code",
   "execution_count": null,
   "metadata": {},
   "outputs": [],
   "source": [
    "model_object.fugacity_model"
   ]
  },
  {
   "cell_type": "markdown",
   "metadata": {},
   "source": [
    "Other models, e.g., --DIXON--, parameterise solubility as a function of fugacity, calculated using an equation of state for the vapour phase. The default fugacity model for `DixonCarbon` is the --KERRICK AND JACOBS--, and is set when the model is initialized:"
   ]
  },
  {
   "cell_type": "code",
   "execution_count": null,
   "metadata": {},
   "outputs": [],
   "source": [
    "model_object = v.DixonCarbon()\n",
    "model_object.fugacity_model"
   ]
  },
  {
   "cell_type": "markdown",
   "metadata": {},
   "source": [
    "However, if we wanted to see how the calculation results would change were the --REDLICH-KWONG-- model used instead, we can change this component of the model:"
   ]
  },
  {
   "cell_type": "code",
   "execution_count": null,
   "metadata": {},
   "outputs": [],
   "source": [
    "model_object.set_fugacity_model(v.fugacity_RK_co2())\n",
    "model_object.fugacity_model"
   ]
  },
  {
   "cell_type": "markdown",
   "metadata": {},
   "source": [
    "Any calculations now performed using `model_object` will use fugacities calculated with --REDLICH-KWONG-- in place of --KERRICK AND JACOBS--. Each model object also has an activity model associated with it. This allows for non-ideal solution of vapour species in the melt. Whilst none of the models presently within VESIcal use non-ideal activities, this would permit models such as --DUAN-- to be implemented within the VESIcal framework in the future."
   ]
  },
  {
   "cell_type": "markdown",
   "metadata": {},
   "source": [
    "### 3.8.3 Defining and using MixedFluid model objects\n",
    "The model objects for mixed fluids have a similar structure, with one major difference. A `MixedFluid` model object is a generic model which may be implemented with any of the pure-fluid models within VESIcal. The default `MixedFluid` model object for --SHISHKINA-- is defined by:"
   ]
  },
  {
   "cell_type": "code",
   "execution_count": null,
   "metadata": {},
   "outputs": [],
   "source": [
    "mixed_model = v.MixedFluid({'CO2':v.ShishkinaCarbon(),\n",
    "                            'H2O':v.ShishkinaWater()})"
   ]
  },
  {
   "cell_type": "markdown",
   "metadata": {},
   "source": [
    "As with the pure-fluid model objects, calculations can be performed directly using the model object, e.g.,"
   ]
  },
  {
   "cell_type": "code",
   "execution_count": null,
   "metadata": {},
   "outputs": [],
   "source": [
    "mixed_model.calculate_equilibrium_fluid_comp(sample=my_sample, pressure=1000.0)"
   ]
  },
  {
   "cell_type": "markdown",
   "metadata": {},
   "source": [
    "or by supplying the `Calculate` class interface with `mixed_model` as the value of `model`:"
   ]
  },
  {
   "cell_type": "code",
   "execution_count": null,
   "metadata": {},
   "outputs": [],
   "source": [
    "calculation = v.calculate_equilibrium_fluid_comp(sample=my_sample, pressure=1000.0, model=mixed_model)\n",
    "calculation.result"
   ]
  },
  {
   "cell_type": "markdown",
   "metadata": {},
   "source": [
    "If we wanted to change the fugacity (or activity) models used in the calculation, we must access the pure-fluid model objects stored within the mixed-fluid model object:"
   ]
  },
  {
   "cell_type": "code",
   "execution_count": null,
   "metadata": {},
   "outputs": [],
   "source": [
    "mixed_model.models[0].fugacity_model"
   ]
  },
  {
   "cell_type": "code",
   "execution_count": null,
   "metadata": {},
   "outputs": [],
   "source": [
    "mixed_model.models[0].set_fugacity_model(v.fugacity_KJ81_co2())\n",
    "mixed_model.models[0].fugacity_model"
   ]
  },
  {
   "cell_type": "markdown",
   "metadata": {},
   "source": [
    "The `MixedFluid` model object also allows different solubility models to be combined, for example if we wanted to use the --ALLISON-- CO2 solubility model in conjunction with a water solubility model we could define our own `MixedFluid` model object:"
   ]
  },
  {
   "cell_type": "code",
   "execution_count": null,
   "metadata": {},
   "outputs": [],
   "source": [
    "mixed_model = v.MixedFluid({'CO2':v.AllisonCarbon(),\n",
    "                            'H2O':v.IaconoMarzianoWater()})"
   ]
  },
  {
   "cell_type": "markdown",
   "metadata": {},
   "source": [
    "<a id='exporting_data'></a>\n",
    "\n",
    "## 3.9. Exporting data\n",
    "\n",
    "Once batch calculations have been performed, they can be exported to an Excel file with the `save_excelfile()` command. This operation requires that the user define a filename (what to name your new file) and a list of the calculation results to save to this file. \n",
    "\n",
    "Note that this requires calculations have been assigned to variable names, which has been done in all of the given examples. For example, to calculate saturation pressures of an imported file saved to the variable 'myfile' and simply print the output, the user can type `myfile.calculate_saturation_pressures([options])`, where '[options]' are the required and optional inputs. However, to save this result to a variable (e.g., called 'my_satPs') so that it can be accessed later, the correct python syntax would be `my_satPs = myfile.calculate_saturation_pressures([options])`.\n",
    "\n",
    "Multiple calculations can be saved to one Excel file, with each calculation being saved as its own sheet. If desired, the user can define the names of each of these sheets. If not specified, the sheets will be named 'Original_User_Data', which contains the original input data, and then 'CalcN' where N is the nth calculation in a list of calculations.\n",
    "\n",
    "Advanced users note that any pandas DataFrame can be passed as a calculation, meaning this functionality is not limited to VESIcal's prescribed outputs. The `save_excelfile()` method uses the pandas `to_excel` method, however not all options are implemented here.\n",
    "\n",
    "**Method structure:**<br>\n",
    ">`save_excelfile(self, filename, calculations, sheet_name=None)`\n",
    "\n",
    "**Required inputs:**<br>\n",
    ">`filename`: Name of the file to create. The extension (.xlsx) should be included along with the name itself, all in quotes (e.g., `filename='myfile.xlsx'`).\n",
    "\n",
    ">`calculations`: A list of variables containing calculated outputs from any of the core ExcelFile functions: calculate_dissolved_volatiles, calculate_equilibrium_fluid_comp, and calculate_saturation_pressure. This must be passed as a list type variable, even if only one calculation is given. This is done by enclosing the variable in square brackets (e.g., `calculations=[my_calculation]`).\n",
    "\n",
    "**Optional inputs:**<br>\n",
    ">`sheet_name`: The default value is None, in which case sheets will be saved as 'Original_User_data' (the data input by the user) followed by 'CalcN' where N is the nth calculation in `calculations`. Otherwise, a list of names for the sheets can be passed, with the names in quotes (e.g. `sheet_name=['SaturationPressures'])`. 'Original_User_data' will always be saved as the first sheet.\n",
    "\n",
    "**Calculated outputs:** \n",
    ">An Excel file will be saved to the active directory (i.e., the same folder as this manuscript notebook or wherever the code is being used)."
   ]
  },
  {
   "cell_type": "markdown",
   "metadata": {},
   "source": [
    "Here we save five of the calculations performed earlier in this manuscript that were performed on imported user data. The user data was saved to the variable 'myfile'. Note that we execute the save command on the myfile variable. This is necessary such that the original input user data may also be output with the results."
   ]
  },
  {
   "cell_type": "code",
   "execution_count": null,
   "metadata": {},
   "outputs": [],
   "source": [
    "myfile.save_excelfile(filename='testsave.xlsx', \n",
    "                      calculations=[dissolved, eqfluid, eqfluid_wtemps, satPs, satPs_wtemps],\n",
    "                      sheet_name=['dissolved', 'eqfluid', 'eqfluid_wtemps', 'SaturationPs', 'SatPs_wtemps'])"
   ]
  },
  {
   "cell_type": "markdown",
   "metadata": {},
   "source": [
    "<a id='discussion_conclusion'></a>\n",
    "\n",
    "# 4. Discussion and Conclusion\n",
    "\n",
    "some text\n",
    "\n",
    "## 4.1 Model Comparisons\n",
    "\n",
    "### We can use one sample composition to show comparisons between model calcs, user can change this sample to whatever they want! This becomes a useful tool for anyone to automatically compare model results for all calcs for any sample of interest."
   ]
  },
  {
   "cell_type": "code",
   "execution_count": null,
   "metadata": {},
   "outputs": [],
   "source": [
    "magmasat_vols = myfile.calculate_dissolved_volatiles(temperature=900.0, \n",
    "                                pressure=2000.0, X_fluid=0.5, verbose=False)\n",
    "\n",
    "# shish_vols = myfile.calculate_dissolved_volatiles(model='Shishkina', temperature=900.0,\n",
    "#                                 pressure=2000.0, X_fluid=0.5)\n",
    "\n",
    "# dix_vols = myfile.calculate_dissolved_volatiles(model='Dixon', temperature=900.0,\n",
    "#                                           pressure=2000.0, X_fluid=0.5)\n",
    "\n",
    "# iac_vols = myfile.calculate_dissolved_volatiles(model='IaconoMarziano', temperature=900.0,\n",
    "#                                           pressure=2000.0, X_fluid=0.5)"
   ]
  },
  {
   "cell_type": "code",
   "execution_count": null,
   "metadata": {},
   "outputs": [],
   "source": [
    "models = v.get_models(models='mixed')\n",
    "fig, ax = plt.subplots(len(models), figsize=(12,24))\n",
    "fig.subplots_adjust(hspace=.5)\n",
    "\n",
    "for i in range(len(models)):\n",
    "    print(models[i])\n",
    "    ax[i].set_ylabel('Dissolved H$_2$O wt% \\n' + str(models[i]))\n",
    "    ax[i].set_xlabel('Dissolved H$_2$O wt%, MagmaSat')\n",
    "    result = myfile.calculate_dissolved_volatiles(model=models[i], temperature=1200.0,\n",
    "                                pressure=2000.0, X_fluid=0.5)\n",
    "    ax[i].scatter(magmasat_vols[\"H2O_liq_VESIcal\"],\n",
    "                  result[\"H2O_liq_VESIcal\"])\n",
    "    xy_1to1 = np.linspace(result[\"H2O_liq_VESIcal\"].min()-0.5,result[\"H2O_liq_VESIcal\"].max()+0.5,100)\n",
    "    ax[i].plot(xy_1to1, xy_1to1)"
   ]
  },
  {
   "cell_type": "code",
   "execution_count": null,
   "metadata": {},
   "outputs": [],
   "source": []
  },
  {
   "cell_type": "code",
   "execution_count": null,
   "metadata": {},
   "outputs": [],
   "source": []
  },
  {
   "cell_type": "code",
   "execution_count": null,
   "metadata": {},
   "outputs": [],
   "source": [
    "# MS_isobars, MS_isopleths = v.calculate_isobars_and_isopleths(sample=my_sample, \n",
    "#                                             temperature=900.0,\n",
    "#                                             pressure_list=[2000.0],\n",
    "#                                             isopleth_list=[0.5],\n",
    "#                                             print_status=True).result\n",
    "\n",
    "Shish_isobars, Shish_isopleths = v.calculate_isobars_and_isopleths(model='Shishkina',\n",
    "                                                                   sample=my_sample, \n",
    "                                                                    temperature=1200.0,\n",
    "                                                                    pressure_list=[2000.0],\n",
    "                                                                    isopleth_list=[0.5]).result\n",
    "\n",
    "Dix_isobars, Dix_isopleths = v.calculate_isobars_and_isopleths(model='Dixon',\n",
    "                                                                   sample=my_sample, \n",
    "                                                                    temperature=1200.0,\n",
    "                                                                    pressure_list=[2000.0],\n",
    "                                                                    isopleth_list=[0.5]).result\n",
    "\n",
    "Iac_isobars, Iac_isopleths = v.calculate_isobars_and_isopleths(model='IaconoMarziano',\n",
    "                                                                   sample=my_sample, \n",
    "                                                                    temperature=1200.0,\n",
    "                                                                    pressure_list=[2000.0],\n",
    "                                                                    isopleth_list=[0.5]).result"
   ]
  },
  {
   "cell_type": "code",
   "execution_count": null,
   "metadata": {},
   "outputs": [],
   "source": [
    "v.plot(isobars=[Shish_isobars, Dix_isobars, Iac_isobars], \n",
    "       isopleths=[Shish_isopleths, Dix_isopleths, Iac_isopleths])\n",
    "v.plot(isobars=Shish_isobars, isopleths=Shish_isopleths)"
   ]
  },
  {
   "cell_type": "markdown",
   "metadata": {},
   "source": [
    "## 4.2 Example degassing calculations -- and some warnings (need better title)\n",
    "\n",
    "Take in an MI data-set (Bishop Tuff, Kilauea). Plot degassing curve, isobars/isopleths using one composition. Plot MI compositions on top of this. Give warnings that, although this is a common way to do this, it's problematic!\n",
    "\n",
    "### Figure X: Cerro Negro melt inclusion compositions\n",
    "<img src=\"figures/cerro_negro_dataset.png\">\n",
    "\n",
    "*Figure caption*\n",
    "<hr>\n",
    "\n",
    "### Figure X\n",
    "<img src=\"figures/isobar_comparison_figure.png\">\n",
    "\n",
    "*Figure caption*\n",
    "<hr>\n"
   ]
  },
  {
   "cell_type": "markdown",
   "metadata": {},
   "source": [
    "<a id='future_work'></a>\n",
    "\n",
    "# 5. Future Work"
   ]
  },
  {
   "cell_type": "markdown",
   "metadata": {},
   "source": [
    "# Acknowledgements"
   ]
  },
  {
   "cell_type": "markdown",
   "metadata": {},
   "source": [
    "# References"
   ]
  },
  {
   "cell_type": "raw",
   "metadata": {},
   "source": []
  },
  {
   "cell_type": "code",
   "execution_count": null,
   "metadata": {},
   "outputs": [],
   "source": []
  }
 ],
 "metadata": {
  "kernelspec": {
   "display_name": "Python 3",
   "language": "python",
   "name": "python3"
  },
  "language_info": {
   "codemirror_mode": {
    "name": "ipython",
    "version": 3
   },
   "file_extension": ".py",
   "mimetype": "text/x-python",
   "name": "python",
   "nbconvert_exporter": "python",
   "pygments_lexer": "ipython3",
   "version": "3.7.6"
  },
  "toc": {
   "base_numbering": 1,
   "nav_menu": {
    "height": "697px",
    "width": "458px"
   },
   "number_sections": false,
   "sideBar": true,
   "skip_h1_title": false,
   "title_cell": "Table of Contents",
   "title_sidebar": "Contents",
   "toc_cell": false,
   "toc_position": {
    "height": "calc(100% - 180px)",
    "left": "10px",
    "top": "150px",
    "width": "303.594px"
   },
   "toc_section_display": true,
   "toc_window_display": true
  }
 },
 "nbformat": 4,
 "nbformat_minor": 4
}
