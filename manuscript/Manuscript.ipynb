{
 "cells": [
  {
   "cell_type": "markdown",
   "metadata": {},
   "source": [
    "# VESIcal: An open-source model engine for mixed volatile (H$_2$O-CO$_2$) solubility in silicate melts\n",
    "## (For Earth and Space Sciences, an AGU Journal)\n",
    "***\n",
    "## Kayla Iacovino$^1$, Simon Matthews$^2$, Penny Wieser$^3$, Gordon M. Moore$^1$, Florence Bégué$^4$\n",
    "$^1$Jacobs, NASA Johnson Space Center, Houston, TX 77058, USA\n",
    "<br>$^2$Johns Hopkins University, Department of Earth and Planetary Sciences, Baltimore, MD 21218, USA\n",
    "<br>$^3$University of Cambridge, Department of Earth Sciences, Downing Street, Cambridge CB2 3EQ, UK\n",
    "<br>$^4$University of Lausanne, Institute of Earth Sciences, Lausanne, Switzerland"
   ]
  },
  {
   "cell_type": "markdown",
   "metadata": {},
   "source": [
    "# Key Points\n",
    "1. The first comprehensive volatile solubility tool capable of processing large datasets automatically\n",
    "2. Eight built-in solubility models, with automatic calculation and plotting functionality\n",
    "3. Build in python but easily usable by scientists with any level of coding skill"
   ]
  },
  {
   "cell_type": "markdown",
   "metadata": {},
   "source": [
    "# Abstract\n",
    "\n",
    "Thermodynamic modeling has been the backbone of interpreting geologic data and modelling geologic systems for decades. However, more recent advancements in computational capabilities and a marked increase in researchers' accessibility to computing tools has outpaced the functionality and extensibility of currently available modeling tools. Here we present the first comprehensive modelling tool for H$_2$O, CO$_2$, and mixed (H$_2$O-CO$_2$) solubility in silicate melts that: a) allows users access to all commonly used models, inlcuding easy intercomparison between models; b) provides universal functionality for all models (e.g., functions for calculting saturation pressures, degassing paths, etc.); c) can process large datasets (1,000's of samples) automatically; d) outputs computed data into an excel spreadsheet for simple post-modelling analysis; e) integrates advanced plotting capabilities directly within the tool; and f) provides all of these within the framework of a python library, making the tool extensible by the user and allowing any of the model functions to be incorporated into any other code capable of calling python. The tool is presented within this manuscript, which is a Jupyter notebook containing worked examples accessible to python users with a range of skill levels. The VESIcal python library is open-source and available for download at [https://github.com/kaylai/VESIcal](https://github.com/kaylai/VESIcal)."
   ]
  },
  {
   "cell_type": "markdown",
   "metadata": {},
   "source": [
    "# Plain Language Summary\n",
    "To be written after first full draft is complete."
   ]
  },
  {
   "cell_type": "markdown",
   "metadata": {},
   "source": [
    "# 1. Introduction\n",
    "<a id='introduction'></a>\n",
    "\n",
    "### Gordon's text to be added here...\n",
    "H$_2$O and CO$_2$ are the most abundant volatile species in silicate melts and have profound effects on the phase equilibria, melting temperatures, and viscosity of magmas in addition to being drivers of explosive volcanism. Volatile elements are also key ingredients for Earth-based life, and so have become a focus of planetary exploration aimed at understanding how life came to exist on Earth and where we might find life elsewhere in the solar system and beyond.\n",
    "\n",
    "History of volatile solubility models [some text from Gordon]\n",
    "\n",
    "Here we present a volatile calculation tool that incorporates the majority of the most popular volatile solubility models under one proverbial roof: \n",
    "* MagmaSat (MELTS v. 1.2.0; Ghiorso and Gualda, 2015; the default model)\n",
    "* Dixon (1997)\n",
    "* Moore et al. (1998; water only, but H$_2$O fluid concentration can be specified)\n",
    "* Iacono-Marziano et al. (2002)\n",
    "* Shishkina et al. (2014)\n",
    "* Eguchi and Dasgupta (2018; carbon only)\n",
    "* Allison et al. (2019, carbon only). \n",
    "\n",
    "The combination of these models produces a single tool with an extensive pressure-temperature-composition calibration range (Figure calibrange). VESIcal represents the first volatile tool with the ability to perform calculations for multiple samples at once, with built-in functionality for extracting data from an Excel file. In addition, the code is written such that it is flexible (sample, calculation type, and model type can be chosen discretely) and extensible (VESIcal code can be easily imported for use in python scripts, and the code is formatted such that new volatile models can be easily added).\n",
    "\n",
    "**Put Figure calibrange here**"
   ]
  },
  {
   "cell_type": "markdown",
   "metadata": {},
   "source": [
    "# 2. Research Methodology\n",
    "<a id='research_methodology'></a>\n",
    "Preamble text\n",
    "\n",
    "\n",
    "All of the calculations implemented in VESIcal can be performed using any of the models included. The code is structured by calculation rather than by model, which provides a more intuitive way for users to interact with the code and compare outputs from multiple models. A python class is definied for each calculation. These classes can be called as python methods, take the model name and any applicable data as arguments, and return the results of the calculation. Each class performs five key functions: 1) creates the requested model object; 2) takes user input and performs the mathematical calculation; 3) does any necessary processing of the output (e.g., normalizing totals); 4) checks that the model is being used within its calibrated range; and 5) returns calcualted outputs in an intuitive and manipulatable format (e.g., a python dictionary, a figure, or a pandas DataFrame).\n",
    "\n",
    "Notes:\n",
    "* No volatile calculator can do these things!\n",
    "* With the ENKI framework, implementation is relatively simple!\n",
    "* Written in python 3\n",
    "* What is needed to run this code? Jupyter notebook on server vs local or as script + installation instructions for library via pip\n",
    "* Link to documentation and github\n",
    "\n",
    "<a id='model_calibration_ranges'></a>\n",
    "## 2.1 Models included in VESical\n",
    "### Penny can you start this section?\n",
    "Introduce what models we have included, with intro for each model.\n",
    "\n",
    "Do we make the below figure into a nice image instead of a pandas file?\n",
    "\n",
    "some text about how calibration ranges are reported and how we handle that in the code.\n",
    "\n",
    "<a id='table-calibration-ranges'></a>\n",
    "\n",
    "### Table X. Calibration ranges of VESIcal models\n",
    "<img src=\"tables/Table_of_Compositional_ranges.png\">"
   ]
  },
  {
   "cell_type": "markdown",
   "metadata": {},
   "source": [
    "## 2.2 Format of the python library\n",
    "In this section, the basic organization and use cases of VESIcal are discussed. Specific details on how to perform model calculations are discussed in Section 3 and include worked examples. The VESIcal library is written so that users can interact first and foremost with the calculation they want to perform. Five standard calculations can be performed with any model in the library: \n",
    "1. `calculate_dissolved_volatiles()`\n",
    "2. `calculate_equilibrium_fluid_composition()`\n",
    "3. `calculate_saturation_pressure()`\n",
    "4. `calculate_isobars_and_isopleths()` (plus functionality for plotting; only for mixed volatiles models)\n",
    "5. `calculate_degassing_path()` (plus functionality for plotting; only for mixed volatiles models)\n",
    "\n",
    "Figure 1 illustrates the basic organization of the code. First, the user determines which calculation they wish to perform by accessing one of the five core calculation classes (listed above). In this step, the user specifies any input parameters needed for the calculation (e.g., sample composition, pressure, temperature) as well as the model they wish to use. The default model is MagmaSat, but the user may specify any model in the library. As an example, the code to calculate the saturation pressure of some sample using the MagmaSat model would be written as:\n",
    "\n",
    "`calculate_saturation_pressure(sample=mysample, temperature=850.0)`\n",
    "\n",
    "where `mysample` is a dictionary or pandas Series containing the composition of the sample in oxide wt%, and the temperature is given in $^{\\circ}$C. If a different model is desired, for example Shishkina et al. (2014), it can be passed as:\n",
    "\n",
    "`calculate_saturation_pressure(sample=mysample, temperature=850.0, model='Shishkina')`\n",
    "\n",
    "The core calculation classes each perform two functions: 1) a check is performed to ensure that the user input is within the model's recommended calibration range; 2) the `calculate()` method sends the user input to the appropriate model. Each model in the library is defined as a python class and contains model-specific methods for performing the five standard calculations. Standard pre-processing of the data (e.g., normalizing the composition to 100%, ignoring extranneous compositional information) is performed before the calculation and is uniquely defined for each model.\n",
    "\n",
    "### Figure 1 \n",
    "<img src=\"figures/code_flowchart.png\">\n",
    "\n",
    "*Flowchart illustrating the basic organization of the python library. First, a user chooses a calculation to perform and calls one of the five core calculation classes. Here, any necessary parameters are passed such as sample composition, pressure, and temperature. A check is run to ensure the calculation is being performed within model-specified limits. The Calculate() class then calls on one of the Model() classes. The default model is MagmaSat, but a user may specify a different model when defining the calculation parameters. Standard pre-processing is then performed on the input data, and this pre-processing step is unique to each model. The processed data are then fed into a model-specific method to perform the desired core calculation.*\n",
    "<hr>\n",
    "\n",
    "The VESIcal code has been designed to facilitate easy use by a user with any skill level in coding or in the python language. To facilitate this, we have structured the code as two basic end-member computational paths: a batch processing path (simpler) and a single sample path (more advanced options). The level of simplicity of either path is indirectly proportional to the level of customization and extensibility (Figure 2). \n",
    "\n",
    "The \"simplest\" way to interact with the VESIcal code is via the batch processing path. Here, the user provides input data in the form of a Microsoft Excel spreadsheet (.xlsx file) and instructs the model to perform whatever calculation is desired. The model returns data formatted like a Microsoft Excel spreadsheet, which contains the user's original input data plus whatever model outputs were calculated. This path always operates in a \"verbse\" output style; that is, calculations return not only the specific calculated values requested but also any other relevant data calculated along the way. For example, a call to `calculate_saturation_pressure()` in the batch processing path returns, for every sample, the saturation pressure in bars, the mass of fluid present in grams, and the composition of the fluid present. After the calculation is performed, the user can continue to work with the returned data in their jupyter notebook or terminal window, or they can simply export the data to an excel file with one simple command `save_excel_file()`.\n",
    "\n",
    "The more advanced calculation path is actually the most fundamental as it allows the user access to the most basic model functions and even to hybridize models. Calculations are performed on a single sample; iterating over large datasets is left to the user to implement. However, this allows the user to input information in a variety of ways without being constrained to formatting the input data in a particular way or naming scheme. This also gives the user more flexibility in integrating any VESIcal model function into some other python code.\n",
    "\n",
    "### Figure 2\n",
    "<img src=\"figures/batch_v_singlesample.png\">\n",
    "\n",
    "*Flowchart illustrating the different operational paths. On top, batch calculation is shown, in which an Excel file with any amount of samples is fed into the model, calcualtions are performed, and the original user data plus newly calculated values are returned and can be saved as an Excel file. Below, single-sample calculation is shown. These methods can run calculations on one sample at a time, but multi-sample calculations can be performed iteratively with code written by the user. Calculated values are returned as a variable. For single-sample calculations, more advanced modelling options can be set, and hybridization of models can be performed.*\n",
    "<hr>\n",
    "\n",
    "## 2.3 Extensibility\n",
    "Some text on how awesome this tool is because it's written in Python and can easily be combined with other libraries.\n",
    "\n",
    "### Penny do you have some initial thoughts for this section?\n",
    "\n",
    "## 2.4 Integration within the ENKI framework\n",
    "Introduce ENKI\n",
    "\n",
    "**some older text** MagmaSat+ is a volatile-focused tool capable of producing outputs relevant to volatile solubility and degassing processes. MagmaSat determines the saturation conditions for a mixed H2O-CO2 fluid in natural composition silicate melts <cite data-cite=\"ghiorso_gualda2015\">(Ghiorso & Gualda, 2015)</cite>. MagmaSat+ is a rewrite of the MagmaSat app and based on the thermodynamic model of <cite data-cite=\"ghiorso_gualda2015\">Ghiorso & Gualda (2015)</cite>. Our implementation in the ENKI framework based on Mark’s MELTS-v.1.2.0-equilibrium example notebook (ENKI Equilibrate package).\n",
    "\n",
    "## 2.5 Running the code\n",
    "This tool can be used in a number of ways, via this jupyter notebook or by directly accessing the code in any python script. The first and simplest way to use VESIcal is within this very manuscript, in the form of a jupyter notebook. Because this manuscript and VESIcal python library files are hosted on the ENKI server, code can be manipulated and executed in the code cells below. Making changes won't affect the public version of this manuscript. Second, if jupyter notebook is installed on your local machine, this manuscript notebook can be downloaded along with the VESIcal python library and run locally. Python3 and ENKI thermoengine must be installed, plus the dependencies specified below. Once dependencies are installed, simply ensure that both the notebook (manuscript.ipynb) and library (VESIcal.py) are in the same directory. Instructions on installing and running jupyter notebook can be found on the jupyter website (https://jupyter.org/). Third, the VESIcal python library can be downloaded via the github repository (https://github.com/kaylai/MagmaSatPlus) or installed directly via the python package manager pip using the command `pip install VESIcal`. The same dependencies, including Python3 and ENKI thermoengine, are required for this code to run.\n",
    "\n",
    "**To run the code in this notebook**, nothing needs to be installed. Simply execute the code cells below, changing parameters as necessary. Custom data may be processed by uploading an excel file into the same folder containing this notebook and then changing the filename in Section 3.1.1.\n",
    "\n",
    "**To run this code locally**, some python packages must first be installed:\n",
    "* Python3 (https://www.python.org/downloads/)\n",
    "* ENKI thermoengine (https://gitlab.com/ENKI-portal/ThermoEngine)\n",
    "* Python pandas (https://pandas.pydata.org/)\n",
    "* Numpy (https://numpy.org/)\n",
    "* SciPy (https://www.scipy.org/)\n",
    "* Matplotlib (https://matplotlib.org/)\n",
    "\n",
    "Pandas, Numpy, SciPy, Matplotlib, and jupyter all come standard in Anaconda (https://www.anaconda.com/products/individual), a python package manager for use in data science.\n",
    "\n",
    "## 2.6 Documentation\n",
    "This manuscript serves as documentation of the VESIcal library aimed at python users of all levels. However, the code itself is documented with explanations of each method and its input parameters and returned values. This documentation can be accessed after VESIcal has been imported in Section 3.0.1 by typing `help(v)`, which returns all of the documentation text directly from the code in one large block. An easier way to look through the documentation is at [link to documentation readthedocs.io page].\n",
    "\n",
    "Video tutorials are also available on the VESIcal YouTube (link-to-youtube). Currently, tutorials cover: blah blah blah."
   ]
  },
  {
   "cell_type": "markdown",
   "metadata": {},
   "source": [
    "# 3. Workable example uses"
   ]
  },
  {
   "cell_type": "markdown",
   "metadata": {},
   "source": [
    "In this section we detail how to use the various functions available in VESIcal through worked examples. The python code presented below may be copied and pasted into a script or can be edited and executed directly within the Jupyter notebook version of this manuscript. For all examples, code in sections 3.0.1 and 3.0.2 must be executed to initialize the model and import data from the provided companion excel file. The following sections then may be executed on their own and do not need to be executed in order.\n",
    "\n",
    "Workable examples detailed here are:\n",
    "1. [Loading, viewing, and preparing user data](#loading_viewing_preparing)<br>\n",
    "    1.1. [Loading an Excel file](#batch_processing)<br>\n",
    "    1.2. [Defining a single sample composition](#defining_single_sample)<br>\n",
    "    1.3. [Plotting user data](#plotting_user_data)<br>\n",
    "    1.4. [Extracting a single sample from an Excel file](#extracting_single_melt_composition)<br>\n",
    "    1.5. [Normalizing and transforming data](#normalizing_transforming_data)<br>\n",
    "2. [Calculating dissolved volatile concentrations](#calculating_dissolved_volatile_concentrations)\n",
    "3. [Calculating equilibrium fluid compositions](#calculating_equilibrium_fluid_compositions)\n",
    "4. [Calculating saturation pressures](#calculating_saturation_pressures)\n",
    "5. [Calculating and plotting isobars and isopleths](#calculating_plotting_isobars_isopleths)\n",
    "6. [Calculating and plotting degassing paths](#calculating_plotting_degassing_paths)\n",
    "7. [Plotting multiple calculations](#plotting_multiple_calculations)\n",
    "8. [Comparing results from multiple models](#comparing_results_from_multiple_models)\n",
    "9. [Code hybridization (Advanced)](#code_hybridization)\n",
    "10. [Exporting data](#exporting_data)\n",
    "\n",
    "**Some preamble on the structure of the following examples**. Sections 3.0 and 3.1 are prerequisites to executing the code in the remainder of Section 3. From Section 3.2 onward, examples are given for both single-sample and ExcelFile batch processing. There is much overlap in the functionality of these two modes of interacting with the code, but there are key differences. Introduce .result.\n",
    "\n",
    "**IDEA: we could make a PDF with some text for absolute python beginners that could be a supplement. This would explain:**\n",
    "1. Object oriented programming\n",
    "2. What the stuff in function calls mean (like, you dont need to name varibles based on args, things like that)\n",
    "3. Others?\n",
    "\n",
    "They don't need to be taught *too* much since the \"advanced\" stuff like dicts and for loops and pandas dataframes are hidden in the code. But, it would be nice if an absolute novice could have a bit of a start."
   ]
  },
  {
   "cell_type": "markdown",
   "metadata": {},
   "source": [
    "### 3.0.1 Initialize packages and choose model"
   ]
  },
  {
   "cell_type": "markdown",
   "metadata": {},
   "source": [
    "For any code using the VESIcal library, the library must be imported for use. Here we import VESIcal as v. Any time we wish to use a function from VESIcal, that function must be preceded by `v.`. Specific examples of this usage follow. Here we also import some other python libraries that we will be using in the worked examples below."
   ]
  },
  {
   "cell_type": "code",
   "execution_count": 4,
   "metadata": {},
   "outputs": [],
   "source": [
    "import sys\n",
    "sys.path.insert(0, '../')\n",
    "\n",
    "import VESIcal as v\n",
    "import matplotlib.pyplot as plt\n",
    "import numpy as np\n",
    "import pandas as pd\n",
    "from IPython.display import display, HTML\n",
    "%matplotlib inline"
   ]
  },
  {
   "cell_type": "code",
   "execution_count": 9,
   "metadata": {},
   "outputs": [
    {
     "data": {
      "text/html": [
       "<script>\n",
       "code_show=true; \n",
       "function code_toggle() {\n",
       "    if (code_show){\n",
       "        $('div.cell.code_cell.rendered.selected div.input').hide();\n",
       "    } else {\n",
       "        $('div.cell.code_cell.rendered.selected div.input').show();\n",
       "    }\n",
       "    code_show = !code_show\n",
       "} \n",
       "$( document ).ready(code_toggle);\n",
       "</script>\n",
       "<b>This is a hidden cell. To show/hide this cell's raw code input, click <a href=\"javascript:code_toggle()\">here</a></b>."
      ],
      "text/plain": [
       "<IPython.core.display.HTML object>"
      ]
     },
     "metadata": {},
     "output_type": "display_data"
    }
   ],
   "source": [
    "display(tag)\n",
    "# Taken from https://stackoverflow.com/questions/31517194/how-to-hide-one-specific-cell-input-or-output-in-ipython-notebook\n",
    "tag = HTML('''<script>\n",
    "code_show=true; \n",
    "function code_toggle() {\n",
    "    if (code_show){\n",
    "        $('div.cell.code_cell.rendered.selected div.input').hide();\n",
    "    } else {\n",
    "        $('div.cell.code_cell.rendered.selected div.input').show();\n",
    "    }\n",
    "    code_show = !code_show\n",
    "} \n",
    "$( document ).ready(code_toggle);\n",
    "</script>\n",
    "<b>This is a hidden cell. To show/hide this cell's raw code input, click <a href=\"javascript:code_toggle()\">here</a></b>.''')"
   ]
  },
  {
   "cell_type": "markdown",
   "metadata": {},
   "source": [
    "<a id='loading_viewing_preparing'></a>\n",
    "\n",
    "## 3.1. Loading, viewing, and preparing user data\n",
    "\n",
    "All of the following examples will use data loaded in the code cells in this section. Both batch processing of data in an Excel file and single-sample processing are shown. An example file called 'example_data.xlsx' is included with this manuscript. You can load in your own data by first ensuring that your file is in the same folder as this notebook and then by replacing the filename in the code cell below with the name of your file. The code cell below must be executed for the examples in the rest of this section to function properly.\n",
    "\n",
    "<a id='batch_processing'></a>\n",
    "### 3.1.1 Batch processing\n",
    "Batch calculations are always facilitated via the `ExcelFile()` class, which the user uses to specify the filename corresponding to sample data. Loading in data is as simple as calling `ExcelFile(filename)`. Optionally, `input_type` can be used to specify whether the oxide data are in wt%, mol fraction, or mol%. Calculations will always be performed and returned with melt composition in wt% and fluid composition in mol fraction.\n",
    "\n",
    "**Structure of the input file:** A file containing compositions and optional pressure and/or temperature information on one or multiple samples can be loaded into this code. The loaded file must be a Microsoft Excel file with the extension .xsl or .xslx. The file must be laid out in the same manner as the example file 'example_data.xlsx'. The basic structure is also shown in Table 1. Any extranneous columns that are not labeled as oxides or input parameters will be ignored during calculations. The first column titled 'Label' contains sample names. The following columns must contain compositional information as oxides. The only allowable oxides are: SiO$_2$, TiO$_2$, Al$_2$O$_3$, Fe$_2$O$_3$, FeO, Cr$_2$O$_3$, MnO, MgO, CaO, NiO, CoO, Na$_2$O, K$_2$O, P$_2$O$_5$, H$_2$O, and CO$_2$. All of these oxides need not be included; if for example your samples contain no NiO concentration information, you can omit the NiO column. If other oxide columns not listed here are included in your file, they will be ignored during calculations. Compositions can be entered either in wt% (the default), mol%, or mole fraction. If mol% or mole fraction data are loaded, this must be specified when importing the tile.\n",
    "\n",
    "Pressure and temperature data may optionally be included, if they are known. Column names for these data do not matter, as they can be specified by the user as will be shown in following examples.\n",
    "\n",
    "The standard units used by VESIcal are always pressure in bars, temperature in $^{\\circ}$C, liquid composition as oxides in wt%, and fluid composition as mol fraction (typically specified as X_fluid, the mol fraction of H$_2$O in an H$_2$O-CO$_2$ fluid, ranging from 0-1). The composition may be translated between wt%, mol%, and mol fraction if necessary.\n",
    "\n",
    "**Class structure:** `class ExcelFile(object)`\n",
    "`def __init__(self, filename, input_type='wtpercent', label='Label')`\n",
    "\n",
    "**Required inputs:**<br>\n",
    ">`filename`: A file name must be passed in quotes. This file must be in the same folder as the notebook or script that is calling it. This imports the data from the file name given and saves it to a variable of your choosing.\n",
    "\n",
    "**Optional inputs:** By default, the ExcelFile class assumes that loaded data is in units of wt%; alternatively, data in mol% or mole fraction may be loaded. In that case, loaded data is converted into wt% values, since compositions must be in wt% when performing model calculations.<br>\n",
    ">`input_type`: This is optional but must be specified if the data are input in mol% or mole fraction. In these cases, the data will be converted to wt% for the calculations. The user can pass `'molpercent'` for data in mol% or `'molfrac'` for data in mol fraction. The example below includes `input_type='wtpercent`. This is actually not necessary if data is in wt% but is included for clarity.\n",
    "\n",
    ">`label`: This is optional but must be specified if the column title referring to sample names is anything other than \"Label\". The default value is \"Label\".\n",
    "\n",
    "**Outputs:**<br>\n",
    ">A special type of python object defined in the VESIcal code known as an ExcelFile object."
   ]
  },
  {
   "cell_type": "code",
   "execution_count": 67,
   "metadata": {},
   "outputs": [],
   "source": [
    "myfile = v.ExcelFile('example_data.xlsx', input_type='wtpercent')\n",
    "\n",
    "# A number of example datasets are included and can be imported to this manuscript (TableX).\n",
    "# Replace the line of code above with any of the following.\n",
    "# myfile = v.ExcelFile('example_data_Basaltic_MI.xlsx', input_type='wtpercent')\n",
    "# myfile = v.ExcelFile('Moore_et_al_1998.xlsx', input_type='wtpercent')\n",
    "# myfile = v.ExcelFile('roggensack_EPSL_CN.xlsx', input_type='wtpercent')"
   ]
  },
  {
   "cell_type": "markdown",
   "metadata": {},
   "source": [
    "Once the ExcelFile object is created and assigned to a variable, the user can then access the data loaded from their file as `variable.data`. In this example, the variable corresponding to the `ExcelFile` object is named `myfile` and so the data in that file can be accessed with `myfile.data`. Below, `myfile.data` is saved to a variable we name `data`. The variable `data` is a pandas DataFrame object, which makes displaying the data itself quite simple and aesthetically pleasing, since pandas DataFrames mimic spreadsheets."
   ]
  },
  {
   "cell_type": "markdown",
   "metadata": {},
   "source": [
    "### Table X. Example datasets included with VESIcal"
   ]
  },
  {
   "cell_type": "code",
   "execution_count": 68,
   "metadata": {},
   "outputs": [
    {
     "data": {
      "text/html": [
       "<script>\n",
       "code_show=true; \n",
       "function code_toggle() {\n",
       "    if (code_show){\n",
       "        $('div.cell.code_cell.rendered.selected div.input').hide();\n",
       "    } else {\n",
       "        $('div.cell.code_cell.rendered.selected div.input').show();\n",
       "    }\n",
       "    code_show = !code_show\n",
       "} \n",
       "$( document ).ready(code_toggle);\n",
       "</script>\n",
       "<b>This is a hidden cell. To show/hide this cell's raw code input, click <a href=\"javascript:code_toggle()\">here</a></b>."
      ],
      "text/plain": [
       "<IPython.core.display.HTML object>"
      ]
     },
     "metadata": {},
     "output_type": "display_data"
    },
    {
     "data": {
      "text/html": [
       "<div>\n",
       "<style scoped>\n",
       "    .dataframe tbody tr th:only-of-type {\n",
       "        vertical-align: middle;\n",
       "    }\n",
       "\n",
       "    .dataframe tbody tr th {\n",
       "        vertical-align: top;\n",
       "    }\n",
       "\n",
       "    .dataframe thead th {\n",
       "        text-align: right;\n",
       "    }\n",
       "</style>\n",
       "<table border=\"1\" class=\"dataframe\">\n",
       "  <thead>\n",
       "    <tr style=\"text-align: right;\">\n",
       "      <th></th>\n",
       "      <th>Explanation</th>\n",
       "      <th>Compositions</th>\n",
       "      <th>Citations</th>\n",
       "    </tr>\n",
       "    <tr>\n",
       "      <th>Filename</th>\n",
       "      <th></th>\n",
       "      <th></th>\n",
       "      <th></th>\n",
       "    </tr>\n",
       "  </thead>\n",
       "  <tbody>\n",
       "    <tr>\n",
       "      <th>example_data_Basaltic_MI</th>\n",
       "      <td>Basaltic melt inclusion data</td>\n",
       "      <td>Basaltic</td>\n",
       "      <td>Tucker et al. (2019); Bennet et al. (2019)</td>\n",
       "    </tr>\n",
       "    <tr>\n",
       "      <th>Moore_et_al_1998</th>\n",
       "      <td>Experimental and natural glass compositions us...</td>\n",
       "      <td>Basaltic to Rhyolitic, mostly calc-alkaline</td>\n",
       "      <td>Moore et al. (1998)</td>\n",
       "    </tr>\n",
       "    <tr>\n",
       "      <th>roggensack_EPSL_CN</th>\n",
       "      <td>Olivine-hosted melt inclusions</td>\n",
       "      <td>Basaltic</td>\n",
       "      <td>Roggensack (2001)</td>\n",
       "    </tr>\n",
       "  </tbody>\n",
       "</table>\n",
       "</div>"
      ],
      "text/plain": [
       "                                                                Explanation  \\\n",
       "Filename                                                                      \n",
       "example_data_Basaltic_MI                       Basaltic melt inclusion data   \n",
       "Moore_et_al_1998          Experimental and natural glass compositions us...   \n",
       "roggensack_EPSL_CN                           Olivine-hosted melt inclusions   \n",
       "\n",
       "                                                         Compositions  \\\n",
       "Filename                                                                \n",
       "example_data_Basaltic_MI                                     Basaltic   \n",
       "Moore_et_al_1998          Basaltic to Rhyolitic, mostly calc-alkaline   \n",
       "roggensack_EPSL_CN                                           Basaltic   \n",
       "\n",
       "                                                           Citations  \n",
       "Filename                                                              \n",
       "example_data_Basaltic_MI  Tucker et al. (2019); Bennet et al. (2019)  \n",
       "Moore_et_al_1998                                 Moore et al. (1998)  \n",
       "roggensack_EPSL_CN                                 Roggensack (2001)  "
      ]
     },
     "execution_count": 68,
     "metadata": {},
     "output_type": "execute_result"
    }
   ],
   "source": [
    "display(tag)\n",
    "pd.read_excel(\"tables/List_of_Datasets.xlsx\", index_col=\"Filename\")"
   ]
  },
  {
   "cell_type": "markdown",
   "metadata": {},
   "source": [
    "### Table 1. User input data: Melt inclusion compositions\n",
    "Execute the below cell to display Table 1."
   ]
  },
  {
   "cell_type": "code",
   "execution_count": 69,
   "metadata": {},
   "outputs": [
    {
     "data": {
      "text/html": [
       "<div>\n",
       "<style scoped>\n",
       "    .dataframe tbody tr th:only-of-type {\n",
       "        vertical-align: middle;\n",
       "    }\n",
       "\n",
       "    .dataframe tbody tr th {\n",
       "        vertical-align: top;\n",
       "    }\n",
       "\n",
       "    .dataframe thead th {\n",
       "        text-align: right;\n",
       "    }\n",
       "</style>\n",
       "<table border=\"1\" class=\"dataframe\">\n",
       "  <thead>\n",
       "    <tr style=\"text-align: right;\">\n",
       "      <th></th>\n",
       "      <th>SiO2</th>\n",
       "      <th>TiO2</th>\n",
       "      <th>Al2O3</th>\n",
       "      <th>Fe2O3</th>\n",
       "      <th>Cr2O3</th>\n",
       "      <th>FeO</th>\n",
       "      <th>MnO</th>\n",
       "      <th>MgO</th>\n",
       "      <th>NiO</th>\n",
       "      <th>CoO</th>\n",
       "      <th>CaO</th>\n",
       "      <th>Na2O</th>\n",
       "      <th>K2O</th>\n",
       "      <th>P2O5</th>\n",
       "      <th>H2O</th>\n",
       "      <th>CO2</th>\n",
       "      <th>Press</th>\n",
       "      <th>Temp</th>\n",
       "    </tr>\n",
       "    <tr>\n",
       "      <th>Label</th>\n",
       "      <th></th>\n",
       "      <th></th>\n",
       "      <th></th>\n",
       "      <th></th>\n",
       "      <th></th>\n",
       "      <th></th>\n",
       "      <th></th>\n",
       "      <th></th>\n",
       "      <th></th>\n",
       "      <th></th>\n",
       "      <th></th>\n",
       "      <th></th>\n",
       "      <th></th>\n",
       "      <th></th>\n",
       "      <th></th>\n",
       "      <th></th>\n",
       "      <th></th>\n",
       "      <th></th>\n",
       "    </tr>\n",
       "  </thead>\n",
       "  <tbody>\n",
       "    <tr>\n",
       "      <th>BT-ex</th>\n",
       "      <td>77.50</td>\n",
       "      <td>0.0800</td>\n",
       "      <td>12.50</td>\n",
       "      <td>0.207</td>\n",
       "      <td>0</td>\n",
       "      <td>0.4730</td>\n",
       "      <td>0.0000</td>\n",
       "      <td>0.0300</td>\n",
       "      <td>0</td>\n",
       "      <td>0</td>\n",
       "      <td>0.4300</td>\n",
       "      <td>3.98</td>\n",
       "      <td>4.88</td>\n",
       "      <td>0.0000</td>\n",
       "      <td>5.500000</td>\n",
       "      <td>0.050000</td>\n",
       "      <td>500</td>\n",
       "      <td>900</td>\n",
       "    </tr>\n",
       "    <tr>\n",
       "      <th>TVZMa-ex</th>\n",
       "      <td>78.37</td>\n",
       "      <td>0.1300</td>\n",
       "      <td>11.94</td>\n",
       "      <td>0.000</td>\n",
       "      <td>0</td>\n",
       "      <td>0.9900</td>\n",
       "      <td>0.0400</td>\n",
       "      <td>0.0500</td>\n",
       "      <td>0</td>\n",
       "      <td>0</td>\n",
       "      <td>0.5300</td>\n",
       "      <td>3.80</td>\n",
       "      <td>4.14</td>\n",
       "      <td>0.0000</td>\n",
       "      <td>4.060000</td>\n",
       "      <td>0.005000</td>\n",
       "      <td>600</td>\n",
       "      <td>800</td>\n",
       "    </tr>\n",
       "    <tr>\n",
       "      <th>TVZOh-ex</th>\n",
       "      <td>77.90</td>\n",
       "      <td>0.0800</td>\n",
       "      <td>12.15</td>\n",
       "      <td>0.000</td>\n",
       "      <td>0</td>\n",
       "      <td>0.9500</td>\n",
       "      <td>0.0500</td>\n",
       "      <td>0.0600</td>\n",
       "      <td>0</td>\n",
       "      <td>0</td>\n",
       "      <td>0.5500</td>\n",
       "      <td>4.05</td>\n",
       "      <td>4.12</td>\n",
       "      <td>0.0000</td>\n",
       "      <td>4.630000</td>\n",
       "      <td>0.005000</td>\n",
       "      <td>50</td>\n",
       "      <td>900</td>\n",
       "    </tr>\n",
       "    <tr>\n",
       "      <th>Oh48-FTIR1-MI1-a</th>\n",
       "      <td>78.27</td>\n",
       "      <td>0.0298</td>\n",
       "      <td>12.02</td>\n",
       "      <td>0.000</td>\n",
       "      <td>0</td>\n",
       "      <td>0.9828</td>\n",
       "      <td>0.0336</td>\n",
       "      <td>0.0515</td>\n",
       "      <td>0</td>\n",
       "      <td>0</td>\n",
       "      <td>0.4772</td>\n",
       "      <td>4.05</td>\n",
       "      <td>4.09</td>\n",
       "      <td>0.0000</td>\n",
       "      <td>4.214912</td>\n",
       "      <td>0.004566</td>\n",
       "      <td>250</td>\n",
       "      <td>950</td>\n",
       "    </tr>\n",
       "    <tr>\n",
       "      <th>Oh48-FTIR1-MI1-b</th>\n",
       "      <td>78.27</td>\n",
       "      <td>0.0298</td>\n",
       "      <td>12.02</td>\n",
       "      <td>0.000</td>\n",
       "      <td>0</td>\n",
       "      <td>0.9828</td>\n",
       "      <td>0.0336</td>\n",
       "      <td>0.0515</td>\n",
       "      <td>0</td>\n",
       "      <td>0</td>\n",
       "      <td>0.4772</td>\n",
       "      <td>4.05</td>\n",
       "      <td>4.09</td>\n",
       "      <td>0.0000</td>\n",
       "      <td>4.005816</td>\n",
       "      <td>0.004448</td>\n",
       "      <td>500</td>\n",
       "      <td>1025</td>\n",
       "    </tr>\n",
       "    <tr>\n",
       "      <th>Oh48-FTIR1-MI1-IRc</th>\n",
       "      <td>78.27</td>\n",
       "      <td>0.0298</td>\n",
       "      <td>12.02</td>\n",
       "      <td>0.000</td>\n",
       "      <td>0</td>\n",
       "      <td>0.9828</td>\n",
       "      <td>0.0336</td>\n",
       "      <td>0.0515</td>\n",
       "      <td>0</td>\n",
       "      <td>0</td>\n",
       "      <td>0.4772</td>\n",
       "      <td>4.05</td>\n",
       "      <td>4.09</td>\n",
       "      <td>0.0000</td>\n",
       "      <td>3.885649</td>\n",
       "      <td>0.004654</td>\n",
       "      <td>5000</td>\n",
       "      <td>925</td>\n",
       "    </tr>\n",
       "    <tr>\n",
       "      <th>Oh50-4.1</th>\n",
       "      <td>77.91</td>\n",
       "      <td>0.0984</td>\n",
       "      <td>12.07</td>\n",
       "      <td>0.000</td>\n",
       "      <td>0</td>\n",
       "      <td>1.0556</td>\n",
       "      <td>0.0257</td>\n",
       "      <td>0.0999</td>\n",
       "      <td>0</td>\n",
       "      <td>0</td>\n",
       "      <td>0.5216</td>\n",
       "      <td>4.04</td>\n",
       "      <td>4.18</td>\n",
       "      <td>0.0000</td>\n",
       "      <td>4.641843</td>\n",
       "      <td>0.004566</td>\n",
       "      <td>1000</td>\n",
       "      <td>862</td>\n",
       "    </tr>\n",
       "    <tr>\n",
       "      <th>Oh50-4.2</th>\n",
       "      <td>77.91</td>\n",
       "      <td>0.0984</td>\n",
       "      <td>12.07</td>\n",
       "      <td>0.000</td>\n",
       "      <td>0</td>\n",
       "      <td>1.0556</td>\n",
       "      <td>0.0257</td>\n",
       "      <td>0.0999</td>\n",
       "      <td>0</td>\n",
       "      <td>0</td>\n",
       "      <td>0.5216</td>\n",
       "      <td>4.04</td>\n",
       "      <td>4.18</td>\n",
       "      <td>0.0000</td>\n",
       "      <td>4.402133</td>\n",
       "      <td>0.004448</td>\n",
       "      <td>100</td>\n",
       "      <td>770</td>\n",
       "    </tr>\n",
       "    <tr>\n",
       "      <th>Oh49-4.1</th>\n",
       "      <td>77.92</td>\n",
       "      <td>0.0099</td>\n",
       "      <td>12.11</td>\n",
       "      <td>0.000</td>\n",
       "      <td>0</td>\n",
       "      <td>1.0020</td>\n",
       "      <td>0.0672</td>\n",
       "      <td>0.0546</td>\n",
       "      <td>0</td>\n",
       "      <td>0</td>\n",
       "      <td>0.5346</td>\n",
       "      <td>4.01</td>\n",
       "      <td>4.30</td>\n",
       "      <td>0.0000</td>\n",
       "      <td>4.283934</td>\n",
       "      <td>0.004566</td>\n",
       "      <td>1000</td>\n",
       "      <td>855</td>\n",
       "    </tr>\n",
       "    <tr>\n",
       "      <th>Oh49-4.2</th>\n",
       "      <td>77.92</td>\n",
       "      <td>0.0099</td>\n",
       "      <td>12.11</td>\n",
       "      <td>0.000</td>\n",
       "      <td>0</td>\n",
       "      <td>1.0020</td>\n",
       "      <td>0.0672</td>\n",
       "      <td>0.0546</td>\n",
       "      <td>0</td>\n",
       "      <td>0</td>\n",
       "      <td>0.5346</td>\n",
       "      <td>4.01</td>\n",
       "      <td>4.30</td>\n",
       "      <td>0.0000</td>\n",
       "      <td>4.230533</td>\n",
       "      <td>0.004448</td>\n",
       "      <td>500</td>\n",
       "      <td>1000</td>\n",
       "    </tr>\n",
       "    <tr>\n",
       "      <th>Ma55-5a.1</th>\n",
       "      <td>77.68</td>\n",
       "      <td>0.0096</td>\n",
       "      <td>12.27</td>\n",
       "      <td>0.000</td>\n",
       "      <td>0</td>\n",
       "      <td>1.0272</td>\n",
       "      <td>0.0628</td>\n",
       "      <td>0.0342</td>\n",
       "      <td>0</td>\n",
       "      <td>0</td>\n",
       "      <td>0.6064</td>\n",
       "      <td>3.97</td>\n",
       "      <td>4.35</td>\n",
       "      <td>0.0000</td>\n",
       "      <td>4.459767</td>\n",
       "      <td>0.004654</td>\n",
       "      <td>5000</td>\n",
       "      <td>1010</td>\n",
       "    </tr>\n",
       "    <tr>\n",
       "      <th>Ma57-3b.2</th>\n",
       "      <td>77.90</td>\n",
       "      <td>0.0498</td>\n",
       "      <td>12.07</td>\n",
       "      <td>0.000</td>\n",
       "      <td>0</td>\n",
       "      <td>1.0844</td>\n",
       "      <td>0.0748</td>\n",
       "      <td>0.0355</td>\n",
       "      <td>0</td>\n",
       "      <td>0</td>\n",
       "      <td>0.4759</td>\n",
       "      <td>4.10</td>\n",
       "      <td>4.21</td>\n",
       "      <td>0.0000</td>\n",
       "      <td>3.712506</td>\n",
       "      <td>0.004448</td>\n",
       "      <td>1000</td>\n",
       "      <td>1012</td>\n",
       "    </tr>\n",
       "    <tr>\n",
       "      <th>Ma57-3c.1</th>\n",
       "      <td>77.65</td>\n",
       "      <td>0.1590</td>\n",
       "      <td>12.28</td>\n",
       "      <td>0.000</td>\n",
       "      <td>0</td>\n",
       "      <td>0.9769</td>\n",
       "      <td>0.0597</td>\n",
       "      <td>0.0577</td>\n",
       "      <td>0</td>\n",
       "      <td>0</td>\n",
       "      <td>0.5598</td>\n",
       "      <td>4.08</td>\n",
       "      <td>4.18</td>\n",
       "      <td>0.0064</td>\n",
       "      <td>4.443973</td>\n",
       "      <td>0.004654</td>\n",
       "      <td>100</td>\n",
       "      <td>885</td>\n",
       "    </tr>\n",
       "    <tr>\n",
       "      <th>Ma57-3c.2</th>\n",
       "      <td>77.65</td>\n",
       "      <td>0.1590</td>\n",
       "      <td>12.28</td>\n",
       "      <td>0.000</td>\n",
       "      <td>0</td>\n",
       "      <td>0.9769</td>\n",
       "      <td>0.0597</td>\n",
       "      <td>0.0577</td>\n",
       "      <td>0</td>\n",
       "      <td>0</td>\n",
       "      <td>0.5598</td>\n",
       "      <td>4.08</td>\n",
       "      <td>4.18</td>\n",
       "      <td>0.0064</td>\n",
       "      <td>4.283171</td>\n",
       "      <td>0.004645</td>\n",
       "      <td>1000</td>\n",
       "      <td>885</td>\n",
       "    </tr>\n",
       "  </tbody>\n",
       "</table>\n",
       "</div>"
      ],
      "text/plain": [
       "                     SiO2    TiO2  Al2O3  Fe2O3  Cr2O3     FeO     MnO  \\\n",
       "Label                                                                    \n",
       "BT-ex               77.50  0.0800  12.50  0.207      0  0.4730  0.0000   \n",
       "TVZMa-ex            78.37  0.1300  11.94  0.000      0  0.9900  0.0400   \n",
       "TVZOh-ex            77.90  0.0800  12.15  0.000      0  0.9500  0.0500   \n",
       "Oh48-FTIR1-MI1-a    78.27  0.0298  12.02  0.000      0  0.9828  0.0336   \n",
       "Oh48-FTIR1-MI1-b    78.27  0.0298  12.02  0.000      0  0.9828  0.0336   \n",
       "Oh48-FTIR1-MI1-IRc  78.27  0.0298  12.02  0.000      0  0.9828  0.0336   \n",
       "Oh50-4.1            77.91  0.0984  12.07  0.000      0  1.0556  0.0257   \n",
       "Oh50-4.2            77.91  0.0984  12.07  0.000      0  1.0556  0.0257   \n",
       "Oh49-4.1            77.92  0.0099  12.11  0.000      0  1.0020  0.0672   \n",
       "Oh49-4.2            77.92  0.0099  12.11  0.000      0  1.0020  0.0672   \n",
       "Ma55-5a.1           77.68  0.0096  12.27  0.000      0  1.0272  0.0628   \n",
       "Ma57-3b.2           77.90  0.0498  12.07  0.000      0  1.0844  0.0748   \n",
       "Ma57-3c.1           77.65  0.1590  12.28  0.000      0  0.9769  0.0597   \n",
       "Ma57-3c.2           77.65  0.1590  12.28  0.000      0  0.9769  0.0597   \n",
       "\n",
       "                       MgO  NiO  CoO     CaO  Na2O   K2O    P2O5       H2O  \\\n",
       "Label                                                                        \n",
       "BT-ex               0.0300    0    0  0.4300  3.98  4.88  0.0000  5.500000   \n",
       "TVZMa-ex            0.0500    0    0  0.5300  3.80  4.14  0.0000  4.060000   \n",
       "TVZOh-ex            0.0600    0    0  0.5500  4.05  4.12  0.0000  4.630000   \n",
       "Oh48-FTIR1-MI1-a    0.0515    0    0  0.4772  4.05  4.09  0.0000  4.214912   \n",
       "Oh48-FTIR1-MI1-b    0.0515    0    0  0.4772  4.05  4.09  0.0000  4.005816   \n",
       "Oh48-FTIR1-MI1-IRc  0.0515    0    0  0.4772  4.05  4.09  0.0000  3.885649   \n",
       "Oh50-4.1            0.0999    0    0  0.5216  4.04  4.18  0.0000  4.641843   \n",
       "Oh50-4.2            0.0999    0    0  0.5216  4.04  4.18  0.0000  4.402133   \n",
       "Oh49-4.1            0.0546    0    0  0.5346  4.01  4.30  0.0000  4.283934   \n",
       "Oh49-4.2            0.0546    0    0  0.5346  4.01  4.30  0.0000  4.230533   \n",
       "Ma55-5a.1           0.0342    0    0  0.6064  3.97  4.35  0.0000  4.459767   \n",
       "Ma57-3b.2           0.0355    0    0  0.4759  4.10  4.21  0.0000  3.712506   \n",
       "Ma57-3c.1           0.0577    0    0  0.5598  4.08  4.18  0.0064  4.443973   \n",
       "Ma57-3c.2           0.0577    0    0  0.5598  4.08  4.18  0.0064  4.283171   \n",
       "\n",
       "                         CO2  Press  Temp  \n",
       "Label                                      \n",
       "BT-ex               0.050000    500   900  \n",
       "TVZMa-ex            0.005000    600   800  \n",
       "TVZOh-ex            0.005000     50   900  \n",
       "Oh48-FTIR1-MI1-a    0.004566    250   950  \n",
       "Oh48-FTIR1-MI1-b    0.004448    500  1025  \n",
       "Oh48-FTIR1-MI1-IRc  0.004654   5000   925  \n",
       "Oh50-4.1            0.004566   1000   862  \n",
       "Oh50-4.2            0.004448    100   770  \n",
       "Oh49-4.1            0.004566   1000   855  \n",
       "Oh49-4.2            0.004448    500  1000  \n",
       "Ma55-5a.1           0.004654   5000  1010  \n",
       "Ma57-3b.2           0.004448   1000  1012  \n",
       "Ma57-3c.1           0.004654    100   885  \n",
       "Ma57-3c.2           0.004645   1000   885  "
      ]
     },
     "execution_count": 69,
     "metadata": {},
     "output_type": "execute_result"
    }
   ],
   "source": [
    "data = myfile.data\n",
    "data"
   ]
  },
  {
   "cell_type": "markdown",
   "metadata": {},
   "source": [
    "<a id='defining_single_sample'></a>\n",
    "### 3.1.2 Defining a single sample\n",
    "More advanced functionality of VESIcal is facilitated directly through the five core calculation classes. Each calculation requires its own unique inputs, but all calculations require that a sample composition be passed. We can pass in a sample either as a python dictionary or pandas Series. Below, we define a sample and name it `my_sample`. Oxides are given in wt%. Only the oxides shown here can be used, but not all oxides are required. Any extra oxides (or other information not in the oxide list) the user defines will be ignored during calculations."
   ]
  },
  {
   "cell_type": "code",
   "execution_count": 6,
   "metadata": {},
   "outputs": [],
   "source": [
    "\"\"\"To manually input a bulk composition, fill in the oxides in wt% below:\"\"\"\n",
    "my_sample = {'SiO2':  77.3, \n",
    "             'TiO2':   0.08, \n",
    "             'Al2O3': 12.6, \n",
    "             'Fe2O3':  0.207,\n",
    "             'Cr2O3':  0.0, \n",
    "             'FeO':    0.473, \n",
    "             'MnO':    0.0,\n",
    "             'MgO':    0.03, \n",
    "             'NiO':    0.0, \n",
    "             'CoO':    0.0,\n",
    "             'CaO':    0.43, \n",
    "             'Na2O':   3.98, \n",
    "             'K2O':    4.88, \n",
    "             'P2O5':   0.0, \n",
    "             'H2O':    6.5,\n",
    "             'CO2':    0.05}"
   ]
  },
  {
   "cell_type": "markdown",
   "metadata": {},
   "source": [
    "<a id='plotting_user_data'></a>\n",
    "\n",
    "### 3.1.3 Plotting user data\n",
    "Using the functionality built into python and the matplotlib library, user data can be plotted at any time, including before any calculations are performed. Almost any plot type imaginable can be produced, and users should refer to the maptlotlib documentation (https://matplotlib.org/3.2.1/index.html) if more complex plotting is desired. Below is a simple example where two oxides are plotted against one another for all samples in the imported data file. The oxide names below can be changed to display data from any column in the imported file. Multiple datasets can be plotted on the same figure. Below we plot compositional data for samples imported in the Excel file and for the single sample we defined above.\n",
    "\n",
    "### Kayla TODO - plot user data over calibration dataset using plot_TAS() function. Could in theory also have a calib_check() function that does this automatically, takes in only user data, and plots calib data in lighter colors underneath user data.\n",
    "\n",
    "<a id='figure3'></a>\n",
    "### Figure 3"
   ]
  },
  {
   "cell_type": "code",
   "execution_count": 71,
   "metadata": {},
   "outputs": [
    {
     "data": {
      "image/png": "[encoded data removed]",
      "text/plain": [
       "<Figure size 432x288 with 1 Axes>"
      ]
     },
     "metadata": {
      "needs_background": "light"
     },
     "output_type": "display_data"
    }
   ],
   "source": [
    "ax = plt.subplot()\n",
    "ax.plot(data[\"SiO2\"], data[\"Al2O3\"], 'o', color='blue', label=\"Excel File Data\")\n",
    "ax.plot(my_sample[\"SiO2\"], my_sample[\"Al2O3\"], 'o', color='green', label=\"Single Sample Data\")\n",
    "ax.set_xlabel(\"SiO$_2$\")\n",
    "ax.set_ylabel(\"Al$_2$O$_3$\")\n",
    "ax.set_title(\"An Example Matplotlib Plot\")\n",
    "ax.legend(loc=\"upper right\")\n",
    "plt.show()"
   ]
  },
  {
   "cell_type": "markdown",
   "metadata": {},
   "source": [
    "*Figure 3 caption*"
   ]
  },
  {
   "cell_type": "markdown",
   "metadata": {},
   "source": [
    "<a id='extracting_single_melt_composition'></a>\n",
    "\n",
    "### 3.1.4 Extracting a single sample from an Excel file\n",
    "Defined within the `ExcelFile()` class, the method `get_sample_oxide_comp()` allows for the extraction of a melt composition from a loaded excel file.\n",
    "\n",
    "**Method structure:** `def get_sample_oxide_comp(self, sample, norm='none')`\n",
    "\n",
    "**Required inputs:**<br>\n",
    ">`sample`: The name of the sample, as a string, as defined in the 'Label' column of the input excel file.\n",
    "\n",
    "**Optional inputs:**<br>\n",
    ">`norm`: This is optional and determines the style of normalization performed on a sample. The default value is `'none'`, which returns the value-for-value un-normalized composition. Passing `'standard'` returns the composition normalized to 100%, including any volatiles. Passing `'fixedvolatiles'` normalizes the oxides to 100%, but volatiles remain fixed while other major element oxides are reduced proporitonally so that the total is 100 wt%. Passing `'additionalvolatiles'` normalizes oxides to 100% assuming the sample is volatile-free. If H$_2$O or CO$_2$ concentrations are passed to the function, their un-normalized values will be retained in addition to the normalized non-volatile oxides, summing to >100%.\n",
    "\n",
    "**Outputs:**<br>\n",
    ">The bulk composition stored in a dictionary, with values in wt%."
   ]
  },
  {
   "cell_type": "code",
   "execution_count": 72,
   "metadata": {},
   "outputs": [
    {
     "data": {
      "text/plain": [
       "'To see the sum of the composition, uncomment the line below and execute this code cell'"
      ]
     },
     "execution_count": 72,
     "metadata": {},
     "output_type": "execute_result"
    }
   ],
   "source": [
    "\"\"\"To get composition from a specific sample in the input data:\"\"\"\n",
    "SampleName = 'BT-ex'\n",
    "extracted_bulk_comp = myfile.get_sample_oxide_comp(SampleName)\n",
    "\n",
    "\"\"\"To see the extracted sample composition, uncomment the line below and execute this code cell\"\"\"\n",
    "#extracted_bulk_comp\n",
    "\n",
    "\"\"\"To see the sum of the composition, uncomment the line below and execute this code cell\"\"\"\n",
    "#sum(extracted_bulk_comp.values())"
   ]
  },
  {
   "cell_type": "markdown",
   "metadata": {},
   "source": [
    "In some cases, it may be desired to simply retrieve a sample composition and use it elsewhere. In case normalization is desired, the 'norm' variable can be defined. To specify a normalization style, for example the 'fixedvolatiles' normalization routine, the above code could instead be written as:<br>\n",
    "`extracted_bulk_comp = myfile.get_sample_oxide_comp(SampleName, norm='fixedvolatiles')`\n",
    "\n",
    "This normalization is not necessary if the sample composition will be used in other VESIcal calculations, since any necessary pre-processing is performed automatically."
   ]
  },
  {
   "cell_type": "markdown",
   "metadata": {},
   "source": [
    "<a id='normalizing_transforming_data'></a>\n",
    "\n",
    "### 3.1.5 Normalizing and transforming data\n",
    "\n",
    "Before performing model calculations on your data, it may be desired to normalize the input composition to a total of 100 wt%. VESIcal has multiple methods for normalizing sample data using various routines. Normalization can be done automatically when retrieving a single sample from an Excel file, as detailed above. Each of the normalization routines can be accessed by the user at any time to normalize either a signle sample or all samples in an ExcelFile object. \n",
    "\n",
    "All three normalization functions can take in either a single composition as a dictionary or multiple compositions either as an ExcelFile object or a pandas DataFrame object (e.g., `yourexcelfile` or `yourexcelfile.data`). The standard normalize functino returns the composition normalized to 100%, including any volatiles. The FixedVolatiles function normalizes the oxides to 100%, but volatiles remain fixed while other major element oxides are reduced proporitonally so that the total is 100 wt%. The AdditionalVolatiles function normalizes oxides to 100% assuming the sample is volatile-free. If H$_2$O or CO$_2$ concentrations are passed to the function, their un-normalized values will be retained in addition to the normalized non-volatile oxides, summing to >100%.\n",
    "\n",
    "**Method structures:** `def normalize(sample)`, `def normalize_FixedVolatiles(sample)`, `def normalize_AdditionalVolatiles(sample)`\n",
    "\n",
    "**Required inputs:**<br>\n",
    ">`sample` can be a dictionary containing compositional data for a single sample, an ExcelFile object containing compositional data for multiple samples, or a pandas DataFrame object containing compositional data for multiple samples. Examples are shown for all three cases below.\n",
    "\n",
    "**Outputs:**<br>\n",
    ">If a single composition is passed, a dictionary or pandas Series is returned. If multiple compositions are passed, a pandas DataFrame object is returned.\n",
    "\n",
    "In any of the below examples, `myfile`, `myfile.data`, or `my_sample` can all be passed to any function."
   ]
  },
  {
   "cell_type": "code",
   "execution_count": 38,
   "metadata": {},
   "outputs": [],
   "source": [
    "\"\"\"Standard normalization\"\"\"\n",
    "standard = v.normalize(myfile)\n",
    "#print(standard)\n",
    "\n",
    "\"\"\"FixedVolatiles normalization\"\"\"\n",
    "fixed = v.normalize_FixedVolatiles(myfile)\n",
    "#print(fixed)\n",
    "\n",
    "\"\"\"AdditionalVolatiles normalization\"\"\"\n",
    "additional = v.normalize_AdditionalVolatiles(myfile)\n",
    "#print(additional)"
   ]
  },
  {
   "cell_type": "markdown",
   "metadata": {},
   "source": [
    "<a id='table2'></a>\n",
    "\n",
    "### Table 2. Viewing extracted sample composition\n",
    "The user may wish to print extracted sample composition to a terminal or notebook cell to verify that the correct data was extracted. Using the current example, this can be done simpy by typing `print(extracted_bulk_comp)`. However, VESIcal also has a built in function to display these values as a table, rather than as a list of values.\n",
    "\n",
    "The `printTable(myDict)` function takes in any python dictionary and converts it to a pandas DataFrame, which can then be displayed in an aesthetically pleasing format.\n",
    "\n",
    "**Method structure:** `def printTable(myDict)`\n",
    "\n",
    "**Required inputs:**<br>\n",
    ">`myDict` is any python dictionary\n",
    "\n",
    "**Outputs:**<br>\n",
    ">A pandas DataFrame is returned."
   ]
  },
  {
   "cell_type": "code",
   "execution_count": 39,
   "metadata": {},
   "outputs": [
    {
     "name": "stdout",
     "output_type": "stream",
     "text": [
      "{'SiO2': 77.5, 'TiO2': 0.08, 'Al2O3': 12.5, 'Fe2O3': 0.207, 'Cr2O3': 0.0, 'FeO': 0.473, 'MnO': 0.0, 'MgO': 0.03, 'NiO': 0.0, 'CoO': 0.0, 'CaO': 0.43, 'Na2O': 3.98, 'K2O': 4.88, 'P2O5': 0.0, 'H2O': 5.5, 'CO2': 0.05}\n"
     ]
    },
    {
     "data": {
      "text/html": [
       "<div>\n",
       "<style scoped>\n",
       "    .dataframe tbody tr th:only-of-type {\n",
       "        vertical-align: middle;\n",
       "    }\n",
       "\n",
       "    .dataframe tbody tr th {\n",
       "        vertical-align: top;\n",
       "    }\n",
       "\n",
       "    .dataframe thead th {\n",
       "        text-align: right;\n",
       "    }\n",
       "</style>\n",
       "<table border=\"1\" class=\"dataframe\">\n",
       "  <thead>\n",
       "    <tr style=\"text-align: right;\">\n",
       "      <th></th>\n",
       "      <th>value</th>\n",
       "    </tr>\n",
       "  </thead>\n",
       "  <tbody>\n",
       "    <tr>\n",
       "      <th>SiO2</th>\n",
       "      <td>77.500</td>\n",
       "    </tr>\n",
       "    <tr>\n",
       "      <th>TiO2</th>\n",
       "      <td>0.080</td>\n",
       "    </tr>\n",
       "    <tr>\n",
       "      <th>Al2O3</th>\n",
       "      <td>12.500</td>\n",
       "    </tr>\n",
       "    <tr>\n",
       "      <th>Fe2O3</th>\n",
       "      <td>0.207</td>\n",
       "    </tr>\n",
       "    <tr>\n",
       "      <th>Cr2O3</th>\n",
       "      <td>0.000</td>\n",
       "    </tr>\n",
       "    <tr>\n",
       "      <th>FeO</th>\n",
       "      <td>0.473</td>\n",
       "    </tr>\n",
       "    <tr>\n",
       "      <th>MnO</th>\n",
       "      <td>0.000</td>\n",
       "    </tr>\n",
       "    <tr>\n",
       "      <th>MgO</th>\n",
       "      <td>0.030</td>\n",
       "    </tr>\n",
       "    <tr>\n",
       "      <th>NiO</th>\n",
       "      <td>0.000</td>\n",
       "    </tr>\n",
       "    <tr>\n",
       "      <th>CoO</th>\n",
       "      <td>0.000</td>\n",
       "    </tr>\n",
       "    <tr>\n",
       "      <th>CaO</th>\n",
       "      <td>0.430</td>\n",
       "    </tr>\n",
       "    <tr>\n",
       "      <th>Na2O</th>\n",
       "      <td>3.980</td>\n",
       "    </tr>\n",
       "    <tr>\n",
       "      <th>K2O</th>\n",
       "      <td>4.880</td>\n",
       "    </tr>\n",
       "    <tr>\n",
       "      <th>P2O5</th>\n",
       "      <td>0.000</td>\n",
       "    </tr>\n",
       "    <tr>\n",
       "      <th>H2O</th>\n",
       "      <td>5.500</td>\n",
       "    </tr>\n",
       "    <tr>\n",
       "      <th>CO2</th>\n",
       "      <td>0.050</td>\n",
       "    </tr>\n",
       "    <tr>\n",
       "      <th>Sum oxides</th>\n",
       "      <td>105.630</td>\n",
       "    </tr>\n",
       "  </tbody>\n",
       "</table>\n",
       "</div>"
      ],
      "text/plain": [
       "              value\n",
       "SiO2         77.500\n",
       "TiO2          0.080\n",
       "Al2O3        12.500\n",
       "Fe2O3         0.207\n",
       "Cr2O3         0.000\n",
       "FeO           0.473\n",
       "MnO           0.000\n",
       "MgO           0.030\n",
       "NiO           0.000\n",
       "CoO           0.000\n",
       "CaO           0.430\n",
       "Na2O          3.980\n",
       "K2O           4.880\n",
       "P2O5          0.000\n",
       "H2O           5.500\n",
       "CO2           0.050\n",
       "Sum oxides  105.630"
      ]
     },
     "execution_count": 39,
     "metadata": {},
     "output_type": "execute_result"
    }
   ],
   "source": [
    "\"\"\"Execute the following line to print the data as a list of values\"\"\"\n",
    "print(extracted_bulk_comp)\n",
    "\n",
    "\"\"\"Execute the following line to display Table 2 and print the data as a table.\"\"\"\n",
    "v.printTable(extracted_bulk_comp)"
   ]
  },
  {
   "cell_type": "markdown",
   "metadata": {},
   "source": [
    "<a id='calculating_dissolved_volatile_concentrations'></a>\n",
    "\n",
    "## 3.2. Calculating dissolved volatile concentrations\n",
    "<hr style=\"background-color: #a2b969;height: 8.0px;\"/>\n",
    "\n",
    "The `calculate_dissolved_volatiles()` function calcutions the concentration of dissolved H$_2$O and CO$_2$ in the liquid at a given pressure-temperature condition and with a given H$_2$O-CO$_2$ fluid composition, defined as the mole fraction of H$_2$O in an H$_2$O-CO$_2$ fluid (XH$_2$O$^{fluid}$). The default MagmaSat model relies on the underlying functionatlity of MELTS, whose basic function is to calculate the equilibrium phase assemblage given the bulk composition of the system and pressure-temperature conditions. To calculate dissolved volatile concentrations thus requires computing the equilibrium state of a system at fixed pressure and temperature over a range of bulk volatile concentrations until a solution is found that satisfies the user defined fluid composition.\n",
    "\n",
    "First, the function makes an initial guess at the appropriate bulk volatile concentrations by finding the minimum dissolved volatile concentrations in the liquid at saturation, while asserting that the weight fraction of H$_2$O/$\\Sigma$volatiles in the system is equal to the user input mole fraction of H$_2$O/$\\Sigma$volatiles in the fluid. This is done by increasing the H$_2$O and CO$_2$ concentrations appropriately until a fluid phase is stable. Once fluid saturation is determined, the code then performs directional, iterative, and progressively more refined searches, increasing the proportion of H$_2$O or CO$_2$ in the system if the mole fraction of H$_2$O calculated in the fluid is greater than or less than that defined by the user, respectively. Four iterative searches are performed; the precision of the match between the calculated and defined XH$_2$O$^{fluid}$ increases from 0.1 in the first iteration to 0.01, 0.001, and finally to 0.0001. Thus, the calculated dissolved volatile concentrations correspond to a system with XH$_2$O$^{fluid}$ within 0.0001 of the user defined value.\n",
    "\n",
    "#SimonTODO can you write more details about how the other functions calculate dissolved volatiles? It's much more straightforward with the other models, since you can directly access fugacity, etc.\n",
    "\n",
    "**Method structure:**<br>\n",
    "> Single sample: `def calculate_dissolved_volatiles(self, sample, temperature, pressure, X_fluid=1, verbose=False).result`\n",
    "\n",
    ">ExcelFile batch process: `def calculate_dissolved_volatiles(self, temperature, pressure, X_fluid=1, print_status=False)`\n",
    "\n",
    "**Required inputs:**<br>\n",
    ">`sample`: *Only for single-sample calculations.* The composition of a sample. A single sample may be passed as a dictionary of values, with compositions of oxides in wt%.\n",
    "\n",
    ">`temperature`, `pressure`, and `X_fluid`: the temperature in $^{\\circ}$C, the pressure in bars, and the mole fraction of H$_2$O in the H$_2$O-CO$_2$ fluid, XH$_2$O$^{fluid}$. Temperature and pressure of the sample or samples must be passed unless an ExcelFile object with a column for temperature and/or pressure is passed to `sample`. XH$_2$O$^{fluid}$ is optional, with a default value of 1 (pure H$_2$O fluid). If a numerical (float) value is passed for either temperature, pressure, or X_fluid, that will be the value used for one or all samples. If, alternatively, the user wishes to use temperature, pressure, and/or X_fluid information in their ExcelFile object, the title of the column containing temperature, pressure, or X_fluid data should be passed in quotes (as a string) to `temperature`,  `pressure`, and/or `X_fluid`, respectively. Note for batch calculations that if temperature, pressure, or XH$_2$O$^{fluid}$ information exists in the ExcelFile but a single numerical value is defined for one or both of these variables, both the original information plus the values used for the calculations will be returned.\n",
    "\n",
    "**Optional inputs:**<br>\n",
    ">`verbose`: *Only for single-sample calculations.* Default value is False. If set to True, additional parameters are returned in a dictionary: H$_2$O and CO$_2$ concentrations in the fluid in mole fraction, temperature, pressure, and proportion of the fluid in the system in wt%.\n",
    "\n",
    "> `print_status`: *Only for ExcelFile batch calcualtions.* The default value is False. If True is passed, the progress of the calculation will be printed to the terminal. The user may desire to see the status of the calculation, as this particular function can be quite slow, averaging between 3-5 seconds per sample. #TODO test this more and verify average compute time.\n",
    "\n",
    "**Calculated outputs:**<br>\n",
    ">If a single sample is passed to `sample`, a dictionary with keys 'H2O' and 'CO2' corresponding to the calculated dissolved H$_2$O and CO$_2$ concentrations in the liquid is returned (plus additional variables 'temperature' in $^{\\circ}$C, 'pressure' in bars, 'XH2O_fl', 'XCO2_fl', and 'FluidProportion_wtper' (the proportion of the fluid in the system in wt%) if `verbose` is set to True). \n",
    "\n",
    ">If mutliple samples are passed as an ExcelFile object, a pandas DataFrame is returned with sample information plus calculated dissolved H$_2$O and CO$_2$ concentrations in the liquid, the fluid composition in mole fraction, and the proportion of the fluid in the system in wt%. Pressure (in bars) and Temperature (in $^{\\circ}$C) columns are always returned."
   ]
  },
  {
   "cell_type": "code",
   "execution_count": 40,
   "metadata": {},
   "outputs": [
    {
     "ename": "AttributeError",
     "evalue": "'MagmaSat' object has no attribute 'volatile_species'",
     "output_type": "error",
     "traceback": [
      "\u001b[0;31m---------------------------------------------------------------------------\u001b[0m",
      "\u001b[0;31mAttributeError\u001b[0m                            Traceback (most recent call last)",
      "\u001b[0;32m<ipython-input-40-cb7cf2fc85b8>\u001b[0m in \u001b[0;36m<module>\u001b[0;34m\u001b[0m\n\u001b[1;32m      5\u001b[0m \u001b[0;34m\"\"\"Calculate dissolved volatiles for the extracted sample\"\"\"\u001b[0m\u001b[0;34m\u001b[0m\u001b[0;34m\u001b[0m\u001b[0m\n\u001b[1;32m      6\u001b[0m v.calculate_dissolved_volatiles(sample=bulk_comp, temperature=900.0, pressure=2000.0, \n\u001b[0;32m----> 7\u001b[0;31m                                 X_fluid=0.5, verbose=True).result\n\u001b[0m",
      "\u001b[0;32m~/Dropbox/Research/__Manuscripts in Progress/__ENKI/__TheCode/VESIcal/VESIcal.py\u001b[0m in \u001b[0;36m__init__\u001b[0;34m(self, sample, model, **kwargs)\u001b[0m\n\u001b[1;32m   1594\u001b[0m \u001b[0;34m\u001b[0m\u001b[0m\n\u001b[1;32m   1595\u001b[0m                 \u001b[0mself\u001b[0m\u001b[0;34m.\u001b[0m\u001b[0mresult\u001b[0m \u001b[0;34m=\u001b[0m \u001b[0mself\u001b[0m\u001b[0;34m.\u001b[0m\u001b[0mcalculate\u001b[0m\u001b[0;34m(\u001b[0m\u001b[0msample\u001b[0m\u001b[0;34m=\u001b[0m\u001b[0mself\u001b[0m\u001b[0;34m.\u001b[0m\u001b[0msample\u001b[0m\u001b[0;34m,\u001b[0m\u001b[0;34m**\u001b[0m\u001b[0mkwargs\u001b[0m\u001b[0;34m)\u001b[0m\u001b[0;34m\u001b[0m\u001b[0;34m\u001b[0m\u001b[0m\n\u001b[0;32m-> 1596\u001b[0;31m                 \u001b[0mself\u001b[0m\u001b[0;34m.\u001b[0m\u001b[0mcalib_check\u001b[0m \u001b[0;34m=\u001b[0m \u001b[0mself\u001b[0m\u001b[0;34m.\u001b[0m\u001b[0mcheck_calibration_range\u001b[0m\u001b[0;34m(\u001b[0m\u001b[0msample\u001b[0m\u001b[0;34m=\u001b[0m\u001b[0mself\u001b[0m\u001b[0;34m.\u001b[0m\u001b[0msample\u001b[0m\u001b[0;34m,\u001b[0m\u001b[0;34m**\u001b[0m\u001b[0mkwargs\u001b[0m\u001b[0;34m)\u001b[0m\u001b[0;34m\u001b[0m\u001b[0;34m\u001b[0m\u001b[0m\n\u001b[0m\u001b[1;32m   1597\u001b[0m \u001b[0;34m\u001b[0m\u001b[0m\n\u001b[1;32m   1598\u001b[0m                 \u001b[0;32mif\u001b[0m \u001b[0mself\u001b[0m\u001b[0;34m.\u001b[0m\u001b[0mcalib_check\u001b[0m \u001b[0;32mis\u001b[0m \u001b[0;32mnot\u001b[0m \u001b[0;32mNone\u001b[0m\u001b[0;34m:\u001b[0m\u001b[0;34m\u001b[0m\u001b[0;34m\u001b[0m\u001b[0m\n",
      "\u001b[0;32m~/Dropbox/Research/__Manuscripts in Progress/__ENKI/__TheCode/VESIcal/VESIcal.py\u001b[0m in \u001b[0;36mcheck_calibration_range\u001b[0;34m(self, sample, pressure, **kwargs)\u001b[0m\n\u001b[1;32m   6143\u001b[0m                 \u001b[0mparameters\u001b[0m\u001b[0;34m.\u001b[0m\u001b[0mupdate\u001b[0m\u001b[0;34m(\u001b[0m\u001b[0mdict\u001b[0m\u001b[0;34m(\u001b[0m\u001b[0msample\u001b[0m\u001b[0;34m)\u001b[0m\u001b[0;34m)\u001b[0m\u001b[0;34m\u001b[0m\u001b[0;34m\u001b[0m\u001b[0m\n\u001b[1;32m   6144\u001b[0m                 \u001b[0mparameters\u001b[0m\u001b[0;34m[\u001b[0m\u001b[0;34m'pressure'\u001b[0m\u001b[0;34m]\u001b[0m \u001b[0;34m=\u001b[0m \u001b[0mpressure\u001b[0m\u001b[0;34m\u001b[0m\u001b[0;34m\u001b[0m\u001b[0m\n\u001b[0;32m-> 6145\u001b[0;31m                 \u001b[0;32mif\u001b[0m \u001b[0mlen\u001b[0m\u001b[0;34m(\u001b[0m\u001b[0mself\u001b[0m\u001b[0;34m.\u001b[0m\u001b[0mmodel\u001b[0m\u001b[0;34m.\u001b[0m\u001b[0mvolatile_species\u001b[0m\u001b[0;34m)\u001b[0m \u001b[0;34m==\u001b[0m \u001b[0;36m1\u001b[0m\u001b[0;34m:\u001b[0m\u001b[0;34m\u001b[0m\u001b[0;34m\u001b[0m\u001b[0m\n\u001b[0m\u001b[1;32m   6146\u001b[0m                         \u001b[0mvolspec\u001b[0m \u001b[0;34m=\u001b[0m \u001b[0mself\u001b[0m\u001b[0;34m.\u001b[0m\u001b[0mmodel\u001b[0m\u001b[0;34m.\u001b[0m\u001b[0mvolatile_species\u001b[0m\u001b[0;34m\u001b[0m\u001b[0;34m\u001b[0m\u001b[0m\n\u001b[1;32m   6147\u001b[0m                         \u001b[0mvolconc\u001b[0m \u001b[0;34m=\u001b[0m \u001b[0;34m[\u001b[0m\u001b[0mself\u001b[0m\u001b[0;34m.\u001b[0m\u001b[0mresult\u001b[0m\u001b[0;34m]\u001b[0m\u001b[0;34m\u001b[0m\u001b[0;34m\u001b[0m\u001b[0m\n",
      "\u001b[0;31mAttributeError\u001b[0m: 'MagmaSat' object has no attribute 'volatile_species'"
     ]
    }
   ],
   "source": [
    "\"\"\"To get composition from a specific sample in the input data:\"\"\"\n",
    "SampleName = 'BT-ex'\n",
    "bulk_comp = myfile.get_sample_oxide_comp(SampleName)\n",
    "\n",
    "\"\"\"Calculate dissolved volatiles for the extracted sample\"\"\"\n",
    "v.calculate_dissolved_volatiles(sample=bulk_comp, temperature=900.0, pressure=2000.0, \n",
    "                                X_fluid=0.5, verbose=True).result"
   ]
  },
  {
   "cell_type": "code",
   "execution_count": null,
   "metadata": {},
   "outputs": [],
   "source": [
    "\"\"\"Calculate dissolved for all samples in an ExcelFile object\"\"\"\n",
    "dissolved = myfile.calculate_dissolved_volatiles(temperature=900.0, pressure=1000.0, X_fluid=0.5, print_status=True)"
   ]
  },
  {
   "cell_type": "code",
   "execution_count": null,
   "metadata": {},
   "outputs": [],
   "source": [
    "dissolved"
   ]
  },
  {
   "cell_type": "markdown",
   "metadata": {},
   "source": [
    "<a id='calculating_equilibrium_fluid_compositions'></a>\n",
    "\n",
    "## 3.3. Calculating equilibrium fluid compositions\n",
    "<hr style=\"background-color: #f7931f;height: 8.0px;\"/>\n",
    "\n",
    "The `calculate_equilibrium_fluid_comp()` function calculates the composition of a fluid phase in equilibrium with a given silicate melt with known pressure, temperature, and dissolved H$_2$O and CO$_2$ concentrations. The calculation is performed simply by calculating the equilibrium state of the given sample at the given conditions and determining if that melt is fluid saturated. If the melt is saturated, fluid composition and mass are reported back. If the calculation finds that the melt is not saturated at the given pressure and temperature, values of 0.0 will be returned for the H$_2$O and CO$_2$ concentrations in the fluid.\n",
    "\n",
    "#SimonTODO can you write more details about how the other functions calculate equilibrium fluid comps?\n",
    "\n",
    "**Method structure:**<br>\n",
    ">Single sample: `def calculate_equilibrium_fluid_comp(self, sample, temperature, pressure, verbose=False).result`\n",
    "\n",
    ">ExcelFile batch process: `def calculate_equilibrium_fluid_comp(self, temperature, pressure, print_status=False, model='MagmaSat')`\n",
    "\n",
    "**Required inputs:**<br>\n",
    ">`sample`: *Only for single-sample calculations.* The composition of a sample. A single sample may be passed as a dictionary of values, with compositions of oxides in wt%.\n",
    "\n",
    ">`temperature` and `pressure`: the temperature in $^{\\circ}$C and the pressure in bars. Temperature and pressure of the sample or samples must be passed unless an ExcelFile object with a column for temperature and/or pressure is passed to `sample`. If a numerical (float) value is passed for either temperature or pressure, that will be the value used for one or all samples. If, alternatively, the user wishes to use temperature and/or pressure information in their ExcelFile object, the title of the column containing temperature or pressure data should be passed in quotes (as a string) to `temperature` and `pressure`, respectively. Note for batch calculations that if pressure or temperature information exists in the ExcelFile but a single numerical value is defined for one or both of these variables, both the original pressure and temperature information plus the pressure and temperature values used for the calculations will be returned.\n",
    "\n",
    "**Optional inputs:**<br>\n",
    ">`verbose`: *Only for single-sample calculations.* Default value is False. If set to True, additional parameters are returned in a dictionary: H$_2$O and CO$_2$ concentrations in the fluid, mass of the fluid in grams, and proportion of the fluid in the system in wt%. \n",
    "\n",
    ">`print_status`: *Only for ExcelFile batch calcualtions.* The default value is False. If True is passed, the progress of the calculation will be printed to the terminal.\n",
    "\n",
    "**Calculated outputs:**<br>\n",
    ">If a single sample is passed to `sample`, a dictionary with keys 'H2O' and 'CO2' is returned (plus additional variables 'FluidMass_grams' and 'FluidProportion_wtper' if `verbose` is set to True). \n",
    "\n",
    ">If mutliple samples are passed as an ExcelFile object, a pandas DataFrame is returned with sample information plus calculated equilibrium fluid compositions, mass of the fluid in grams, and proportion of the fluid in the system in wt%. Pressure (in bars) and Temperature (in $^{\\circ}$C) columns are always returned."
   ]
  },
  {
   "cell_type": "code",
   "execution_count": null,
   "metadata": {},
   "outputs": [],
   "source": [
    "\"\"\"To get composition from a specific sample in the input data:\"\"\"\n",
    "SampleName = 'BT-ex'\n",
    "bulk_comp = myfile.get_sample_oxide_comp(SampleName)\n",
    "\n",
    "\"\"\"Calculate fluid composition for the extracted sample\"\"\"\n",
    "v.calculate_equilibrium_fluid_comp(sample=bulk_comp, temperature=900.0, pressure=200.0).result"
   ]
  },
  {
   "cell_type": "code",
   "execution_count": null,
   "metadata": {},
   "outputs": [],
   "source": [
    "\"\"\"Calculate fluid composition for all samples in an ExcelFile object\"\"\"\n",
    "eqfluid = myfile.calculate_equilibrium_fluid_comp(temperature=900.0, pressure=200.0)\n",
    "eqfluid"
   ]
  },
  {
   "cell_type": "code",
   "execution_count": null,
   "metadata": {},
   "outputs": [],
   "source": [
    "\"\"\"Calculate fluid composition for all samples with unique pressure and temperature values for each sample.\n",
    "Pressure and temperature values are taken from columns named \"Press\" and \"Temp\" in the example ExcelFile\"\"\"\n",
    "\n",
    "eqfluid_wtemps = myfile.calculate_equilibrium_fluid_comp(temperature='Temp', pressure='Press')\n",
    "eqfluid_wtemps"
   ]
  },
  {
   "cell_type": "markdown",
   "metadata": {},
   "source": [
    "<a id='converting_fluid_composition_units'></a>\n",
    "\n",
    "### 3.3.1. Converting fluid composition units\n",
    "The fluid composition is always returned in units of mol fraction. Two functions exist to transform only the H$_2$O-CO$_2$ fluid composition between mol fraction and wt% and can easily be applied to returned data sets from calculations. Both functions require that the user provide the dataframe containing fluid composition information plus the names of the columns corresponding to the H$_2$O and CO$_2$ concentrations in the fluid. The default values for column names are set to those that may be returned by VESIcal core calculations, such that they need not be specified unless the user has change them or is supplying their own data (e.g., imported data not processed through a core calcuation).\n",
    "\n",
    "**Method structure:**<br>\n",
    ">Mol fraction to wt%: `def fluid_molfrac_to_wt(data, H2O_colname='XH2O_fl_VESIcal', CO2_colname='XCO2_fl_VESIcal')`\n",
    "\n",
    ">Wt% to mol fraction: `def fluid_wt_to_molfrac(data, H2O_colname='H2O_fl_wt', CO2_colname='CO2_fl_wt')`\n",
    "\n",
    "**Required inputs:**<br>\n",
    ">`data`: A pandas DataFrame containing columns for H$_2$O and CO$_2$ concentrations in the fluid.\n",
    "\n",
    "**Optional inputs:**<br>\n",
    ">`H2O_colname` and `CO2_colname`: The default values are 'XH2O_fl' and 'XCO2_fl' if input data are in mol fraction or 'H2O_fl_wt' and 'CO2_fl_wt' if the data are in wt%. Strings containing the name of the columns corresponding to the H$_2$O and CO$_2$ concentrations in the fluid.\n",
    "\n",
    "**Calculated outputs:**<br>\n",
    ">The original data passed plus newly calculated values are returned in a DataFrame."
   ]
  },
  {
   "cell_type": "code",
   "execution_count": null,
   "metadata": {},
   "outputs": [],
   "source": [
    "\"\"\"Converting from mol fraction to wt%\"\"\"\n",
    "eqfluid_wt = v.fluid_molfrac_to_wt(eqfluid)\n",
    "eqfluid_wt"
   ]
  },
  {
   "cell_type": "code",
   "execution_count": null,
   "metadata": {},
   "outputs": [],
   "source": [
    "\"\"\"Converting from wt% to mol fraction\"\"\"\n",
    "eqfluid_mol = v.fluid_wt_to_molfrac(eqfluid_wt)\n",
    "eqfluid_mol"
   ]
  },
  {
   "cell_type": "markdown",
   "metadata": {},
   "source": [
    "<a id='calculating_saturation_pressures'></a>\n",
    "\n",
    "## 3.4. Calculating saturation pressures\n",
    "<hr style=\"background-color: #4cc1ef;height: 8.0px;\"/>\n",
    "\n",
    "The `calculate_saturation_pressure()` function calculates the minimum pressure at which a given silicate melt with known temperature and H$_2$O and CO$_2$ concentrations would be saturated with fluid. This is calcualted by finding the pressure at which the smallest amount of vapor is present. This function also calculates the composition of the vapor in equilibrium with the melt at those conditions.\n",
    "\n",
    "The function works by calculating the equilibrium state of the given melt at very high pressure (2,000 MPa) and then decreasing the pressure in steps of 100 MPa until the mass of vapor is >0 grams. At this point, the pressure space is narrowed and searched in steps of 10 MPa and then in steps of 1 MPa until the saturation pressure is found.\n",
    "\n",
    "**Method structure:**<br>\n",
    ">Single sample: `def calculate_saturation_pressure(self, sample, temperature, verbose=False).result`\n",
    "\n",
    ">ExcelFile batch process: `def calculate_saturation_pressure(self, temperature, print_status=False)`\n",
    "\n",
    "**Required inputs:**<br>\n",
    "> `sample`: *Only for single-sample calculations.* The composition of the melt, inclusing the H$_2$O and CO$_2$ concentrations, in wt%.\n",
    "\n",
    "> `temperature`: The temperature in °C. For ExcelFile batch calculations, if temperature information is present in the ExcelFile (e.g., as a column with unique temperature values for each sample), this can be accessed by passing the column name in quotes to the temperature variable.\n",
    "\n",
    "**Optional inputs:**<br>\n",
    "> `verbose`: *Only for single-sample calculations.* Default value is False. If set to True, additional parameters are returned in a dictionary: saturation pressure in bars, H$_2$O and CO$_2$ concentrations in the fluid, mass of the fluid in grams, and proportion of the fluid in the system in wt%.\n",
    "\n",
    "> `print_status`: *Only for ExcelFile batch calcualtions.* The default value is False. If True is passed, the progress of the calculation will be printed to the terminal.\n",
    "\n",
    "**Calculated outputs:**<br>\n",
    ">If a single sample is passed to `sample`, the saturation pressure in bars is returned as a numerical value (float) (plus additional variables 'XH2O_fl', 'XCO2_fl', 'FluidMass_grams', and 'FluidProportion_wtper' if `verbose` is set to True). \n",
    "\n",
    ">If mutliple samples are passed as an ExcelFile object, a pandas DataFrame is returned with sample information plus calculated saturation pressures, equilibrium fluid compositions, mass of the fluid in grams, and proportion of the fluid in the system in wt%. Temperature (in $^{\\circ}$C) is always returned."
   ]
  },
  {
   "cell_type": "code",
   "execution_count": null,
   "metadata": {},
   "outputs": [],
   "source": [
    "\"\"\"Calculate the saturation pressure of the single sample we defined in Section 3.1.2 at 925 degrees C\"\"\"\n",
    "v.calculate_saturation_pressure(sample=my_sample, temperature=925.0, verbose=True).result"
   ]
  },
  {
   "cell_type": "code",
   "execution_count": null,
   "metadata": {},
   "outputs": [],
   "source": [
    "\"\"\"Calculate the saturation pressure for all samples in an ExcelFile object at 925 degrees C\"\"\"\n",
    "satPs = myfile.calculate_saturation_pressure(temperature=925.0, model=\"Dixon\")\n",
    "satPs"
   ]
  },
  {
   "cell_type": "code",
   "execution_count": 41,
   "metadata": {},
   "outputs": [
    {
     "name": "stdout",
     "output_type": "stream",
     "text": [
      "Calculating sample BT-ex\n",
      "Calculating sample TVZMa-ex\n",
      "Calculating sample TVZOh-ex\n",
      "Calculating sample Oh48-FTIR1-MI1-a\n",
      "Calculating sample Oh48-FTIR1-MI1-b\n",
      "Calculating sample Oh48-FTIR1-MI1-IRc\n",
      "Calculating sample Oh50-4.1\n",
      "Calculating sample Oh50-4.2\n",
      "Calculating sample Oh49-4.1\n",
      "Calculating sample Oh49-4.2\n",
      "Calculating sample Ma55-5a.1\n",
      "Calculating sample Ma57-3b.2\n",
      "Calculating sample Ma57-3c.1\n",
      "Calculating sample Ma57-3c.2\n",
      "Done!\n"
     ]
    },
    {
     "data": {
      "text/html": [
       "<div>\n",
       "<style scoped>\n",
       "    .dataframe tbody tr th:only-of-type {\n",
       "        vertical-align: middle;\n",
       "    }\n",
       "\n",
       "    .dataframe tbody tr th {\n",
       "        vertical-align: top;\n",
       "    }\n",
       "\n",
       "    .dataframe thead th {\n",
       "        text-align: right;\n",
       "    }\n",
       "</style>\n",
       "<table border=\"1\" class=\"dataframe\">\n",
       "  <thead>\n",
       "    <tr style=\"text-align: right;\">\n",
       "      <th></th>\n",
       "      <th>SiO2</th>\n",
       "      <th>TiO2</th>\n",
       "      <th>Al2O3</th>\n",
       "      <th>Fe2O3</th>\n",
       "      <th>Cr2O3</th>\n",
       "      <th>FeO</th>\n",
       "      <th>MnO</th>\n",
       "      <th>MgO</th>\n",
       "      <th>NiO</th>\n",
       "      <th>CoO</th>\n",
       "      <th>...</th>\n",
       "      <th>H2O</th>\n",
       "      <th>CO2</th>\n",
       "      <th>Press</th>\n",
       "      <th>Temp</th>\n",
       "      <th>XH2O_fl_VESIcal</th>\n",
       "      <th>XCO2_fl_VESIcal</th>\n",
       "      <th>SaturationP_bars_VESIcal</th>\n",
       "      <th>FluidMass_grams_VESIcal</th>\n",
       "      <th>FluidSystem_wt_VESIcal</th>\n",
       "      <th>Model</th>\n",
       "    </tr>\n",
       "    <tr>\n",
       "      <th>Label</th>\n",
       "      <th></th>\n",
       "      <th></th>\n",
       "      <th></th>\n",
       "      <th></th>\n",
       "      <th></th>\n",
       "      <th></th>\n",
       "      <th></th>\n",
       "      <th></th>\n",
       "      <th></th>\n",
       "      <th></th>\n",
       "      <th></th>\n",
       "      <th></th>\n",
       "      <th></th>\n",
       "      <th></th>\n",
       "      <th></th>\n",
       "      <th></th>\n",
       "      <th></th>\n",
       "      <th></th>\n",
       "      <th></th>\n",
       "      <th></th>\n",
       "      <th></th>\n",
       "    </tr>\n",
       "  </thead>\n",
       "  <tbody>\n",
       "    <tr>\n",
       "      <th>BT-ex</th>\n",
       "      <td>77.50</td>\n",
       "      <td>0.0800</td>\n",
       "      <td>12.50</td>\n",
       "      <td>0.207</td>\n",
       "      <td>0</td>\n",
       "      <td>0.4730</td>\n",
       "      <td>0.0000</td>\n",
       "      <td>0.0300</td>\n",
       "      <td>0</td>\n",
       "      <td>0</td>\n",
       "      <td>...</td>\n",
       "      <td>5.500000</td>\n",
       "      <td>0.050000</td>\n",
       "      <td>500</td>\n",
       "      <td>900</td>\n",
       "      <td>0.768328</td>\n",
       "      <td>0.231672</td>\n",
       "      <td>2320.0</td>\n",
       "      <td>0.001276</td>\n",
       "      <td>0.001208</td>\n",
       "      <td>MagmaSat</td>\n",
       "    </tr>\n",
       "    <tr>\n",
       "      <th>TVZMa-ex</th>\n",
       "      <td>78.37</td>\n",
       "      <td>0.1300</td>\n",
       "      <td>11.94</td>\n",
       "      <td>0.000</td>\n",
       "      <td>0</td>\n",
       "      <td>0.9900</td>\n",
       "      <td>0.0400</td>\n",
       "      <td>0.0500</td>\n",
       "      <td>0</td>\n",
       "      <td>0</td>\n",
       "      <td>...</td>\n",
       "      <td>4.060000</td>\n",
       "      <td>0.005000</td>\n",
       "      <td>600</td>\n",
       "      <td>800</td>\n",
       "      <td>0.941901</td>\n",
       "      <td>0.058099</td>\n",
       "      <td>1000.0</td>\n",
       "      <td>0.002468</td>\n",
       "      <td>0.002372</td>\n",
       "      <td>MagmaSat</td>\n",
       "    </tr>\n",
       "    <tr>\n",
       "      <th>TVZOh-ex</th>\n",
       "      <td>77.90</td>\n",
       "      <td>0.0800</td>\n",
       "      <td>12.15</td>\n",
       "      <td>0.000</td>\n",
       "      <td>0</td>\n",
       "      <td>0.9500</td>\n",
       "      <td>0.0500</td>\n",
       "      <td>0.0600</td>\n",
       "      <td>0</td>\n",
       "      <td>0</td>\n",
       "      <td>...</td>\n",
       "      <td>4.630000</td>\n",
       "      <td>0.005000</td>\n",
       "      <td>50</td>\n",
       "      <td>900</td>\n",
       "      <td>0.952864</td>\n",
       "      <td>0.047136</td>\n",
       "      <td>1220.0</td>\n",
       "      <td>0.001731</td>\n",
       "      <td>0.001656</td>\n",
       "      <td>MagmaSat</td>\n",
       "    </tr>\n",
       "    <tr>\n",
       "      <th>Oh48-FTIR1-MI1-a</th>\n",
       "      <td>78.27</td>\n",
       "      <td>0.0298</td>\n",
       "      <td>12.02</td>\n",
       "      <td>0.000</td>\n",
       "      <td>0</td>\n",
       "      <td>0.9828</td>\n",
       "      <td>0.0336</td>\n",
       "      <td>0.0515</td>\n",
       "      <td>0</td>\n",
       "      <td>0</td>\n",
       "      <td>...</td>\n",
       "      <td>4.214912</td>\n",
       "      <td>0.004566</td>\n",
       "      <td>250</td>\n",
       "      <td>950</td>\n",
       "      <td>0.948753</td>\n",
       "      <td>0.051247</td>\n",
       "      <td>1060.0</td>\n",
       "      <td>0.001247</td>\n",
       "      <td>0.001197</td>\n",
       "      <td>MagmaSat</td>\n",
       "    </tr>\n",
       "    <tr>\n",
       "      <th>Oh48-FTIR1-MI1-b</th>\n",
       "      <td>78.27</td>\n",
       "      <td>0.0298</td>\n",
       "      <td>12.02</td>\n",
       "      <td>0.000</td>\n",
       "      <td>0</td>\n",
       "      <td>0.9828</td>\n",
       "      <td>0.0336</td>\n",
       "      <td>0.0515</td>\n",
       "      <td>0</td>\n",
       "      <td>0</td>\n",
       "      <td>...</td>\n",
       "      <td>4.005816</td>\n",
       "      <td>0.004448</td>\n",
       "      <td>500</td>\n",
       "      <td>1025</td>\n",
       "      <td>0.949904</td>\n",
       "      <td>0.050096</td>\n",
       "      <td>990.0</td>\n",
       "      <td>0.003600</td>\n",
       "      <td>0.003461</td>\n",
       "      <td>MagmaSat</td>\n",
       "    </tr>\n",
       "    <tr>\n",
       "      <th>Oh48-FTIR1-MI1-IRc</th>\n",
       "      <td>78.27</td>\n",
       "      <td>0.0298</td>\n",
       "      <td>12.02</td>\n",
       "      <td>0.000</td>\n",
       "      <td>0</td>\n",
       "      <td>0.9828</td>\n",
       "      <td>0.0336</td>\n",
       "      <td>0.0515</td>\n",
       "      <td>0</td>\n",
       "      <td>0</td>\n",
       "      <td>...</td>\n",
       "      <td>3.885649</td>\n",
       "      <td>0.004654</td>\n",
       "      <td>5000</td>\n",
       "      <td>925</td>\n",
       "      <td>0.939087</td>\n",
       "      <td>0.060913</td>\n",
       "      <td>940.0</td>\n",
       "      <td>0.001188</td>\n",
       "      <td>0.001144</td>\n",
       "      <td>MagmaSat</td>\n",
       "    </tr>\n",
       "    <tr>\n",
       "      <th>Oh50-4.1</th>\n",
       "      <td>77.91</td>\n",
       "      <td>0.0984</td>\n",
       "      <td>12.07</td>\n",
       "      <td>0.000</td>\n",
       "      <td>0</td>\n",
       "      <td>1.0556</td>\n",
       "      <td>0.0257</td>\n",
       "      <td>0.0999</td>\n",
       "      <td>0</td>\n",
       "      <td>0</td>\n",
       "      <td>...</td>\n",
       "      <td>4.641843</td>\n",
       "      <td>0.004566</td>\n",
       "      <td>1000</td>\n",
       "      <td>862</td>\n",
       "      <td>0.958641</td>\n",
       "      <td>0.041359</td>\n",
       "      <td>1210.0</td>\n",
       "      <td>0.003838</td>\n",
       "      <td>0.003668</td>\n",
       "      <td>MagmaSat</td>\n",
       "    </tr>\n",
       "    <tr>\n",
       "      <th>Oh50-4.2</th>\n",
       "      <td>77.91</td>\n",
       "      <td>0.0984</td>\n",
       "      <td>12.07</td>\n",
       "      <td>0.000</td>\n",
       "      <td>0</td>\n",
       "      <td>1.0556</td>\n",
       "      <td>0.0257</td>\n",
       "      <td>0.0999</td>\n",
       "      <td>0</td>\n",
       "      <td>0</td>\n",
       "      <td>...</td>\n",
       "      <td>4.402133</td>\n",
       "      <td>0.004448</td>\n",
       "      <td>100</td>\n",
       "      <td>770</td>\n",
       "      <td>0.955742</td>\n",
       "      <td>0.044258</td>\n",
       "      <td>1120.0</td>\n",
       "      <td>0.003793</td>\n",
       "      <td>0.003633</td>\n",
       "      <td>MagmaSat</td>\n",
       "    </tr>\n",
       "    <tr>\n",
       "      <th>Oh49-4.1</th>\n",
       "      <td>77.92</td>\n",
       "      <td>0.0099</td>\n",
       "      <td>12.11</td>\n",
       "      <td>0.000</td>\n",
       "      <td>0</td>\n",
       "      <td>1.0020</td>\n",
       "      <td>0.0672</td>\n",
       "      <td>0.0546</td>\n",
       "      <td>0</td>\n",
       "      <td>0</td>\n",
       "      <td>...</td>\n",
       "      <td>4.283934</td>\n",
       "      <td>0.004566</td>\n",
       "      <td>1000</td>\n",
       "      <td>855</td>\n",
       "      <td>0.950880</td>\n",
       "      <td>0.049120</td>\n",
       "      <td>1070.0</td>\n",
       "      <td>0.003295</td>\n",
       "      <td>0.003159</td>\n",
       "      <td>MagmaSat</td>\n",
       "    </tr>\n",
       "    <tr>\n",
       "      <th>Oh49-4.2</th>\n",
       "      <td>77.92</td>\n",
       "      <td>0.0099</td>\n",
       "      <td>12.11</td>\n",
       "      <td>0.000</td>\n",
       "      <td>0</td>\n",
       "      <td>1.0020</td>\n",
       "      <td>0.0672</td>\n",
       "      <td>0.0546</td>\n",
       "      <td>0</td>\n",
       "      <td>0</td>\n",
       "      <td>...</td>\n",
       "      <td>4.230533</td>\n",
       "      <td>0.004448</td>\n",
       "      <td>500</td>\n",
       "      <td>1000</td>\n",
       "      <td>0.953363</td>\n",
       "      <td>0.046637</td>\n",
       "      <td>1070.0</td>\n",
       "      <td>0.003386</td>\n",
       "      <td>0.003248</td>\n",
       "      <td>MagmaSat</td>\n",
       "    </tr>\n",
       "    <tr>\n",
       "      <th>Ma55-5a.1</th>\n",
       "      <td>77.68</td>\n",
       "      <td>0.0096</td>\n",
       "      <td>12.27</td>\n",
       "      <td>0.000</td>\n",
       "      <td>0</td>\n",
       "      <td>1.0272</td>\n",
       "      <td>0.0628</td>\n",
       "      <td>0.0342</td>\n",
       "      <td>0</td>\n",
       "      <td>0</td>\n",
       "      <td>...</td>\n",
       "      <td>4.459767</td>\n",
       "      <td>0.004654</td>\n",
       "      <td>5000</td>\n",
       "      <td>1010</td>\n",
       "      <td>0.953280</td>\n",
       "      <td>0.046720</td>\n",
       "      <td>1170.0</td>\n",
       "      <td>0.000740</td>\n",
       "      <td>0.000708</td>\n",
       "      <td>MagmaSat</td>\n",
       "    </tr>\n",
       "    <tr>\n",
       "      <th>Ma57-3b.2</th>\n",
       "      <td>77.90</td>\n",
       "      <td>0.0498</td>\n",
       "      <td>12.07</td>\n",
       "      <td>0.000</td>\n",
       "      <td>0</td>\n",
       "      <td>1.0844</td>\n",
       "      <td>0.0748</td>\n",
       "      <td>0.0355</td>\n",
       "      <td>0</td>\n",
       "      <td>0</td>\n",
       "      <td>...</td>\n",
       "      <td>3.712506</td>\n",
       "      <td>0.004448</td>\n",
       "      <td>1000</td>\n",
       "      <td>1012</td>\n",
       "      <td>0.939294</td>\n",
       "      <td>0.060706</td>\n",
       "      <td>890.0</td>\n",
       "      <td>0.001478</td>\n",
       "      <td>0.001425</td>\n",
       "      <td>MagmaSat</td>\n",
       "    </tr>\n",
       "    <tr>\n",
       "      <th>Ma57-3c.1</th>\n",
       "      <td>77.65</td>\n",
       "      <td>0.1590</td>\n",
       "      <td>12.28</td>\n",
       "      <td>0.000</td>\n",
       "      <td>0</td>\n",
       "      <td>0.9769</td>\n",
       "      <td>0.0597</td>\n",
       "      <td>0.0577</td>\n",
       "      <td>0</td>\n",
       "      <td>0</td>\n",
       "      <td>...</td>\n",
       "      <td>4.443973</td>\n",
       "      <td>0.004654</td>\n",
       "      <td>100</td>\n",
       "      <td>885</td>\n",
       "      <td>0.954766</td>\n",
       "      <td>0.045234</td>\n",
       "      <td>1140.0</td>\n",
       "      <td>0.004394</td>\n",
       "      <td>0.004207</td>\n",
       "      <td>MagmaSat</td>\n",
       "    </tr>\n",
       "    <tr>\n",
       "      <th>Ma57-3c.2</th>\n",
       "      <td>77.65</td>\n",
       "      <td>0.1590</td>\n",
       "      <td>12.28</td>\n",
       "      <td>0.000</td>\n",
       "      <td>0</td>\n",
       "      <td>0.9769</td>\n",
       "      <td>0.0597</td>\n",
       "      <td>0.0577</td>\n",
       "      <td>0</td>\n",
       "      <td>0</td>\n",
       "      <td>...</td>\n",
       "      <td>4.283171</td>\n",
       "      <td>0.004645</td>\n",
       "      <td>1000</td>\n",
       "      <td>885</td>\n",
       "      <td>0.951421</td>\n",
       "      <td>0.048579</td>\n",
       "      <td>1080.0</td>\n",
       "      <td>0.004036</td>\n",
       "      <td>0.003870</td>\n",
       "      <td>MagmaSat</td>\n",
       "    </tr>\n",
       "  </tbody>\n",
       "</table>\n",
       "<p>14 rows × 24 columns</p>\n",
       "</div>"
      ],
      "text/plain": [
       "                     SiO2    TiO2  Al2O3  Fe2O3  Cr2O3     FeO     MnO  \\\n",
       "Label                                                                    \n",
       "BT-ex               77.50  0.0800  12.50  0.207      0  0.4730  0.0000   \n",
       "TVZMa-ex            78.37  0.1300  11.94  0.000      0  0.9900  0.0400   \n",
       "TVZOh-ex            77.90  0.0800  12.15  0.000      0  0.9500  0.0500   \n",
       "Oh48-FTIR1-MI1-a    78.27  0.0298  12.02  0.000      0  0.9828  0.0336   \n",
       "Oh48-FTIR1-MI1-b    78.27  0.0298  12.02  0.000      0  0.9828  0.0336   \n",
       "Oh48-FTIR1-MI1-IRc  78.27  0.0298  12.02  0.000      0  0.9828  0.0336   \n",
       "Oh50-4.1            77.91  0.0984  12.07  0.000      0  1.0556  0.0257   \n",
       "Oh50-4.2            77.91  0.0984  12.07  0.000      0  1.0556  0.0257   \n",
       "Oh49-4.1            77.92  0.0099  12.11  0.000      0  1.0020  0.0672   \n",
       "Oh49-4.2            77.92  0.0099  12.11  0.000      0  1.0020  0.0672   \n",
       "Ma55-5a.1           77.68  0.0096  12.27  0.000      0  1.0272  0.0628   \n",
       "Ma57-3b.2           77.90  0.0498  12.07  0.000      0  1.0844  0.0748   \n",
       "Ma57-3c.1           77.65  0.1590  12.28  0.000      0  0.9769  0.0597   \n",
       "Ma57-3c.2           77.65  0.1590  12.28  0.000      0  0.9769  0.0597   \n",
       "\n",
       "                       MgO  NiO  CoO  ...       H2O       CO2  Press  Temp  \\\n",
       "Label                                 ...                                    \n",
       "BT-ex               0.0300    0    0  ...  5.500000  0.050000    500   900   \n",
       "TVZMa-ex            0.0500    0    0  ...  4.060000  0.005000    600   800   \n",
       "TVZOh-ex            0.0600    0    0  ...  4.630000  0.005000     50   900   \n",
       "Oh48-FTIR1-MI1-a    0.0515    0    0  ...  4.214912  0.004566    250   950   \n",
       "Oh48-FTIR1-MI1-b    0.0515    0    0  ...  4.005816  0.004448    500  1025   \n",
       "Oh48-FTIR1-MI1-IRc  0.0515    0    0  ...  3.885649  0.004654   5000   925   \n",
       "Oh50-4.1            0.0999    0    0  ...  4.641843  0.004566   1000   862   \n",
       "Oh50-4.2            0.0999    0    0  ...  4.402133  0.004448    100   770   \n",
       "Oh49-4.1            0.0546    0    0  ...  4.283934  0.004566   1000   855   \n",
       "Oh49-4.2            0.0546    0    0  ...  4.230533  0.004448    500  1000   \n",
       "Ma55-5a.1           0.0342    0    0  ...  4.459767  0.004654   5000  1010   \n",
       "Ma57-3b.2           0.0355    0    0  ...  3.712506  0.004448   1000  1012   \n",
       "Ma57-3c.1           0.0577    0    0  ...  4.443973  0.004654    100   885   \n",
       "Ma57-3c.2           0.0577    0    0  ...  4.283171  0.004645   1000   885   \n",
       "\n",
       "                    XH2O_fl_VESIcal  XCO2_fl_VESIcal  \\\n",
       "Label                                                  \n",
       "BT-ex                      0.768328         0.231672   \n",
       "TVZMa-ex                   0.941901         0.058099   \n",
       "TVZOh-ex                   0.952864         0.047136   \n",
       "Oh48-FTIR1-MI1-a           0.948753         0.051247   \n",
       "Oh48-FTIR1-MI1-b           0.949904         0.050096   \n",
       "Oh48-FTIR1-MI1-IRc         0.939087         0.060913   \n",
       "Oh50-4.1                   0.958641         0.041359   \n",
       "Oh50-4.2                   0.955742         0.044258   \n",
       "Oh49-4.1                   0.950880         0.049120   \n",
       "Oh49-4.2                   0.953363         0.046637   \n",
       "Ma55-5a.1                  0.953280         0.046720   \n",
       "Ma57-3b.2                  0.939294         0.060706   \n",
       "Ma57-3c.1                  0.954766         0.045234   \n",
       "Ma57-3c.2                  0.951421         0.048579   \n",
       "\n",
       "                    SaturationP_bars_VESIcal  FluidMass_grams_VESIcal  \\\n",
       "Label                                                                   \n",
       "BT-ex                                 2320.0                 0.001276   \n",
       "TVZMa-ex                              1000.0                 0.002468   \n",
       "TVZOh-ex                              1220.0                 0.001731   \n",
       "Oh48-FTIR1-MI1-a                      1060.0                 0.001247   \n",
       "Oh48-FTIR1-MI1-b                       990.0                 0.003600   \n",
       "Oh48-FTIR1-MI1-IRc                     940.0                 0.001188   \n",
       "Oh50-4.1                              1210.0                 0.003838   \n",
       "Oh50-4.2                              1120.0                 0.003793   \n",
       "Oh49-4.1                              1070.0                 0.003295   \n",
       "Oh49-4.2                              1070.0                 0.003386   \n",
       "Ma55-5a.1                             1170.0                 0.000740   \n",
       "Ma57-3b.2                              890.0                 0.001478   \n",
       "Ma57-3c.1                             1140.0                 0.004394   \n",
       "Ma57-3c.2                             1080.0                 0.004036   \n",
       "\n",
       "                    FluidSystem_wt_VESIcal     Model  \n",
       "Label                                                 \n",
       "BT-ex                             0.001208  MagmaSat  \n",
       "TVZMa-ex                          0.002372  MagmaSat  \n",
       "TVZOh-ex                          0.001656  MagmaSat  \n",
       "Oh48-FTIR1-MI1-a                  0.001197  MagmaSat  \n",
       "Oh48-FTIR1-MI1-b                  0.003461  MagmaSat  \n",
       "Oh48-FTIR1-MI1-IRc                0.001144  MagmaSat  \n",
       "Oh50-4.1                          0.003668  MagmaSat  \n",
       "Oh50-4.2                          0.003633  MagmaSat  \n",
       "Oh49-4.1                          0.003159  MagmaSat  \n",
       "Oh49-4.2                          0.003248  MagmaSat  \n",
       "Ma55-5a.1                         0.000708  MagmaSat  \n",
       "Ma57-3b.2                         0.001425  MagmaSat  \n",
       "Ma57-3c.1                         0.004207  MagmaSat  \n",
       "Ma57-3c.2                         0.003870  MagmaSat  \n",
       "\n",
       "[14 rows x 24 columns]"
      ]
     },
     "execution_count": 41,
     "metadata": {},
     "output_type": "execute_result"
    }
   ],
   "source": [
    "\"\"\"Calculate the saturation pressure for all samples in an ExcelFile object, taking temperature\n",
    "values from a column named \"Temp\" in the ExcelFile\"\"\"\n",
    "satPs_wtemps = myfile.calculate_saturation_pressure(temperature=\"Temp\")\n",
    "satPs_wtemps"
   ]
  },
  {
   "cell_type": "markdown",
   "metadata": {},
   "source": [
    "<a id='calculating_plotting_isobars_isopleths'></a>\n",
    "\n",
    "## 3.5. Calculating and plotting isobars and isopleths\n",
    "<hr style=\"background-color: #ffcc4c;height: 8.0px;\"/>\n",
    "\n",
    "In this example, we demonstrate how isobars (lines of constant pressure) and isopleths (lines of constant fluid composition) can be calculated for any one composition. A single melt composition can be extracted from a loaded excel file, or a composition can be enterred by hand an stored within a dictionary. Due to computational intensity, isobars and isopleths can only be computed for one sample composition at a time.\n",
    "\n",
    "Once a single composition is defined, conditions over which to calculate isobars and isopleths must be specified. The generated plot is isothermal, so only one temperature can be chosen. Isobars can be calculated for any number of pressures, passed as a list.\n",
    "\n",
    "The calculation is performed by iterating through possible concentrations of H$_2$O and CO$_2$ and calculating the equilibrium state for the system. The iteration begins at a fixed H$_2$O concentration, increasing the CO$_2$ concentration in steps of 0.1 wt% until a fluid phase is stable. The H$_2$O concentration is then increased by 0.5 wt% and CO$_2$ is again increased from 0 until a fluid phase is stable. This process is repeated for H$_2$O values ranging from 0–15 wt%. The H$_2$O and CO$_2$ concentrations from each system for which a fluid phase was found to be stable are saved and written to a pandas DataFrame, which is returned upon completion of the calculation.\n",
    "\n",
    "**Method structure:**<br>\n",
    ">*Only single-sample calculations.* `def calculate_isobars_and_isopleths(self, sample, temperature, pressure_list, isopleth_list, print_status=False).result`\n",
    "\n",
    "**Required inputs:**<br>\n",
    ">`sample`: The sample composition, as a dictionary with values in wt%\n",
    "\n",
    ">`temperature`: The temperature in $^{\\circ}$C. \n",
    "\n",
    ">`pressure_list`: A list of all pressures in bars at which to calculate isobars.\n",
    "\n",
    "**Optional inputs:**<br>\n",
    ">`isopleth_list`: The default value is None in which case only isobars will be calcualted. A list of all fluid composition values, in mole fraction H$_2$O (XH$_2$O$^{fluid}$), at which to calculate isopleths. Values can range from 0–1.\n",
    "\n",
    ">`print_status`: The default value is False. If set to `True`, the progress of the calculations will be printed to the terminal.\n",
    "\n",
    "**Calculated outputs:** \n",
    ">The function returns two pandas DataFrames: the first has isobar data, and the second has isopleth data. Columns in the isobar dataframe are 'Pressure', 'H2Omelt', and 'CO2melt', correpsonding to pressure in bars and dissolved H$_2$O and CO$_2$ in the liquid in wt%. Columns in the isopleth dataframe are 'XH2O_fl', 'H2O_liq', and 'CO2_liq', corresponding to XH$_2$O$^{fluid}$ and dissolved H$_2$O and CO$_2$ in the liquid in wt%."
   ]
  },
  {
   "cell_type": "code",
   "execution_count": 42,
   "metadata": {},
   "outputs": [],
   "source": [
    "\"\"\"To get composition from a specific sample in the input data:\"\"\"\n",
    "SampleName = 'BT-ex'\n",
    "bulk_comp = myfile.get_sample_oxide_comp(SampleName, norm='standard')\n",
    "\n",
    "\"\"\"Define all variables to be passed to the function for calculating isobars and isopleths\"\"\"\n",
    "\"\"\"Define the temperature in degrees C\"\"\"\n",
    "temperature = 1000.0\n",
    "\n",
    "\"\"\"Define a list of pressures in bars:\"\"\"\n",
    "pressures = [1000.0, 2000.0, 3000.0]"
   ]
  },
  {
   "cell_type": "markdown",
   "metadata": {},
   "source": [
    "Next, the H$_2$O and CO$_2$ dissolved in the melt at saturation is calculated at the specified temperature and over the range of specified pressures. The user does not need to change anything in the below cell."
   ]
  },
  {
   "cell_type": "code",
   "execution_count": 43,
   "metadata": {},
   "outputs": [
    {
     "name": "stdout",
     "output_type": "stream",
     "text": [
      "Calculating isobar at 1000.0 bars\n",
      "Calculating isopleth at 0\n",
      "Calculating isopleth at 0.25\n",
      "Calculating isopleth at 0.5\n",
      "Calculating isopleth at 0.75\n",
      "Calculating isopleth at 1\n",
      "Calculating isobar at 2000.0 bars\n",
      "Calculating isopleth at 0\n",
      "Calculating isopleth at 0.25\n",
      "Calculating isopleth at 0.5\n",
      "Calculating isopleth at 0.75\n",
      "Calculating isopleth at 1\n",
      "Calculating isobar at 3000.0 bars\n",
      "Calculating isopleth at 0\n",
      "Calculating isopleth at 0.25\n",
      "Calculating isopleth at 0.5\n",
      "Calculating isopleth at 0.75\n",
      "Calculating isopleth at 1\n",
      "Done!\n"
     ]
    }
   ],
   "source": [
    "isobars, isopleths = v.calculate_isobars_and_isopleths(sample=bulk_comp, \n",
    "                                            temperature=temperature,\n",
    "                                            pressure_list=pressures,\n",
    "                                            isopleth_list=[0.25,0.5,0.75],\n",
    "                                            print_status=True).result"
   ]
  },
  {
   "cell_type": "markdown",
   "metadata": {},
   "source": [
    "<a id='plotting_isobars_isopleths'></a>\n",
    "\n",
    "### 3.5.1. Plotting isobars and isopleths\n",
    "\n",
    "Once isobars and isopleths are calculated, they can be plotted in an H$_2$O versus CO$_2$ plot with one simple function call. The plot will be printed directly in the notebook or, if the code is run as script in a command line, the plot will appear it its own window, at which point it can be saved as an image file. The `plot_isobars_and_isopleths` function takes in a pandas DataFrame with calculated isobar and isopleth information (e.g., output from calculate_isobars_and_isopleths) and plots data as isobars (lines of constant pressure) and isopleths (lines of constant fluid composition). These lines represent the saturation pressures of the melt composition used to calculate the isobar and isopleth information. \n",
    "\n",
    "**Method structure:**<br>\n",
    ">*Only single-sample calculations.* `def plot_isobars_and_isopleths(self, isobars, isopleths)`\n",
    "\n",
    "**Required inputs:**<br>\n",
    ">`isobars`: Pandas DataFrame object containing isobar information as calculated by calculate_isobars_and_isopleths.\n",
    "\n",
    ">`isopleths`: Pandas DataFrame object containing isopleth information as calculated by calculate_isobars_and_isopleths.\n",
    "\n",
    "**Calculated outputs:** \n",
    ">The function returns a matplotlib object with the x-axis as H2O wt% in the melt and y-axis as CO2 wt% in the melt. Isobars, or lines of constant pressure at which the sample magma composition is saturated, and isopleths, or lines of constant fluid composition at which the sample magma composition is saturated, are plotted."
   ]
  },
  {
   "cell_type": "code",
   "execution_count": 44,
   "metadata": {},
   "outputs": [
    {
     "data": {
      "text/plain": [
       "<matplotlib.axes._subplots.AxesSubplot at 0x1a2006a150>"
      ]
     },
     "execution_count": 44,
     "metadata": {},
     "output_type": "execute_result"
    },
    {
     "data": {
      "image/png": "[encoded data removed]",
      "text/plain": [
       "<Figure size 432x288 with 1 Axes>"
      ]
     },
     "metadata": {
      "needs_background": "light"
     },
     "output_type": "display_data"
    }
   ],
   "source": [
    "v.plot_isobars_and_isopleths(isobars, isopleths)"
   ]
  },
  {
   "cell_type": "markdown",
   "metadata": {},
   "source": [
    "However, the user may wish to apply custom formatting to the plot, in which case, an example code to plot isobars and isopleths is provided below."
   ]
  },
  {
   "cell_type": "code",
   "execution_count": 47,
   "metadata": {},
   "outputs": [
    {
     "data": {
      "text/html": [
       "<script>\n",
       "code_show=true; \n",
       "function code_toggle() {\n",
       "    if (code_show){\n",
       "        $('div.cell.code_cell.rendered.selected div.input').hide();\n",
       "    } else {\n",
       "        $('div.cell.code_cell.rendered.selected div.input').show();\n",
       "    }\n",
       "    code_show = !code_show\n",
       "} \n",
       "$( document ).ready(code_toggle);\n",
       "</script>\n",
       "<b>This is a hidden cell. To show/hide this cell's raw code input, click <a href=\"javascript:code_toggle()\">here</a></b>."
      ],
      "text/plain": [
       "<IPython.core.display.HTML object>"
      ]
     },
     "metadata": {},
     "output_type": "display_data"
    },
    {
     "data": {
      "text/plain": [
       "\"Show this cell's raw code input to see the example code\""
      ]
     },
     "execution_count": 47,
     "metadata": {},
     "output_type": "execute_result"
    }
   ],
   "source": [
    "display(tag)\n",
    "\"\"\"Show this cell's raw code input to see the example code\"\"\"\n",
    "\n",
    "# # #-----------------------CODE TO PLOT ISOBARS AND ISOPLETHS-----------------#\n",
    "# P_vals = isobars.Pressure.unique() #grab all unique pressure values\n",
    "# XH2O_vals = isopleths.XH2O_fl.unique() #grab all unique XH2O values\n",
    "# isobars_lists = isobars.values.tolist() #transform isobar dataframe into a list of lists\n",
    "# isopleths_lists = isopleths.values.tolist() #transform isopleth dataframe into a list of lists\n",
    "\n",
    "# # add zero values to volatiles list\n",
    "# isobars_lists.append([0.0, 0.0, 0.0, 0.0])\n",
    "\n",
    "# # draw the figure\n",
    "# fig, ax1 = plt.subplots()\n",
    "# plt.xlabel('H2O wt%')\n",
    "# plt.ylabel('CO2 wt%')\n",
    "\n",
    "# # do some data smoothing\n",
    "# for pressure in P_vals:\n",
    "#     Pxs = [item[1] for item in isobars_lists if item[0] == pressure]\n",
    "#     Pys = [item[2] for item in isobars_lists if item[0] == pressure]\n",
    "\n",
    "#     try:\n",
    "#         np.seterr(divide='ignore', invalid='ignore') #turn off numpy warning\n",
    "#         ## calcualte polynomial\n",
    "#         Pz = np.polyfit(Pxs, Pys, 3)\n",
    "#         Pf = np.poly1d(Pz)\n",
    "\n",
    "#         ## calculate new x's and y's\n",
    "#         Px_new = np.linspace(Pxs[0], Pxs[-1], 50)\n",
    "#         Py_new = Pf(Px_new)\n",
    "\n",
    "#         # Plot some stuff\n",
    "#         ax1.plot(Px_new, Py_new)\n",
    "#     except:\n",
    "#         ax1.plot(Pxs, Pys)\n",
    "\n",
    "# for Xfl in XH2O_vals:\n",
    "#     Xxs = [item[1] for item in isopleths_lists if item[0] == Xfl]\n",
    "#     Xys = [item[2] for item in isopleths_lists if item[0] == Xfl]\n",
    "\n",
    "#     try:\n",
    "#         ## calcualte polynomial\n",
    "#         Xz = np.polyfit(Xxs, Xys, 2)\n",
    "#         Xf = np.poly1d(Xz)\n",
    "\n",
    "#         ## calculate new x's and y's\n",
    "#         Xx_new = np.linspace(Xxs[0], Xxs[-1], 50)\n",
    "#         Xy_new = Xf(Xx_new)\n",
    "\n",
    "#         # Plot some stuff\n",
    "#         ax1.plot(Xx_new, Xy_new, ls='dashed', color='k')\n",
    "#     except:\n",
    "#         ax1.plot(Xxs, Xys, ls='dashed', color='k')\n",
    "\n",
    "# labels = P_vals\n",
    "# ax1.legend(labels)\n",
    "\n",
    "# np.seterr(divide='warn', invalid='warn') #turn numpy warning back on\n",
    "\n",
    "# plt.show()"
   ]
  },
  {
   "cell_type": "markdown",
   "metadata": {},
   "source": [
    "<a id='calculating_plotting_degassing_paths'></a>\n",
    "\n",
    "## 3.6. Calculating and plotting degassing paths\n",
    "<hr style=\"background-color: #c13017;height: 8.0px;\"/>\n",
    "\n",
    "A degassing path is a series of volatile concentrations both in the liquid and fluid that a magma will follow during decompression. In the calculation, the saturation pressure is computed, and then the system is equilibrated along a trajectory of decreasing pressure values at steps of 100 bars (or 10 bars if the starting pressure is <500 bars). If so desired, this calculation can be performed for any initial pressure, but the default is the saturation pressure. If a pressure is specified that is above the saturation pressure, the calculation will simlpy proceed from the saturation pressure, since the magma cannot degas until it reaches saturation. \n",
    "\n",
    "Completely open-system, completely closed-system or partially open-system degassing paths can be calculated by specifying what proportion of the fluid to fractionate. The fluid fractionation value can range between 0 (closed-system: no fluid is removed, all is retained at each pressure step) and 1 (open-system: all fluid is removed, none is retained at each pressure step). Closed and partially open-system runs allow the user to speficy the initial presence of exsolved fluid that is in equilirium with the melt at the starting pressure.\n",
    "\n",
    "**Method structure:**<br>\n",
    ">*Only single-sample calculations.* `def calculate_degassing_path(self, sample, temperature, pressure='saturation', fractionate_vapor=0.0, init_vapor=0.0).result`\n",
    "\n",
    "**Required inputs:**<br>\n",
    ">`sample`: The sample composition, as a dictionary with values in wt%\n",
    "\n",
    ">`temperature`: The temperature in $^{\\circ}$C. \n",
    "\n",
    "**Optional inputs:**<br>\n",
    ">`pressure`: The perssure at which to begin the degassing calculations, in bars. Default value is 'saturation', which runs the calculation with the initial pressure at the saturation pressure. If a pressure greater than the saturation pressure is input, the calculation will start at saturation, since this is the first pressure at which any degassing will occur.\n",
    "\n",
    ">`fractionate_vapor`: Proportion of vapor removed at each pressure step. Default value is 0.0 (completely closed-system degassing). Specifies the type of calculation performed, either closed system (0.0) or open system (1.0) degassing. If any value between <1.0 is chosen, user can also specify the 'init_vapor' argument (see below). A value in between 0 and 1 will remove that proportion of vapor at each step. For example, for a value of 0.2, the calculation will remove 20% of the vapor and retain 80% of the vapor at each pressure step.\n",
    "\n",
    ">`init_vapor`: Default value is 0.0. Specifies the amount of vapor (in wt%) coexisting with the melt before degassing.\n",
    "\n",
    "**Calculated outputs:** \n",
    ">The function returns a pandas DataFrame with columns as: 'Pressure_bars', 'H2O_liq' and 'CO2_liq' (the concentration of H$_2$O and CO$_2$ in the liquid, in wt%), 'XH2O_fl' and 'XCO2_fl' (the composition of the H$_2$O-CO$_2$ fluid, in mol fraction), and 'FluidProportion_wt' (the proportion of fluid in the fluid-melt system, in wt%)."
   ]
  },
  {
   "cell_type": "code",
   "execution_count": 73,
   "metadata": {},
   "outputs": [
    {
     "ename": "AttributeError",
     "evalue": "'DataFrame' object has no attribute 'Pressure'",
     "output_type": "error",
     "traceback": [
      "\u001b[0;31m---------------------------------------------------------------------------\u001b[0m",
      "\u001b[0;31mAttributeError\u001b[0m                            Traceback (most recent call last)",
      "\u001b[0;32m<ipython-input-73-baefcff7075c>\u001b[0m in \u001b[0;36m<module>\u001b[0;34m\u001b[0m\n\u001b[1;32m      7\u001b[0m \u001b[0;34m\u001b[0m\u001b[0m\n\u001b[1;32m      8\u001b[0m \u001b[0;34m\"\"\"Calculate open, closed, and closed + 2 wt% initial vapor\"\"\"\u001b[0m\u001b[0;34m\u001b[0m\u001b[0;34m\u001b[0m\u001b[0m\n\u001b[0;32m----> 9\u001b[0;31m \u001b[0mopen_df\u001b[0m \u001b[0;34m=\u001b[0m \u001b[0mv\u001b[0m\u001b[0;34m.\u001b[0m\u001b[0mcalculate_degassing_path\u001b[0m\u001b[0;34m(\u001b[0m\u001b[0msample\u001b[0m\u001b[0;34m=\u001b[0m\u001b[0mbulk_comp\u001b[0m\u001b[0;34m,\u001b[0m \u001b[0mtemperature\u001b[0m\u001b[0;34m=\u001b[0m\u001b[0mtemp\u001b[0m\u001b[0;34m,\u001b[0m \u001b[0mfractionate_vapor\u001b[0m\u001b[0;34m=\u001b[0m\u001b[0;36m1.0\u001b[0m\u001b[0;34m)\u001b[0m\u001b[0;34m.\u001b[0m\u001b[0mresult\u001b[0m\u001b[0;34m\u001b[0m\u001b[0;34m\u001b[0m\u001b[0m\n\u001b[0m\u001b[1;32m     10\u001b[0m \u001b[0mhalf_df\u001b[0m \u001b[0;34m=\u001b[0m \u001b[0mv\u001b[0m\u001b[0;34m.\u001b[0m\u001b[0mcalculate_degassing_path\u001b[0m\u001b[0;34m(\u001b[0m\u001b[0msample\u001b[0m\u001b[0;34m=\u001b[0m\u001b[0mbulk_comp\u001b[0m\u001b[0;34m,\u001b[0m \u001b[0mtemperature\u001b[0m\u001b[0;34m=\u001b[0m\u001b[0mtemp\u001b[0m\u001b[0;34m,\u001b[0m \u001b[0mfractionate_vapor\u001b[0m\u001b[0;34m=\u001b[0m\u001b[0;36m0.5\u001b[0m\u001b[0;34m)\u001b[0m\u001b[0;34m.\u001b[0m\u001b[0mresult\u001b[0m\u001b[0;34m\u001b[0m\u001b[0;34m\u001b[0m\u001b[0m\n\u001b[1;32m     11\u001b[0m \u001b[0mclosed_df\u001b[0m \u001b[0;34m=\u001b[0m \u001b[0mv\u001b[0m\u001b[0;34m.\u001b[0m\u001b[0mcalculate_degassing_path\u001b[0m\u001b[0;34m(\u001b[0m\u001b[0msample\u001b[0m\u001b[0;34m=\u001b[0m\u001b[0mbulk_comp\u001b[0m\u001b[0;34m,\u001b[0m \u001b[0mtemperature\u001b[0m\u001b[0;34m=\u001b[0m\u001b[0mtemp\u001b[0m\u001b[0;34m)\u001b[0m\u001b[0;34m.\u001b[0m\u001b[0mresult\u001b[0m\u001b[0;34m\u001b[0m\u001b[0;34m\u001b[0m\u001b[0m\n",
      "\u001b[0;32m~/Dropbox/Research/__Manuscripts in Progress/__ENKI/__TheCode/VESIcal/VESIcal.py\u001b[0m in \u001b[0;36m__init__\u001b[0;34m(self, sample, model, **kwargs)\u001b[0m\n\u001b[1;32m   1594\u001b[0m \u001b[0;34m\u001b[0m\u001b[0m\n\u001b[1;32m   1595\u001b[0m                 \u001b[0mself\u001b[0m\u001b[0;34m.\u001b[0m\u001b[0mresult\u001b[0m \u001b[0;34m=\u001b[0m \u001b[0mself\u001b[0m\u001b[0;34m.\u001b[0m\u001b[0mcalculate\u001b[0m\u001b[0;34m(\u001b[0m\u001b[0msample\u001b[0m\u001b[0;34m=\u001b[0m\u001b[0mself\u001b[0m\u001b[0;34m.\u001b[0m\u001b[0msample\u001b[0m\u001b[0;34m,\u001b[0m\u001b[0;34m**\u001b[0m\u001b[0mkwargs\u001b[0m\u001b[0;34m)\u001b[0m\u001b[0;34m\u001b[0m\u001b[0;34m\u001b[0m\u001b[0m\n\u001b[0;32m-> 1596\u001b[0;31m                 \u001b[0mself\u001b[0m\u001b[0;34m.\u001b[0m\u001b[0mcalib_check\u001b[0m \u001b[0;34m=\u001b[0m \u001b[0mself\u001b[0m\u001b[0;34m.\u001b[0m\u001b[0mcheck_calibration_range\u001b[0m\u001b[0;34m(\u001b[0m\u001b[0msample\u001b[0m\u001b[0;34m=\u001b[0m\u001b[0mself\u001b[0m\u001b[0;34m.\u001b[0m\u001b[0msample\u001b[0m\u001b[0;34m,\u001b[0m\u001b[0;34m**\u001b[0m\u001b[0mkwargs\u001b[0m\u001b[0;34m)\u001b[0m\u001b[0;34m\u001b[0m\u001b[0;34m\u001b[0m\u001b[0m\n\u001b[0m\u001b[1;32m   1597\u001b[0m \u001b[0;34m\u001b[0m\u001b[0m\n\u001b[1;32m   1598\u001b[0m                 \u001b[0;32mif\u001b[0m \u001b[0mself\u001b[0m\u001b[0;34m.\u001b[0m\u001b[0mcalib_check\u001b[0m \u001b[0;32mis\u001b[0m \u001b[0;32mnot\u001b[0m \u001b[0;32mNone\u001b[0m\u001b[0;34m:\u001b[0m\u001b[0;34m\u001b[0m\u001b[0;34m\u001b[0m\u001b[0m\n",
      "\u001b[0;32m~/Dropbox/Research/__Manuscripts in Progress/__ENKI/__TheCode/VESIcal/VESIcal.py\u001b[0m in \u001b[0;36mcheck_calibration_range\u001b[0;34m(self, sample, **kwargs)\u001b[0m\n\u001b[1;32m   6333\u001b[0m                 \u001b[0mparameters\u001b[0m \u001b[0;34m=\u001b[0m \u001b[0mkwargs\u001b[0m\u001b[0;34m\u001b[0m\u001b[0;34m\u001b[0m\u001b[0m\n\u001b[1;32m   6334\u001b[0m                 \u001b[0mparameters\u001b[0m\u001b[0;34m.\u001b[0m\u001b[0mupdate\u001b[0m\u001b[0;34m(\u001b[0m\u001b[0msample\u001b[0m\u001b[0;34m)\u001b[0m\u001b[0;34m\u001b[0m\u001b[0;34m\u001b[0m\u001b[0m\n\u001b[0;32m-> 6335\u001b[0;31m                 \u001b[0ms\u001b[0m \u001b[0;34m=\u001b[0m \u001b[0mself\u001b[0m\u001b[0;34m.\u001b[0m\u001b[0mmodel\u001b[0m\u001b[0;34m.\u001b[0m\u001b[0mcheck_calibration_range\u001b[0m\u001b[0;34m(\u001b[0m\u001b[0mparameters\u001b[0m\u001b[0;34m)\u001b[0m\u001b[0;34m\u001b[0m\u001b[0;34m\u001b[0m\u001b[0m\n\u001b[0m\u001b[1;32m   6336\u001b[0m                 \u001b[0mparameters\u001b[0m \u001b[0;34m=\u001b[0m \u001b[0;34m{\u001b[0m\u001b[0;34m}\u001b[0m\u001b[0;34m\u001b[0m\u001b[0;34m\u001b[0m\u001b[0m\n\u001b[1;32m   6337\u001b[0m                 \u001b[0mparameters\u001b[0m\u001b[0;34m[\u001b[0m\u001b[0;34m'pressure'\u001b[0m\u001b[0;34m]\u001b[0m \u001b[0;34m=\u001b[0m \u001b[0mnp\u001b[0m\u001b[0;34m.\u001b[0m\u001b[0mnanmax\u001b[0m\u001b[0;34m(\u001b[0m\u001b[0mself\u001b[0m\u001b[0;34m.\u001b[0m\u001b[0mresult\u001b[0m\u001b[0;34m.\u001b[0m\u001b[0mPressure\u001b[0m\u001b[0;34m)\u001b[0m\u001b[0;34m\u001b[0m\u001b[0;34m\u001b[0m\u001b[0m\n",
      "\u001b[0;32m/opt/anaconda3/lib/python3.7/site-packages/pandas/core/generic.py\u001b[0m in \u001b[0;36m__getattr__\u001b[0;34m(self, name)\u001b[0m\n\u001b[1;32m   5272\u001b[0m             \u001b[0;32mif\u001b[0m \u001b[0mself\u001b[0m\u001b[0;34m.\u001b[0m\u001b[0m_info_axis\u001b[0m\u001b[0;34m.\u001b[0m\u001b[0m_can_hold_identifiers_and_holds_name\u001b[0m\u001b[0;34m(\u001b[0m\u001b[0mname\u001b[0m\u001b[0;34m)\u001b[0m\u001b[0;34m:\u001b[0m\u001b[0;34m\u001b[0m\u001b[0;34m\u001b[0m\u001b[0m\n\u001b[1;32m   5273\u001b[0m                 \u001b[0;32mreturn\u001b[0m \u001b[0mself\u001b[0m\u001b[0;34m[\u001b[0m\u001b[0mname\u001b[0m\u001b[0;34m]\u001b[0m\u001b[0;34m\u001b[0m\u001b[0;34m\u001b[0m\u001b[0m\n\u001b[0;32m-> 5274\u001b[0;31m             \u001b[0;32mreturn\u001b[0m \u001b[0mobject\u001b[0m\u001b[0;34m.\u001b[0m\u001b[0m__getattribute__\u001b[0m\u001b[0;34m(\u001b[0m\u001b[0mself\u001b[0m\u001b[0;34m,\u001b[0m \u001b[0mname\u001b[0m\u001b[0;34m)\u001b[0m\u001b[0;34m\u001b[0m\u001b[0;34m\u001b[0m\u001b[0m\n\u001b[0m\u001b[1;32m   5275\u001b[0m \u001b[0;34m\u001b[0m\u001b[0m\n\u001b[1;32m   5276\u001b[0m     \u001b[0;32mdef\u001b[0m \u001b[0m__setattr__\u001b[0m\u001b[0;34m(\u001b[0m\u001b[0mself\u001b[0m\u001b[0;34m,\u001b[0m \u001b[0mname\u001b[0m\u001b[0;34m:\u001b[0m \u001b[0mstr\u001b[0m\u001b[0;34m,\u001b[0m \u001b[0mvalue\u001b[0m\u001b[0;34m)\u001b[0m \u001b[0;34m->\u001b[0m \u001b[0;32mNone\u001b[0m\u001b[0;34m:\u001b[0m\u001b[0;34m\u001b[0m\u001b[0;34m\u001b[0m\u001b[0m\n",
      "\u001b[0;31mAttributeError\u001b[0m: 'DataFrame' object has no attribute 'Pressure'"
     ]
    }
   ],
   "source": [
    "\"\"\"To get composition from a specific sample in the input data:\"\"\"\n",
    "SampleName = 'BT-ex'\n",
    "bulk_comp = myfile.get_sample_oxide_comp(SampleName)\n",
    "bulk_comp = v.normalize(bulk_comp)\n",
    "\n",
    "temp = 900.0 #temperature in °C\n",
    "\n",
    "\"\"\"Calculate open, closed, and closed + 2 wt% initial vapor\"\"\"\n",
    "open_df = v.calculate_degassing_path(sample=bulk_comp, temperature=temp, fractionate_vapor=1.0).result\n",
    "half_df = v.calculate_degassing_path(sample=bulk_comp, temperature=temp, fractionate_vapor=0.5).result\n",
    "closed_df = v.calculate_degassing_path(sample=bulk_comp, temperature=temp).result\n",
    "exsolved_df = v.calculate_degassing_path(sample=bulk_comp, temperature=temp, init_vapor=2.0).result\n",
    "\n",
    "\"\"\"Calculate closed-system degassing starting from a pressure of 2000 bars\"\"\"\n",
    "start2000_df = v.calculate_degassing_path(sample=bulk_comp, temperature=temp, pressure=2000.0).result"
   ]
  },
  {
   "cell_type": "markdown",
   "metadata": {},
   "source": [
    "<a id='plotting_degassing_paths'></a>\n",
    "\n",
    "### 3.6.1. Plotting degassing paths\n",
    "\n",
    "Once degassing paths are calcualted, they may be easily plotted using VESIcal's built in `plot_degassing_paths` method. The user can plot multiple degassing paths on one plot. Optionally, labels in the plot legend can be specified.\n",
    "\n",
    "**Method structure:**<br>\n",
    ">`def plot_degassing_paths(degassing_paths, labels=None)`\n",
    "\n",
    "**Required inputs:**<br>\n",
    ">`degassing_paths`: A list of DataFrames with degassing information as generated by calculate_degassing_path().\n",
    "\n",
    "**Optional inputs:**<br>\n",
    ">`labels`: Labels for the plot legend. Default is None, in which case each plotted line will be given the generic legend name of \"Pathn\", with n referring to the nth degassing path passed. The user can pass their own labels as a list of strings.\n",
    "\n",
    "**Calculated outputs:** \n",
    ">The function returns a matplotlib object with the x-axis as H$_2$O, wt% and the y-axis as CO$_2$, wt%. All degassing paths passed are plotted on one figure."
   ]
  },
  {
   "cell_type": "code",
   "execution_count": 74,
   "metadata": {},
   "outputs": [
    {
     "ename": "NameError",
     "evalue": "name 'open_df' is not defined",
     "output_type": "error",
     "traceback": [
      "\u001b[0;31m---------------------------------------------------------------------------\u001b[0m",
      "\u001b[0;31mNameError\u001b[0m                                 Traceback (most recent call last)",
      "\u001b[0;32m<ipython-input-74-d0c78d2aad20>\u001b[0m in \u001b[0;36m<module>\u001b[0;34m\u001b[0m\n\u001b[0;32m----> 1\u001b[0;31m v.plot_degassing_paths([open_df, half_df, closed_df, exsolved_df],\n\u001b[0m\u001b[1;32m      2\u001b[0m                        labels=[\"Open\", \"Half\", \"Closed\", \"Exsolved\"])\n\u001b[1;32m      3\u001b[0m \u001b[0;34m\u001b[0m\u001b[0m\n\u001b[1;32m      4\u001b[0m v.plot_degassing_paths([exsolved_df, start2000_df],\n\u001b[1;32m      5\u001b[0m                        labels=[\"Exsolved\", \"2000 bars\"])\n",
      "\u001b[0;31mNameError\u001b[0m: name 'open_df' is not defined"
     ]
    }
   ],
   "source": [
    "v.plot_degassing_paths([open_df, half_df, closed_df, exsolved_df],\n",
    "                       labels=[\"Open\", \"Half\", \"Closed\", \"Exsolved\"])\n",
    "\n",
    "v.plot_degassing_paths([exsolved_df, start2000_df],\n",
    "                       labels=[\"Exsolved\", \"2000 bars\"])"
   ]
  },
  {
   "cell_type": "markdown",
   "metadata": {},
   "source": [
    "However, the user may wish to apply custom formatting to the plot, in which case, an example code to plot isobars and isopleths is provided below."
   ]
  },
  {
   "cell_type": "code",
   "execution_count": 75,
   "metadata": {},
   "outputs": [
    {
     "data": {
      "text/html": [
       "<script>\n",
       "code_show=true; \n",
       "function code_toggle() {\n",
       "    if (code_show){\n",
       "        $('div.cell.code_cell.rendered.selected div.input').hide();\n",
       "    } else {\n",
       "        $('div.cell.code_cell.rendered.selected div.input').show();\n",
       "    }\n",
       "    code_show = !code_show\n",
       "} \n",
       "$( document ).ready(code_toggle);\n",
       "</script>\n",
       "<b>This is a hidden cell. To show/hide this cell's raw code input, click <a href=\"javascript:code_toggle()\">here</a></b>."
      ],
      "text/plain": [
       "<IPython.core.display.HTML object>"
      ]
     },
     "metadata": {},
     "output_type": "display_data"
    },
    {
     "data": {
      "text/plain": [
       "\"Show this cell's raw code input to see the example code\""
      ]
     },
     "execution_count": 75,
     "metadata": {},
     "output_type": "execute_result"
    }
   ],
   "source": [
    "display(tag)\n",
    "\"\"\"Show this cell's raw code input to see the example code\"\"\"\n",
    "# #-----------------------CODE TO PLOT DEGASSING PATHS-----------------#\n",
    "# ax = open_df.plot(kind='line',x='H2O_liq',y='CO2_liq',color='red', label='Open System')\n",
    "# half_df.plot(ax=ax, kind='line', x='H2O_liq', y='CO2_liq', color='purple', label='0.5 vapor')\n",
    "# closed_df.plot(ax=ax, kind='line',x='H2O_liq',y='CO2_liq',color='blue', label='Closed System')\n",
    "# exsolved_df.plot(ax=ax, kind='line', x='H2O_liq', y='CO2_liq',color='green', label='Closed System w/2 wt% Vapor')\n",
    "# ax.scatter(bulk_comp[\"H2O\"], bulk_comp[\"CO2\"], color='black') #Plot original data point\n",
    "\n",
    "# ax.set_xlabel(\"H2O, wt%\")\n",
    "# ax.set_ylabel(\"CO2, wt%\")\n",
    "# plt.show()"
   ]
  },
  {
   "cell_type": "markdown",
   "metadata": {},
   "source": [
    "<a id='plotting_multiple_calculations'></a>\n",
    "\n",
    "## 3.7. Plotting multiple calculations\n",
    "\n",
    "One of the major advantages to VESIcal over any other model is the ability to quickly calculate and plot multiple calculations. In this example we will use data imported in Section 3.1 and calculations performed in Sections 3.5 and 3.6. Of course, all of the data calculated with VESIcal can be exported to an Excel file for manipulation and plotting as desired. However, some examples of plotting that can be done within this notebook or in a python script are shown below. There are no built-in functions for plotting more than one calculation, so the following examples use the code snippets for plotting various results given above.\n",
    "\n",
    "<a id='degassing_paths_plus_isobars_isopleths'></a>\n",
    "\n",
    "### 3.7.1. Degassing paths plus isobars and isopleths\n",
    "The code below uses the example code snippets for plotting degassing paths and then for plotting isobars and isopleths. All calculations here were performed on sample BT-ex."
   ]
  },
  {
   "cell_type": "code",
   "execution_count": 76,
   "metadata": {},
   "outputs": [
    {
     "ename": "NameError",
     "evalue": "name 'open_df' is not defined",
     "output_type": "error",
     "traceback": [
      "\u001b[0;31m---------------------------------------------------------------------------\u001b[0m",
      "\u001b[0;31mNameError\u001b[0m                                 Traceback (most recent call last)",
      "\u001b[0;32m<ipython-input-76-e41ea5bc8210>\u001b[0m in \u001b[0;36m<module>\u001b[0;34m\u001b[0m\n\u001b[1;32m      1\u001b[0m \u001b[0;31m#PLOT DEGASSING PATHS\u001b[0m\u001b[0;34m\u001b[0m\u001b[0;34m\u001b[0m\u001b[0;34m\u001b[0m\u001b[0m\n\u001b[0;32m----> 2\u001b[0;31m \u001b[0max\u001b[0m \u001b[0;34m=\u001b[0m \u001b[0mopen_df\u001b[0m\u001b[0;34m.\u001b[0m\u001b[0mplot\u001b[0m\u001b[0;34m(\u001b[0m\u001b[0mkind\u001b[0m\u001b[0;34m=\u001b[0m\u001b[0;34m'line'\u001b[0m\u001b[0;34m,\u001b[0m\u001b[0mx\u001b[0m\u001b[0;34m=\u001b[0m\u001b[0;34m'H2O_liq'\u001b[0m\u001b[0;34m,\u001b[0m\u001b[0my\u001b[0m\u001b[0;34m=\u001b[0m\u001b[0;34m'CO2_liq'\u001b[0m\u001b[0;34m,\u001b[0m\u001b[0mcolor\u001b[0m\u001b[0;34m=\u001b[0m\u001b[0;34m'red'\u001b[0m\u001b[0;34m,\u001b[0m \u001b[0mlabel\u001b[0m\u001b[0;34m=\u001b[0m\u001b[0;34m'Open System'\u001b[0m\u001b[0;34m)\u001b[0m\u001b[0;34m\u001b[0m\u001b[0;34m\u001b[0m\u001b[0m\n\u001b[0m\u001b[1;32m      3\u001b[0m \u001b[0mhalf_df\u001b[0m\u001b[0;34m.\u001b[0m\u001b[0mplot\u001b[0m\u001b[0;34m(\u001b[0m\u001b[0max\u001b[0m\u001b[0;34m=\u001b[0m\u001b[0max\u001b[0m\u001b[0;34m,\u001b[0m \u001b[0mkind\u001b[0m\u001b[0;34m=\u001b[0m\u001b[0;34m'line'\u001b[0m\u001b[0;34m,\u001b[0m \u001b[0mx\u001b[0m\u001b[0;34m=\u001b[0m\u001b[0;34m'H2O_liq'\u001b[0m\u001b[0;34m,\u001b[0m \u001b[0my\u001b[0m\u001b[0;34m=\u001b[0m\u001b[0;34m'CO2_liq'\u001b[0m\u001b[0;34m,\u001b[0m \u001b[0mcolor\u001b[0m\u001b[0;34m=\u001b[0m\u001b[0;34m'purple'\u001b[0m\u001b[0;34m,\u001b[0m \u001b[0mlabel\u001b[0m\u001b[0;34m=\u001b[0m\u001b[0;34m'0.5 vapor'\u001b[0m\u001b[0;34m)\u001b[0m\u001b[0;34m\u001b[0m\u001b[0;34m\u001b[0m\u001b[0m\n\u001b[1;32m      4\u001b[0m \u001b[0mclosed_df\u001b[0m\u001b[0;34m.\u001b[0m\u001b[0mplot\u001b[0m\u001b[0;34m(\u001b[0m\u001b[0max\u001b[0m\u001b[0;34m=\u001b[0m\u001b[0max\u001b[0m\u001b[0;34m,\u001b[0m \u001b[0mkind\u001b[0m\u001b[0;34m=\u001b[0m\u001b[0;34m'line'\u001b[0m\u001b[0;34m,\u001b[0m\u001b[0mx\u001b[0m\u001b[0;34m=\u001b[0m\u001b[0;34m'H2O_liq'\u001b[0m\u001b[0;34m,\u001b[0m\u001b[0my\u001b[0m\u001b[0;34m=\u001b[0m\u001b[0;34m'CO2_liq'\u001b[0m\u001b[0;34m,\u001b[0m\u001b[0mcolor\u001b[0m\u001b[0;34m=\u001b[0m\u001b[0;34m'blue'\u001b[0m\u001b[0;34m,\u001b[0m \u001b[0mlabel\u001b[0m\u001b[0;34m=\u001b[0m\u001b[0;34m'Closed System'\u001b[0m\u001b[0;34m)\u001b[0m\u001b[0;34m\u001b[0m\u001b[0;34m\u001b[0m\u001b[0m\n\u001b[1;32m      5\u001b[0m \u001b[0mexsolved_df\u001b[0m\u001b[0;34m.\u001b[0m\u001b[0mplot\u001b[0m\u001b[0;34m(\u001b[0m\u001b[0max\u001b[0m\u001b[0;34m=\u001b[0m\u001b[0max\u001b[0m\u001b[0;34m,\u001b[0m \u001b[0mkind\u001b[0m\u001b[0;34m=\u001b[0m\u001b[0;34m'line'\u001b[0m\u001b[0;34m,\u001b[0m \u001b[0mx\u001b[0m\u001b[0;34m=\u001b[0m\u001b[0;34m'H2O_liq'\u001b[0m\u001b[0;34m,\u001b[0m \u001b[0my\u001b[0m\u001b[0;34m=\u001b[0m\u001b[0;34m'CO2_liq'\u001b[0m\u001b[0;34m,\u001b[0m\u001b[0mcolor\u001b[0m\u001b[0;34m=\u001b[0m\u001b[0;34m'green'\u001b[0m\u001b[0;34m,\u001b[0m \u001b[0mlabel\u001b[0m\u001b[0;34m=\u001b[0m\u001b[0;34m'Closed System w/2 wt% Vapor'\u001b[0m\u001b[0;34m)\u001b[0m\u001b[0;34m\u001b[0m\u001b[0;34m\u001b[0m\u001b[0m\n",
      "\u001b[0;31mNameError\u001b[0m: name 'open_df' is not defined"
     ]
    }
   ],
   "source": [
    "#PLOT DEGASSING PATHS\n",
    "ax = open_df.plot(kind='line',x='H2O_liq',y='CO2_liq',color='red', label='Open System')\n",
    "half_df.plot(ax=ax, kind='line', x='H2O_liq', y='CO2_liq', color='purple', label='0.5 vapor')\n",
    "closed_df.plot(ax=ax, kind='line',x='H2O_liq',y='CO2_liq',color='blue', label='Closed System')\n",
    "exsolved_df.plot(ax=ax, kind='line', x='H2O_liq', y='CO2_liq',color='green', label='Closed System w/2 wt% Vapor')\n",
    "ax.scatter(bulk_comp[\"H2O\"], bulk_comp[\"CO2\"], color='black') #Plot original data point\n",
    "\n",
    "#PLOT ISOBARS\n",
    "P_vals = isobars.Pressure.unique() #grab all unique pressure values\n",
    "XH2O_vals = isopleths.XH2O_fl.unique() #grab all unique XH2O values\n",
    "isobars_lists = isobars.values.tolist() #transform isobar dataframe into a list of lists\n",
    "isopleths_lists = isopleths.values.tolist() #transform isopleth dataframe into a list of lists\n",
    "\n",
    "# add zero values to volatiles list\n",
    "isobars_lists.append([0.0, 0.0, 0.0, 0.0])\n",
    "\n",
    "# do some data smoothing\n",
    "for pressure in P_vals:\n",
    "    Pxs = [item[1] for item in isobars_lists if item[0] == pressure]\n",
    "    Pys = [item[2] for item in isobars_lists if item[0] == pressure]\n",
    "\n",
    "    try:\n",
    "        np.seterr(divide='ignore', invalid='ignore') #turn off numpy warning\n",
    "        ## calcualte polynomial\n",
    "        Pz = np.polyfit(Pxs, Pys, 3)\n",
    "        Pf = np.poly1d(Pz)\n",
    "\n",
    "        ## calculate new x's and y's\n",
    "        Px_new = np.linspace(Pxs[0], Pxs[-1], 50)\n",
    "        Py_new = Pf(Px_new)\n",
    "\n",
    "        # Plot some stuff\n",
    "        ax.plot(Px_new, Py_new)\n",
    "    except:\n",
    "        ax.plot(Pxs, Pys)\n",
    "\n",
    "for Xfl in XH2O_vals:\n",
    "    Xxs = [item[1] for item in isopleths_lists if item[0] == Xfl]\n",
    "    Xys = [item[2] for item in isopleths_lists if item[0] == Xfl]\n",
    "\n",
    "    try:\n",
    "        ## calcualte polynomial\n",
    "        Xz = np.polyfit(Xxs, Xys, 2)\n",
    "        Xf = np.poly1d(Xz)\n",
    "\n",
    "        ## calculate new x's and y's\n",
    "        Xx_new = np.linspace(Xxs[0], Xxs[-1], 50)\n",
    "        Xy_new = Xf(Xx_new)\n",
    "\n",
    "        # Plot some stuff\n",
    "        ax.plot(Xx_new, Xy_new, ls='dashed', color='k')\n",
    "    except:\n",
    "        ax.plot(Xxs, Xys, ls='dashed', color='k')\n",
    "\n",
    "ax.set_xlabel(\"H2O, wt%\")\n",
    "ax.set_ylabel(\"CO2, wt%\")\n",
    "ax.set_title(\"Isobars and Isopleths & Degassing Paths for Sample 'BT-ex'\")\n",
    "plt.show()"
   ]
  },
  {
   "cell_type": "markdown",
   "metadata": {},
   "source": [
    "<a id='sample_data_plus_isobars_isopleths'></a>\n",
    "\n",
    "### 3.7.2 Sample data plus isobars and isopleths\n",
    "The code below uses the example code snippets for plotting data imported from a file in Section 3.1 as well as for plotting isobars and isopleths for sample BT-ex."
   ]
  },
  {
   "cell_type": "code",
   "execution_count": 77,
   "metadata": {},
   "outputs": [
    {
     "data": {
      "image/png": "[encoded data removed]",
      "text/plain": [
       "<Figure size 432x288 with 1 Axes>"
      ]
     },
     "metadata": {
      "needs_background": "light"
     },
     "output_type": "display_data"
    }
   ],
   "source": [
    "ax = plt.subplot()\n",
    "ax.plot(data[\"H2O\"],data[\"CO2\"],'bo')\n",
    "\n",
    "#PLOT ISOBARS\n",
    "P_vals = isobars.Pressure.unique() #grab all unique pressure values\n",
    "XH2O_vals = isopleths.XH2O_fl.unique() #grab all unique XH2O values\n",
    "isobars_lists = isobars.values.tolist() #transform isobar dataframe into a list of lists\n",
    "isopleths_lists = isopleths.values.tolist() #transform isopleth dataframe into a list of lists\n",
    "\n",
    "# add zero values to volatiles list\n",
    "isobars_lists.append([0.0, 0.0, 0.0, 0.0])\n",
    "\n",
    "# do some data smoothing\n",
    "for pressure in P_vals:\n",
    "    Pxs = [item[1] for item in isobars_lists if item[0] == pressure]\n",
    "    Pys = [item[2] for item in isobars_lists if item[0] == pressure]\n",
    "\n",
    "    try:\n",
    "        np.seterr(divide='ignore', invalid='ignore') #turn off numpy warning\n",
    "        ## calcualte polynomial\n",
    "        Pz = np.polyfit(Pxs, Pys, 3)\n",
    "        Pf = np.poly1d(Pz)\n",
    "\n",
    "        ## calculate new x's and y's\n",
    "        Px_new = np.linspace(Pxs[0], Pxs[-1], 50)\n",
    "        Py_new = Pf(Px_new)\n",
    "\n",
    "        # Plot some stuff\n",
    "        ax.plot(Px_new, Py_new)\n",
    "    except:\n",
    "        ax.plot(Pxs, Pys)\n",
    "\n",
    "for Xfl in XH2O_vals:\n",
    "    Xxs = [item[1] for item in isopleths_lists if item[0] == Xfl]\n",
    "    Xys = [item[2] for item in isopleths_lists if item[0] == Xfl]\n",
    "\n",
    "    try:\n",
    "        ## calcualte polynomial\n",
    "        Xz = np.polyfit(Xxs, Xys, 2)\n",
    "        Xf = np.poly1d(Xz)\n",
    "\n",
    "        ## calculate new x's and y's\n",
    "        Xx_new = np.linspace(Xxs[0], Xxs[-1], 50)\n",
    "        Xy_new = Xf(Xx_new)\n",
    "\n",
    "        # Plot some stuff\n",
    "        ax.plot(Xx_new, Xy_new, ls='dashed', color='k')\n",
    "    except:\n",
    "        ax.plot(Xxs, Xys, ls='dashed', color='k')\n",
    "\n",
    "#ax.plot(data[\"H2O\"], data[\"CO2\"], 'o', color='blue')\n",
    "ax.set_xlabel(\"H$_2$O, wt%\")\n",
    "ax.set_ylabel(\"CO$_2$, wt%\")\n",
    "ax.set_title(\"Isobars and Isopleths & Multi-sample Data\")\n",
    "plt.show()"
   ]
  },
  {
   "cell_type": "markdown",
   "metadata": {},
   "source": [
    "## 3.8. Code hybridization (Advanced)\n",
    "<a id='code_hybridization'></a>\n",
    "\n",
    "One of the advantages of implementing the solubility models in a generic python module is the flexibility this affords the user in changing the way solubility models are defined and used. In particular, the structure allows any combination of pure-fluid models to be used together in modelling mixed-fluids, and fugacity or activity models can be quickly changed without modifying code. To access these more advanced features, the "
   ]
  },
  {
   "cell_type": "markdown",
   "metadata": {},
   "source": [
    "### 3.8.1 Using Model objects directly\n",
    "The calculations shown in this manuscript utilise the python-class Calculation interfaces. When the class is called, the required model is usually selected from the default models using the model name as a string, e.g.,"
   ]
  },
  {
   "cell_type": "code",
   "execution_count": 9,
   "metadata": {},
   "outputs": [],
   "source": [
    "calculation = v.calculate_dissolved_volatiles(sample=my_sample, pressure=1000.0, X_fluid=0.1, model='Shishkina')"
   ]
  },
  {
   "cell_type": "markdown",
   "metadata": {},
   "source": [
    "When the `calculate_dissolved_volatiles` class is initiated, it retrieves a pre-defined model object instance. However, creating model objects directly affords greater control over how the calculation is performed. A model object for a pure fluid can be created by:"
   ]
  },
  {
   "cell_type": "code",
   "execution_count": 11,
   "metadata": {},
   "outputs": [],
   "source": [
    "model_object = v.ShishkinaCarbon()"
   ]
  },
  {
   "cell_type": "markdown",
   "metadata": {},
   "source": [
    "Any method that is used during solubility calculations can now be accessed directly. For example, the compositional dependence of CO$_2$ solubility is captured by the $\\pi^*$ parameter in the --SHISHKINA-- parameterisation. The value of this parameter is calculated everytime a solubility calculation is performed using the `ShishkinaCarbon` model, but is not accessible through the `Calculation` class interfaces. However, the method that calculates $\\pi^*$ can be called directly from the model object:"
   ]
  },
  {
   "cell_type": "code",
   "execution_count": 12,
   "metadata": {},
   "outputs": [
    {
     "data": {
      "text/plain": [
       "0.11957696507035985"
      ]
     },
     "execution_count": 12,
     "metadata": {},
     "output_type": "execute_result"
    }
   ],
   "source": [
    "model_object.PiStar(sample=my_sample)"
   ]
  },
  {
   "cell_type": "markdown",
   "metadata": {},
   "source": [
    "The available methods can be found when using Jupyterlab or ipython by pressing the tab key after typing `model_object.`. Calculation methods can also be called directly from the model object, without using the `Calculation` class interface:"
   ]
  },
  {
   "cell_type": "code",
   "execution_count": 13,
   "metadata": {},
   "outputs": [
    {
     "data": {
      "text/plain": [
       "0.011596717182072776"
      ]
     },
     "execution_count": 13,
     "metadata": {},
     "output_type": "execute_result"
    }
   ],
   "source": [
    "model_object.calculate_dissolved_volatiles(sample=my_sample, pressure=1000.0)"
   ]
  },
  {
   "cell_type": "markdown",
   "metadata": {},
   "source": [
    "This is computationally faster than using the `Calculation` interface, but does not automatically pre-process the sample composition, or run calibration checks. Alternatively, the `model_object` can be used with the `Calculation` class interface by passing the object in place of a string for the `model` variable:"
   ]
  },
  {
   "cell_type": "code",
   "execution_count": 15,
   "metadata": {},
   "outputs": [
    {
     "data": {
      "text/plain": [
       "0.011596717182072776"
      ]
     },
     "execution_count": 15,
     "metadata": {},
     "output_type": "execute_result"
    }
   ],
   "source": [
    "calculation = v.calculate_dissolved_volatiles(sample=my_sample, pressure=1000.0, model=model_object)\n",
    "calculation.result"
   ]
  },
  {
   "cell_type": "markdown",
   "metadata": {},
   "source": [
    "### 3.8.2 Changing Model fugacity and activity models\n",
    "This functionality is more powerful when the user makes changes to components of the model. For example, when every model object is initialized in VESIcal, it has a fugacity and activity model associated with it. Where models parameterise solubility as a function of pressure (or partial pressure) directly, as done by --SHISHKINA--, this is equivalent to assuming the fugacity is that of an ideal gas. By retrieving the fugacity model from the `model_object` we created above, we can see that this is the case:"
   ]
  },
  {
   "cell_type": "code",
   "execution_count": 16,
   "metadata": {},
   "outputs": [
    {
     "data": {
      "text/plain": [
       "<VESIcal.fugacity_idealgas at 0x1112430d0>"
      ]
     },
     "execution_count": 16,
     "metadata": {},
     "output_type": "execute_result"
    }
   ],
   "source": [
    "model_object.fugacity_model"
   ]
  },
  {
   "cell_type": "markdown",
   "metadata": {},
   "source": [
    "Other models, e.g., --DIXON--, parameterise solubility as a function of fugacity, calculated using an equation of state for the vapour phase. The default fugacity model for `DixonCarbon` is the --KERRICK AND JACOBS--, and is set when the model is initialized:"
   ]
  },
  {
   "cell_type": "code",
   "execution_count": 21,
   "metadata": {},
   "outputs": [
    {
     "data": {
      "text/plain": [
       "<VESIcal.fugacity_KJ81_co2 at 0x1028c18c10>"
      ]
     },
     "execution_count": 21,
     "metadata": {},
     "output_type": "execute_result"
    }
   ],
   "source": [
    "model_object = v.DixonCarbon()\n",
    "model_object.fugacity_model"
   ]
  },
  {
   "cell_type": "markdown",
   "metadata": {},
   "source": [
    "However, if we wanted to see how the calculation results would change were the --REDLICH-KWONG-- model used instead, we can change this component of the model:"
   ]
  },
  {
   "cell_type": "code",
   "execution_count": 22,
   "metadata": {},
   "outputs": [
    {
     "data": {
      "text/plain": [
       "<VESIcal.fugacity_RK_co2 at 0x1025e5f710>"
      ]
     },
     "execution_count": 22,
     "metadata": {},
     "output_type": "execute_result"
    }
   ],
   "source": [
    "model_object.set_fugacity_model(v.fugacity_RK_co2())\n",
    "model_object.fugacity_model"
   ]
  },
  {
   "cell_type": "markdown",
   "metadata": {},
   "source": [
    "Any calculations now performed using `model_object` will use fugacities calculated with --REDLICH-KWONG-- in place of --KERRICK AND JACOBS--. Each model object also has an activity model associated with it. This allows for non-ideal solution of vapour species in the melt. Whilst none of the models presently within VESIcal use non-ideal activities, this would permit models such as --DUAN-- to be implemented within the VESIcal framework in the future."
   ]
  },
  {
   "cell_type": "markdown",
   "metadata": {},
   "source": [
    "### 3.8.3 Defining and using MixedFluid model objects\n",
    "The model objects for mixed fluids have a similar structure, with one major difference. A `MixedFluid` model object is a generic model which may be implemented with any of the pure-fluid models within VESIcal. The default `MixedFluid` model object for --SHISHKINA-- is defined by:"
   ]
  },
  {
   "cell_type": "code",
   "execution_count": 23,
   "metadata": {},
   "outputs": [],
   "source": [
    "mixed_model = v.MixedFluid({'CO2':v.ShishkinaCarbon(),\n",
    "                            'H2O':v.ShishkinaWater()})"
   ]
  },
  {
   "cell_type": "markdown",
   "metadata": {},
   "source": [
    "As with the pure-fluid model objects, calculations can be performed directly using the model object, e.g.,"
   ]
  },
  {
   "cell_type": "code",
   "execution_count": 25,
   "metadata": {},
   "outputs": [
    {
     "data": {
      "text/plain": [
       "{'CO2': 0.005785950551206554, 'H2O': 0.9942140494487934}"
      ]
     },
     "execution_count": 25,
     "metadata": {},
     "output_type": "execute_result"
    }
   ],
   "source": [
    "mixed_model.calculate_equilibrium_fluid_comp(sample=my_sample, pressure=1000.0)"
   ]
  },
  {
   "cell_type": "markdown",
   "metadata": {},
   "source": [
    "or by supplying the `Calculate` class interface with `mixed_model` as the value of `model`:"
   ]
  },
  {
   "cell_type": "code",
   "execution_count": 26,
   "metadata": {},
   "outputs": [
    {
     "data": {
      "text/plain": [
       "{'CO2': 0.005785950551206554, 'H2O': 0.9942140494487934}"
      ]
     },
     "execution_count": 26,
     "metadata": {},
     "output_type": "execute_result"
    }
   ],
   "source": [
    "calculation = v.calculate_equilibrium_fluid_comp(sample=my_sample, pressure=1000.0, model=mixed_model)\n",
    "calculation.result"
   ]
  },
  {
   "cell_type": "markdown",
   "metadata": {},
   "source": [
    "If we wanted to change the fugacity (or activity) models used in the calculation, we must access the pure-fluid model objects stored within the mixed-fluid model object:"
   ]
  },
  {
   "cell_type": "code",
   "execution_count": 28,
   "metadata": {},
   "outputs": [
    {
     "data": {
      "text/plain": [
       "<VESIcal.fugacity_idealgas at 0x1028c29210>"
      ]
     },
     "execution_count": 28,
     "metadata": {},
     "output_type": "execute_result"
    }
   ],
   "source": [
    "mixed_model.models[0].fugacity_model"
   ]
  },
  {
   "cell_type": "code",
   "execution_count": 29,
   "metadata": {},
   "outputs": [
    {
     "data": {
      "text/plain": [
       "<VESIcal.fugacity_KJ81_co2 at 0x1136a1e50>"
      ]
     },
     "execution_count": 29,
     "metadata": {},
     "output_type": "execute_result"
    }
   ],
   "source": [
    "mixed_model.models[0].set_fugacity_model(v.fugacity_KJ81_co2())\n",
    "mixed_model.models[0].fugacity_model"
   ]
  },
  {
   "cell_type": "markdown",
   "metadata": {},
   "source": [
    "The `MixedFluid` model object also allows different solubility models to be combined, for example if we wanted to use the --ALLISON-- CO2 solubility model in conjunction with a water solubility model we could define our own `MixedFluid` model object:"
   ]
  },
  {
   "cell_type": "code",
   "execution_count": 30,
   "metadata": {},
   "outputs": [],
   "source": [
    "mixed_model = v.MixedFluid({'CO2':v.AllisonCarbon(),\n",
    "                            'H2O':v.IaconoMarzianoWater()})"
   ]
  },
  {
   "cell_type": "markdown",
   "metadata": {},
   "source": [
    "<a id='exporting_data'></a>\n",
    "\n",
    "## 3.9. Exporting data\n",
    "\n",
    "### Kayla write this section"
   ]
  },
  {
   "cell_type": "markdown",
   "metadata": {},
   "source": [
    "Some text."
   ]
  },
  {
   "cell_type": "code",
   "execution_count": null,
   "metadata": {},
   "outputs": [],
   "source": [
    "myfile.save_excelfile(filename='testsave.xlsx', calculations=[dissolved, eqfluid, eqfluid_wtemps, satPs, satPs_wtemps])"
   ]
  },
  {
   "cell_type": "markdown",
   "metadata": {},
   "source": [
    "<a id='discussion_conclusion'></a>\n",
    "\n",
    "# 4. Discussion and Conclusion\n",
    "\n",
    "some text\n",
    "\n",
    "## 4.1 Model Comparisons\n",
    "\n",
    "### We can use one sample composition to show comparisons between model calcs, user can change this sample to whatever they want! This becomes a useful tool for anyone to automatically compare model results for all calcs for any sample of interest."
   ]
  },
  {
   "cell_type": "code",
   "execution_count": null,
   "metadata": {},
   "outputs": [],
   "source": [
    "magsat_vols = v.calculate_dissolved_volatiles(sample=my_sample, temperature=900.0, \n",
    "                                pressure=2000.0, X_fluid=0.5, verbose=False).result\n",
    "\n",
    "shish_vols = v.calculate_dissolved_volatiles(model='Shishkina', sample=my_sample, temperature=900.0,\n",
    "                                pressure=2000.0, X_fluid=(0.5,0.5)).result\n",
    "\n",
    "dix_vols = v.calculate_dissolved_volatiles(model='Dixon', sample=my_sample, temperature=900.0,\n",
    "                                          pressure=2000.0, X_fluid=(0.5,0.5)).result\n",
    "\n",
    "iac_vols = v.calculate_dissolved_volatiles(model='IaconoMarziano', sample=my_sample, temperature=900.0,\n",
    "                                          pressure=2000.0, X_fluid=(0.5,0.5)).result"
   ]
  },
  {
   "cell_type": "code",
   "execution_count": null,
   "metadata": {},
   "outputs": [],
   "source": [
    "\"\"\"\n",
    "NOTE! This is where we need to implement limitations for what samples should be calculated with which models!\n",
    "For examlpe, we could allow users to calculate volatiles in a rhyolite using Iacono-Marziano, but we\n",
    "should warn them that they should not do that.\n",
    "\"\"\"\n",
    "\n",
    "fig, ax = plt.subplots()\n",
    "plt.xlabel('H2O wt%')\n",
    "plt.ylabel('CO2 wt%')\n",
    "plt.xlim(0,5.0)\n",
    "plt.ylim(-1.0,0.2)\n",
    "\n",
    "ax.plot(magsat_vols[\"H2O\"], magsat_vols[\"CO2\"], 'o', color='blue', label=\"MagmaSat\")\n",
    "ax.plot(shish_vols[1], shish_vols[0], 'o', color='green', label=\"Shishkina\")\n",
    "ax.plot(dix_vols[1], dix_vols[0], 'o', color='red', label=\"Dixon\")\n",
    "ax.plot(iac_vols[1], iac_vols[0], 'o', color='purple', label=\"Iacono-Marziano\")\n",
    "\n",
    "plt.title(label=\"Calculate Dissolved Volatiles\")\n",
    "plt.legend(loc=\"lower left\")\n",
    "plt.show()"
   ]
  },
  {
   "cell_type": "code",
   "execution_count": 31,
   "metadata": {},
   "outputs": [],
   "source": [
    "# MS_isobars, MS_isopleths = v.calculate_isobars_and_isopleths(sample=my_sample, \n",
    "#                                             temperature=900.0,\n",
    "#                                             pressure_list=[2000.0],\n",
    "#                                             isopleth_list=[0.5],\n",
    "#                                             print_status=True).result\n",
    "\n",
    "Shish_isobars, Shish_isopleths = v.calculate_isobars_and_isopleths(model='Shishkina',\n",
    "                                                                   sample=my_sample, \n",
    "                                                                    temperature=900.0,\n",
    "                                                                    pressure_list=[2000.0],\n",
    "                                                                    isopleth_list=[0.5]).result\n",
    "\n",
    "Dix_isobars, Dix_isopleths = v.calculate_isobars_and_isopleths(model='Dixon',\n",
    "                                                                   sample=my_sample, \n",
    "                                                                    temperature=900.0,\n",
    "                                                                    pressure_list=[2000.0],\n",
    "                                                                    isopleth_list=[0.5]).result\n",
    "\n",
    "Iac_isobars, Iac_isopleths = v.calculate_isobars_and_isopleths(model='IaconoMarziano',\n",
    "                                                                   sample=my_sample, \n",
    "                                                                    temperature=900.0,\n",
    "                                                                    pressure_list=[2000.0],\n",
    "                                                                    isopleth_list=[0.5]).result"
   ]
  },
  {
   "cell_type": "markdown",
   "metadata": {},
   "source": [
    "## 4.2 Example degassing calculations -- and some warnings (need better title)\n",
    "\n",
    "Take in an MI data-set (Bishop Tuff, Kilauea). Plot degassing curve, isobars/isopleths using one composition. Plot MI compositions on top of this. Give warnings that, although this is a common way to do this, it's problematic!\n",
    "\n",
    "### Gordon can you take a crack at this text? I can help plot up the data!"
   ]
  },
  {
   "cell_type": "markdown",
   "metadata": {},
   "source": [
    "<a id='future_work'></a>\n",
    "\n",
    "# 5. Future Work"
   ]
  },
  {
   "cell_type": "markdown",
   "metadata": {},
   "source": [
    "# Acknowledgements"
   ]
  },
  {
   "cell_type": "markdown",
   "metadata": {},
   "source": [
    "# References"
   ]
  },
  {
   "cell_type": "raw",
   "metadata": {},
   "source": [
    "((*- extends 'latex_article.tplx' -*))\n",
    "\n",
    "((* block bibliography *))\n",
    "\\bibliographystyle{unsrt}\n",
    "\\bibliography{ipython}\n",
    "((* endblock bibliography *))"
   ]
  }
 ],
 "metadata": {
  "kernelspec": {
   "display_name": "Python 3",
   "language": "python",
   "name": "python3"
  },
  "language_info": {
   "codemirror_mode": {
    "name": "ipython",
    "version": 3
   },
   "file_extension": ".py",
   "mimetype": "text/x-python",
   "name": "python",
   "nbconvert_exporter": "python",
   "pygments_lexer": "ipython3",
   "version": "3.7.6"
  },
  "toc": {
   "base_numbering": 1,
   "nav_menu": {
    "height": "697px",
    "width": "458px"
   },
   "number_sections": false,
   "sideBar": true,
   "skip_h1_title": false,
   "title_cell": "Table of Contents",
   "title_sidebar": "Contents",
   "toc_cell": false,
   "toc_position": {},
   "toc_section_display": true,
   "toc_window_display": true
  }
 },
 "nbformat": 4,
 "nbformat_minor": 4
}
