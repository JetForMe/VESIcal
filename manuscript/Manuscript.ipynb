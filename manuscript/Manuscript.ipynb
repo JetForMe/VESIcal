{
 "cells": [
  {
   "cell_type": "markdown",
   "metadata": {},
   "source": [
    "# ToolName: A comprehensive model for mixed volatile (H$_2$O-CO$_2$) solubility in silicate melts – A python library\n",
    "## (For Earth and Space Sciences, an AGU Journal)\n",
    "***\n",
    "## Kayla Iacovino$^1$, Simon Matthews$^2$, Gordon M. Moore$^1$, Florence Bégué$^3$, Christy B. Till$^4$  and ??? Peter Fox? Mark Ghiorso? Aaron Wolf?\n",
    "$^1$Jacobs/NASA Johnson Space Center, Houston, TX 77058, USA\n",
    "<br>$^2$Simon affiliation\n",
    "<br>$^3$Florence affiliation\n",
    "<br>$^4$School of Earth and Space Exploration (SESE), Arizona State University, Phoenix, AZ"
   ]
  },
  {
   "cell_type": "markdown",
   "metadata": {},
   "source": [
    "# Key Points\n",
    "1. First key point\n",
    "2. Second\n",
    "3. Third"
   ]
  },
  {
   "cell_type": "markdown",
   "metadata": {},
   "source": [
    "# Abstract\n",
    "\n",
    "Thermodynamic modeling has been the backbone of interpreting geologic data and modelling geologic systems for decades. However, more recent advancements in computational capabilities and a marked increase in researchers' accessibility to computing tools has outpaced the functionality and extensibility of currently available modeling tools. Here we present the first comprehensive modelling tool for H$_2$O, CO$_2$, and mixed (H$_2$O-CO$_2$) solubility in silicate melts that: a) allows users access to all commonly used models, inlcuding easy intercomparison between models; b) provides universal functionality for all models (e.g., functions for calculting saturation pressures, degassing paths, etc.); c) can process large datasets (1,000's of samples) automatically; d) outputs computed data into an excel spreadsheet for simple post-modelling analysis; e) integrates advanced plotting capabilities directly within the tool; and f) provides all of these within the framework of a python library, making the tool extensible by the user and allowing any of the model functions to be incorporated into any other code capable of calling python. The tool is presented within this manuscript, which is a Jupyter notebook containing worked examples accessible to python users with a range of skill levels. The [toolname] python library is open-source and available for download at [URL]."
   ]
  },
  {
   "cell_type": "markdown",
   "metadata": {},
   "source": [
    "# Plain Language Summary"
   ]
  },
  {
   "cell_type": "markdown",
   "metadata": {},
   "source": [
    "# 1. Introduction\n",
    "H$_2$O and CO$_2$ are the most abundant volatile species in silicate melts and have profound effects on the phase equilibria, melting temperatures, and viscosity of magmas in addition to being drivers of explosive volcanism. Volatile elements are also key ingredients for Earth-based life, and so have become a focus of planetary exploration aimed at understanding how life came to exist on Earth and where we might find life elsewhere in the solar system and beyond.\n",
    "\n",
    "History of volatile solubility models [some text from Gordon]\n",
    "\n",
    "Currently available tools and issues: Dixon (1995); Moore (1998); Dixon (1997); Shishkina et al (2014); Iacono_marziano (2012); Egucghi and Dasgupta (2018); Zhang and Duan (2009); Allison et al (2019); Papale; MagmaSat; SolEx\n",
    "\n",
    "List of models implemented in this code:\n",
    "* MagmaSat (MELTS v. 1.2.0; Ghiorso and Gualda, 2015)\n",
    "* Dixon (1995)\n",
    "* Shishkina et al. (2014)\n",
    "* Moore et al. (1998)\n",
    "* ...\n",
    "\n",
    "The notebook features the follow workflow and capabilities:\n",
    "* Read in melt composition from an excel spreadsheet\n",
    "* Ability to model multiple liquid compositions at once\n",
    "* Advanced plotting capabilities\n",
    "* Saturation curves (isobars) and isopleths \n",
    "* Degassing paths\n",
    "* Capabilities readily extensible by the user\n",
    "\n",
    "List of calculations:\n",
    "* Isobars and isopleths\n",
    "* Saturation pressures\n",
    "* Equilibrium fluid compositions\n",
    "* Degassing paths (open and closed system)\n",
    "\n",
    "List of plotting tools:\n",
    "* Isobars and isopleths\n",
    "* Degassing paths (open and closed system)\n",
    "* Generic data plotting (via the matplotlib library)\n",
    "\n",
    "List of key features:\n",
    "* Ability to load in large datasets from MS Excel files\n",
    "* Exporting data for offline processing and plotting\n",
    "* Comparison of calculations by multiple models\n",
    "\n",
    "Advanced features:\n",
    "* Ability to choose equation of state for use in any model\n",
    "* Flexible integration of this model code into any other code\n",
    "\n",
    "Some scientific applications:\n",
    "* Interpretation of melt inclusion volatile contents e.g. estimating depths of degassing, understanding how volatiles fuel eruptions"
   ]
  },
  {
   "cell_type": "markdown",
   "metadata": {},
   "source": [
    "# 2. Research Methodology"
   ]
  },
  {
   "cell_type": "markdown",
   "metadata": {},
   "source": [
    "Preamble text\n",
    "\n",
    "\n",
    "All of the calculations implemented in [toolname] can be performed using any of the models included. The code is structured by calculation rather than by model, which provides a more intuitive way for users to interact with the code and compare outputs from multiple models. A python class is definied for each calculation. These classes can be called as python methods, take the model name and any applicable data as arguments, and return the results of the calculation. Each class performs five key functions: 1) creates the requested model object; 2) takes user input and performs the mathematical calculation; 3) does any necessary processing of the output (e.g., normalizing totals); 4) checks that the model is being used within its calibrated range; and 5) returns calcualted outputs in an intuitive and manipulatable format (e.g., a python dictionary, a figure, or a pandas DataFrame).\n",
    "\n",
    "Notes:\n",
    "* No volatile calculator can do these things!\n",
    "* With the ENKI framework, implementation is relatively simple!\n",
    "* Written in python 3\n",
    "* What is needed to run this code? Jupyter notebook on server vs local or as script + installation instructions for library via pip\n",
    "* Link to documentation and github\n",
    "\n",
    "\n",
    "## 2.1 Format of the python library\n",
    "In this section, the basic organization and use cases of [tool name] are discussed. Specific details on how to perform model calculations are discussed in Section 3 and include worked examples. The [tool name] library is written so that users can interact first and foremost with the calculation they want to perform. Five standard calculations can be performed with any model in the library: 1) `calculate_dissolved_volatiles()`; 2) `calculate_equilibrium_fluid_composition()`; 3) `calculate_saturation_pressure()`; 4) `calculate_isobars_and_isopleths()` (plus functionality for plotting); and 5) `calculate_degassing_paths()` (plus functionality for plotting).\n",
    "\n",
    "Figure 1 illustrates the basic organization of the code. First, the user determines which calculation they wish to perform by accessing one of the five core calculation classes (listed above). In this step, the user specifies any input parameters needed for the calculation (e.g., sample composition, pressure, temperature) as well as the model they wish to use. The default model is MagmaSat, but the user may specify any model in the library. As an example, the code to calculate the saturation pressure of some sample using the MagmaSat model would be written as:\n",
    "\n",
    "`calculate_saturation_pressure(sample=mysample, temperature=850.0)`\n",
    "\n",
    "where `mysample` is a dictionary or pandas Series containing the composition of the sample in oxide wt%, and the temperature is given in $^{\\circ}$C. If a different model is desired, for example Shishkina et al. (2014), it can be passed as:\n",
    "\n",
    "`calculate_saturation_pressure(sample=mysample, temperature=850.0, model='Shishkina')`\n",
    "\n",
    "The core calculation classes each perform two functions: 1) a check is performed to ensure that the user input is within the model's recommended calibration range; 2) the `calculate()` method sends the user input to the appropriate model. Each model in the library is defined as a python class and contains model-specific methods for performing the five standard calculations. Standard pre-processing of the data (e.g., normalizing the composition to 100%, ignoring extranneous compositional information) is performed before the calculation and is uniquely defined for each model.\n",
    "\n",
    "### Figure 1 \n",
    "<img src=\"figures/code_flowchart.png\">\n",
    "\n",
    "*Flowchart illustrating the basic organization of the python library. First, a user chooses a calculation to perform and calls one of the five core calculation classes. Here, any necessary parameters are passed such as sample composition, pressure, and temperature. A check is run to ensure the calculation is being performed within model-specified limits. The Calculate() class then calls on one of the Model() classes. The default model is MagmaSat, but a user may specify a different model when defining the calculation parameters. Standard pre-processing is then performed on the input data, and this pre-processing step is unique to each model. The processed data are then fed into a model-specific method to perform the desired core calculation.*\n",
    "<hr>\n",
    "\n",
    "The [tool name] code has been designed to facilitate easy use by a user with any skill level in coding or in the python language. To facilitate this, we have structured the code as two basic end-member computational paths: a batch processing path (simpler) and a single sample path (more advanced options). The level of simplicity of either path is indirectly proportional to the level of customization and extensibility (Figure 2). \n",
    "\n",
    "The \"simplest\" way to interact with the [tool name] code is via the batch processing path. Here, the user provides input data in the form of a Microsoft Excel spreadsheet (.xlsx file) and instructs the model to perform whatever calculation is desired. The model returns data formatted like a Microsoft Excel spreadsheet, which contains the user's original input data plus whatever model outputs were calculated. This path always operates in a \"verbse\" output style; that is, calculations return not only the specific calculated values requested but also any other relevant data calculated along the way. For example, a call to `calculate_saturation_pressure()` in the batch processing path returns, for every sample, the saturation pressure in bars, the mass of fluid present in grams, and the composition of the fluid present. After the calculation is performed, the user can continue to work with the returned data in their jupyter notebook or terminal window, or they can simply export the data to an excel file with one simple command `save_excel_file()`.\n",
    "\n",
    "The more advanced calculation path is actually the most fundamental as it allows the user access to the most basic model functions and even to hybridize models. Calculations are performed on a single sample; iterating over large datasets is left to the user to implement. However, this allows the user to input information in a variety of ways without being constrained to formatting the input data in a particular way or naming scheme. This also gives the user more flexibility in integrating any [tool name] model function into some other python code.\n",
    "\n",
    "### Figure 2\n",
    "<img src=\"figures/figure2.png\">\n",
    "\n",
    "*Figure 2 caption*\n",
    "<hr>\n",
    "\n",
    "\n",
    "## 2.2 Integration within the ENKI framework\n",
    "Introduce ENKI\n",
    "\n",
    "**some older text** MagmaSat+ is a volatile-focused tool capable of producing outputs relevant to volatile solubility and degassing processes. MagmaSat determines the saturation conditions for a mixed H2O-CO2 fluid in natural composition silicate melts <cite data-cite=\"ghiorso_gualda2015\">(Ghiorso & Gualda, 2015)</cite>. MagmaSat+ is a rewrite of the MagmaSat app and based on the thermodynamic model of <cite data-cite=\"ghiorso_gualda2015\">Ghiorso & Gualda (2015)</cite>. Our implementation in the ENKI framework based on Mark’s MELTS-v.1.2.0-equilibrium example notebook (ENKI Equilibrate package)."
   ]
  },
  {
   "cell_type": "markdown",
   "metadata": {},
   "source": [
    "# 3. Workable example uses"
   ]
  },
  {
   "cell_type": "markdown",
   "metadata": {},
   "source": [
    "In this section we detail how to use the various functions available in [tool name] through worked examples. The python code presented below may be copied and pasted into a script or can be edited and executed directly within the Jupyter notebook version of this manuscript. For all examples, code in sections 3.0.1 and 3.0.2 must be executed to initialize the model and import data from the provided companion excel file. The following sections then may be executed on their own and do not need to be executed in order.\n",
    "\n",
    "Workable examples detailed here are:\n",
    "1. Loading, viewing, and preparing user data<br>\n",
    "    1.1. Loading an Excel file<br>\n",
    "    1.2. Defining a single sample composition<br>\n",
    "    1.3. Plotting user data<br>\n",
    "    1.4. Extracting a single sample from an Excel file<br>\n",
    "    1.5. Normalizing and transforming data<br>\n",
    "2. Calculating dissolved volatile concentrations\n",
    "3. Calculating equilibrium fluid compositions\n",
    "4. Calculating saturation pressures\n",
    "5. Calculating and plotting isobars and isopleths\n",
    "6. Calculating and plotting degassing paths\n",
    "7. Plotting multiple calculations\n",
    "8. Comparing results from multiple models\n",
    "9. Code hybridization (Advanced)\n",
    "10. Exporting data\n",
    "\n",
    "**Some preamble on the structure of the following examples**. Sections 3.0 and 3.1 are prerequisites to executing the code in the remainder of Section 3. From Section 3.2 onward, examples are given for both single-sample and ExcelFile batch processing. There is much overlap in the functionality of these two modes of interacting with the code, but there are key differences. Introduce .result.\n",
    "\n",
    "**IDEA: we could make a PDF with some text for absolute python beginners that could be a supplement. This would explain:**\n",
    "1. Object oriented programming\n",
    "2. What the stuff in function calls mean (like, you dont need to name varibles based on args, things like that)\n",
    "3. Others?\n",
    "\n",
    "They don't need to be taught *too* much since the \"advanced\" stuff like dicts and for loops and pandas dataframes are hidden in the code. But, it would be nice if an absolute novice could have a bit of a start."
   ]
  },
  {
   "cell_type": "markdown",
   "metadata": {},
   "source": [
    "### 3.0.1 Initialize packages and choose model"
   ]
  },
  {
   "cell_type": "markdown",
   "metadata": {},
   "source": [
    "For any code using the [tool name] library, the library must be imported for use. Here we import [tool name] as [abbrev]. Any time we wish to use a function from [tool name], that function must be preceded by [abbrev.]. Specific examples of this usage follow. Here we also import some other python libraries that we will be using in the worked examples below."
   ]
  },
  {
   "cell_type": "code",
   "execution_count": 1,
   "metadata": {},
   "outputs": [
    {
     "name": "stderr",
     "output_type": "stream",
     "text": [
      "/Users/kiacovin/.local/lib/python3.7/site-packages/rubicon/objc/ctypes_patch.py:24: UserWarning: rubicon.objc.ctypes_patch has only been tested with Python 3.4 through 3.6. The current version is sys.version_info(major=3, minor=7, micro=7, releaselevel='final', serial=0). Most likely things will work properly, but you may experience crashes if Python's internals have changed significantly.\n",
      "  .format(sys.version_info)\n"
     ]
    },
    {
     "name": "stdout",
     "output_type": "stream",
     "text": [
      "Write code to deal with volatile undersaturation, i.e. low pressures have an upper bound on volatile solubility, so will cause errors when calculating satP\n",
      "Build in a function for re-normalising wtpt after reporting H2O\n",
      "Build in some knowledge of how the parameterisations want to treat Fe, H2O and CO2 in bulk comp.\n",
      "Write code to check models input makes sense.\n",
      "Write code to check models input makes sense.\n",
      "Write code to check models input makes sense.\n",
      "Warning: Eguchi and Dasgupta model should use the Zhang and Duan EOS.\n"
     ]
    }
   ],
   "source": [
    "import MagmaSatPlus as m\n",
    "import matplotlib.pyplot as plt\n",
    "import numpy as np\n",
    "import pandas as pd\n",
    "from IPython.display import display, HTML\n",
    "%matplotlib inline"
   ]
  },
  {
   "cell_type": "markdown",
   "metadata": {},
   "source": [
    "## 3.1. Loading, viewing, and preparing user data"
   ]
  },
  {
   "cell_type": "markdown",
   "metadata": {},
   "source": [
    "All of the following examples will use data loaded in the code cells in this section. Both batch processing of data in an Excel file and single-sample processing are shown. An example file called 'MagmaSat2018-input.xlsx' is included with this manuscript. You can load in your own data by first ensuring that your file is in the same folder as this notebook and then by replacing the filename in the code cell below with the name of your file. The code cell below must be executed for the examples in the rest of this section to function properly.\n",
    "\n",
    "### 3.1.1 Batch processing\n",
    "Batch calculations are always facilitated via the `ExcelFile()` class, which the user uses to specify the filename corresponding to sample data. Loading in data is as simple as calling `ExcelFile(filename)`. Optionally, `input_type` can also be specified.\n",
    "\n",
    "**Structure of the input file:** A file containing compositions and optional pressure and/or temperature information on one or multiple samples can be loaded into this code. The loaded file must be a Microsoft Excel file with the extension .xsl or .xslx. The file must be laid out in the same manner as the example file 'MagmaSat2018-input.xlsx'. The basic structure is also shown in Table 1. Any extranneous columns that are not labeled as oxides or input parameters will be ignored during calculations. The first column titled 'Label' contains sample names. The following columns must contain compositional information as oxides. The only allowable oxides are: SiO$_2$, TiO$_2$, Al$_2$O$_3$, Fe$_2$O$_3$, FeO, Cr$_2$O$_3$, MnO, MgO, CaO, NiO, CoO, Na$_2$O, K$_2$O, P$_2$O$_5$, H$_2$O, and CO$_2$. All of these oxides need not be included; if for example your samples contain no NiO concentration information, you can omit the NiO column. If other oxide columns not listed here are included in your file, they will be ignored during calculations. Compositions can be entered either in wt% (the default), mol%, or mole fraction. If mol% or mole fraction data are loaded, this must be specified when importing the tile.\n",
    "\n",
    "Pressure and temperature data may optionally be included, if they are known. Column names for these data do not matter, as they can be specified by the user as will be shown in following examples.\n",
    "\n",
    "**Class structure:** `class ExcelFile(object)`\n",
    "```\n",
    "class ExcelFile(object):\n",
    "\tdef __init__(self, filename, input_type='wtpercent'):\n",
    "\t\tself.input_type = input_type\n",
    "\t\tdata = pd.read_excel(filename)\n",
    "\t\ttry:\n",
    "\t\t\tdata = data.set_index('Label')\n",
    "\t\texcept:\n",
    "\t\t\traise InputError(\n",
    "\t\t\t\t\"Imported file must contain a column of sample names with the column name \\'Label\\'\")\n",
    "\t\tfor oxide in oxides:\n",
    "\t\t\tif oxide in data.columns:\n",
    "\t\t\t\tpass\n",
    "\t\t\telse:\n",
    "\t\t\t\tdata[oxide] = 0.0\n",
    "\t\tif input_type == \"wtpercent\":\n",
    "\t\t\tpass\n",
    "\t\tif input_type == \"molpercent\":\n",
    "\t\t\tdata = mol_to_wtpercent(data)\n",
    "\t\tif input_type == \"molfrac\":\n",
    "\t\t\tdata = mol_to_wtpercent(data)\n",
    "\t\tself.data = data\n",
    "```\n",
    "\n",
    "**Required inputs:**<br>\n",
    ">`filename`: A file name must be passed in quotes. This file must be in the same folder as the notebook or script that is calling it. This imports the data from the file name given and saves it to a variable of your choosing.\n",
    "\n",
    "**Optional inputs:** By default, the ExcelFile class assumes that loaded data is in units of wt%; alternatively, data in mol% or mole fraction may be loaded. In that case, loaded data is converted into wt% values, since compositions must be in wt% when performing model calculations.<br>\n",
    ">`input_type`: This is optional but must be specified if the data are input in mol% or mole fraction. In these cases, the data will be converted to wt% for the calculations. The user can pass `'molpercent'` for data in mol% or `'molfrac'` for data in mol fraction. The example below includes `input_type='wtpercent`. This is actually not necessary if data is in wt% but is included for clarity.\n",
    "\n",
    "**Outputs:**<br>\n",
    ">A special type of python object defined in the [tool name] code known as an ExcelFile object."
   ]
  },
  {
   "cell_type": "code",
   "execution_count": 2,
   "metadata": {},
   "outputs": [],
   "source": [
    "myfile = m.ExcelFile('example_data.xlsx', input_type='wtpercent')"
   ]
  },
  {
   "cell_type": "markdown",
   "metadata": {},
   "source": [
    "Once the ExcelFile object is created and assigned to a variable, the user can then access the data loaded from their file as `variable.data`. In this example, the variable corresponding to the `ExcelFile` object is named `myfile` and so the data in that file can be accessed with `myfile.data`. Below, `myfile.data` is saved to a variable we name `data`. The variable `data` is a pandas DataFrame object, which makes displaying the data itself quite simple and aesthetically pleasing, since pandas DataFrames mimic spreadsheets."
   ]
  },
  {
   "cell_type": "markdown",
   "metadata": {},
   "source": [
    "### Table 1. User input data: Melt inclusion compositions\n",
    "Execute the below cell to display Table 1."
   ]
  },
  {
   "cell_type": "code",
   "execution_count": 3,
   "metadata": {},
   "outputs": [
    {
     "data": {
      "text/html": [
       "<div>\n",
       "<style scoped>\n",
       "    .dataframe tbody tr th:only-of-type {\n",
       "        vertical-align: middle;\n",
       "    }\n",
       "\n",
       "    .dataframe tbody tr th {\n",
       "        vertical-align: top;\n",
       "    }\n",
       "\n",
       "    .dataframe thead th {\n",
       "        text-align: right;\n",
       "    }\n",
       "</style>\n",
       "<table border=\"1\" class=\"dataframe\">\n",
       "  <thead>\n",
       "    <tr style=\"text-align: right;\">\n",
       "      <th></th>\n",
       "      <th>SiO2</th>\n",
       "      <th>TiO2</th>\n",
       "      <th>Al2O3</th>\n",
       "      <th>Fe2O3</th>\n",
       "      <th>Cr2O3</th>\n",
       "      <th>FeO</th>\n",
       "      <th>MnO</th>\n",
       "      <th>MgO</th>\n",
       "      <th>NiO</th>\n",
       "      <th>CoO</th>\n",
       "      <th>CaO</th>\n",
       "      <th>Na2O</th>\n",
       "      <th>K2O</th>\n",
       "      <th>P2O5</th>\n",
       "      <th>H2O</th>\n",
       "      <th>CO2</th>\n",
       "      <th>Press</th>\n",
       "      <th>Temp</th>\n",
       "    </tr>\n",
       "    <tr>\n",
       "      <th>Label</th>\n",
       "      <th></th>\n",
       "      <th></th>\n",
       "      <th></th>\n",
       "      <th></th>\n",
       "      <th></th>\n",
       "      <th></th>\n",
       "      <th></th>\n",
       "      <th></th>\n",
       "      <th></th>\n",
       "      <th></th>\n",
       "      <th></th>\n",
       "      <th></th>\n",
       "      <th></th>\n",
       "      <th></th>\n",
       "      <th></th>\n",
       "      <th></th>\n",
       "      <th></th>\n",
       "      <th></th>\n",
       "    </tr>\n",
       "  </thead>\n",
       "  <tbody>\n",
       "    <tr>\n",
       "      <th>BT-ex</th>\n",
       "      <td>77.50</td>\n",
       "      <td>0.0800</td>\n",
       "      <td>12.50</td>\n",
       "      <td>0.207</td>\n",
       "      <td>0</td>\n",
       "      <td>0.4730</td>\n",
       "      <td>0.0000</td>\n",
       "      <td>0.0300</td>\n",
       "      <td>0</td>\n",
       "      <td>0</td>\n",
       "      <td>0.4300</td>\n",
       "      <td>3.98</td>\n",
       "      <td>4.88</td>\n",
       "      <td>0.0000</td>\n",
       "      <td>5.500000</td>\n",
       "      <td>0.050000</td>\n",
       "      <td>500</td>\n",
       "      <td>900</td>\n",
       "    </tr>\n",
       "    <tr>\n",
       "      <th>TVZMa-ex</th>\n",
       "      <td>78.37</td>\n",
       "      <td>0.1300</td>\n",
       "      <td>11.94</td>\n",
       "      <td>0.000</td>\n",
       "      <td>0</td>\n",
       "      <td>0.9900</td>\n",
       "      <td>0.0400</td>\n",
       "      <td>0.0500</td>\n",
       "      <td>0</td>\n",
       "      <td>0</td>\n",
       "      <td>0.5300</td>\n",
       "      <td>3.80</td>\n",
       "      <td>4.14</td>\n",
       "      <td>0.0000</td>\n",
       "      <td>4.060000</td>\n",
       "      <td>0.005000</td>\n",
       "      <td>600</td>\n",
       "      <td>800</td>\n",
       "    </tr>\n",
       "    <tr>\n",
       "      <th>TVZOh-ex</th>\n",
       "      <td>77.90</td>\n",
       "      <td>0.0800</td>\n",
       "      <td>12.15</td>\n",
       "      <td>0.000</td>\n",
       "      <td>0</td>\n",
       "      <td>0.9500</td>\n",
       "      <td>0.0500</td>\n",
       "      <td>0.0600</td>\n",
       "      <td>0</td>\n",
       "      <td>0</td>\n",
       "      <td>0.5500</td>\n",
       "      <td>4.05</td>\n",
       "      <td>4.12</td>\n",
       "      <td>0.0000</td>\n",
       "      <td>4.630000</td>\n",
       "      <td>0.005000</td>\n",
       "      <td>50</td>\n",
       "      <td>900</td>\n",
       "    </tr>\n",
       "    <tr>\n",
       "      <th>Oh48-FTIR1-MI1-a</th>\n",
       "      <td>78.27</td>\n",
       "      <td>0.0298</td>\n",
       "      <td>12.02</td>\n",
       "      <td>0.000</td>\n",
       "      <td>0</td>\n",
       "      <td>0.9828</td>\n",
       "      <td>0.0336</td>\n",
       "      <td>0.0515</td>\n",
       "      <td>0</td>\n",
       "      <td>0</td>\n",
       "      <td>0.4772</td>\n",
       "      <td>4.05</td>\n",
       "      <td>4.09</td>\n",
       "      <td>0.0000</td>\n",
       "      <td>4.214912</td>\n",
       "      <td>0.004566</td>\n",
       "      <td>250</td>\n",
       "      <td>950</td>\n",
       "    </tr>\n",
       "    <tr>\n",
       "      <th>Oh48-FTIR1-MI1-b</th>\n",
       "      <td>78.27</td>\n",
       "      <td>0.0298</td>\n",
       "      <td>12.02</td>\n",
       "      <td>0.000</td>\n",
       "      <td>0</td>\n",
       "      <td>0.9828</td>\n",
       "      <td>0.0336</td>\n",
       "      <td>0.0515</td>\n",
       "      <td>0</td>\n",
       "      <td>0</td>\n",
       "      <td>0.4772</td>\n",
       "      <td>4.05</td>\n",
       "      <td>4.09</td>\n",
       "      <td>0.0000</td>\n",
       "      <td>4.005816</td>\n",
       "      <td>0.004448</td>\n",
       "      <td>500</td>\n",
       "      <td>1025</td>\n",
       "    </tr>\n",
       "    <tr>\n",
       "      <th>Oh48-FTIR1-MI1-IRc</th>\n",
       "      <td>78.27</td>\n",
       "      <td>0.0298</td>\n",
       "      <td>12.02</td>\n",
       "      <td>0.000</td>\n",
       "      <td>0</td>\n",
       "      <td>0.9828</td>\n",
       "      <td>0.0336</td>\n",
       "      <td>0.0515</td>\n",
       "      <td>0</td>\n",
       "      <td>0</td>\n",
       "      <td>0.4772</td>\n",
       "      <td>4.05</td>\n",
       "      <td>4.09</td>\n",
       "      <td>0.0000</td>\n",
       "      <td>3.885649</td>\n",
       "      <td>0.004654</td>\n",
       "      <td>5000</td>\n",
       "      <td>925</td>\n",
       "    </tr>\n",
       "    <tr>\n",
       "      <th>Oh50-4.1</th>\n",
       "      <td>77.91</td>\n",
       "      <td>0.0984</td>\n",
       "      <td>12.07</td>\n",
       "      <td>0.000</td>\n",
       "      <td>0</td>\n",
       "      <td>1.0556</td>\n",
       "      <td>0.0257</td>\n",
       "      <td>0.0999</td>\n",
       "      <td>0</td>\n",
       "      <td>0</td>\n",
       "      <td>0.5216</td>\n",
       "      <td>4.04</td>\n",
       "      <td>4.18</td>\n",
       "      <td>0.0000</td>\n",
       "      <td>4.641843</td>\n",
       "      <td>0.004566</td>\n",
       "      <td>1000</td>\n",
       "      <td>862</td>\n",
       "    </tr>\n",
       "    <tr>\n",
       "      <th>Oh50-4.2</th>\n",
       "      <td>77.91</td>\n",
       "      <td>0.0984</td>\n",
       "      <td>12.07</td>\n",
       "      <td>0.000</td>\n",
       "      <td>0</td>\n",
       "      <td>1.0556</td>\n",
       "      <td>0.0257</td>\n",
       "      <td>0.0999</td>\n",
       "      <td>0</td>\n",
       "      <td>0</td>\n",
       "      <td>0.5216</td>\n",
       "      <td>4.04</td>\n",
       "      <td>4.18</td>\n",
       "      <td>0.0000</td>\n",
       "      <td>4.402133</td>\n",
       "      <td>0.004448</td>\n",
       "      <td>100</td>\n",
       "      <td>770</td>\n",
       "    </tr>\n",
       "    <tr>\n",
       "      <th>Oh49-4.1</th>\n",
       "      <td>77.92</td>\n",
       "      <td>0.0099</td>\n",
       "      <td>12.11</td>\n",
       "      <td>0.000</td>\n",
       "      <td>0</td>\n",
       "      <td>1.0020</td>\n",
       "      <td>0.0672</td>\n",
       "      <td>0.0546</td>\n",
       "      <td>0</td>\n",
       "      <td>0</td>\n",
       "      <td>0.5346</td>\n",
       "      <td>4.01</td>\n",
       "      <td>4.30</td>\n",
       "      <td>0.0000</td>\n",
       "      <td>4.283934</td>\n",
       "      <td>0.004566</td>\n",
       "      <td>1000</td>\n",
       "      <td>855</td>\n",
       "    </tr>\n",
       "    <tr>\n",
       "      <th>Oh49-4.2</th>\n",
       "      <td>77.92</td>\n",
       "      <td>0.0099</td>\n",
       "      <td>12.11</td>\n",
       "      <td>0.000</td>\n",
       "      <td>0</td>\n",
       "      <td>1.0020</td>\n",
       "      <td>0.0672</td>\n",
       "      <td>0.0546</td>\n",
       "      <td>0</td>\n",
       "      <td>0</td>\n",
       "      <td>0.5346</td>\n",
       "      <td>4.01</td>\n",
       "      <td>4.30</td>\n",
       "      <td>0.0000</td>\n",
       "      <td>4.230533</td>\n",
       "      <td>0.004448</td>\n",
       "      <td>500</td>\n",
       "      <td>1000</td>\n",
       "    </tr>\n",
       "    <tr>\n",
       "      <th>Ma55-5a.1</th>\n",
       "      <td>77.68</td>\n",
       "      <td>0.0096</td>\n",
       "      <td>12.27</td>\n",
       "      <td>0.000</td>\n",
       "      <td>0</td>\n",
       "      <td>1.0272</td>\n",
       "      <td>0.0628</td>\n",
       "      <td>0.0342</td>\n",
       "      <td>0</td>\n",
       "      <td>0</td>\n",
       "      <td>0.6064</td>\n",
       "      <td>3.97</td>\n",
       "      <td>4.35</td>\n",
       "      <td>0.0000</td>\n",
       "      <td>4.459767</td>\n",
       "      <td>0.004654</td>\n",
       "      <td>5000</td>\n",
       "      <td>1010</td>\n",
       "    </tr>\n",
       "    <tr>\n",
       "      <th>Ma57-3b.2</th>\n",
       "      <td>77.90</td>\n",
       "      <td>0.0498</td>\n",
       "      <td>12.07</td>\n",
       "      <td>0.000</td>\n",
       "      <td>0</td>\n",
       "      <td>1.0844</td>\n",
       "      <td>0.0748</td>\n",
       "      <td>0.0355</td>\n",
       "      <td>0</td>\n",
       "      <td>0</td>\n",
       "      <td>0.4759</td>\n",
       "      <td>4.10</td>\n",
       "      <td>4.21</td>\n",
       "      <td>0.0000</td>\n",
       "      <td>3.712506</td>\n",
       "      <td>0.004448</td>\n",
       "      <td>1000</td>\n",
       "      <td>1012</td>\n",
       "    </tr>\n",
       "    <tr>\n",
       "      <th>Ma57-3c.1</th>\n",
       "      <td>77.65</td>\n",
       "      <td>0.1590</td>\n",
       "      <td>12.28</td>\n",
       "      <td>0.000</td>\n",
       "      <td>0</td>\n",
       "      <td>0.9769</td>\n",
       "      <td>0.0597</td>\n",
       "      <td>0.0577</td>\n",
       "      <td>0</td>\n",
       "      <td>0</td>\n",
       "      <td>0.5598</td>\n",
       "      <td>4.08</td>\n",
       "      <td>4.18</td>\n",
       "      <td>0.0064</td>\n",
       "      <td>4.443973</td>\n",
       "      <td>0.004654</td>\n",
       "      <td>100</td>\n",
       "      <td>885</td>\n",
       "    </tr>\n",
       "    <tr>\n",
       "      <th>Ma57-3c.2</th>\n",
       "      <td>77.65</td>\n",
       "      <td>0.1590</td>\n",
       "      <td>12.28</td>\n",
       "      <td>0.000</td>\n",
       "      <td>0</td>\n",
       "      <td>0.9769</td>\n",
       "      <td>0.0597</td>\n",
       "      <td>0.0577</td>\n",
       "      <td>0</td>\n",
       "      <td>0</td>\n",
       "      <td>0.5598</td>\n",
       "      <td>4.08</td>\n",
       "      <td>4.18</td>\n",
       "      <td>0.0064</td>\n",
       "      <td>4.283171</td>\n",
       "      <td>0.004645</td>\n",
       "      <td>1000</td>\n",
       "      <td>885</td>\n",
       "    </tr>\n",
       "  </tbody>\n",
       "</table>\n",
       "</div>"
      ],
      "text/plain": [
       "                     SiO2    TiO2  Al2O3  Fe2O3  Cr2O3     FeO     MnO  \\\n",
       "Label                                                                    \n",
       "BT-ex               77.50  0.0800  12.50  0.207      0  0.4730  0.0000   \n",
       "TVZMa-ex            78.37  0.1300  11.94  0.000      0  0.9900  0.0400   \n",
       "TVZOh-ex            77.90  0.0800  12.15  0.000      0  0.9500  0.0500   \n",
       "Oh48-FTIR1-MI1-a    78.27  0.0298  12.02  0.000      0  0.9828  0.0336   \n",
       "Oh48-FTIR1-MI1-b    78.27  0.0298  12.02  0.000      0  0.9828  0.0336   \n",
       "Oh48-FTIR1-MI1-IRc  78.27  0.0298  12.02  0.000      0  0.9828  0.0336   \n",
       "Oh50-4.1            77.91  0.0984  12.07  0.000      0  1.0556  0.0257   \n",
       "Oh50-4.2            77.91  0.0984  12.07  0.000      0  1.0556  0.0257   \n",
       "Oh49-4.1            77.92  0.0099  12.11  0.000      0  1.0020  0.0672   \n",
       "Oh49-4.2            77.92  0.0099  12.11  0.000      0  1.0020  0.0672   \n",
       "Ma55-5a.1           77.68  0.0096  12.27  0.000      0  1.0272  0.0628   \n",
       "Ma57-3b.2           77.90  0.0498  12.07  0.000      0  1.0844  0.0748   \n",
       "Ma57-3c.1           77.65  0.1590  12.28  0.000      0  0.9769  0.0597   \n",
       "Ma57-3c.2           77.65  0.1590  12.28  0.000      0  0.9769  0.0597   \n",
       "\n",
       "                       MgO  NiO  CoO     CaO  Na2O   K2O    P2O5       H2O  \\\n",
       "Label                                                                        \n",
       "BT-ex               0.0300    0    0  0.4300  3.98  4.88  0.0000  5.500000   \n",
       "TVZMa-ex            0.0500    0    0  0.5300  3.80  4.14  0.0000  4.060000   \n",
       "TVZOh-ex            0.0600    0    0  0.5500  4.05  4.12  0.0000  4.630000   \n",
       "Oh48-FTIR1-MI1-a    0.0515    0    0  0.4772  4.05  4.09  0.0000  4.214912   \n",
       "Oh48-FTIR1-MI1-b    0.0515    0    0  0.4772  4.05  4.09  0.0000  4.005816   \n",
       "Oh48-FTIR1-MI1-IRc  0.0515    0    0  0.4772  4.05  4.09  0.0000  3.885649   \n",
       "Oh50-4.1            0.0999    0    0  0.5216  4.04  4.18  0.0000  4.641843   \n",
       "Oh50-4.2            0.0999    0    0  0.5216  4.04  4.18  0.0000  4.402133   \n",
       "Oh49-4.1            0.0546    0    0  0.5346  4.01  4.30  0.0000  4.283934   \n",
       "Oh49-4.2            0.0546    0    0  0.5346  4.01  4.30  0.0000  4.230533   \n",
       "Ma55-5a.1           0.0342    0    0  0.6064  3.97  4.35  0.0000  4.459767   \n",
       "Ma57-3b.2           0.0355    0    0  0.4759  4.10  4.21  0.0000  3.712506   \n",
       "Ma57-3c.1           0.0577    0    0  0.5598  4.08  4.18  0.0064  4.443973   \n",
       "Ma57-3c.2           0.0577    0    0  0.5598  4.08  4.18  0.0064  4.283171   \n",
       "\n",
       "                         CO2  Press  Temp  \n",
       "Label                                      \n",
       "BT-ex               0.050000    500   900  \n",
       "TVZMa-ex            0.005000    600   800  \n",
       "TVZOh-ex            0.005000     50   900  \n",
       "Oh48-FTIR1-MI1-a    0.004566    250   950  \n",
       "Oh48-FTIR1-MI1-b    0.004448    500  1025  \n",
       "Oh48-FTIR1-MI1-IRc  0.004654   5000   925  \n",
       "Oh50-4.1            0.004566   1000   862  \n",
       "Oh50-4.2            0.004448    100   770  \n",
       "Oh49-4.1            0.004566   1000   855  \n",
       "Oh49-4.2            0.004448    500  1000  \n",
       "Ma55-5a.1           0.004654   5000  1010  \n",
       "Ma57-3b.2           0.004448   1000  1012  \n",
       "Ma57-3c.1           0.004654    100   885  \n",
       "Ma57-3c.2           0.004645   1000   885  "
      ]
     },
     "execution_count": 3,
     "metadata": {},
     "output_type": "execute_result"
    }
   ],
   "source": [
    "data = myfile.data\n",
    "data"
   ]
  },
  {
   "cell_type": "markdown",
   "metadata": {},
   "source": [
    "### 3.1.2 Defining a single sample\n",
    "More advanced functionality of [tool name] is facilitated directly through the five core calculation classes. Each calculation requires its own unique inputs, but all calculations require that a sample composition be passed. We can pass in a sample either as a python dictionary or pandas Series. Below, we define a sample and name it `my_sample`. Oxides are given in wt%. Only the oxides shown here can be used, but not all oxides are required. Any extra oxides (or other information not in the oxide list) the user defines will be ignored during calculations."
   ]
  },
  {
   "cell_type": "code",
   "execution_count": 4,
   "metadata": {},
   "outputs": [],
   "source": [
    "\"\"\"To manually input a bulk composition, fill in the oxides in wt% below:\"\"\"\n",
    "my_sample = {'SiO2':  77.3, \n",
    "             'TiO2':   0.08, \n",
    "             'Al2O3': 12.6, \n",
    "             'Fe2O3':  0.207,\n",
    "             'Cr2O3':  0.0, \n",
    "             'FeO':    0.473, \n",
    "             'MnO':    0.0,\n",
    "             'MgO':    0.03, \n",
    "             'NiO':    0.0, \n",
    "             'CoO':    0.0,\n",
    "             'CaO':    0.43, \n",
    "             'Na2O':   3.98, \n",
    "             'K2O':    4.88, \n",
    "             'P2O5':   0.0, \n",
    "             'H2O':    6.5,\n",
    "             'CO2':    0.05}"
   ]
  },
  {
   "cell_type": "markdown",
   "metadata": {},
   "source": [
    "### 3.1.3 Plotting user input data\n",
    "Using the functionality built into python and the matplotlib library, user data can be plotted at any time, including before any calculations are performed. Almost any plot type imaginable can be produced, and users should refer to the maptlotlib documentation (https://matplotlib.org/3.2.1/index.html) if more complex plotting is desired. Below is a simple example where two oxides are plotted against one another for all samples in the imported data file. The oxide names below can be changed to display data from any column in the imported file. Multiple datasets can be plotted on the same figure. Below we plot compositional data for samples imported in the Excel file and for the single sample we defined above.\n",
    "\n",
    "### Figure 3"
   ]
  },
  {
   "cell_type": "code",
   "execution_count": null,
   "metadata": {},
   "outputs": [],
   "source": [
    "plt.plot(data[\"SiO2\"], data[\"Al2O3\"], 'o', color='blue', label=\"Excel File Data\")\n",
    "plt.plot(my_sample[\"SiO2\"], my_sample[\"Al2O3\"], 'o', color='green', label=\"Single Sample Data\")\n",
    "plt.xlabel(\"SiO$_2$\")\n",
    "plt.ylabel(\"Al$_2$O$_3$\")\n",
    "plt.title(\"An Example Matplotlib Plot\")\n",
    "plt.legend(loc=\"upper right\")\n",
    "plt.show()"
   ]
  },
  {
   "cell_type": "markdown",
   "metadata": {},
   "source": [
    "*Figure 3 caption*"
   ]
  },
  {
   "cell_type": "markdown",
   "metadata": {},
   "source": [
    "### 3.1.4 Extracting a single melt composition from a loaded file\n",
    "Defined within the `ExcelFile()` class, the method `get_sample_oxide_comp()` allows for the extraction of a melt composition from a loaded excel file.\n",
    "\n",
    "**Method structure:** `def get_sample_oxide_comp(self, sample, norm='none')`\n",
    "\n",
    "**Required inputs:**<br>\n",
    ">`sample`: The name of the sample, as a string, as defined in the 'Label' column of the input excel file.\n",
    "\n",
    "**Optional inputs:**<br>\n",
    ">`norm`: This is optional and determines the style of normalization performed on a sample. The default value is `'none'`, which returns the value-for-value un-normalized composition. Passing `'standard'` returns the composition normalized to 100%, including any volatiles. Passing `'fixedvolatiles'` normalizes the oxides to 100%, but volatiles remain fixed while other major element oxides are reduced proporitonally so that the total is 100 wt%. Passing `'anhydrous'` normalizes oxides to 100% assuming the sample is volatile-free. If H$_2$O or CO$_2$ concentrations are passed to the function, their un-normalized values will be retained in addition to the normalized non-volatile oxides, summing to >100%.\n",
    "\n",
    "**Outputs:**<br>\n",
    ">The bulk composition stored in a dictionary, with values in wt%."
   ]
  },
  {
   "cell_type": "code",
   "execution_count": null,
   "metadata": {},
   "outputs": [],
   "source": [
    "\"\"\"To get composition from a specific sample in the input data:\"\"\"\n",
    "SampleName = 'BT-ex'\n",
    "extracted_bulk_comp = myfile.get_sample_oxide_comp(SampleName)\n",
    "\n",
    "\"\"\"To see the extracted sample composition, uncomment the line below and execute this code cell\"\"\"\n",
    "#extracted_bulk_comp\n",
    "\n",
    "\"\"\"To see the sum of the composition, uncomment the line below and execute this code cell\"\"\"\n",
    "#sum(extracted_bulk_comp.values())"
   ]
  },
  {
   "cell_type": "markdown",
   "metadata": {},
   "source": [
    "To specify a normalization style, for example the 'fixedvolatiles' normalization routine, the above code could instead be written as:<br>\n",
    "`extracted_bulk_comp = myfile.get_sample_oxide_comp(SampleName, norm='fixedvolatiles')`"
   ]
  },
  {
   "cell_type": "markdown",
   "metadata": {},
   "source": [
    "### 3.1.5 Normalizing and transforming data\n",
    "\n",
    "Before performing model calculations on your data, it may be desired to normalize the input composition to a total of 100 wt%. [Tool name] has multiple methods for normalizing sample data using various routines. Normalization can be done automatically when retrieving a single sample from an Excel file, as detailed above. Each of the normalization routines can be accessed by the user at any time to normalize either a signle sample or all samples in an ExcelFile object. \n",
    "\n",
    "All three normalization functions can take in either a single composition as a dictionary or multiple compositions either as an ExcelFile object or a pandas DataFrame object (e.g., `yourexcelfile` or `yourexcelfile.data`). The standard normalize functino returns the composition normalized to 100%, including any volatiles. The FixedVolatiles function normalizes the oxides to 100%, but volatiles remain fixed while other major element oxides are reduced proporitonally so that the total is 100 wt%. The AdditionalVolatiles function normalizes oxides to 100% assuming the sample is volatile-free. If H$_2$O or CO$_2$ concentrations are passed to the function, their un-normalized values will be retained in addition to the normalized non-volatile oxides, summing to >100%.\n",
    "\n",
    "**Method structures:** `def normalize(sample)`, `def normalize_FixedVolatiles(sample)`, `def normalize_AdditionalVolatiles(sample)`\n",
    "\n",
    "**Required inputs:**<br>\n",
    ">`sample` can be a dictionary containing compositional data for a single sample, an ExcelFile object containing compositional data for multiple samples, or a pandas DataFrame object containing compositional data for multiple samples. Examples are shown for all three cases below.\n",
    "\n",
    "**Outputs:**<br>\n",
    ">If a single composition is passed, a dictionary or pandas Series is returned. If multiple compositions are passed, a pandas DataFrame object is returned.\n",
    "\n",
    "In any of the below examples, `myfile`, `myfile.data`, or `my_sample` can all be passed to any function."
   ]
  },
  {
   "cell_type": "code",
   "execution_count": null,
   "metadata": {},
   "outputs": [],
   "source": [
    "\"\"\"Standard normalization\"\"\"\n",
    "standard = m.normalize(myfile)\n",
    "#print(standard)\n",
    "\n",
    "\"\"\"FixedVolatiles normalization\"\"\"\n",
    "fixed = m.normalize_FixedVolatiles(myfile)\n",
    "#print(fixed)\n",
    "\n",
    "\"\"\"AdditionalVolatiles normalization\"\"\"\n",
    "additional = m.normalize_AdditionalVolatiles(myfile)\n",
    "#print(additional)"
   ]
  },
  {
   "cell_type": "markdown",
   "metadata": {},
   "source": [
    "### Table 2. Viewing extracted sample composition\n",
    "The user may wish to print extracted sample composition to a terminal or notebook cell to verify that the correct data was extracted. Using the current example, this can be done simpy by typing `print(extracted_bulk_comp)`. However, [toolname] also has a built in function to display these values as a table, rather than as a list of values.\n",
    "\n",
    "The `printTable(myDict)` function takes in any python dictionary and converts it to a pandas DataFrame, which can then be displayed in an aesthetically pleasing format.\n",
    "\n",
    "**Method structure:** `def printTable(myDict)`\n",
    "\n",
    "**Required inputs:**<br>\n",
    ">`myDict` is any python dictionary\n",
    "\n",
    "**Outputs:**<br>\n",
    ">A pandas DataFrame is returned."
   ]
  },
  {
   "cell_type": "code",
   "execution_count": null,
   "metadata": {},
   "outputs": [],
   "source": [
    "\"\"\"Execute the following line to print the data as a list of values\"\"\"\n",
    "print(extracted_bulk_comp)\n",
    "\n",
    "\"\"\"Execute the following line to display Table 2 and print the data as a table.\"\"\"\n",
    "m.printTable(extracted_bulk_comp)"
   ]
  },
  {
   "cell_type": "markdown",
   "metadata": {},
   "source": [
    "## 3.2. Calculating dissolved volatile concentrations\n",
    "The `calculate_dissolved_volatiles()` function calcutions the concentration of dissolved H$_2$O and CO$_2$ in the liquid at a given pressure-temperature condition and with a given H$_2$O-CO$_2$ fluid composition, defined as the mole fraction of H$_2$O in an H$_2$O-CO$_2$ fluid (XH$_2$O$^{fluid}$). The default MagmaSat model relies on the underlying functionatlity of MELTS, whose basic function is to calculate the equilibrium phase assemblage given the bulk composition of the system and pressure-temperature conditions. To calculate dissolved volatile concentrations thus requires computing the equilibrium state of a system at fixed pressure and temperature over a range of bulk volatile concentrations until a solution is found that satisfies the user defined fluid composition.\n",
    "\n",
    "First, the function makes an initial guess at the appropriate bulk volatile concentrations by finding the minimum dissolved volatile concentrations in the liquid at saturation, while asserting that the weight fraction of H$_2$O/$\\Sigma$volatiles in the system is equal to the user input mole fraction of H$_2$O/$\\Sigma$volatiles in the fluid. This is done by increasing the H$_2$O and CO$_2$ concentrations appropriately until a fluid phase is stable. Once fluid saturation is determined, the code then performs directional, iterative, and progressively more refined searches, increasing the proportion of H$_2$O or CO$_2$ in the system if the mole fraction of H$_2$O calculated in the fluid is greater than or less than that defined by the user, respectively. Four iterative searches are performed; the precision of the match between the calculated and defined XH$_2$O$^{fluid}$ increases from 0.1 in the first iteration to 0.01, 0.001, and finally to 0.0001. Thus, the calculated dissolved volatile concentrations correspond to a system with XH$_2$O$^{fluid}$ within 0.0001 of the user defined value.\n",
    "\n",
    "#SimonTODO can you write more details about how the other functions calculate dissolved volatiles? It's much more straightforward with the other models, since you can directly access fugacity, etc.\n",
    "\n",
    "**Method structure:**<br>\n",
    "> Single sample: `def calculate_dissolved_volatiles(self, sample, temperature, pressure, X_fluid=1, verbose=False).result`\n",
    "\n",
    ">ExcelFile batch process: #TODO\n",
    "\n",
    "**Required inputs:**<br>\n",
    ">`sample`: *Only for single sample calculations.* The composition of a sample. A single sample may be passed as a dictionary of values, with compositions of oxides in wt%.\n",
    "\n",
    ">`temperature`: The temperature in $^{\\circ}$C.\n",
    "\n",
    ">`pressure`: The pressure in bars.\n",
    "\n",
    ">`X_fluid`: The mole fraction of H$_2$O in the H$_2$O-CO$_2$ fluid, XH$_2$O$^{fluid}$. The default value is 1.\n",
    "\n",
    "**Optional inputs:**<br>\n",
    ">`verbose`: *Only for single-sample calculations.* Default value is False. If set to True, additional parameters are returned in a dictionary: H$_2$O and CO$_2$ concentrations in the fluid in mole fraction, temperature, pressure, and proportion of the fluid in the system in wt%.\n",
    "\n",
    "**Calculated outputs:**<br>\n",
    ">If a single sample is passed to `sample`, a dictionary with keys 'H2O' and 'CO2' corresponding to the calculated dissolved H$_2$O and CO$_2$ concentrations in the liquid is returned (plus additional variables 'temperature' in $^{\\circ}$C, 'pressure' in bars, 'XH2O_fl', 'XCO2_fl', and 'FluidProportion_wtper' (the proportion of the fluid in the system in wt%) if `verbose` is set to True). \n",
    "\n",
    ">If mutliple samples are passed as an ExcelFile object, a pandas DataFrame is returned with sample information plus calculated dissolved H$_2$O and CO$_2$ concentrations in the liquid, the fluid composition in mole fraction, and the proportion of the fluid in the system in wt%. Pressure (in bars) and Temperature (in $^{\\circ}$C) columns are always returned."
   ]
  },
  {
   "cell_type": "code",
   "execution_count": 5,
   "metadata": {},
   "outputs": [
    {
     "data": {
      "text/plain": [
       "{'temperature': 900.0,\n",
       " 'pressure': 2000.0,\n",
       " 'H2O_liq': 3.65578222355578,\n",
       " 'CO2_liq': 0.0652339190926203,\n",
       " 'XH2O_fl': 0.549910082065507,\n",
       " 'XCO2_fl': 0.450089917934493,\n",
       " 'FluidProportion_wtper': 0.15135920091881858}"
      ]
     },
     "execution_count": 5,
     "metadata": {},
     "output_type": "execute_result"
    }
   ],
   "source": [
    "\"\"\"To get composition from a specific sample in the input data:\"\"\"\n",
    "SampleName = 'BT-ex'\n",
    "bulk_comp = myfile.get_sample_oxide_comp(SampleName, norm='standard')\n",
    "\n",
    "\"\"\"Calculate dissolved volatiles for the extracted sample\"\"\"\n",
    "m.calculate_dissolved_volatiles(sample=bulk_comp, temperature=900.0, pressure=2000.0, \n",
    "                                X_fluid=0.55, verbose=True).result"
   ]
  },
  {
   "cell_type": "markdown",
   "metadata": {},
   "source": [
    "## 3.3. Calculating equilibrium fluid compositions\n",
    "The `calculate_equilibrium_fluid_comp()` function calculates the composition of a fluid phase in equilibrium with a given silicate melt with known pressure, temperature, and dissolved H$_2$O and CO$_2$ concentrations. The calculation is performed simply by calculating the equilibrium state of the given sample at the given conditions and determining if that melt is fluid saturated. If the melt is saturated, fluid composition and mass are reported back. If the calculation finds that the melt is not saturated at the given pressure and temperature, values of 0.0 will be returned for the H$_2$O and CO$_2$ concentrations in the fluid.\n",
    "\n",
    "#SimonTODO can you write more details about how the other functions calculate equilibrium fluid comps?\n",
    "\n",
    "**Method structure:**<br>\n",
    ">Single sample: `def calculate_equilibrium_fluid_comp(self, sample, temperature, pressure, mode='wtper', verbose=False).result`\n",
    "\n",
    ">ExcelFile batch process: `def calculate_equilibrium_fluid_comp(self, temperature, pressure, mode='wtper')`\n",
    "\n",
    "**Required inputs:**<br>\n",
    ">`sample`: *Only for single sample calculations.* The composition of a sample. A single sample may be passed as a dictionary of values, with compositions of oxides in wt%.\n",
    "\n",
    ">`temperature` and `pressure`: the temperature in $^{\\circ}$C and the pressure in bars. Temperature and pressure of the sample or samples must be passed unless an ExcelFile object with a column for temperature and/or pressure is passed to `sample`. If a numerical (float) value is passed for either temperature or pressure, that will be the value used for one or all samples. If, alternatively, the user wishes to use temperature and/or pressure information in their ExcelFile object, the title of the column containing temperature or pressure data should be passed in quotes (as a string) to `temperature` and `pressure`, respectively. Note for batch calculations that if pressure or temperature information exists in the ExcelFile but a single numerical value is defined for one or both of these variables, both the original pressure and temperature information plus the pressure and temperature values used for the calculations will be returned.\n",
    "\n",
    "**Optional inputs:**<br>\n",
    ">`verbose`: *Only for single-sample calculations.* Default value is False. If set to True, additional parameters are returned in a dictionary: H$_2$O and CO$_2$ concentrations in the fluid, mass of the fluid in grams, and proportion of the fluid in the system in wt%.\n",
    "\n",
    ">`mode`: The default value is 'wtper', which returns the fluid composition in wt% oxides. Passing 'molfrac' returns the fluid composition in mole fraction (where XH$_2$O=1 is a pure H$_2$O fluid, and XH$_2$O=0 is a pure CO$_2$ fluid).\n",
    "\n",
    "**Calculated outputs:**<br>\n",
    ">If a single sample is passed to `sample`, a dictionary with keys 'H2O' and 'CO2' is returned (plus additional variables 'FluidMass_grams' and 'FluidProportion_wtper' if `verbose` is set to True). \n",
    "\n",
    ">If mutliple samples are passed as an ExcelFile object, a pandas DataFrame is returned with sample information plus calculated equilibrium fluid compositions, mass of the fluid in grams, and proportion of the fluid in the system in wt%. Pressure (in bars) and Temperature (in $^{\\circ}$C) columns are always returned."
   ]
  },
  {
   "cell_type": "code",
   "execution_count": null,
   "metadata": {},
   "outputs": [],
   "source": [
    "\"\"\"To get composition from a specific sample in the input data:\"\"\"\n",
    "SampleName = 'BT-ex'\n",
    "bulk_comp = myfile.get_sample_oxide_comp(SampleName, norm='standard')\n",
    "\n",
    "\"\"\"Calculate fluid composition for the extracted sample\"\"\"\n",
    "m.calculate_equilibrium_fluid_comp(sample=bulk_comp, temperature=900.0, pressure=200.0).result"
   ]
  },
  {
   "cell_type": "code",
   "execution_count": null,
   "metadata": {},
   "outputs": [],
   "source": [
    "\"\"\"Calculate fluid composition for all samples in an ExcelFile object\"\"\"\n",
    "myfile.calculate_equilibrium_fluid_comp(temperature=900.0, pressure=200.0)"
   ]
  },
  {
   "cell_type": "code",
   "execution_count": null,
   "metadata": {},
   "outputs": [],
   "source": [
    "\"\"\"Calculate fluid composition for all samples with unique pressure and temperature values for each sample.\n",
    "Pressure and temperature values are taken from columns named \"Press\" and \"Temp\" in the example ExcelFile\"\"\"\n",
    "\n",
    "myfile.calculate_equilibrium_fluid_comp(temperature='Temp', pressure='Press')"
   ]
  },
  {
   "cell_type": "code",
   "execution_count": null,
   "metadata": {},
   "outputs": [],
   "source": [
    "print(myfile.data) #TODO do we want to \"overwrite\" the myfile.data when calculations are performed?"
   ]
  },
  {
   "cell_type": "markdown",
   "metadata": {},
   "source": [
    "## 3.4. Calculating saturation pressures\n",
    "The `calculate_saturation_pressure()` function calculates the minimum pressure at which a given silicate melt with known temperature and H$_2$O and CO$_2$ concentrations would be saturated with fluid. This is calcualted by finding the pressure at which the smallest amount of vapor is present. This function also calculates the composition of the vapor in equilibrium with the melt at those conditions.\n",
    "\n",
    "The function works by calculating the equilibrium state of the given melt at very high pressure (2,000 MPa) and then decreasing the pressure in steps of 100 MPa until the mass of vapor is >0 grams. At this point, the pressure space is narrowed and searched in steps of 10 MPa and then in steps of 1 MPa until the saturation pressure is found.\n",
    "\n",
    "**Method structure:**<br>\n",
    ">Single sample: `def calculate_saturation_pressure(self, sample, temperature, verbose=False).result`\n",
    "\n",
    ">ExcelFile batch process: `def calculate_saturation_pressure(self, temperature, print_status=False)`\n",
    "\n",
    "**Required inputs:**<br>\n",
    "> `sample`: *Only for single-sample calculations.* The composition of the melt, inclusing the H$_2$O and CO$_2$ concentrations, in wt%.\n",
    "\n",
    "> `temperature`: The temperature in °C.\n",
    "\n",
    "**Optional inputs:**<br>\n",
    "> `verbose`: *Only for single-sample calculations.* Default value is False. If set to True, additional parameters are returned in a dictionary: saturation pressure in bars, H$_2$O and CO$_2$ concentrations in the fluid, mass of the fluid in grams, and proportion of the fluid in the system in wt%.\n",
    "\n",
    "> `print_status`: *Only for ExcelFile batch calcualtions.* The default value is False. If True is passed, the progress of the calculation will be printed to the terminal.\n",
    "\n",
    "**Calculated outputs:**<br>\n",
    ">If a single sample is passed to `sample`, the saturation pressure in bars is returned as a numerical value (float) (plus additional variables 'H2Ofluid_wtper', 'CO2fluid_wtper', 'FluidMass_grams', and 'FluidProportion_wtper' if `verbose` is set to True). \n",
    "\n",
    ">If mutliple samples are passed as an ExcelFile object, a pandas DataFrame is returned with sample information plus calculated saturation pressures, equilibrium fluid compositions, mass of the fluid in grams, and proportion of the fluid in the system in wt%. Temperature (in $^{\\circ}$C) is always returned."
   ]
  },
  {
   "cell_type": "code",
   "execution_count": null,
   "metadata": {},
   "outputs": [],
   "source": [
    "\"\"\"Calculate the saturation pressure of the single sample we defined in Section 3.1.2 at 925 degrees C\"\"\"\n",
    "m.calculate_saturation_pressure(sample=my_sample, temperature=925.0).result"
   ]
  },
  {
   "cell_type": "code",
   "execution_count": null,
   "metadata": {},
   "outputs": [],
   "source": [
    "\"\"\"Calculate the saturation pressuer for all samples in an ExcelFile object at 925 degrees C\"\"\"\n",
    "myfile.calculate_saturation_pressure(temperature=925.0)"
   ]
  },
  {
   "cell_type": "markdown",
   "metadata": {},
   "source": [
    "# Working on manuscript from here...\n",
    "\n",
    "## 3.5. Calculating and plotting isobars and isopleths\n",
    "In this example, we demonstrate how isobars (lines of constant pressure) and isopleths (lines of constant fluid composition) can be calculated for any one composition. A single melt composition can be extracted from a loaded excel file, or a composition can be enterred by hand an stored within a dictionary. Due to computational intensity, isobars and isopleths can only be computed for one sample composition at a time.\n",
    "\n",
    "Once a single composition is defined, conditions over which to calculate isobars and isopleths must be specified. The generated plot is isothermal, so only one temperature can be chosen. Isobars can be calculated for any number of pressures, passed as a list.\n",
    "\n",
    "The calculation is performed by iterating through possible concentrations of H$_2$O and CO$_2$ and calculating the equilibrium state for the system. The iteration begins at a fixed H$_2$O concentration, increasing the CO$_2$ concentration in steps of 0.1 wt% until a fluid phase is stable. The H$_2$O concentration is then increased by 0.5 wt% and CO$_2$ is again increased from 0 until a fluid phase is stable. This process is repeated for H$_2$O values ranging from 0–15 wt%. The H$_2$O and CO$_2$ concentrations from each system for which a fluid phase was found to be stable are saved and written to a pandas DataFrame, which is returned upon completion of the calculation.\n",
    "\n",
    "**Method structure:** `def calculate_isobars_and_isopleths(self, sample, temperature, pressure_list, isopleth_list, print_status=False).result`\n",
    "\n",
    "**Required inputs:**<br>\n",
    ">`sample`: The sample composition, as a dictionary with values in wt%\n",
    "\n",
    ">`temperature`: The temperature in $^{\\circ}$C. \n",
    "\n",
    ">`pressure_list`: A list of all pressures at which to calculate isobars.\n",
    "\n",
    "**Optional inputs:**<br>\n",
    ">`print_status`: The default value is False. If set to `True`, the progress of the calculations will be printed to the terminal.\n",
    "\n",
    "**Calculated outputs:** \n",
    ">The function returns a pandas DataFrame containing calculated isobar and isopleth information for the passed melt composition. Column titles are 'Pressure', 'H2Omelt', 'CO2melt', 'H2Ofl', and 'CO2fl'."
   ]
  },
  {
   "cell_type": "code",
   "execution_count": null,
   "metadata": {},
   "outputs": [],
   "source": [
    "\"\"\"To get composition from a specific sample in the input data:\"\"\"\n",
    "SampleName = 'BT-ex'\n",
    "bulk_comp = myfile.get_sample_oxide_comp(SampleName, norm='standard')\n",
    "\n",
    "\"\"\"Define all variables to be passed to the function for calculating isobars and isopleths\"\"\"\n",
    "\"\"\"Define the temperature in degrees C\"\"\"\n",
    "temperature = 1000.0\n",
    "\n",
    "\"\"\"Define a list of pressures in bars:\"\"\"\n",
    "pressures = [1000.0, 2000.0, 3000.0, 4000.0, 5000.0]"
   ]
  },
  {
   "cell_type": "markdown",
   "metadata": {},
   "source": [
    "Next, the H$_2$O and CO$_2$ dissolved in the melt at saturation is calculated at the specified temperature and over the range of specified pressures. The user does not need to change anything in the below cell."
   ]
  },
  {
   "cell_type": "code",
   "execution_count": null,
   "metadata": {},
   "outputs": [],
   "source": [
    "isobars = m.calculate_isobars_and_isopleths(sample=bulk_comp, \n",
    "                                            temperature=temperature,\n",
    "                                            pressure_list=pressures,\n",
    "                                            print_status=True).result"
   ]
  },
  {
   "cell_type": "markdown",
   "metadata": {},
   "source": [
    "### 3.5.2. Plotting isobars and isopleths\n",
    "\n",
    "Once isobars and isopleths are calculated, they can be plotted in an H$_2$O versus CO$_2$ plot with one simple function call. The plot will be printed directly in the notebook or, if the code is run as script in a command line, the plot will appear it its own window, at which point it can be saved as an image file.\n",
    "\n",
    "The `plot_isobars_and_isopleths(self, isobars_df)` function takes in a pandas DataFrame with calculated isobar and isopleth information (e.g., output from calculate_isobars_and_isopleths) and plots data as isobars (lines of constant pressure) and isopleths (lines of constant fluid composition). These lines represent the saturation pressures of the melt composition used to calculate the isobar and isopleth information. \n",
    "\n",
    "**Required inputs:** `isobars_df`: a pandas DataFrame containing isobar and isopleth information as calculated by `calculate_isobars_and_isopleths()`.\n",
    "\n",
    "**Outputs:** a matplotlib object is returned and displayed as a plot with the x-axis as H$_2$O wt% in the melt and the y-axis as CO$_2$ wt% in the melt. Isobars, or lines of constant pressure at which the sample magma composition is saturated, and isopleths, or lines of constant fluid composition at which the sample magma composition is saturated, are plotted."
   ]
  },
  {
   "cell_type": "code",
   "execution_count": null,
   "metadata": {},
   "outputs": [],
   "source": [
    "model.plot_isobars_and_isopleths(isobars)"
   ]
  },
  {
   "cell_type": "markdown",
   "metadata": {},
   "source": [
    "However, the user may wish to apply custom formatting to the plot, in which case, an example code to plot isobars and isopleths is provided below."
   ]
  },
  {
   "cell_type": "code",
   "execution_count": null,
   "metadata": {},
   "outputs": [],
   "source": [
    "# # Uncomment this entire cell to execute the code below...\n",
    "\n",
    "# #-----------------------CODE TO PLOT ISOBARS AND ISOPLETHS-----------------#\n",
    "# #First, we must define the pressure values used\n",
    "# P_vals = isobars_df.Pressure.unique()\n",
    "\n",
    "# #Then, the isobar data is turned from a pandas DataFrame into a list of lists for easier parsing:\n",
    "# isobars_lists = isobars_df.values.tolist()\n",
    "\n",
    "# #make a list of isopleth values to plot\n",
    "# iso_step = 20.0\n",
    "# isopleth_vals = np.arange(0+iso_step,100.0,iso_step)\n",
    "\n",
    "# #add zero values to volatiles list\n",
    "# volatiles_at_saturation.append([0.0,0.0,0.0,0.0])\n",
    "\n",
    "# #draw the figure\n",
    "# fig, ax1 = plt.subplots()\n",
    "\n",
    "# #turn on interactive plotting and make some labels\n",
    "# plt.ion()\n",
    "# plt.xlabel('H2O wt%')\n",
    "# plt.ylabel('CO2 wt%')\n",
    "\n",
    "# #Plot your data\n",
    "# for pressure in P_vals:\n",
    "#     ax1.plot([item[1] for item in isobars_lists if item[0] == pressure], \n",
    "#              [item[2] for item in isobars_lists if item[0] == pressure])\n",
    "\n",
    "# for val in isopleth_vals:\n",
    "#     val_min = val-1.0\n",
    "#     val_max = val+1.0\n",
    "#     x_vals_iso = [item[1] for item in isobars_lists if val_min <= item[3] <= val_max]\n",
    "#     x_vals_iso.append(0)\n",
    "#     x_vals_iso = sorted(x_vals_iso)\n",
    "#     x_vals_iso = np.array(x_vals_iso)\n",
    "#     y_vals_iso = [item[2] for item in isobars_lists if val_min <= item[3] <= val_max]\n",
    "#     y_vals_iso.append(0)\n",
    "#     y_vals_iso = sorted(y_vals_iso)\n",
    "#     y_vals_iso = np.array(y_vals_iso)\n",
    "    \n",
    "#     ax1.plot(x_vals_iso, y_vals_iso, ls='dashed', color='k') #format the isopleths\n",
    "\n",
    "# #Create a legend for the plot\n",
    "# labels = P_vals\n",
    "# ax1.legend(labels)"
   ]
  },
  {
   "cell_type": "markdown",
   "metadata": {},
   "source": [
    "## 3.6. Calculating and plotting degassing paths"
   ]
  },
  {
   "cell_type": "markdown",
   "metadata": {},
   "source": [
    "Define open vs closed system degassing."
   ]
  },
  {
   "cell_type": "code",
   "execution_count": null,
   "metadata": {},
   "outputs": [],
   "source": [
    "#To get composition from a specific sample in the input data:\n",
    "SampleName = 'BT-ex'\n",
    "bulk_comp = myfile.get_sample_oxide_comp(SampleName)\n",
    "\n",
    "temp = 900.0 #temperature in °C\n",
    "\n",
    "#Calculate open, closed, and closed + 2 wt% initial vapor\n",
    "open_df = model.calculate_degassing_paths(bulk_comp, temp, system='open')\n",
    "closed_df = model.calculate_degassing_paths(bulk_comp, temp, system='closed')\n",
    "exsolved_df = model.calculate_degassing_paths(bulk_comp, temp, system='closed', init_vapor=2.0)\n",
    "\n",
    "#Plot the results\n",
    "ax = open_df.plot(kind='line',x='H2Oliq',y='CO2liq',color='red', label='Open System')\n",
    "closed_df.plot(ax=ax, kind='line',x='H2Oliq',y='CO2liq',color='blue', label='Closed System')\n",
    "exsolved_df.plot(ax=ax, kind='line', x='H2Oliq', y='CO2liq',color='green', label='Closed System w/2 wt\\% Vapor')\n",
    "ax.scatter(bulk_comp[\"H2O\"], bulk_comp[\"CO2\"], color='black') #Plot original data point\n",
    "\n",
    "ax.set_xlabel(\"H2O, wt%\")\n",
    "ax.set_ylabel(\"CO2, wt%\")\n",
    "\n",
    "plt.show()\n"
   ]
  },
  {
   "cell_type": "markdown",
   "metadata": {},
   "source": [
    "## 3.7. Plotting multiple calculations"
   ]
  },
  {
   "cell_type": "code",
   "execution_count": null,
   "metadata": {},
   "outputs": [],
   "source": []
  },
  {
   "cell_type": "markdown",
   "metadata": {},
   "source": [
    "## 3.8. Plotting results from multiple models"
   ]
  },
  {
   "cell_type": "code",
   "execution_count": null,
   "metadata": {},
   "outputs": [],
   "source": []
  },
  {
   "cell_type": "markdown",
   "metadata": {},
   "source": [
    "## 3.9. Code hybridization (Advanced)"
   ]
  },
  {
   "cell_type": "code",
   "execution_count": null,
   "metadata": {},
   "outputs": [],
   "source": []
  },
  {
   "cell_type": "markdown",
   "metadata": {},
   "source": [
    "## 3.10. Exporting data"
   ]
  },
  {
   "cell_type": "code",
   "execution_count": null,
   "metadata": {},
   "outputs": [],
   "source": []
  },
  {
   "cell_type": "markdown",
   "metadata": {},
   "source": [
    "# Unorganized notes..."
   ]
  },
  {
   "cell_type": "code",
   "execution_count": null,
   "metadata": {
    "scrolled": false
   },
   "outputs": [],
   "source": [
    "wb = melts.start_excel_workbook_with_sheet_name(sheetName=\"Summary\")\n",
    "\n",
    "for i in range(len(compo)):\n",
    "    compo_d = dict(zip(oxides,compo[i]))\n",
    "    feasible = melts.set_bulk_composition(compo_d)\n",
    "    output = melts.equilibrate_tp(temp, press, initialize=True)  \n",
    "    (status, t, p, xmlout) = output[0]\n",
    "    #print(type(output))\n",
    "    #status-string indicating the status of the calculation: success/failiure, Reason for success/failure\n",
    "    print (status, t, p)\n",
    "    output_all = melts.output_summary(xmlout) # this prints the data as well\n",
    "    print('\\n')\n",
    "    melts.update_excel_workbook(wb, xmlout)\n",
    "    \n",
    "melts.write_excel_workbook(wb, 'MagmaSat2018-output.xlsx')"
   ]
  },
  {
   "cell_type": "markdown",
   "metadata": {},
   "source": [
    "## Listing 4. First 10 lines of output saved into an Excel spreadsheet."
   ]
  },
  {
   "cell_type": "code",
   "execution_count": null,
   "metadata": {},
   "outputs": [],
   "source": [
    "excel_file_2 = 'MagmaSat2018-output.xlsx'\n",
    "output = pd.read_excel(excel_file_2, sheet_name=1) #sheet 0 = summary data input, sheet 1 = Fluid composition, sheet 2 = magma composition\n",
    "output.head(10)\n",
    "\n",
    "# output problems, as not the same column label for each composition, therefore there is an offset in the data"
   ]
  },
  {
   "cell_type": "markdown",
   "metadata": {},
   "source": [
    "# 4. Discussion and Conclusion"
   ]
  },
  {
   "cell_type": "markdown",
   "metadata": {},
   "source": [
    "# 5. Future Work"
   ]
  },
  {
   "cell_type": "markdown",
   "metadata": {},
   "source": [
    "# Acknowledgements"
   ]
  },
  {
   "cell_type": "markdown",
   "metadata": {},
   "source": [
    "# References"
   ]
  },
  {
   "cell_type": "raw",
   "metadata": {},
   "source": [
    "((*- extends 'latex_article.tplx' -*))\n",
    "\n",
    "((* block bibliography *))\n",
    "\\bibliographystyle{unsrt}\n",
    "\\bibliography{ipython}\n",
    "((* endblock bibliography *))"
   ]
  }
 ],
 "metadata": {
  "kernelspec": {
   "display_name": "Python 3",
   "language": "python",
   "name": "python3"
  },
  "language_info": {
   "codemirror_mode": {
    "name": "ipython",
    "version": 3
   },
   "file_extension": ".py",
   "mimetype": "text/x-python",
   "name": "python",
   "nbconvert_exporter": "python",
   "pygments_lexer": "ipython3",
   "version": "3.7.7"
  }
 },
 "nbformat": 4,
 "nbformat_minor": 2
}
