{
 "cells": [
  {
   "cell_type": "markdown",
   "metadata": {},
   "source": [
    "# This notebook assesses the outputs of VESIcal for the Iacono-Marziano model. \n",
    "This notebook uses the Excel spreadsheet entitled: \"S3_Testing_Iacono-Marziano_et_al_2012.xlsx\"\n",
    "- Test 1 compares the experimental pressures for the H$_2$O-only experiments in the calibration dataset of Iacono-Marziano to the saturation pressures calculated in VESIcal using the \"IaconoMarzianoWater\" model. \n",
    "- Test 2 compares the experimental pressures for the H$_2$O-CO$_2$ experiments in the calibration dataset to the saturation pressures calculated in VESIcal for the \"IaconoMarziano\" model. \n",
    "- A lot of the scatter in the regression lines shown in Test 1 and Test 2 is experimental noise. For Test 3, major and volatile element concentrations and temperatures for this experimental dataset were entered into the saturation pressure web calculator hosted at http://calcul-isto.cnrs-orleans.fr/  (provided by Iacono-Marziano et al., 2012). These saturation pressures are compared to those from VESIcal for the \"IaconoMarziano\" model.  \n",
    "- Test 4 compares saturation pressures obtained from the web calculator at http://calcul-isto.cnrs-orleans.fr/ to VESIcal outputs for a synthetic dataset where composition, temperature, and volatile contents are varied \n",
    "- Test 5 compares dissolved volatiles calculated using the web app to those from VESIcal for a synthetic dataset with variable X$_{H2O}$. "
   ]
  },
  {
   "cell_type": "code",
   "execution_count": 1,
   "metadata": {},
   "outputs": [],
   "source": [
    "import VESIcal as v\n",
    "import matplotlib.pyplot as plt\n",
    "import numpy as np\n",
    "import pandas as pd\n",
    "from IPython.display import display, HTML\n",
    "import pandas as pd\n",
    "import matplotlib as mpl\n",
    "import seaborn as sns\n",
    "from sklearn.linear_model import LinearRegression\n",
    "from sklearn.metrics import r2_score\n",
    "import statsmodels.api as sm\n",
    "from statsmodels.sandbox.regression.predstd import wls_prediction_std\n",
    "%matplotlib inline"
   ]
  },
  {
   "cell_type": "code",
   "execution_count": 2,
   "metadata": {},
   "outputs": [],
   "source": [
    "sns.set(style=\"ticks\", context=\"poster\",rc={\"grid.linewidth\": 1,\"xtick.major.width\": 1,\"ytick.major.width\": 1, 'patch.edgecolor': 'black'})\n",
    "plt.style.use(\"seaborn-colorblind\")\n",
    "plt.rcParams[\"font.size\"] =12\n",
    "plt.rcParams[\"mathtext.default\"] = \"regular\"\n",
    "plt.rcParams[\"mathtext.fontset\"] = \"dejavusans\"\n",
    "plt.rcParams['patch.linewidth'] = 1\n",
    "plt.rcParams['axes.linewidth'] = 1 \n",
    "plt.rcParams[\"xtick.direction\"] = \"in\"\n",
    "plt.rcParams[\"ytick.direction\"] = \"in\"\n",
    "plt.rcParams[\"ytick.direction\"] = \"in\"\n",
    "plt.rcParams[\"xtick.major.size\"] = 6 # Sets length of ticks\n",
    "plt.rcParams[\"ytick.major.size\"] = 4 # Sets length of ticks\n",
    "plt.rcParams[\"ytick.labelsize\"] = 12 # Sets size of numbers on tick marks\n",
    "plt.rcParams[\"xtick.labelsize\"] = 12 # Sets size of numbers on tick marks\n",
    "plt.rcParams[\"axes.titlesize\"] = 14 # Overall title\n",
    "plt.rcParams[\"axes.labelsize\"] = 14 # Axes labels\n",
    "plt.rcParams[\"legend.fontsize\"]= 14"
   ]
  },
  {
   "cell_type": "markdown",
   "metadata": {},
   "source": [
    "# Test 1 and 2 -   Comparing experimental pressures to VESIcal saturation pressures for H$_2$O-only experiments and mixed H$_2$O-CO$_2$O experiments"
   ]
  },
  {
   "cell_type": "code",
   "execution_count": null,
   "metadata": {},
   "outputs": [
    {
     "name": "stdout",
     "output_type": "stream",
     "text": [
      "\r",
      "[                    ] 1%  Working on sample This study                            "
     ]
    },
    {
     "name": "stderr",
     "output_type": "stream",
     "text": [
      "/opt/anaconda3/lib/python3.7/site-packages/ipykernel_launcher.py:2: RuntimeWarning: Total iron column FeOT detected. This column will be treated as FeO. If Fe2O3 data are not given, Fe2O3 will be 0.0. In future, an option to calcualte FeO/Fe2O3 based on fO2 will be implemented.\n",
      "  \n"
     ]
    },
    {
     "name": "stdout",
     "output_type": "stream",
     "text": [
      "[=                   ] 9%  Working on sample Lesne et al 2011-duplica...                            "
     ]
    }
   ],
   "source": [
    "# This loads the calibration dataset of Iacono-Marziano et al. 2012 for water-only experiments, and calculates saturation pressures based on the major element contents, temperature, and water content for H2O only experiments.\n",
    "myfile_H2Ocal = v.BatchFile('S3_Testing_Iacono-Marziano_et_al_2012.xlsx',  sheet_name='Calibration_H2O')\n",
    "data_H2Ocal = myfile_H2Ocal.get_data()\n",
    "satPs_wtemps_Iacono_H2Ocal= myfile_H2Ocal.calculate_saturation_pressure(temperature=\"Temp\", model='IaconoMarzianoWater', print_status=True)\n",
    "\n",
    "# This loads the calibration dataset of Iacono-Marziano et al. 2012 for mixed fluids and calculates saturation pressures\n",
    "myfile_cal = v.BatchFile('S3_Testing_Iacono-Marziano_et_al_2012.xlsx',  sheet_name='Calibration_H2OCO2')\n",
    "data_cal = myfile_cal.get_data()\n",
    "satPs_wtemps_Iacono_cal= myfile_cal.calculate_saturation_pressure(temperature=\"Temp\", model='IaconoMarziano', print_status=True)"
   ]
  },
  {
   "cell_type": "code",
   "execution_count": null,
   "metadata": {},
   "outputs": [],
   "source": [
    "# This calculating a linear regression, and plots experimental pressures vs. saturation pressures (all data)\n",
    "######################## H2O only experiments\n",
    "X_Test1=satPs_wtemps_Iacono_H2Ocal['Press'] \n",
    "Y_Test1=satPs_wtemps_Iacono_H2Ocal['SaturationP_bars_VESIcal']\n",
    "mask_Test1 = (X_Test1>-1) & (Y_Test1>-1) # This gets rid of Nans\n",
    "X_Test1noNan=X_Test1[mask_Test1].values.reshape(-1, 1)\n",
    "Y_Test1noNan=Y_Test1[mask_Test1].values.reshape(-1, 1)\n",
    "lr=LinearRegression()\n",
    "lr.fit(X_Test1noNan,Y_Test1noNan)\n",
    "Y_pred_Test1=lr.predict(X_Test1noNan)\n",
    "\n",
    "fig, (ax1, ax2) = plt.subplots(1,2, figsize=(12,5)) # adjust dimensions of figure here\n",
    "ax1.plot(X_Test1noNan,Y_pred_Test1, color='red', linewidth=0.5, zorder=1) # This plots the best fit line\n",
    "ax1.scatter(satPs_wtemps_Iacono_H2Ocal['Press'], satPs_wtemps_Iacono_H2Ocal['SaturationP_bars_VESIcal'],  s=50, edgecolors='k', facecolors='silver', marker='o', zorder=5)\n",
    "# This bit plots the regression parameters on the graph\n",
    "I='Intercept= ' + str(np.round(lr.intercept_, 1))[1:-1]\n",
    "G='Gradient= '  + str(np.round(lr.coef_, 2))[2:-2]\n",
    "R='R$^2$= ' +  str(np.round(r2_score(Y_Test1noNan, Y_pred_Test1), 2)) \n",
    "\n",
    "ax1.text(5500, 1500, R, fontsize=14)\n",
    "ax1.text(5500, 1000, G, fontsize=14)\n",
    "ax1.text(5500, 500, I,  fontsize=14)\n",
    "\n",
    "################### Mixed H2O CO2 experiments\n",
    "\n",
    "X_Test2=satPs_wtemps_Iacono_cal['Press'] \n",
    "Y_Test2=satPs_wtemps_Iacono_cal['SaturationP_bars_VESIcal']\n",
    "mask_Test2 = (X_Test2>-1) & (Y_Test2>-1) # This gets rid of Nans\n",
    "X_Test2noNan=X_Test2[mask_Test2].values.reshape(-1, 1)\n",
    "Y_Test2noNan=Y_Test2[mask_Test2].values.reshape(-1, 1)\n",
    "lr=LinearRegression()\n",
    "lr.fit(X_Test2noNan,Y_Test2noNan)\n",
    "Y_pred_Test2=lr.predict(X_Test2noNan)\n",
    "ax2.plot(X_Test2noNan,Y_pred_Test2, color='red', linewidth=0.5, zorder=1) # This plots the best fit line\n",
    "ax2.scatter(satPs_wtemps_Iacono_cal['Press'], satPs_wtemps_Iacono_cal['SaturationP_bars_VESIcal'],  s=50, edgecolors='k', facecolors='silver', marker='o', zorder=5)\n",
    "# This bit plots the regression parameters on the graph\n",
    "I='Intercept= ' + str(np.round(lr.intercept_, 2))[1:-1]\n",
    "G='Gradient= '  + str(np.round(lr.coef_, 2))[2:-2]\n",
    "R='R$^2$= ' +  str(np.round(r2_score(Y_Test2noNan, Y_pred_Test2), 2)) \n",
    "\n",
    "ax2.text(5500, 500, I, fontsize=14)\n",
    "ax2.text(5500, 1000, G, fontsize=14)\n",
    "ax2.text(5500, 1500, R, fontsize=14)\n",
    "\n",
    "\n",
    "ax1.set_xlabel('Experimental Pressure (bar)', fontsize=14)\n",
    "ax1.set_ylabel('P$_{Sat}$ VESIcal (bar)', fontsize=14)\n",
    "ax2.set_xlabel('Experimental Pressure (bar)', fontsize=14)\n",
    "ax2.set_ylabel('P$_{Sat}$ VESIcal (bar)', fontsize=14)\n",
    "ax1.set_xticks([0, 2000, 4000, 6000, 8000, 10000])\n",
    "ax1.set_yticks([0, 2000, 4000, 6000, 8000, 10000])\n",
    "ax2.set_xticks([0, 2000, 4000, 6000, 8000, 10000])\n",
    "ax2.set_yticks([0, 2000, 4000, 6000, 8000, 10000])\n",
    "ax1.set_xlim([-300, 10200])\n",
    "ax1.set_ylim([-300, 10200])\n",
    "ax2.set_xlim([-300, 10200])\n",
    "ax2.set_ylim([-300, 10200])\n",
    "plt.subplots_adjust(left=0.125, bottom=None, right=0.9, top=None, wspace=0.3, hspace=None)\n",
    "\n",
    "ax1.text(-150, 9600, 'a)', fontsize=14)\n",
    "ax2.text(-150, 9600, 'b)', fontsize=14)\n",
    "ax1.set_title('H$_{2}$O-only',  fontsize=14)\n",
    "ax2.set_title('H$_{2}$O-CO$_2$',  fontsize=14)\n",
    "fig.savefig('IaconMarziano_Test1and2.png', transparent=True)\n",
    "\n"
   ]
  },
  {
   "cell_type": "markdown",
   "metadata": {},
   "source": [
    "# Test 3 - Comparing Saturation pressures from the web app to VESIcal for compositions in the calibration dataset\n",
    "- The major and volatile element concentrations and temperatures from the calibration dataset were used to calculate saturation pressures in the web app, and compared to those in VESIcal"
   ]
  },
  {
   "cell_type": "code",
   "execution_count": null,
   "metadata": {},
   "outputs": [],
   "source": [
    "myfile_web = v.BatchFile('S3_Testing_Iacono-Marziano_et_al_2012.xlsx',  sheet_name='WebCalculator') # This sheet contains the pressures calculated using the web calculator\n",
    "data_web = myfile_web.get_data()\n",
    "satPs_wtemps_Iacono_web= myfile_web.calculate_saturation_pressure(temperature=\"Temp\", model='IaconoMarziano', print_status=True)\n",
    "# Comparison plotted on combined figure with test 4. "
   ]
  },
  {
   "cell_type": "markdown",
   "metadata": {},
   "source": [
    "# Test 4 - Comparing Saturation pressures from the web app to VESIcal for synthetic data\n",
    "- A synthetic dataset varying major element compositions, temperature, and volatile contents was run through the web app and VESIcal"
   ]
  },
  {
   "cell_type": "code",
   "execution_count": null,
   "metadata": {},
   "outputs": [],
   "source": [
    "myfile_synweb = v.BatchFile('S3_Testing_Iacono-Marziano_et_al_2012.xlsx',  sheet_name='Synthetic') # This sheet contains the pressures calculated using the web calculator for a synthetic dataset\n",
    "data_synweb = myfile_synweb.get_data()\n",
    "satPs_wtemps_Iacono_synweb= myfile_synweb.calculate_saturation_pressure(temperature=\"Temp\", model='IaconoMarziano', print_status=True)"
   ]
  },
  {
   "cell_type": "markdown",
   "metadata": {},
   "source": [
    "## Plot for Test 3 and Test 4"
   ]
  },
  {
   "cell_type": "code",
   "execution_count": null,
   "metadata": {},
   "outputs": [],
   "source": [
    "\n",
    "fig, (ax1, ax2) = plt.subplots(1,2, figsize=(12,5)) # adjust dimensions of figure here\n",
    "\n",
    "# Comparison of web app and VESIcal for calibration dataset \n",
    "X_Test3=satPs_wtemps_Iacono_web['App calculator P bar'] # Convert MPa from their supplement to bars\n",
    "Y_Test3=satPs_wtemps_Iacono_web['SaturationP_bars_VESIcal']\n",
    "mask_Test3 = (X_Test3>-1) & (Y_Test3>-1) #& (XComb<7000) # This gets rid of Nans\n",
    "X_Test3noNan=X_Test3[mask_Test3].values.reshape(-1, 1)\n",
    "Y_Test3noNan=Y_Test3[mask_Test3].values.reshape(-1, 1)\n",
    "lr=LinearRegression()\n",
    "lr.fit(X_Test3noNan,Y_Test3noNan)\n",
    "Y_pred_Test3=lr.predict(X_Test3noNan)\n",
    "\n",
    "\n",
    "ax1.plot(X_Test3noNan,Y_pred_Test3, color='red', linewidth=0.5, zorder=1) # This plots the best fit line\n",
    "ax1.scatter(satPs_wtemps_Iacono_web['App calculator P bar'], satPs_wtemps_Iacono_web['SaturationP_bars_VESIcal'],  s=50, edgecolors='k', facecolors='silver', marker='o', zorder=5)\n",
    "# This bit plots the regression parameters on the graph\n",
    "I='Intercept= ' + str(np.round(lr.intercept_, 2))[1:-1]\n",
    "G='Gradient= '  + str(np.round(lr.coef_, 3))[2:-2]\n",
    "R='R$^2$= ' +  str(np.round(r2_score(Y_Test3noNan, Y_pred_Test3), 6)) \n",
    "\n",
    "ax1.text(4000, 1000, I, fontsize=14)\n",
    "ax1.text(4000,1500, G, fontsize=14)\n",
    "ax1.text(4000, 2000,  R, fontsize=14)\n",
    "# Comparison of web app and VESIcal for the synthetic dataset\n",
    "X_Test4=satPs_wtemps_Iacono_synweb['Press'] \n",
    "Y_Test4=satPs_wtemps_Iacono_synweb['SaturationP_bars_VESIcal']\n",
    "mask_Test4 = (X_Test4>-1) & (Y_Test4>-1) #& (XComb<7000) # This gets rid of Nans\n",
    "X_Test4noNan=X_Test4[mask_Test4].values.reshape(-1, 1)\n",
    "Y_Test4noNan=Y_Test4[mask_Test4].values.reshape(-1, 1)\n",
    "lr=LinearRegression()\n",
    "lr.fit(X_Test4noNan,Y_Test4noNan)\n",
    "Y_pred_Test4=lr.predict(X_Test4noNan)\n",
    "\n",
    "ax2.plot(X_Test4noNan,Y_pred_Test4, color='red', linewidth=0.5, zorder=1) # This plots the best fit line\n",
    "ax2.scatter(X_Test4noNan, Y_Test4noNan,  s=50, edgecolors='k', facecolors='silver', marker='o', zorder=5)\n",
    "\n",
    "I='Intercept= ' + str(np.round(lr.intercept_, 2))[1:-1]\n",
    "G='Gradient= '  + str(np.round(lr.coef_, 3))[2:-2]\n",
    "R='R$^2$= ' +  str(np.round(r2_score(Y_Test4noNan, Y_pred_Test4), 6)) \n",
    "\n",
    "ax2.text(1000, 250, I, fontsize=14)\n",
    "ax2.text(1000, 350, G, fontsize=14)\n",
    "ax2.text(1000, 450,  R, fontsize=14)\n",
    "\n",
    "########################\n",
    "ax1.set_xlabel('P$_{Sat}$ Web App  (bar)', fontsize=14)\n",
    "ax1.set_ylabel('P$_{Sat}$ VESIcal (bar)', fontsize=14)\n",
    "ax2.set_xlabel('P$_{Sat}$ Web App  (bar)', fontsize=14)\n",
    "ax2.set_ylabel('P$_{Sat}$ VESIcal (bar)', fontsize=14)\n",
    "ax1.set_yticks([0, 2000, 4000, 6000, 8000])\n",
    "plt.subplots_adjust(left=0.125, bottom=None, right=0.9, top=None, wspace=0.3, hspace=None)\n",
    "ax1.set_title('Calibration dataset',  fontsize=14)\n",
    "ax2.set_title('Synthetic dataset',  fontsize=14)\n",
    "ax1.text(-200, 8000, 'a)', fontsize=14)\n",
    "ax2.text(-50, 1750, 'b)', fontsize=14)\n",
    "fig.savefig('IaconoMarziano_Test3and4.png', transparent=True)\n"
   ]
  },
  {
   "cell_type": "markdown",
   "metadata": {},
   "source": [
    "# Test 5 -  Comparing dissolved volatiles from the web app to VESIcal\n",
    "- The web app was used to calculate dissolved volatiles for a synthetic dataset with variable X$_{H2O}$ contents"
   ]
  },
  {
   "cell_type": "code",
   "execution_count": null,
   "metadata": {},
   "outputs": [],
   "source": [
    "myfile_synweb_cv = v.BatchFile('S3_Testing_Iacono-Marziano_et_al_2012.xlsx',  sheet_name='Calculate_Dissolved_Volatiles') # This sheet has the dissolved volatiles calculated using the web calculator\n",
    "data_synweb_cv = myfile_synweb_cv.get_data()\n",
    "dissolved_syn = myfile_synweb_cv.calculate_dissolved_volatiles(temperature=\"Temp\", pressure=\"Press\", X_fluid=\"XH2O\", print_status=True, model='IaconoMarziano')"
   ]
  },
  {
   "cell_type": "code",
   "execution_count": null,
   "metadata": {},
   "outputs": [],
   "source": [
    "\n",
    "fig, (ax1, ax2) = plt.subplots(1,2, figsize=(12,5)) # adjust dimensions of figure here\n",
    "\n",
    "# H2O\n",
    "############\n",
    "X_syn1=dissolved_syn['H2O(wt%)WebApp'].values.reshape(-1, 1) \n",
    "Y_syn1=dissolved_syn['H2O_liq_VESIcal'].values.reshape(-1, 1)\n",
    "lr=LinearRegression()\n",
    "lr.fit(X_syn1,Y_syn1)\n",
    "Y_pred_syn1=lr.predict(X_syn1)\n",
    "\n",
    "\n",
    "ax1.plot(X_syn1,Y_pred_syn1, color='red', linewidth=0.5, zorder=1) # This plots the best fit line\n",
    "ax1.scatter(dissolved_syn['H2O(wt%)WebApp'], dissolved_syn['H2O_liq_VESIcal'],  s=50, edgecolors='k', facecolors='silver', marker='o', zorder=5)\n",
    "# This bit plots the regression parameters on the graph\n",
    "I='Intercept= ' + str(np.round(lr.intercept_, 3))[1:-1]\n",
    "G='Gradient= '  + str(np.round(lr.coef_, 3))[2:-2]\n",
    "R='R$^2$= ' +  str(np.round(r2_score(Y_syn1, Y_pred_syn1), 5)) \n",
    "\n",
    "ax1.text(2, 0.5, I, fontsize=14)\n",
    "ax1.text(2, 0.75, G, fontsize=14)\n",
    "ax1.text(2, 1,  R, fontsize=14)\n",
    "\n",
    "\n",
    "# CO2\n",
    "###################################################### \n",
    "X_syn2=dissolved_syn['CO2(ppm)WebApp'].values.reshape(-1, 1) \n",
    "Y_syn2=10000*dissolved_syn['CO2_liq_VESIcal'].values.reshape(-1, 1)\n",
    "lr=LinearRegression()\n",
    "lr.fit(X_syn2,Y_syn2)\n",
    "Y_pred_syn2=lr.predict(X_syn2)\n",
    "\n",
    "ax2.plot(X_syn2,Y_pred_syn2, color='red', linewidth=0.5, zorder=1) # This plots the best fit line\n",
    "ax2.scatter(dissolved_syn['CO2(ppm)WebApp'], 10000*dissolved_syn['CO2_liq_VESIcal'],  s=50, edgecolors='k', facecolors='silver', marker='o', zorder=5)\n",
    "# This bit plots the regression parameters on the graph\n",
    "I='Intercept= ' + str(np.round(lr.intercept_, 2))[1:-1]\n",
    "G='Gradient= '  + str(np.round(lr.coef_, 3))[2:-2]\n",
    "R='R$^2$= ' +  str(np.round(r2_score(Y_syn2, Y_pred_syn2), 5)) \n",
    "\n",
    "plt.text(800, 200, I, fontsize=14)\n",
    "plt.text(800, 300, G, fontsize=14)\n",
    "plt.text(800, 400, R, fontsize=14)\n",
    "\n",
    "\n",
    "\n",
    "########################\n",
    "\n",
    "ax1.set_xlabel('H$_2$O Web App (wt%)', fontsize=14)\n",
    "ax1.set_ylabel('H$_2$O VESIcal (wt%)', fontsize=14)\n",
    "ax2.set_xlabel('CO$_2$ Web App (ppm)', fontsize=14)\n",
    "ax2.set_ylabel('CO$_2$ VESIcal (ppm)', fontsize=14)\n",
    "plt.subplots_adjust(left=0.125, bottom=None, right=0.9, top=None, wspace=0.3, hspace=None)\n",
    "ax1.set_yticks([0, 1, 2, 3])\n",
    "ax2.set_yticks([0, 400, 800, 1200, 1600])\n",
    "ax2.set_xticks([0, 400, 800, 1200, 1600])\n",
    "ax1.text(-0.2,3.45, 'a)', fontsize=14)\n",
    "ax2.text(-70, 1520, 'b)', fontsize=14)\n",
    "fig.savefig('IaconoMarziano_Test5.png', transparent=True)"
   ]
  }
 ],
 "metadata": {
  "kernelspec": {
   "display_name": "Python 3",
   "language": "python",
   "name": "python3"
  },
  "language_info": {
   "codemirror_mode": {
    "name": "ipython",
    "version": 3
   },
   "file_extension": ".py",
   "mimetype": "text/x-python",
   "name": "python",
   "nbconvert_exporter": "python",
   "pygments_lexer": "ipython3",
   "version": "3.7.6"
  },
  "toc": {
   "base_numbering": 1,
   "nav_menu": {},
   "number_sections": true,
   "sideBar": true,
   "skip_h1_title": false,
   "title_cell": "Table of Contents",
   "title_sidebar": "Contents",
   "toc_cell": false,
   "toc_position": {},
   "toc_section_display": true,
   "toc_window_display": false
  }
 },
 "nbformat": 4,
 "nbformat_minor": 4
}
