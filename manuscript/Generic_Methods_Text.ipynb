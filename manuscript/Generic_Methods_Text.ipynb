{
 "cells": [
  {
   "cell_type": "markdown",
   "metadata": {},
   "source": [
    "### 2.7.1 Pure fluid solutions\n",
    "Whilst the variables required for each pure-fluid solubility model are different, we take a very similar approach to calculating fluid properties for each. In general pure-fluid models provide analytical expressions for the concentration of a volatile species dissolved in a magma as a function of either its partial-pressure or fugacity in the vapour phase. To provide a homogeneous framework, each model must have a fugacity model associated with it. Where a solubility model uses partial-pressure in place of fugacity, the fugacity model is set to being an ideal gas.\n",
    "\n",
    "In general, an analytical expression does not exist for the inverse calculation, i.e., calculating the saturation pressure given the concentration of dissolved volatile species. The calculation must then be solved numerically. Numerical methods obtain the answer by making guesses for the saturation pressure, checking whether the predicted concentration of the dissolved volatile species matches the measured value, and refining the guesses as appropriate. When the saturation pressure is found, this equality holds:\n",
    "\n",
    "\\begin{equation}\n",
    " V^L_\\textrm{measured} - V^L_\\textrm{predicted}(P,...) = 0\n",
    "\\end{equation}\n",
    "\n",
    "When the guessed pressure is too high the left hand side of the equation will be negative, and if the guessed pressure is too low it will be positive, We therefore require an algorithm to find the root of the equation. To this end we employ the scipy.optimize.root_scalar() method. The advantage of using a generic scipy algorithm, in preference to creating a bespoke routine, is that it affords us flexibility in how the problem is solved, and the algorithm is underlain by robust, well-tested, efficient code."
   ]
  },
  {
   "cell_type": "markdown",
   "metadata": {},
   "source": [
    "### 2.7.2 Finding saturation pressure of mixed-fluid\n",
    "Describe how scipy.optimize is used here"
   ]
  },
  {
   "cell_type": "markdown",
   "metadata": {},
   "source": [
    "### 2.7.3 Finding the equilibrium fluid composition\n",
    "When calculating the dissolved volatile concentrations in a progressively degassing magma, we break the calculation into steps, each with a small decrement in pressure. As pressure decreases the mass of fluid in equilibrium with the magma increases and its composition will change. At each stage we must, therefore, solve for the mass and composition of the fluid in equilibrium with the magma, given the total mass of volatiles in the system. This calculation is implemented in MixedFluid.calculate_equilibrium_fluid_comp(), which in turn is called by MixedFluid.calculate_degassing_path(). Here we summarise the methodology for the calculation.\n",
    "\n",
    "Mass balance in the system can be expressed in terms of the mole fractions of H$_2$O ($X_{\\textrm{H}_2 \\textrm{O}}$) and CO$_2$ ($X_{\\textrm{CO}_2}$) in the silicate-liquid ($L$), the H$_2$O-CO$_2$O fluid ($F$), and the system total ($T$), and the fraction of fluid present ($f$).\n",
    "\n",
    "\\begin{equation}\n",
    "X^F_{\\textrm{CO}_2} + X^F_{\\textrm{H}_2 \\textrm{O}} = 1\n",
    "\\end{equation}\n",
    "\n",
    "\\begin{equation}\n",
    "(1-f)X^L_{\\textrm{CO}_2} + f X^F_{\\textrm{CO}_2} = X^T_{\\textrm{CO}_2}\n",
    "\\end{equation}\n",
    "\n",
    "\\begin{equation}\n",
    "(1-f)X^L_{\\textrm{H}_2 \\textrm{O}} + f X^F_{\\textrm{H}_2 \\textrm{O}} = X^T_{\\textrm{H}_2 \\textrm{O}}\n",
    "\\end{equation}\n",
    "\n",
    "The fraction of fluid ($f$) can be eliminated by substitution, obtaining Equation --NUMBER-- of --CITATION--:\n",
    "\n",
    "\\begin{equation}\n",
    "\\frac{X^T_{\\textrm{CO}_2}-X^L_{\\textrm{CO}_2}}{X^F_{\\textrm{CO}_2}-X^L_{\\textrm{CO}_2}} - \\frac{X^T_{\\textrm{H}_2\\textrm{O}}-X^L_{\\textrm{H}_2\\textrm{O}}}{X^F_{\\textrm{H}_2\\textrm{O}}-X^L_{\\textrm{H}_2\\textrm{O}}} = 0\n",
    "\\end{equation}\n",
    "\n",
    "In principle, this equation allows us to numerically solve for mass balance; however, the equation is valid only for both $X^F_{\\textrm{CO}_2} \\neq X^L_{\\textrm{CO}_2}$ and $X^F_{\\textrm{H}_2 \\textrm{O}} \\neq X^L_{\\textrm{H}_2 \\textrm{O}}$. When $X^F_{\\textrm{CO}_2} \\rightarrow X^L_{\\textrm{CO}_2}$ or $X^F_{\\textrm{H}_2 \\textrm{O}} \\rightarrow X^L_{\\textrm{H}_2 \\textrm{O}}$ the equation tends to $\\pm \\infty$, which the scipy.optimize.root_scalar() routine will mistake for a root of the equation. The regions over which the expression is not infinite can be found; however we find a more reliable approach when using the scipy.optimize library is to use the equation in a different form.\n",
    "\n",
    "Rearranging the CO$_2$ mass-balance expression allows the fraction of fluid ($f$) to be calculated:\n",
    "\n",
    "\\begin{equation}\n",
    "f = \\frac{X^T_{\\textrm{CO}_2}-X^L_{\\textrm{CO}_2}}{X^F_{\\textrm{CO}_2}-X^L_{\\textrm{CO}_2}}\n",
    "\\end{equation}\n",
    "\n",
    "This is valid for $X^F_{\\textrm{CO}_2} \\neq X^L_{\\textrm{CO}_2}$. It is much more unlikely that a solution will exist near $X^F_{\\textrm{CO}_2} = X^L_{\\textrm{CO}_2}$ than near $X^F_{\\textrm{H}_2 \\textrm{O}} = X^L_{\\textrm{H}_2 \\textrm{O}}$. By not directly eliminating $f$ by dividing through by both ($X^F_{\\textrm{CO}_2} - X^L_{\\textrm{CO}_2}$) and ($X^F_{\\textrm{H}_2 \\textrm{O}} - X^L_{\\textrm{H}_2 \\textrm{O}}$)  we significantly increase the reliability of using this expression with scipy.optimize.root_scalar(). In this expression, the only known value is $X^T_{\\textrm{CO}_2}$. However, if a guess is provided for $X^F_{\\textrm{CO}_2}$, the partial pressure of CO$_2$ can be calculated and the corresponding value for $X^L_{\\textrm{CO}_2}$ obtained. In general the guess for $X^F_{\\textrm{CO}_2}$ will not satisfy mass balance when the same parameters are applied to both CO$_2$ and H$_2$O. \n",
    "\n",
    "Since $X^F_{\\textrm{H}_2 \\textrm{O}} = 1 - X^F_{\\textrm{CO}_2}$, when we provide a guess for $X^F_{\\textrm{CO}_2}$ we also fix $X^F_{\\textrm{H}_2 \\textrm{O}}$. This in turn fixes the partial pressure of H$_2$O, allowing us to calculate $X^L_{\\textrm{H}_2 \\textrm{O}}$ consistent with that guess. We can then test whether our guess for $X^F_{\\textrm{CO}_2}$ satisfies mass balance by checking for the equality:\n",
    "\n",
    "\\begin{equation}\n",
    "(1-f)X^L_{\\textrm{H}_2 \\textrm{O}} + f X^F_{\\textrm{H}_2 \\textrm{O}} - X^T_{\\textrm{H}_2 \\textrm{O}} = 0\n",
    "\\end{equation}\n",
    "\n",
    "The value of $X^F_{\\textrm{CO}_2}$ that uniquely satisfies mass balance can then be found numerically by solving this equation using scipy.optimize.root_scalar()."
   ]
  },
  {
   "cell_type": "code",
   "execution_count": null,
   "metadata": {},
   "outputs": [],
   "source": []
  }
 ],
 "metadata": {
  "kernelspec": {
   "display_name": "Python 3",
   "language": "python",
   "name": "python3"
  },
  "language_info": {
   "codemirror_mode": {
    "name": "ipython",
    "version": 3
   },
   "file_extension": ".py",
   "mimetype": "text/x-python",
   "name": "python",
   "nbconvert_exporter": "python",
   "pygments_lexer": "ipython3",
   "version": "3.7.6"
  },
  "toc": {
   "base_numbering": 1,
   "nav_menu": {},
   "number_sections": true,
   "sideBar": true,
   "skip_h1_title": false,
   "title_cell": "Table of Contents",
   "title_sidebar": "Contents",
   "toc_cell": false,
   "toc_position": {},
   "toc_section_display": true,
   "toc_window_display": false
  }
 },
 "nbformat": 4,
 "nbformat_minor": 4
}
