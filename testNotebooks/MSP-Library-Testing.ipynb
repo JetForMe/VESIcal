{
 "cells": [
  {
   "cell_type": "code",
   "execution_count": 1,
   "metadata": {},
   "outputs": [],
   "source": [
    "import MagmaSatPlus as msp\n",
    "from thermoengine import equilibrate\n",
    "import matplotlib.pyplot as plt\n",
    "plt.style.use('paper')\n",
    "import numpy as np\n",
    "import pandas as pd\n",
    "%matplotlib inline"
   ]
  },
  {
   "cell_type": "code",
   "execution_count": 2,
   "metadata": {},
   "outputs": [],
   "source": [
    "#Create a Modeller object where the user defines the model name and version to use for calculatinos\n",
    "model = msp.Modeller('MagmaSat','1.2.0') #this can take several seconds\n",
    "\n",
    "#Import excel file\n",
    "# myfile = msp.ExcelFile('MagmaSat2018-input-molpercent.xlsx', input_type='molpercent') #Enter your filename here\n",
    "# data = myfile.data"
   ]
  },
  {
   "cell_type": "code",
   "execution_count": 3,
   "metadata": {},
   "outputs": [],
   "source": [
    "#Define your bulk composition\n",
    "bulk_comp = {'SiO2':  77.5, \n",
    "               'TiO2':   0.08, \n",
    "               'Al2O3': 12.5, \n",
    "               'Fe2O3':  0.207,\n",
    "               'Cr2O3':  0.0, \n",
    "               'FeO':    0.473, \n",
    "               'MnO':    0.0,\n",
    "               'MgO':    0.03, \n",
    "               'NiO':    0.0, \n",
    "               'CoO':    0.0,\n",
    "               'CaO':    0.43, \n",
    "               'Na2O':   3.98, \n",
    "               'K2O':    4.88, \n",
    "               'P2O5':   0.0, \n",
    "               'H2O':    5.0,\n",
    "               'CO2':    0.5}\n",
    "\n",
    "bulk_comp = msp.normalize(bulk_comp)\n",
    "\n",
    "# data = model.calculate_saturation_pressure(bulk_comp, temp)\n",
    "# data"
   ]
  },
  {
   "cell_type": "markdown",
   "metadata": {},
   "source": [
    "# Calculate equilibrium fluid compositions"
   ]
  },
  {
   "cell_type": "code",
   "execution_count": 4,
   "metadata": {},
   "outputs": [
    {
     "data": {
      "text/plain": [
       "{'CO2fluid_wtper': 52.1681607761152, 'H2Ofluid_wtper': 47.8318392238848}"
      ]
     },
     "execution_count": 4,
     "metadata": {},
     "output_type": "execute_result"
    }
   ],
   "source": [
    "my_fluid = model.calculate_equilibrium_fluid_comp(bulk_comp, 900.0, 200.0)\n",
    "my_fluid"
   ]
  },
  {
   "cell_type": "code",
   "execution_count": null,
   "metadata": {},
   "outputs": [],
   "source": [
    "melts = equilibrate.MELTSmodel('1.2.0')\n",
    "oxides = melts.get_oxide_names()\n",
    "phases = melts.get_phase_names()\n",
    "for phase in phases:\n",
    "    melts.set_phase_inclusion_status({phase: False})\n",
    "melts.set_phase_inclusion_status({'Fluid': True, 'Liquid': True})\n",
    "feasible = melts.set_bulk_composition(bulk_comp)"
   ]
  },
  {
   "cell_type": "code",
   "execution_count": null,
   "metadata": {},
   "outputs": [],
   "source": [
    "press = 900.0 #Pressure in MPa\n",
    "temp = 900.0 #temperature in MPa\n",
    "\n",
    "output = melts.equilibrate_tp(temp, press, initialize=True)\n",
    "(status, temp, i, xmlout) = output[0]\n",
    "fluid_mass = melts.get_mass_of_phase(xmlout, phase_name='Fluid')\n",
    "\n",
    "if fluid_mass <= 0:\n",
    "    print(\"Melt is not saturated at this P/T condition\")\n",
    "else:\n",
    "    fluid_comp = melts.get_composition_of_phase(xmlout, phase_name='Fluid')\n",
    "    fluid_comp = {'H2O': fluid_comp['H2O'], 'CO2': fluid_comp['CO2']}\n",
    "    print (fluid_comp)"
   ]
  },
  {
   "cell_type": "markdown",
   "metadata": {},
   "source": [
    "# Testing degassing func in library"
   ]
  },
  {
   "cell_type": "code",
   "execution_count": null,
   "metadata": {},
   "outputs": [],
   "source": [
    "open_df = model.calculate_degassing_paths(bulk_comp, temp, system='open')\n",
    "closed_df = model.calculate_degassing_paths(bulk_comp, temp, system='closed')\n",
    "exsolved_df = model.calculate_degassing_paths(bulk_comp, temp, system='closed', init_vapor=2.0)"
   ]
  },
  {
   "cell_type": "code",
   "execution_count": null,
   "metadata": {},
   "outputs": [],
   "source": [
    "ax = open_df.plot(kind='line',x='H2Oliq',y='CO2liq',color='red', label='Open System')\n",
    "closed_df.plot(ax=ax, kind='line',x='H2Oliq',y='CO2liq',color='blue', label='Closed System')\n",
    "exsolved_df.plot(ax=ax, kind='line', x='H2Oliq', y='CO2liq',color='green', label='Closed System w/2 wt% Vapor')\n",
    "ax.scatter(bulk_comp[\"H2O\"], bulk_comp[\"CO2\"], color='black') #Plot original data point\n",
    "\n",
    "ax.set_xlabel(\"H2O, wt%\")\n",
    "ax.set_ylabel(\"CO2, wt%\")\n",
    "\n",
    "plt.show()"
   ]
  },
  {
   "cell_type": "markdown",
   "metadata": {},
   "source": [
    "## Closed system"
   ]
  },
  {
   "cell_type": "code",
   "execution_count": null,
   "metadata": {},
   "outputs": [],
   "source": [
    "#closed system\n",
    "bulk_comp = bulk_comp_orig #reset\n",
    "feasible = melts.set_bulk_composition(bulk_comp) #this needs to be reset always!\n",
    "\n",
    "P_array = np.arange(1.0, data['SaturationPressure_MPa']+10.0, 10)\n",
    "P_array = -np.sort(-P_array)\n",
    "output = melts.equilibrate_tp(temp, P_array)\n",
    "\n",
    "pressure = []\n",
    "H2Oliq = []\n",
    "CO2liq = []\n",
    "H2Ofl = []\n",
    "CO2fl = []\n",
    "fluid_wtper = []\n",
    "for i in range(len(output)):\n",
    "    (status, temp, p, xmlout) = output[i]\n",
    "    liq_comp = melts.get_composition_of_phase(xmlout, phase_name='Liquid')\n",
    "    fl_comp = melts.get_composition_of_phase(xmlout, phase_name='Fluid')\n",
    "    liq_mass = melts.get_mass_of_phase(xmlout, phase_name='Liquid')\n",
    "    fl_mass = melts.get_mass_of_phase(xmlout, phase_name='Fluid')\n",
    "    fl_wtper = 100 * fl_mass / (fl_mass+liq_mass)\n",
    "    \n",
    "    pressure.append(p)\n",
    "    H2Oliq.append(liq_comp[\"H2O\"])\n",
    "    CO2liq.append(liq_comp[\"CO2\"])\n",
    "    try:\n",
    "        H2Ofl.append(fl_comp[\"H2O\"])\n",
    "    except:\n",
    "        H2Ofl.append(0)\n",
    "    try:\n",
    "        CO2fl.append(fl_comp[\"CO2\"])\n",
    "    except:\n",
    "        CO2fl.append(0)\n",
    "    fluid_wtper.append(fl_wtper)\n",
    "\n",
    "bulk_comp = bulk_comp_orig\n",
    "feasible = melts.set_bulk_composition(bulk_comp)\n",
    "closed_degassing_df = pd.DataFrame(list(zip(pressure, H2Oliq, CO2liq, H2Ofl, CO2fl, fluid_wtper)), \n",
    "                            columns =['pressure', 'H2Oliq', 'CO2liq', 'H2Ofl', 'CO2fl', 'fluid_wtper'])\n",
    "\n",
    "#print(closed_degassing_df)\n",
    "closed_degassing_df.plot(kind='line',x='H2Oliq',y='CO2liq',color='blue')\n",
    "plt.show()\n"
   ]
  },
  {
   "cell_type": "markdown",
   "metadata": {},
   "source": [
    "## Closed system starting with exsolved vapor"
   ]
  },
  {
   "cell_type": "code",
   "execution_count": null,
   "metadata": {},
   "outputs": [],
   "source": [
    "#closed system plus fluid\n",
    "bulk_comp = bulk_comp_orig\n",
    "feasible = melts.set_bulk_composition(bulk_comp) #this needs to be reset always!\n",
    "\n",
    "#----------USER INPUT----------#\n",
    "#User needs to specify amount of exsolved vapor to begin with\n",
    "exsolved_vapor_wtper = 2.0 #this is 2% starting exsolved vapor\n",
    "\n",
    "P_array = np.arange(1.0, data['SaturationPressure_MPa'], 10)\n",
    "P_array = -np.sort(-P_array)\n",
    "fl_wtper = data[\"FluidSystem_wtper\"]\n",
    "\n",
    "while fl_wtper <= exsolved_vapor_wtper:\n",
    "    output = melts.equilibrate_tp(temp, data[\"SaturationPressure_MPa\"], initialize=True)\n",
    "    (status, temp, p, xmlout) = output[0]\n",
    "    fl_mass = melts.get_mass_of_phase(xmlout, phase_name='Fluid')\n",
    "    liq_mass = melts.get_mass_of_phase(xmlout, phase_name='Liquid')\n",
    "    fl_comp = melts.get_composition_of_phase(xmlout, phase_name='Fluid')\n",
    "    fl_wtper = 100 * fl_mass / (fl_mass+liq_mass)\n",
    "    print(fl_wtper)\n",
    "    bulk_comp[\"H2O\"] += fl_comp[\"H2O\"]*0.0005\n",
    "    bulk_comp[\"CO2\"] += fl_comp[\"CO2\"]*0.0005\n",
    "    bulk_comp = msp.normalize(bulk_comp)\n",
    "    feasible = melts.set_bulk_composition(bulk_comp)\n",
    "\n",
    "output = melts.equilibrate_tp(temp, P_array, initialize=True)\n",
    "\n",
    "pressure = []\n",
    "H2Oliq = []\n",
    "CO2liq = []\n",
    "H2Ofl = []\n",
    "CO2fl = []\n",
    "fluid_wtper = []\n",
    "for i in range(len(output)):\n",
    "    (status, temp, p, xmlout) = output[i]\n",
    "    liq_comp = melts.get_composition_of_phase(xmlout, phase_name='Liquid')\n",
    "    fl_comp = melts.get_composition_of_phase(xmlout, phase_name='Fluid')\n",
    "    liq_mass = melts.get_mass_of_phase(xmlout, phase_name='Liquid')\n",
    "    fl_mass = melts.get_mass_of_phase(xmlout, phase_name='Fluid')\n",
    "    fl_wtper = 100 * fl_mass / (fl_mass+liq_mass)\n",
    "    \n",
    "    pressure.append(p)\n",
    "    H2Oliq.append(liq_comp[\"H2O\"])\n",
    "    CO2liq.append(liq_comp[\"CO2\"])\n",
    "    try:\n",
    "        H2Ofl.append(fl_comp[\"H2O\"])\n",
    "    except:\n",
    "        H2Ofl.append(0)\n",
    "    try:\n",
    "        CO2fl.append(fl_comp[\"CO2\"])\n",
    "    except:\n",
    "        CO2fl.append(0)\n",
    "    fluid_wtper.append(fl_wtper)\n",
    "\n",
    "bulk_comp = bulk_comp_orig\n",
    "feasible = melts.set_bulk_composition(bulk_comp)\n",
    "fl_wtper = data[\"FluidSystem_wtper\"]\n",
    "exsolved_degassing_df = pd.DataFrame(list(zip(pressure, H2Oliq, CO2liq, H2Ofl, CO2fl, fluid_wtper)), \n",
    "                            columns =['pressure', 'H2Oliq', 'CO2liq', 'H2Ofl', 'CO2fl', 'fluid_wtper'])\n",
    "\n",
    "#print(exsolved_degassing_df)\n",
    "exsolved_degassing_df.plot(kind='line',x='H2Oliq',y='CO2liq',color='green')\n",
    "plt.show()\n",
    "\n"
   ]
  },
  {
   "cell_type": "markdown",
   "metadata": {},
   "source": [
    "## Open system "
   ]
  },
  {
   "cell_type": "code",
   "execution_count": null,
   "metadata": {},
   "outputs": [],
   "source": [
    "#open system\n",
    "bulk_comp = bulk_comp_orig\n",
    "feasible = melts.set_bulk_composition(bulk_comp) #this needs to be reset always!\n",
    "\n",
    "bulk_comp = msp.normalize(bulk_comp)\n",
    "P_array = np.arange(1.0, data['SaturationPressure_MPa']+10.0, 10)\n",
    "P_array = -np.sort(-P_array)\n",
    "\n",
    "pressure = []\n",
    "H2Oliq = []\n",
    "CO2liq = []\n",
    "H2Ofl = []\n",
    "CO2fl = []\n",
    "fluid_wtper = []\n",
    "for i in P_array:\n",
    "    fl_mass = 0.0\n",
    "    output = melts.equilibrate_tp(temp, i)\n",
    "    (status, temp, p, xmlout) = output[0]\n",
    "    liq_comp = melts.get_composition_of_phase(xmlout, phase_name='Liquid')\n",
    "    fl_comp = melts.get_composition_of_phase(xmlout, phase_name='Fluid')\n",
    "    liq_mass = melts.get_mass_of_phase(xmlout, phase_name='Liquid')\n",
    "    fl_mass = melts.get_mass_of_phase(xmlout, phase_name='Fluid')\n",
    "    fl_wtper = 100 * fl_mass / (fl_mass+liq_mass)\n",
    "    \n",
    "    if fl_mass > 0:\n",
    "        pressure.append(p)\n",
    "        H2Oliq.append(liq_comp[\"H2O\"])\n",
    "        CO2liq.append(liq_comp[\"CO2\"])\n",
    "        try:\n",
    "            H2Ofl.append(fl_comp[\"H2O\"])\n",
    "        except:\n",
    "            H2Ofl.append(0)\n",
    "        try:\n",
    "            CO2fl.append(fl_comp[\"CO2\"])\n",
    "        except:\n",
    "            CO2fl.append(0)\n",
    "        fluid_wtper.append(fl_wtper)\n",
    "    \n",
    "    \n",
    "        bulk_comp[\"H2O\"] = liq_comp[\"H2O\"]\n",
    "        bulk_comp[\"CO2\"] = liq_comp[\"CO2\"]\n",
    "        bulk_comp = msp.normalize(bulk_comp)\n",
    "\n",
    "        feasible = melts.set_bulk_composition(bulk_comp)\n",
    "\n",
    "bulk_comp = bulk_comp_orig\n",
    "feasible = melts.set_bulk_composition(bulk_comp) #this needs to be reset always!\n",
    "open_degassing_df = pd.DataFrame(list(zip(pressure, H2Oliq, CO2liq, H2Ofl, CO2fl, fluid_wtper)), \n",
    "                            columns =['pressure', 'H2Oliq', 'CO2liq', 'H2Ofl', 'CO2fl', 'fluid_wtper'])\n",
    "\n",
    "#print(open_degassing_df)\n",
    "open_degassing_df.plot(kind='line',x='H2Oliq',y='CO2liq',color='red')\n",
    "plt.show()"
   ]
  },
  {
   "cell_type": "markdown",
   "metadata": {},
   "source": [
    "## Plotting testing"
   ]
  },
  {
   "cell_type": "code",
   "execution_count": null,
   "metadata": {},
   "outputs": [],
   "source": [
    "ax = open_degassing_df.plot(kind='line',x='H2Oliq',y='CO2liq',color='red', label='Open System')\n",
    "closed_degassing_df.plot(ax=ax, kind='line',x='H2Oliq',y='CO2liq',color='blue', label='Closed System')\n",
    "exsolved_degassing_df.plot(ax=ax, kind='line', x='H2Oliq', y='CO2liq',color='green', label='Closed System w/2 wt% Vapor')\n",
    "plt.scatter(data[\"H2O\"], data[\"CO2\"], color='black') #Plot original data point\n",
    "\n",
    "ax.set_xlabel(\"H2O, wt%\")\n",
    "ax.set_ylabel(\"CO2, wt%\")"
   ]
  },
  {
   "cell_type": "markdown",
   "metadata": {},
   "source": [
    "## Multi sample testing"
   ]
  },
  {
   "cell_type": "code",
   "execution_count": null,
   "metadata": {},
   "outputs": [],
   "source": [
    "degassing_dict = {index: {'Label': [], 'press': [], 'H2Oliq': [], 'CO2liq': [], 'H2Ofl': [],\n",
    "                          'CO2fl': [], 'fl_wtper': []} for index, row in data.iterrows()}\n",
    "df_list = []\n",
    "for index, row in data.iterrows():\n",
    "    bulk_comp = {oxide: row[oxide] for oxide in oxides}\n",
    "    feasible = melts.set_bulk_composition(bulk_comp)\n",
    "\n",
    "    press = row[\"SaturationPressure_MPa\"]\n",
    "    p_array = np.arange(1.0, press, 10.0)\n",
    "    p_array = -np.sort(-p_array)\n",
    "    print(p_array)\n",
    "\n",
    "    if file_has_temp == True:\n",
    "        temp = row[temp] #test this\n",
    "\n",
    "    output = melts.equilibrate_tp(temp, p_array, initialize=True)\n",
    "    output2 = melts.equilibrate_tp(temp, press)\n",
    "    (status, t, p, xmlout) = output[0]\n",
    "    #melts.output_summary(xmlout)\n",
    "    liq_comp = melts.get_composition_of_phase(xmlout, phase_name='Liquid')\n",
    "    fl_comp = melts.get_composition_of_phase(xmlout, phase_name='Fluid')\n",
    "    liq_mass = melts.get_mass_of_phase(xmlout, phase_name='Liquid')\n",
    "    fl_mass = melts.get_mass_of_phase(xmlout, phase_name='Fluid')\n",
    "    fl_wtper = 100 * fl_mass / (fl_mass+liq_mass)\n",
    "\n",
    "    for key, value in degassing_dict.items():\n",
    "        if key == index:\n",
    "            value['Label'].append(index)\n",
    "            value['press'].append(press)\n",
    "            value['H2Oliq'].append(liq_comp['H2O'])\n",
    "            value['CO2liq'].append(liq_comp['CO2'])\n",
    "            value['H2Ofl'].append(fl_comp['H2O'])\n",
    "            value['CO2fl'].append(fl_comp['CO2'])\n",
    "            value['fl_wtper'].append(fl_wtper)\n",
    "\n",
    "    \n",
    "    degassing_data = pd.DataFrame.from_dict(degassing_dict, orient='index')\n",
    "    df_list.append(degassing_data)\n",
    "    \n",
    "result = pd.concat(df_list)\n",
    "result"
   ]
  },
  {
   "cell_type": "code",
   "execution_count": null,
   "metadata": {},
   "outputs": [],
   "source": [
    "column_names = {'Label': [], 'Press': [], 'H2Oliq': [],\n",
    "                'CO2liq': [], 'H2Ofl': [], 'CO2fl': [],\n",
    "                'fl_wtper': []}\n",
    "degassing_paths_df = pd.DataFrame(column_names)\n",
    "degassing_paths_df"
   ]
  },
  {
   "cell_type": "code",
   "execution_count": null,
   "metadata": {},
   "outputs": [],
   "source": [
    "df_list = []\n",
    "for index, key in degassing_dict.items():\n",
    "    df = pd.DataFrame.from_dict(value)\n",
    "    for index, row in df.iterrows():\n",
    "        row['Label'] = index\n",
    "    print (df)\n",
    "    df_list.append(df)\n",
    "#print (df_list)"
   ]
  },
  {
   "cell_type": "code",
   "execution_count": null,
   "metadata": {},
   "outputs": [],
   "source": [
    "rowname = []\n",
    "all_dfs = pd.DataFrame{}\n",
    "for index, row in degassing_dict.items():\n",
    "    rowname.append(index)\n",
    "    d = {\n",
    "         'press': [i for i in degassing_dict[index]['press']],\n",
    "         'H2Ofl': [j for j in degassing_dict[index]['H2Ofl']]}\n",
    "    df = pd.DataFrame(d)\n",
    "    \n",
    "print(df)\n",
    "    "
   ]
  },
  {
   "cell_type": "markdown",
   "metadata": {},
   "source": [
    "## Plotting isobars and isopleths"
   ]
  },
  {
   "cell_type": "code",
   "execution_count": null,
   "metadata": {},
   "outputs": [],
   "source": [
    "#To get composition from a specific sample in the input data:\n",
    "SampleName = 'BT-ex'\n",
    "bulk_comp = myfile.get_sample_oxide_comp(sample=SampleName)\n",
    "feasible = model.melts.set_bulk_composition(bulk_comp)\n",
    "\n",
    "#Uncomment the line below to print the sample composition\n",
    "#print(bulk_comp) \n",
    "\n",
    "#Alternatively, you can enter a single melt composition manually below:\n",
    "# bulk_comp = {'SiO2':  77.5, \n",
    "#                'TiO2':   0.08, \n",
    "#                'Al2O3': 12.5, \n",
    "#                'Fe2O3':  0.207,\n",
    "#                'Cr2O3':  0.0, \n",
    "#                'FeO':    0.473, \n",
    "#                'MnO':    0.0,\n",
    "#                'MgO':    0.03, \n",
    "#                'NiO':    0.0, \n",
    "#                'CoO':    0.0,\n",
    "#                'CaO':    0.43, \n",
    "#                'Na2O':   3.98, \n",
    "#                'K2O':    4.88, \n",
    "#                'P2O5':   0.0, \n",
    "#                'H2O':    10.0,\n",
    "#                'CO2':    1.0}\n",
    "\n",
    "# feasible = model.melts.set_bulk_composition(bulk_comp)"
   ]
  },
  {
   "cell_type": "code",
   "execution_count": null,
   "metadata": {},
   "outputs": [],
   "source": [
    "temperature = 1000.0\n",
    "\n",
    "#Use the below lines to define pressures as minimum, maximum, and interval:\n",
    "pressure_min = 100.0\n",
    "pressure_max = 500.0\n",
    "pressure_int = 100.0\n",
    "\n",
    "#Alternatively, pressures can be defined individually as a list:\n",
    "#pressures = [100.0, 200.0, 300.0, 400.0, 500.0]"
   ]
  },
  {
   "cell_type": "code",
   "execution_count": null,
   "metadata": {},
   "outputs": [],
   "source": [
    "isobars = model.calculate_isobars_and_isopleths(bulk_comp, temperature, pressure_min=pressure_min, pressure_max=pressure_max, pressure_int=pressure_int)"
   ]
  },
  {
   "cell_type": "code",
   "execution_count": null,
   "metadata": {},
   "outputs": [],
   "source": [
    "model.plot_isobars_and_isopleths(isobars)"
   ]
  },
  {
   "cell_type": "code",
   "execution_count": null,
   "metadata": {},
   "outputs": [],
   "source": []
  },
  {
   "cell_type": "code",
   "execution_count": null,
   "metadata": {},
   "outputs": [],
   "source": []
  },
  {
   "cell_type": "code",
   "execution_count": null,
   "metadata": {},
   "outputs": [],
   "source": []
  },
  {
   "cell_type": "code",
   "execution_count": null,
   "metadata": {},
   "outputs": [],
   "source": []
  }
 ],
 "metadata": {
  "kernelspec": {
   "display_name": "Python 3",
   "language": "python",
   "name": "python3"
  },
  "language_info": {
   "codemirror_mode": {
    "name": "ipython",
    "version": 3
   },
   "file_extension": ".py",
   "mimetype": "text/x-python",
   "name": "python",
   "nbconvert_exporter": "python",
   "pygments_lexer": "ipython3",
   "version": "3.7.7"
  }
 },
 "nbformat": 4,
 "nbformat_minor": 2
}
