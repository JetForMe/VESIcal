{
 "cells": [
  {
   "cell_type": "markdown",
   "metadata": {},
   "source": [
    "# MagmaSat+: A comprehensive model for mixed volatile (H$_2$O-CO$_2$) solubility in silicate melts – A python library within the ENKI framework\n",
    "## (For Earth and Space Sciences, an AGU Journal)\n",
    "***\n",
    "## Kayla Iacovino$^1$, Simon Matthews$^2$, Florence Bégué$^3$, Christy Till$^4$  and ??? Peter Fox? Mark Ghiorso? Aaron Wolf?\n",
    "$^1$Jacobs/NASA Johnson Space Center\n",
    "<br>$^2$Simon affiliation\n",
    "<br>$^3$Florence affiliation\n",
    "<br>$^4$School of Earth and Space Exploration (SESE), Arizona State University, Phoenix, AZ\n",
    "\n",
    "Move this text...\n",
    "\n",
    "Based on Mark Ghiorso's MELTS-v1.2.0-equilibrium example notebook written by Kayla Iacovino and Florence Bégué\n",
    "    \n",
    "Objective #1 - input multiple melt compositions (.xlsx file or other format)and compute H2O and CO2 of the melt and fluid for a given P and T _**(Working!)**_\n",
    "<br> Objective #2 - print these composition in a .xlsx (or other format) file _**(In progress - output problems)**_\n",
    "\n",
    "***"
   ]
  },
  {
   "cell_type": "markdown",
   "metadata": {},
   "source": [
    "# Key Points\n",
    "1. First key point\n",
    "2. Second\n",
    "3. Third"
   ]
  },
  {
   "cell_type": "markdown",
   "metadata": {},
   "source": [
    "# Abstract"
   ]
  },
  {
   "cell_type": "markdown",
   "metadata": {},
   "source": [
    "# Plain Language Summary"
   ]
  },
  {
   "cell_type": "markdown",
   "metadata": {},
   "source": [
    "# 1. Introduction\n",
    "Standard volatile preamble\n",
    "\n",
    "History of volatile solubility models\n",
    "\n",
    "Currently available tools and issues: Dixon (1995); Dixon (1997); Shishkina et al (2014); Iacono_marziano (2012); Egucghi and Dasgupta (2018); Zhang and Duan (2009); Allison et al (2019); Papale; MagmaSat; SolEx\n"
   ]
  },
  {
   "cell_type": "markdown",
   "metadata": {},
   "source": [
    "# 2. Research Methodology"
   ]
  },
  {
   "cell_type": "markdown",
   "metadata": {},
   "source": [
    "Preamble text\n",
    "\n",
    "MagmaSat determines the saturation conditions for a mixed H2O-CO2 fluid in natural composition silicate melts <cite data-cite=\"ghiorso_gualsa2015\">(Ghiorso & Gualda, 2015)</cite>\n",
    "\n",
    "* Volatile-dependent crystallization paths\n",
    "* Interpretation of melt inclusion volatile contents\n",
    "e.g. estimating depths of degassing, understanding how volatiles fuel eruptions\n",
    "\n",
    "MagmaSat+ is a rewrite of the MagmaSat app and based on the thermodynamic model of <cite data-cite=\"ghiorso_gualsa2015embed\">Ghiorso & Gualda (2015)</cite>. Our implementation in the ENKI framework based on Mark’s MELTS-v.1.2.0-equilibrium example notebook (ENKI Equilibrate package).\n",
    "\n",
    "MagmaSat+ is a volatile-focused tool capable of producing outputs relevant to volatile solubility and degassing processes\n",
    "\n",
    "\n",
    "The notebook features the follow workflow and capabilities:\n",
    "* Read in melt composition from an excel spreadsheet\n",
    "* Ability to model multiple liquid compositions at once\n",
    "* Advanced plotting capabilities\n",
    "* Saturation curves (isobars) and isopleths \n",
    "* Degassing paths\n",
    "* Capabilities readily extensible by the user\n",
    "\n",
    "Note:\n",
    "* No volatile calculator can do these things!\n",
    "* With the ENKI framework, implementation is relatively simple!\n"
   ]
  },
  {
   "cell_type": "markdown",
   "metadata": {},
   "source": [
    "# 3. Workable example uses"
   ]
  },
  {
   "cell_type": "markdown",
   "metadata": {},
   "source": [
    "Some text describing how ot use the below examples.\n",
    "\n",
    "Requirements of the input file:\n",
    "Oxides named as SiO2, TiO2, etc (list all)\n",
    "temperature column, if present, named Temp\n",
    "\n",
    "Units for temp, press, composition (wt%)"
   ]
  },
  {
   "cell_type": "markdown",
   "metadata": {},
   "source": [
    "### 3.0.1 Initialize packages and choose model"
   ]
  },
  {
   "cell_type": "markdown",
   "metadata": {},
   "source": [
    "Some text about what this step is doing.\n",
    "\n",
    "Create a MELTS v 1.2.0 instance\n",
    "Rhyolite-MELTS version 1.0.2 is the default model.\n",
    "\n",
    "Have a model = \"model\" type line that makes user define what model they are using at this stage. That way, in functino calls below, I can simply have model=model as args"
   ]
  },
  {
   "cell_type": "code",
   "execution_count": 1,
   "metadata": {},
   "outputs": [],
   "source": [
    "import MagmaSatPlus as msp\n",
    "from thermoengine import equilibrate\n",
    "import matplotlib.pyplot as plt\n",
    "import numpy as np\n",
    "import pandas as pd\n",
    "%matplotlib inline\n",
    "\n",
    "#Create a Modeller object where the user defines the model name and version to use for calculatinos\n",
    "model = msp.Modeller('MagmaSat','1.2.0')"
   ]
  },
  {
   "cell_type": "markdown",
   "metadata": {},
   "source": [
    "## Listing 1. Generated information about the implemented model: oxides included and their properties."
   ]
  },
  {
   "cell_type": "code",
   "execution_count": null,
   "metadata": {},
   "outputs": [],
   "source": [
    "melts = equilibrate.MELTSmodel('1.2.0')\n",
    "oxides = melts.get_oxide_names()\n",
    "phases = melts.get_phase_names()\n",
    "props = melts.get_list_of_properties()\n",
    "print (oxides)\n",
    "# print (phases)\n",
    "print(props)"
   ]
  },
  {
   "cell_type": "markdown",
   "metadata": {},
   "source": [
    "### 3.0.2 Load in data"
   ]
  },
  {
   "cell_type": "markdown",
   "metadata": {},
   "source": [
    "Some text explaining that all examples will use these data. These cells must be executed to run the rest of the notebook.\n",
    "\n",
    "Input initial composition of the system (liquid) in wt% or grams of oxides\n",
    "\n",
    "Excel spreadsheet (MagmaSat2018-input.xlsx) with melt inclusion compositions (in wt%) - The Excel spreadsheet needs to be in the same folder as the notebook"
   ]
  },
  {
   "cell_type": "markdown",
   "metadata": {},
   "source": [
    "## Table 1. User input data for melt inclusions\n",
    "The first ten rows of the user input data. The number of lines shown can be adjusted in the code below by changing the value in \"head(10)\" to any number.  Execute the below cell to display Table 1."
   ]
  },
  {
   "cell_type": "code",
   "execution_count": 3,
   "metadata": {},
   "outputs": [],
   "source": [
    "myfile = msp.ExcelFile('MagmaSat2018-input.xlsx') #Enter your filename here\n",
    "data = myfile.data\n",
    "\n",
    "#Uncomment the line below to see your data\n",
    "#print(data)"
   ]
  },
  {
   "cell_type": "markdown",
   "metadata": {},
   "source": [
    "## 3.1 Example 1: Plotting user input data\n",
    "Plotting data without performing any operations/modeling."
   ]
  },
  {
   "cell_type": "code",
   "execution_count": null,
   "metadata": {},
   "outputs": [],
   "source": [
    "plt.plot(data[\"H2O\"], data[\"CO2\"], 'bo')\n",
    "plt.xlabel(\"H$_2$O\")\n",
    "plt.ylabel(\"CO$_2$\")\n",
    "plt.show()"
   ]
  },
  {
   "cell_type": "markdown",
   "metadata": {},
   "source": [
    "## 3.2. Example 2: Plotting isobars and isopleths\n",
    "Plot isobars and isopleths for any given composition.\n",
    "\n",
    "This is done for one composition at a time. The user can input that data here OR pull from the input spreadsheet. Execute only one of the following two cells (Note: can we number cells to refer to them in text?)"
   ]
  },
  {
   "cell_type": "code",
   "execution_count": null,
   "metadata": {},
   "outputs": [],
   "source": [
    "#To get composition from a specific sample in the input data:\n",
    "SampleName = 'BT-ex'\n",
    "bulk_comp = myfile.get_sample_oxide_comp(SampleName)\n",
    "bulk_comp = msp.normalize(bulk_comp)\n",
    "feasible = melts.set_bulk_composition(bulk_comp)\n",
    "\n",
    "#Uncomment the line below to print the sample composition\n",
    "print(bulk_comp) \n",
    "\n",
    "test = pd.DataFrame([v for v in bulk_comp.values()], columns = ['value'],\n",
    "                    index = [k for k in bulk_comp.keys()])\n",
    "test"
   ]
  },
  {
   "cell_type": "code",
   "execution_count": null,
   "metadata": {},
   "outputs": [],
   "source": [
    "output = 0\n",
    "output = melts.equilibrate_tp(900.0, 1.0, initialize=True)\n",
    "(status, temp, i, xmlout) = output[0]\n",
    "liq_comp = melts.get_composition_of_phase(xmlout, phase_name='Liquid')\n",
    "#model.melts.output_summary(xmlout)\n",
    "print(liq_comp)"
   ]
  },
  {
   "cell_type": "code",
   "execution_count": null,
   "metadata": {},
   "outputs": [],
   "source": [
    "# #Uncomment this entire cell to execute the code below.\n",
    "\n",
    "# #To manually input a bulk composition, fill in the oxides in wt% below:\n",
    "# bulk_comp = {'SiO2':  77.5, \n",
    "#                'TiO2':   0.08, \n",
    "#                'Al2O3': 12.5, \n",
    "#                'Fe2O3':  0.207,\n",
    "#                'Cr2O3':  0.0, \n",
    "#                'FeO':    0.473, \n",
    "#                'MnO':    0.0,\n",
    "#                'MgO':    0.03, \n",
    "#                'NiO':    0.0, \n",
    "#                'CoO':    0.0,\n",
    "#                'CaO':    0.43, \n",
    "#                'Na2O':   3.98, \n",
    "#                'K2O':    4.88, \n",
    "#                'P2O5':   0.0, \n",
    "#                'H2O':    10.0,\n",
    "#                'CO2':    1.0}\n",
    "\n",
    "# feasible = model.melts.set_bulk_composition(bulk_comp)"
   ]
  },
  {
   "cell_type": "markdown",
   "metadata": {},
   "source": [
    "Next, conditions over which to calculate isobars and isopleths must be specified. The generated plot is isothermal, so only one temperature can be chosen. Isobars can be calculated for any number of pressures. These are specified by either: listing all desired pressures; or by defining minimum and maximum pressures as well as the interval between each pressure step. For example, if it is desired to plot isobars every 100 MPa, from 100 to 500 MPa, input can either be a list of all pressures (100, 200, 300, 400, 500) or minimum temperature, maximum temperature, and temperature interval can be separately defined as 100, 500, and 100, respectively."
   ]
  },
  {
   "cell_type": "code",
   "execution_count": null,
   "metadata": {},
   "outputs": [],
   "source": [
    "temperature = 1000.0\n",
    "\n",
    "#Use the below lines to define pressures as minimum, maximum, and interval:\n",
    "pressure_min = 100.0\n",
    "pressure_max = 500.0\n",
    "pressure_int = 100.0\n",
    "\n",
    "#Alternatively, pressures can be defined individually as a list:\n",
    "pressures = [100.0, 200.0, 300.0, 400.0, 500.0]"
   ]
  },
  {
   "cell_type": "markdown",
   "metadata": {},
   "source": [
    "Next, the H$_2$O and CO$_2$ dissolved in the melt at saturation is calculated at the specified temperature and over the range of specified pressures. The user does not need to change anything in the below cell."
   ]
  },
  {
   "cell_type": "code",
   "execution_count": null,
   "metadata": {},
   "outputs": [],
   "source": [
    "isobars = model.calculate_isobars_and_isopleths(bulk_comp, temperature, print_status=True, pressure_min=pressure_min, pressure_max=pressure_max, pressure_int=pressure_int)"
   ]
  },
  {
   "cell_type": "code",
   "execution_count": null,
   "metadata": {},
   "outputs": [],
   "source": [
    "#This can be done with one built-in call, as:\n",
    "model.plot_isobars_and_isopleths(isobars)"
   ]
  },
  {
   "cell_type": "markdown",
   "metadata": {},
   "source": [
    "However, the user may wish to apply custom formatting to the plot, in which case, the code to plot isobars and isopleths is provided below."
   ]
  },
  {
   "cell_type": "code",
   "execution_count": null,
   "metadata": {},
   "outputs": [],
   "source": [
    "# # Uncomment this entire cell to execute the code below...\n",
    "\n",
    "# #-----------------------CODE TO PLOT ISOBARS AND ISOPLETHS-----------------#\n",
    "# #First, we must define the pressure values used\n",
    "# P_vals = isobars_df.Pressure.unique()\n",
    "\n",
    "# #Then, the isobar data is turned from a pandas DataFrame into a list of lists for easier parsing:\n",
    "# isobars_lists = isobars_df.values.tolist()\n",
    "\n",
    "# #make a list of isopleth values to plot\n",
    "# iso_step = 20.0\n",
    "# isopleth_vals = np.arange(0+iso_step,100.0,iso_step)\n",
    "\n",
    "# #add zero values to volatiles list\n",
    "# volatiles_at_saturation.append([0.0,0.0,0.0,0.0])\n",
    "\n",
    "# #draw the figure\n",
    "# fig, ax1 = plt.subplots()\n",
    "\n",
    "# #turn on interactive plotting and make some labels\n",
    "# plt.ion()\n",
    "# plt.xlabel('H2O wt%')\n",
    "# plt.ylabel('CO2 wt%')\n",
    "\n",
    "# #Plot your data\n",
    "# for pressure in P_vals:\n",
    "#     ax1.plot([item[1] for item in isobars_lists if item[0] == pressure], \n",
    "#              [item[2] for item in isobars_lists if item[0] == pressure])\n",
    "\n",
    "# for val in isopleth_vals:\n",
    "#     val_min = val-1.0\n",
    "#     val_max = val+1.0\n",
    "#     x_vals_iso = [item[1] for item in isobars_lists if val_min <= item[3] <= val_max]\n",
    "#     x_vals_iso.append(0)\n",
    "#     x_vals_iso = sorted(x_vals_iso)\n",
    "#     x_vals_iso = np.array(x_vals_iso)\n",
    "#     y_vals_iso = [item[2] for item in isobars_lists if val_min <= item[3] <= val_max]\n",
    "#     y_vals_iso.append(0)\n",
    "#     y_vals_iso = sorted(y_vals_iso)\n",
    "#     y_vals_iso = np.array(y_vals_iso)\n",
    "    \n",
    "#     ax1.plot(x_vals_iso, y_vals_iso, ls='dashed', color='k') #format the isopleths\n",
    "\n",
    "# #Create a legend for the plot\n",
    "# labels = P_vals\n",
    "# ax1.legend(labels)"
   ]
  },
  {
   "cell_type": "markdown",
   "metadata": {},
   "source": [
    "## 3.3. Example 3: Saturation pressures\n",
    "And examples to use different models."
   ]
  },
  {
   "cell_type": "code",
   "execution_count": null,
   "metadata": {},
   "outputs": [],
   "source": [
    "#Test passing an ExcelFile object\n",
    "pressures = model.calculate_saturation_pressure(myfile, 900.0)\n",
    "# print(pressures)"
   ]
  },
  {
   "cell_type": "markdown",
   "metadata": {},
   "source": [
    "## 3.4. Example 4: Equilibrium fluid compositions\n",
    "And examples to use different models."
   ]
  },
  {
   "cell_type": "code",
   "execution_count": null,
   "metadata": {},
   "outputs": [],
   "source": []
  },
  {
   "cell_type": "markdown",
   "metadata": {},
   "source": [
    "## 3.5. Example 5: Plotting degassing paths"
   ]
  },
  {
   "cell_type": "markdown",
   "metadata": {},
   "source": [
    "Define open vs closed system degassing."
   ]
  },
  {
   "cell_type": "code",
   "execution_count": 4,
   "metadata": {},
   "outputs": [
    {
     "data": {
      "image/png": "[encoded data removed]",
      "text/plain": [
       "<Figure size 432x288 with 1 Axes>"
      ]
     },
     "metadata": {
      "needs_background": "light"
     },
     "output_type": "display_data"
    }
   ],
   "source": [
    "#To get composition from a specific sample in the input data:\n",
    "SampleName = 'BT-ex'\n",
    "bulk_comp = myfile.get_sample_oxide_comp(SampleName)\n",
    "\n",
    "temp = 900.0 #temperature in °C\n",
    "\n",
    "#Calculate open, closed, and closed + 2 wt% initial vapor\n",
    "open_df = model.calculate_degassing_paths(bulk_comp, temp, system='open')\n",
    "closed_df = model.calculate_degassing_paths(bulk_comp, temp, system='closed')\n",
    "exsolved_df = model.calculate_degassing_paths(bulk_comp, temp, system='closed', init_vapor=2.0)\n",
    "\n",
    "#Plot the results\n",
    "ax = open_df.plot(kind='line',x='H2Oliq',y='CO2liq',color='red', label='Open System')\n",
    "closed_df.plot(ax=ax, kind='line',x='H2Oliq',y='CO2liq',color='blue', label='Closed System')\n",
    "exsolved_df.plot(ax=ax, kind='line', x='H2Oliq', y='CO2liq',color='green', label='Closed System w/2 wt% Vapor')\n",
    "ax.scatter(bulk_comp[\"H2O\"], bulk_comp[\"CO2\"], color='black') #Plot original data point\n",
    "\n",
    "ax.set_xlabel(\"H2O, wt%\")\n",
    "ax.set_ylabel(\"CO2, wt%\")\n",
    "\n",
    "plt.show()\n"
   ]
  },
  {
   "cell_type": "markdown",
   "metadata": {},
   "source": [
    "## 3.6. Exporting data"
   ]
  },
  {
   "cell_type": "markdown",
   "metadata": {},
   "source": [
    "## Post processing of input table to generate a plot"
   ]
  },
  {
   "cell_type": "code",
   "execution_count": null,
   "metadata": {},
   "outputs": [],
   "source": [
    "# transform input table into a data array\n",
    "compo = np.array(compo_input)\n",
    "\n",
    "# plot melt H2O-CO2\n",
    "compo_H2O = compo[:,14]\n",
    "compo_CO2 = compo[:,15]*10000    # converted CO2 in ppm\n",
    "plt.scatter(compo_H2O, compo_CO2)\n",
    "axes = plt.gca\n",
    "# plt.axis([2,6,0,800])\n",
    "plt.xlabel('$H_2O$(wt.%)')\n",
    "plt.ylabel('$CO_2$ (ppm)')\n",
    "# plt.title('H2O vs. CO2')\n",
    "plt.show()"
   ]
  },
  {
   "cell_type": "markdown",
   "metadata": {},
   "source": [
    "## Figure 1. Caption - note, the plot needs to be tidied up, biggger, etc. for publication quality"
   ]
  },
  {
   "cell_type": "markdown",
   "metadata": {},
   "source": [
    "***\n",
    "## Calculate Fluid + Magma from a melt composition\n",
    "\n",
    "Suppress all phases except for Liquid and Fluid etc."
   ]
  },
  {
   "cell_type": "markdown",
   "metadata": {},
   "source": [
    "## Listing 4 (? - auto numbering?)"
   ]
  },
  {
   "cell_type": "code",
   "execution_count": null,
   "metadata": {},
   "outputs": [],
   "source": [
    "b = melts.get_phase_inclusion_status()\n",
    "for phase in phases:\n",
    "    melts.set_phase_inclusion_status({phase:False})\n",
    "\n",
    "#set only Fluid and Liquid to True\n",
    "melts.set_phase_inclusion_status({'Liquid':True, 'Fluid':True})\n",
    "\n",
    "a = melts.get_phase_inclusion_status()\n",
    "\n",
    "print(\"Only allowable phases:\")\n",
    "for key, value in a.items():\n",
    "    if value == True:\n",
    "        print(key)"
   ]
  },
  {
   "cell_type": "markdown",
   "metadata": {},
   "source": [
    "## Compute the equilibrium state for a given T (°C) and P (MPa).\n",
    "Print status of the calculation, and summary output of equilibrium state for each composition in the spreadsheet.\n",
    "\n",
    "Create a new Excel spreadsheet with output."
   ]
  },
  {
   "cell_type": "code",
   "execution_count": null,
   "metadata": {},
   "outputs": [],
   "source": [
    "# Enter P/T to compute fluid composition. T in C, P in MPa\n",
    "\n",
    "temp = 780.0\n",
    "press = 100.0\n",
    "\n",
    "# could add some widgets here later on"
   ]
  },
  {
   "cell_type": "markdown",
   "metadata": {},
   "source": [
    "## Listing 5. ?MELTS diagnostic output generated as the code runs. ?Discuss role of log-type outputs in a notebook that becomes a publication? Perhaps comment out print(status, t, p) in the code?\n"
   ]
  },
  {
   "cell_type": "code",
   "execution_count": null,
   "metadata": {
    "scrolled": false
   },
   "outputs": [],
   "source": [
    "wb = melts.start_excel_workbook_with_sheet_name(sheetName=\"Summary\")\n",
    "\n",
    "for i in range(len(compo)):\n",
    "    compo_d = dict(zip(oxides,compo[i]))\n",
    "    feasible = melts.set_bulk_composition(compo_d)\n",
    "    output = melts.equilibrate_tp(temp, press, initialize=True)  \n",
    "    (status, t, p, xmlout) = output[0]\n",
    "    #print(type(output))\n",
    "    #status-string indicating the status of the calculation: success/failiure, Reason for success/failure\n",
    "    print (status, t, p)\n",
    "    output_all = melts.output_summary(xmlout) # this prints the data as well\n",
    "    print('\\n')\n",
    "    melts.update_excel_workbook(wb, xmlout)\n",
    "    \n",
    "melts.write_excel_workbook(wb, 'MagmaSat2018-output.xlsx')"
   ]
  },
  {
   "cell_type": "markdown",
   "metadata": {},
   "source": [
    "### Results and Analyses\n",
    "Visualizing and plotting results - <FONT color=red> in progress there is an offset in the output file, plus want to add label, ...</FONT color=red>"
   ]
  },
  {
   "cell_type": "markdown",
   "metadata": {},
   "source": [
    "## Listing 4. First 10 lines of output saved into an Excel spreadsheet."
   ]
  },
  {
   "cell_type": "code",
   "execution_count": null,
   "metadata": {},
   "outputs": [],
   "source": [
    "excel_file_2 = 'MagmaSat2018-output.xlsx'\n",
    "output = pd.read_excel(excel_file_2, sheet_name=1) #sheet 0 = summary data input, sheet 1 = Fluid composition, sheet 2 = magma composition\n",
    "output.head(10)\n",
    "\n",
    "# output problems, as not the same column label for each composition, therefore there is an offset in the data"
   ]
  },
  {
   "cell_type": "markdown",
   "metadata": {},
   "source": [
    "insert code from separate CurvePlotter notebook"
   ]
  },
  {
   "cell_type": "markdown",
   "metadata": {},
   "source": [
    "# 4. Discussion and Conclusion"
   ]
  },
  {
   "cell_type": "markdown",
   "metadata": {},
   "source": [
    "# 5. Future Work"
   ]
  },
  {
   "cell_type": "markdown",
   "metadata": {},
   "source": [
    "# Acknowledgements"
   ]
  },
  {
   "cell_type": "markdown",
   "metadata": {},
   "source": [
    "# References"
   ]
  },
  {
   "cell_type": "code",
   "execution_count": null,
   "metadata": {},
   "outputs": [],
   "source": []
  }
 ],
 "metadata": {
  "kernelspec": {
   "display_name": "Python 3",
   "language": "python",
   "name": "python3"
  },
  "language_info": {
   "codemirror_mode": {
    "name": "ipython",
    "version": 3
   },
   "file_extension": ".py",
   "mimetype": "text/x-python",
   "name": "python",
   "nbconvert_exporter": "python",
   "pygments_lexer": "ipython3",
   "version": "3.5.5"
  }
 },
 "nbformat": 4,
 "nbformat_minor": 2
}
