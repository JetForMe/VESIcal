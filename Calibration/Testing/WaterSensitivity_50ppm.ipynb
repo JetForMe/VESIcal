{
 "cells": [
  {
   "cell_type": "code",
   "execution_count": 1,
   "metadata": {},
   "outputs": [],
   "source": [
    "import VESIcal as v\n",
    "import matplotlib.pyplot as plt\n",
    "import numpy as np\n",
    "import pandas as pd\n",
    "from IPython.display import display, HTML\n",
    "import pandas as pd\n",
    "import matplotlib as mpl\n",
    "import seaborn as sns\n",
    "from sklearn.linear_model import LinearRegression\n",
    "from sklearn.metrics import r2_score\n",
    "import statsmodels.api as sm\n",
    "from statsmodels.sandbox.regression.predstd import wls_prediction_std\n",
    "%matplotlib inline"
   ]
  },
  {
   "cell_type": "code",
   "execution_count": 2,
   "metadata": {},
   "outputs": [],
   "source": [
    "plt.rcParams[\"font.family\"] = 'arial'\n",
    "plt.rcParams[\"mathtext.default\"] = \"regular\"\n",
    "plt.rcParams[\"mathtext.fontset\"] = \"dejavusans\"\n",
    "%matplotlib inline\n",
    "sns.set(style=\"ticks\", context=\"poster\",rc={\"grid.linewidth\": 1,\"xtick.major.width\": 1,\"ytick.major.width\": 1, 'patch.edgecolor': 'black'})\n",
    "\n",
    "plt.style.use(\"seaborn-colorblind\")\n",
    "#jtplot.style()\n",
    "mpl.rcParams['patch.linewidth'] = 1\n",
    "mpl.rcParams['axes.linewidth'] = 1 # set the value globally"
   ]
  },
  {
   "cell_type": "code",
   "execution_count": 3,
   "metadata": {},
   "outputs": [
    {
     "data": {
      "text/html": [
       "<div>\n",
       "<style scoped>\n",
       "    .dataframe tbody tr th:only-of-type {\n",
       "        vertical-align: middle;\n",
       "    }\n",
       "\n",
       "    .dataframe tbody tr th {\n",
       "        vertical-align: top;\n",
       "    }\n",
       "\n",
       "    .dataframe thead th {\n",
       "        text-align: right;\n",
       "    }\n",
       "</style>\n",
       "<table border=\"1\" class=\"dataframe\">\n",
       "  <thead>\n",
       "    <tr style=\"text-align: right;\">\n",
       "      <th></th>\n",
       "      <th>SiO2</th>\n",
       "      <th>TiO2</th>\n",
       "      <th>Al2O3</th>\n",
       "      <th>Fe2O3</th>\n",
       "      <th>Cr2O3</th>\n",
       "      <th>FeO</th>\n",
       "      <th>MnO</th>\n",
       "      <th>MgO</th>\n",
       "      <th>NiO</th>\n",
       "      <th>CoO</th>\n",
       "      <th>CaO</th>\n",
       "      <th>Na2O</th>\n",
       "      <th>K2O</th>\n",
       "      <th>P2O5</th>\n",
       "      <th>H2O</th>\n",
       "      <th>CO2</th>\n",
       "      <th>Press</th>\n",
       "      <th>Temp</th>\n",
       "    </tr>\n",
       "    <tr>\n",
       "      <th>Label</th>\n",
       "      <th></th>\n",
       "      <th></th>\n",
       "      <th></th>\n",
       "      <th></th>\n",
       "      <th></th>\n",
       "      <th></th>\n",
       "      <th></th>\n",
       "      <th></th>\n",
       "      <th></th>\n",
       "      <th></th>\n",
       "      <th></th>\n",
       "      <th></th>\n",
       "      <th></th>\n",
       "      <th></th>\n",
       "      <th></th>\n",
       "      <th></th>\n",
       "      <th></th>\n",
       "      <th></th>\n",
       "    </tr>\n",
       "  </thead>\n",
       "  <tbody>\n",
       "    <tr>\n",
       "      <th>7</th>\n",
       "      <td>50.793</td>\n",
       "      <td>2.55</td>\n",
       "      <td>13.523</td>\n",
       "      <td>1.889498</td>\n",
       "      <td>0</td>\n",
       "      <td>9.63645</td>\n",
       "      <td>0.179</td>\n",
       "      <td>7.432</td>\n",
       "      <td>0</td>\n",
       "      <td>0</td>\n",
       "      <td>10.594</td>\n",
       "      <td>2.303</td>\n",
       "      <td>0.429</td>\n",
       "      <td>0.378</td>\n",
       "      <td>0.00</td>\n",
       "      <td>0.005</td>\n",
       "      <td>1000</td>\n",
       "      <td>1163.3832</td>\n",
       "    </tr>\n",
       "    <tr>\n",
       "      <th>7</th>\n",
       "      <td>50.793</td>\n",
       "      <td>2.55</td>\n",
       "      <td>13.523</td>\n",
       "      <td>1.889498</td>\n",
       "      <td>0</td>\n",
       "      <td>9.63645</td>\n",
       "      <td>0.179</td>\n",
       "      <td>7.432</td>\n",
       "      <td>0</td>\n",
       "      <td>0</td>\n",
       "      <td>10.594</td>\n",
       "      <td>2.303</td>\n",
       "      <td>0.429</td>\n",
       "      <td>0.378</td>\n",
       "      <td>0.01</td>\n",
       "      <td>0.005</td>\n",
       "      <td>1000</td>\n",
       "      <td>1163.3832</td>\n",
       "    </tr>\n",
       "    <tr>\n",
       "      <th>7</th>\n",
       "      <td>50.793</td>\n",
       "      <td>2.55</td>\n",
       "      <td>13.523</td>\n",
       "      <td>1.889498</td>\n",
       "      <td>0</td>\n",
       "      <td>9.63645</td>\n",
       "      <td>0.179</td>\n",
       "      <td>7.432</td>\n",
       "      <td>0</td>\n",
       "      <td>0</td>\n",
       "      <td>10.594</td>\n",
       "      <td>2.303</td>\n",
       "      <td>0.429</td>\n",
       "      <td>0.378</td>\n",
       "      <td>0.02</td>\n",
       "      <td>0.005</td>\n",
       "      <td>1000</td>\n",
       "      <td>1163.3832</td>\n",
       "    </tr>\n",
       "    <tr>\n",
       "      <th>7</th>\n",
       "      <td>50.793</td>\n",
       "      <td>2.55</td>\n",
       "      <td>13.523</td>\n",
       "      <td>1.889498</td>\n",
       "      <td>0</td>\n",
       "      <td>9.63645</td>\n",
       "      <td>0.179</td>\n",
       "      <td>7.432</td>\n",
       "      <td>0</td>\n",
       "      <td>0</td>\n",
       "      <td>10.594</td>\n",
       "      <td>2.303</td>\n",
       "      <td>0.429</td>\n",
       "      <td>0.378</td>\n",
       "      <td>0.03</td>\n",
       "      <td>0.005</td>\n",
       "      <td>1000</td>\n",
       "      <td>1163.3832</td>\n",
       "    </tr>\n",
       "    <tr>\n",
       "      <th>7</th>\n",
       "      <td>50.793</td>\n",
       "      <td>2.55</td>\n",
       "      <td>13.523</td>\n",
       "      <td>1.889498</td>\n",
       "      <td>0</td>\n",
       "      <td>9.63645</td>\n",
       "      <td>0.179</td>\n",
       "      <td>7.432</td>\n",
       "      <td>0</td>\n",
       "      <td>0</td>\n",
       "      <td>10.594</td>\n",
       "      <td>2.303</td>\n",
       "      <td>0.429</td>\n",
       "      <td>0.378</td>\n",
       "      <td>0.04</td>\n",
       "      <td>0.005</td>\n",
       "      <td>1000</td>\n",
       "      <td>1163.3832</td>\n",
       "    </tr>\n",
       "  </tbody>\n",
       "</table>\n",
       "</div>"
      ],
      "text/plain": [
       "         SiO2  TiO2   Al2O3     Fe2O3  Cr2O3      FeO    MnO    MgO  NiO  CoO  \\\n",
       "Label                                                                           \n",
       "7      50.793  2.55  13.523  1.889498      0  9.63645  0.179  7.432    0    0   \n",
       "7      50.793  2.55  13.523  1.889498      0  9.63645  0.179  7.432    0    0   \n",
       "7      50.793  2.55  13.523  1.889498      0  9.63645  0.179  7.432    0    0   \n",
       "7      50.793  2.55  13.523  1.889498      0  9.63645  0.179  7.432    0    0   \n",
       "7      50.793  2.55  13.523  1.889498      0  9.63645  0.179  7.432    0    0   \n",
       "\n",
       "          CaO   Na2O    K2O   P2O5   H2O    CO2  Press       Temp  \n",
       "Label                                                              \n",
       "7      10.594  2.303  0.429  0.378  0.00  0.005   1000  1163.3832  \n",
       "7      10.594  2.303  0.429  0.378  0.01  0.005   1000  1163.3832  \n",
       "7      10.594  2.303  0.429  0.378  0.02  0.005   1000  1163.3832  \n",
       "7      10.594  2.303  0.429  0.378  0.03  0.005   1000  1163.3832  \n",
       "7      10.594  2.303  0.429  0.378  0.04  0.005   1000  1163.3832  "
      ]
     },
     "execution_count": 3,
     "metadata": {},
     "output_type": "execute_result"
    }
   ],
   "source": [
    "myfile= v.ExcelFile('WaterSensitivity_50ppm.xlsx',   input_type='wtpercent')\n",
    "data = myfile.data\n",
    "data.head()"
   ]
  },
  {
   "cell_type": "code",
   "execution_count": 4,
   "metadata": {},
   "outputs": [
    {
     "name": "stdout",
     "output_type": "stream",
     "text": [
      "Calculating sample 7\n",
      "Calculating sample 7\n",
      "Calculating sample 7\n",
      "Calculating sample 7\n",
      "Calculating sample 7\n",
      "Calculating sample 7\n",
      "Calculating sample 7\n",
      "Calculating sample 7\n",
      "Calculating sample 7\n",
      "Calculating sample 7\n",
      "Calculating sample 7\n",
      "Calculating sample 7\n",
      "Calculating sample 7\n",
      "Calculating sample 7\n",
      "Calculating sample 7\n",
      "Calculating sample 7\n",
      "Calculating sample 7\n",
      "Calculating sample 7\n",
      "Calculating sample 7\n",
      "Calculating sample 7\n",
      "Calculating sample 7\n",
      "Calculating sample 8\n",
      "Calculating sample 8\n",
      "Calculating sample 8\n",
      "Calculating sample 8\n",
      "Calculating sample 8\n",
      "Calculating sample 8\n",
      "Calculating sample 8\n",
      "Calculating sample 8\n",
      "Calculating sample 8\n",
      "Calculating sample 8\n",
      "Calculating sample 8\n",
      "Calculating sample 8\n",
      "Calculating sample 8\n",
      "Calculating sample 8\n",
      "Calculating sample 8\n",
      "Calculating sample 8\n",
      "Calculating sample 8\n",
      "Calculating sample 8\n",
      "Calculating sample 8\n",
      "Calculating sample 8\n",
      "Calculating sample 8\n",
      "Calculating sample 8\n",
      "Calculating sample 8\n",
      "Calculating sample 8\n",
      "Calculating sample 8\n",
      "Calculating sample 8\n",
      "Calculating sample 8\n",
      "Calculating sample 8\n",
      "Calculating sample 8\n",
      "Calculating sample 8\n",
      "Calculating sample 8\n",
      "Calculating sample 8\n",
      "Calculating sample 8\n",
      "Calculating sample 8\n",
      "Calculating sample 8\n",
      "Calculating sample 8\n",
      "Calculating sample 8\n",
      "Calculating sample 8\n",
      "Calculating sample 8\n",
      "Calculating sample 8\n",
      "Calculating sample 8\n",
      "Calculating sample 8\n",
      "Calculating sample 9\n",
      "Calculating sample 9\n",
      "Calculating sample 9\n",
      "Calculating sample 9\n",
      "Calculating sample 9\n",
      "Calculating sample 9\n",
      "Calculating sample 9\n",
      "Calculating sample 9\n",
      "Calculating sample 9\n",
      "Calculating sample 9\n",
      "Calculating sample 9\n",
      "Calculating sample 9\n",
      "Calculating sample 9\n",
      "Calculating sample 9\n",
      "Calculating sample 9\n",
      "Calculating sample 9\n",
      "Calculating sample 9\n",
      "Calculating sample 9\n",
      "Calculating sample 9\n",
      "Calculating sample 9\n",
      "Calculating sample 9\n",
      "Calculating sample 9\n",
      "Calculating sample 9\n",
      "Calculating sample 9\n",
      "Calculating sample 9\n",
      "Calculating sample 9\n",
      "Calculating sample 9\n",
      "Calculating sample 9\n",
      "Calculating sample 9\n",
      "Calculating sample 9\n",
      "Calculating sample 9\n",
      "Calculating sample 9\n",
      "Calculating sample 9\n",
      "Calculating sample 9\n",
      "Calculating sample 9\n",
      "Calculating sample 9\n",
      "Calculating sample 9\n",
      "Calculating sample 9\n",
      "Calculating sample 9\n",
      "Calculating sample 9\n",
      "Calculating sample 9\n",
      "Calculating sample 9\n",
      "Done!\n"
     ]
    }
   ],
   "source": [
    "satPs_wtemps_Magmasat=myfile.calculate_saturation_pressure(temperature=\"Temp\")"
   ]
  },
  {
   "cell_type": "code",
   "execution_count": 5,
   "metadata": {},
   "outputs": [],
   "source": [
    "satPs_wtemps_Shishkina=myfile.calculate_saturation_pressure(temperature=\"Temp\", model=\"Shishkina\")"
   ]
  },
  {
   "cell_type": "code",
   "execution_count": 6,
   "metadata": {},
   "outputs": [],
   "source": [
    "satPs_wtemps_IaconoMarziano=myfile.calculate_saturation_pressure(temperature=\"Temp\", model=\"IaconoMarziano\")"
   ]
  },
  {
   "cell_type": "code",
   "execution_count": 7,
   "metadata": {},
   "outputs": [
    {
     "name": "stderr",
     "output_type": "stream",
     "text": [
      "/home/jovyan/ThermoEngine/Notebooks/Development/F8_Work/VESIcal.py:3788: RuntimeWarning: Saturation pressure not found.\n",
      "  warnings.warn(\"Saturation pressure not found.\",RuntimeWarning)\n"
     ]
    }
   ],
   "source": [
    "satPs_wtemps_Dixon=myfile.calculate_saturation_pressure(temperature=\"Temp\", model=\"Dixon\")"
   ]
  },
  {
   "cell_type": "code",
   "execution_count": 8,
   "metadata": {},
   "outputs": [
    {
     "name": "stdout",
     "output_type": "stream",
     "text": [
      "Saved MagmasatTesting.xlsx\n"
     ]
    }
   ],
   "source": [
    "myfile.save_excelfile(filename='MagmasatTesting.xlsx', calculations=[satPs_wtemps_Magmasat, satPs_wtemps_Shishkina, satPs_wtemps_IaconoMarziano, satPs_wtemps_Dixon], sheet_name=['magmasat', 'Shishkina', 'Iacono', 'Dixon'])"
   ]
  },
  {
   "cell_type": "code",
   "execution_count": 14,
   "metadata": {},
   "outputs": [
    {
     "name": "stderr",
     "output_type": "stream",
     "text": [
      "/home/jovyan/ThermoEngine/Notebooks/Development/F8_Work/VESIcal.py:4962: RuntimeWarning: invalid value encountered in double_scalars\n",
      "  0.0012439*Pw**(1.5) + PCO2*(-1.084*10**(-4)*Pw**(0.5) - 1.362*10**(-5)*Pw))\n"
     ]
    }
   ],
   "source": [
    "#Testingmakingownmodel usin Liu\n",
    "mixed_model_Shishkina_Liu = v.MixedFluid({'CO2':v.ShishkinaCarbon(),\n",
    "                            'H2O':v.LiuWater()})\n",
    "satPs_wtemps_ShishkinaLiuMixed=myfile.calculate_saturation_pressure(temperature=\"Temp\", model=mixed_model_Shishkina_Liu)\n"
   ]
  },
  {
   "cell_type": "code",
   "execution_count": 15,
   "metadata": {},
   "outputs": [
    {
     "name": "stderr",
     "output_type": "stream",
     "text": [
      "/home/jovyan/ThermoEngine/Notebooks/Development/F8_Work/VESIcal.py:4777: RuntimeWarning: divide by zero encountered in log\n",
      "  two_ln_XH2Omelt = (aParam / temperatureK) + b_x_sum * (pressure/temperatureK) + cParam * np.log(fH2O) + dParam\n",
      "/home/jovyan/ThermoEngine/Notebooks/Development/F8_Work/VESIcal.py:4777: RuntimeWarning: invalid value encountered in log\n",
      "  two_ln_XH2Omelt = (aParam / temperatureK) + b_x_sum * (pressure/temperatureK) + cParam * np.log(fH2O) + dParam\n"
     ]
    }
   ],
   "source": [
    "#Testingmakingownmodel usin Liu\n",
    "mixed_model_Shishkina_Moore = v.MixedFluid({'CO2':v.ShishkinaCarbon(),\n",
    "                            'H2O':v.MooreWater()})\n",
    "satPs_wtemps_ShishkinaMooreMixed=myfile.calculate_saturation_pressure(temperature=\"Temp\", model=mixed_model_Shishkina_Moore)\n"
   ]
  },
  {
   "cell_type": "code",
   "execution_count": 20,
   "metadata": {},
   "outputs": [],
   "source": [
    "#Testingmakingownmodel usin Liu\n",
    "mixed_model_Shishkina_IaconoMarziano = v.MixedFluid({'CO2':v.ShishkinaCarbon(),\n",
    "                            'H2O':v.IaconoMarzianoWater()})\n",
    "satPs_wtemps_ShishkinaIaconoMarzianoMixed=myfile.calculate_saturation_pressure(temperature=\"Temp\", model=mixed_model_Shishkina_IaconoMarziano)\n"
   ]
  },
  {
   "cell_type": "code",
   "execution_count": 34,
   "metadata": {},
   "outputs": [
    {
     "data": {
      "text/plain": [
       "Text(0, 0.5, 'Sat P bars')"
      ]
     },
     "execution_count": 34,
     "metadata": {},
     "output_type": "execute_result"
    },
    {
     "data": {
      "image/png": "[encoded data removed]",
      "text/plain": [
       "<Figure size 1224x576 with 2 Axes>"
      ]
     },
     "metadata": {},
     "output_type": "display_data"
    }
   ],
   "source": [
    "fig, (ax1, ax2) = plt.subplots(1, 2, figsize=(17,8))\n",
    "\n",
    "ax1.scatter(satPs_wtemps_Shishkina['H2O'], satPs_wtemps_Shishkina['SaturationP_bars_VESIcal'], marker='o',  s=15,  facecolor='k', label='Shishkina_Water+Carbon')\n",
    "ax1.scatter(satPs_wtemps_ShishkinaLiuMixed['H2O'], satPs_wtemps_ShishkinaLiuMixed['SaturationP_bars_VESIcal'], marker='s',  s=15,  facecolor='r', label='ShishkinaLiuHybrid')\n",
    "ax1.scatter(satPs_wtemps_ShishkinaMooreMixed['H2O'], satPs_wtemps_ShishkinaMooreMixed['SaturationP_bars_VESIcal'], marker='^',  s=15,  facecolor='c', edgecolor='k', label='ShishkinaMooreHybrid')\n",
    "ax1.scatter(satPs_wtemps_ShishkinaIaconoMarzianoMixed['H2O'], satPs_wtemps_ShishkinaIaconoMarzianoMixed['SaturationP_bars_VESIcal'], marker='P',edgecolor='k',  s=10,  facecolor='m', label='ShishkinaIaconoHybrid')\n",
    "ax1.set_xlabel('H2O')\n",
    "ax1.set_ylabel('Sat P bars')\n",
    "ax1.scatter(satPs_wtemps_IaconoMarziano['H2O'], satPs_wtemps_IaconoMarziano['SaturationP_bars_VESIcal'], marker='*', facecolor='g', s=10,  edgecolor='g', label='Iacono')\n",
    "ax1.legend()\n",
    "ax1.set_ylim([50, 750])\n",
    "ax2.scatter(satPs_wtemps_Magmasat['H2O'], satPs_wtemps_Magmasat['SaturationP_bars_VESIcal'], marker='s',  s=10,  facecolor='r',edgecolor='k', label='Magmasat')\n",
    "ax2.scatter(satPs_wtemps_Dixon['H2O'], satPs_wtemps_Dixon['SaturationP_bars_VESIcal'], marker='o', facecolor='b', s=10,  edgecolor='k', label='Dixon')\n",
    "ax2.legend()\n",
    "ax2.set_ylim([50, 750])\n",
    "ax2.set_xlabel('H2O')\n",
    "ax2.set_ylabel('Sat P bars')"
   ]
  },
  {
   "cell_type": "code",
   "execution_count": null,
   "metadata": {},
   "outputs": [],
   "source": []
  }
 ],
 "metadata": {
  "kernelspec": {
   "display_name": "Python 3",
   "language": "python",
   "name": "python3"
  },
  "language_info": {
   "codemirror_mode": {
    "name": "ipython",
    "version": 3
   },
   "file_extension": ".py",
   "mimetype": "text/x-python",
   "name": "python",
   "nbconvert_exporter": "python",
   "pygments_lexer": "ipython3",
   "version": "3.7.6"
  }
 },
 "nbformat": 4,
 "nbformat_minor": 4
}
