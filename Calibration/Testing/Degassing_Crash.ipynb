{
 "cells": [
  {
   "cell_type": "code",
   "execution_count": 2,
   "metadata": {},
   "outputs": [],
   "source": [
    "import sys\n",
    "sys.path.append('../..')\n",
    "\n",
    "import VESIcal as v\n",
    "import matplotlib.pyplot as plt\n",
    "import numpy as np\n",
    "import pandas as pd\n",
    "from IPython.display import display, HTML\n",
    "import pandas as pd\n",
    "import matplotlib as mpl\n",
    "import seaborn as sns\n",
    "%matplotlib inline"
   ]
  },
  {
   "cell_type": "code",
   "execution_count": 3,
   "metadata": {},
   "outputs": [],
   "source": [
    "myfile = v.ExcelFile('Crashers_calcdegassing.xlsx', sheet_name='Sheet1', input_type='wtpercent')\n",
    "data = myfile.data"
   ]
  },
  {
   "cell_type": "code",
   "execution_count": 4,
   "metadata": {},
   "outputs": [],
   "source": [
    "temp=1117\n",
    "SampleName_8 =17\n",
    "bulk_comp_8 = myfile.get_sample_oxide_comp(SampleName_8)\n",
    "bulk_comp_8 = v.normalize(bulk_comp_8)\n",
    "closed_df_8 = v.calculate_degassing_path(sample=bulk_comp_8, temperature=temp).result\n",
    "open_df_8 = v.calculate_degassing_path(sample=bulk_comp_8, temperature=temp, fractionate_vapor=1.0).result\n"
   ]
  },
  {
   "cell_type": "code",
   "execution_count": 5,
   "metadata": {},
   "outputs": [],
   "source": [
    "temp=1217\n",
    "SampleName_81 =8\n",
    "bulk_comp_81 = myfile.get_sample_oxide_comp(SampleName_81)\n",
    "bulk_comp_81 = v.normalize(bulk_comp_81)\n",
    "closed_df_81 = v.calculate_degassing_path(sample=bulk_comp_81, temperature=temp).result\n",
    "open_df_81 = v.calculate_degassing_path(sample=bulk_comp_81, temperature=temp, fractionate_vapor=1.0).result\n"
   ]
  },
  {
   "cell_type": "code",
   "execution_count": 6,
   "metadata": {},
   "outputs": [
    {
     "name": "stdout",
     "output_type": "stream",
     "text": [
      "Saved Samoa2degass.xlsx\n"
     ]
    }
   ],
   "source": [
    "myfile.save_excelfile(filename='Samoa2degass.xlsx', \n",
    "                      calculations=[closed_df_81, open_df_81],\n",
    "                      sheet_name=['closed magmasat', 'Open magmasat'])"
   ]
  },
  {
   "cell_type": "code",
   "execution_count": 7,
   "metadata": {},
   "outputs": [
    {
     "name": "stdout",
     "output_type": "stream",
     "text": [
      "Saved Samoa2degass.xlsx\n"
     ]
    },
    {
     "data": {
      "image/png": "[encoded data removed]",
      "text/plain": [
       "<Figure size 432x288 with 1 Axes>"
      ]
     },
     "metadata": {
      "needs_background": "light"
     },
     "output_type": "display_data"
    }
   ],
   "source": [
    "\n",
    "#plt.plot(closed_df_21['H2O_liq'],closed_df_21['CO2_liq'] )\n",
    "#plt.plot(open_df_21['H2O_liq'],open_df_21['CO2_liq'] )\n",
    "plt.plot(closed_df_8['H2O_liq'],closed_df_8['CO2_liq'], color='red')\n",
    "plt.plot(open_df_8['H2O_liq'],open_df_8['CO2_liq'], color='red', linestyle='dashed')\n",
    "plt.plot(closed_df_81['H2O_liq'],closed_df_81['CO2_liq'], color='b')\n",
    "plt.plot(open_df_81['H2O_liq'],open_df_81['CO2_liq'], color='b', linestyle='dashed')\n",
    "\n",
    "plt.scatter(data['H2O'], data['CO2'], s=10, marker='o', color='k')\n",
    "\n",
    "plt.xlabel('H2O')\n",
    "plt.ylabel('CO2')\n",
    "myfile.save_excelfile(filename='Samoa2degass.xlsx', \n",
    "                      calculations=[closed_df_8, open_df_8],\n",
    "                      sheet_name=['closed magmasat', 'Open magmasat'])"
   ]
  },
  {
   "cell_type": "code",
   "execution_count": null,
   "metadata": {},
   "outputs": [],
   "source": []
  }
 ],
 "metadata": {
  "kernelspec": {
   "display_name": "Python 3",
   "language": "python",
   "name": "python3"
  },
  "language_info": {
   "codemirror_mode": {
    "name": "ipython",
    "version": 3
   },
   "file_extension": ".py",
   "mimetype": "text/x-python",
   "name": "python",
   "nbconvert_exporter": "python",
   "pygments_lexer": "ipython3",
   "version": "3.7.6"
  },
  "toc": {
   "base_numbering": 1,
   "nav_menu": {},
   "number_sections": true,
   "sideBar": true,
   "skip_h1_title": false,
   "title_cell": "Table of Contents",
   "title_sidebar": "Contents",
   "toc_cell": false,
   "toc_position": {},
   "toc_section_display": true,
   "toc_window_display": false
  }
 },
 "nbformat": 4,
 "nbformat_minor": 4
}
