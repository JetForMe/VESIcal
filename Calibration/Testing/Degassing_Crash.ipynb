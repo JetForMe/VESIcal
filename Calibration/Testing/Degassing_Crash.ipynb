{
 "cells": [
  {
   "cell_type": "code",
   "execution_count": 1,
   "metadata": {},
   "outputs": [],
   "source": [
    "import VESIcal as v\n",
    "import matplotlib.pyplot as plt\n",
    "import numpy as np\n",
    "import pandas as pd\n",
    "from IPython.display import display, HTML\n",
    "import pandas as pd\n",
    "import matplotlib as mpl\n",
    "import seaborn as sns\n",
    "%matplotlib inline"
   ]
  },
  {
   "cell_type": "code",
   "execution_count": 2,
   "metadata": {},
   "outputs": [],
   "source": [
    "myfile = v.ExcelFile('Crashers_calcdegassing.xlsx', sheet_name='Sheet1', input_type='wtpercent')\n",
    "data = myfile.data"
   ]
  },
  {
   "cell_type": "code",
   "execution_count": 3,
   "metadata": {},
   "outputs": [],
   "source": [
    "temp=1117\n",
    "SampleName_8 =17\n",
    "bulk_comp_8 = myfile.get_sample_oxide_comp(SampleName_8)\n",
    "bulk_comp_8 = v.normalize(bulk_comp_8)\n",
    "closed_df_8 = v.calculate_degassing_path(sample=bulk_comp_8, temperature=temp).result\n",
    "open_df_8 = v.calculate_degassing_path(sample=bulk_comp_8, temperature=temp, fractionate_vapor=1.0).result\n"
   ]
  },
  {
   "cell_type": "code",
   "execution_count": 3,
   "metadata": {},
   "outputs": [],
   "source": [
    "temp=1217\n",
    "SampleName_81 =8\n",
    "bulk_comp_81 = myfile.get_sample_oxide_comp(SampleName_81)\n",
    "bulk_comp_81 = v.normalize(bulk_comp_81)\n",
    "closed_df_81 = v.calculate_degassing_path(sample=bulk_comp_81, temperature=temp).result\n",
    "open_df_81 = v.calculate_degassing_path(sample=bulk_comp_81, temperature=temp, fractionate_vapor=1.0).result\n"
   ]
  },
  {
   "cell_type": "code",
   "execution_count": 4,
   "metadata": {},
   "outputs": [
    {
     "name": "stdout",
     "output_type": "stream",
     "text": [
      "Saved Samoa2degass.xlsx\n"
     ]
    }
   ],
   "source": [
    "myfile.save_excelfile(filename='Samoa2degass.xlsx', \n",
    "                      calculations=[closed_df_81, open_df_81],\n",
    "                      sheet_name=['closed magmasat', 'Open magmasat'])"
   ]
  },
  {
   "cell_type": "code",
   "execution_count": 5,
   "metadata": {},
   "outputs": [
    {
     "ename": "NameError",
     "evalue": "name 'closed_df_8' is not defined",
     "output_type": "error",
     "traceback": [
      "\u001b[0;31m---------------------------------------------------------------------------\u001b[0m",
      "\u001b[0;31mNameError\u001b[0m                                 Traceback (most recent call last)",
      "\u001b[0;32m<ipython-input-5-ae349cc39bd8>\u001b[0m in \u001b[0;36m<module>\u001b[0;34m\u001b[0m\n\u001b[1;32m      1\u001b[0m \u001b[0;31m#plt.plot(closed_df_21['H2O_liq'],closed_df_21['CO2_liq'] )\u001b[0m\u001b[0;34m\u001b[0m\u001b[0;34m\u001b[0m\u001b[0;34m\u001b[0m\u001b[0m\n\u001b[1;32m      2\u001b[0m \u001b[0;31m#plt.plot(open_df_21['H2O_liq'],open_df_21['CO2_liq'] )\u001b[0m\u001b[0;34m\u001b[0m\u001b[0;34m\u001b[0m\u001b[0;34m\u001b[0m\u001b[0m\n\u001b[0;32m----> 3\u001b[0;31m \u001b[0mplt\u001b[0m\u001b[0;34m.\u001b[0m\u001b[0mplot\u001b[0m\u001b[0;34m(\u001b[0m\u001b[0mclosed_df_8\u001b[0m\u001b[0;34m[\u001b[0m\u001b[0;34m'H2O_liq'\u001b[0m\u001b[0;34m]\u001b[0m\u001b[0;34m,\u001b[0m\u001b[0mclosed_df_8\u001b[0m\u001b[0;34m[\u001b[0m\u001b[0;34m'CO2_liq'\u001b[0m\u001b[0;34m]\u001b[0m\u001b[0;34m,\u001b[0m \u001b[0mcolor\u001b[0m\u001b[0;34m=\u001b[0m\u001b[0;34m'red'\u001b[0m\u001b[0;34m)\u001b[0m\u001b[0;34m\u001b[0m\u001b[0;34m\u001b[0m\u001b[0m\n\u001b[0m\u001b[1;32m      4\u001b[0m \u001b[0mplt\u001b[0m\u001b[0;34m.\u001b[0m\u001b[0mplot\u001b[0m\u001b[0;34m(\u001b[0m\u001b[0mopen_df_8\u001b[0m\u001b[0;34m[\u001b[0m\u001b[0;34m'H2O_liq'\u001b[0m\u001b[0;34m]\u001b[0m\u001b[0;34m,\u001b[0m\u001b[0mopen_df_8\u001b[0m\u001b[0;34m[\u001b[0m\u001b[0;34m'CO2_liq'\u001b[0m\u001b[0;34m]\u001b[0m\u001b[0;34m,\u001b[0m \u001b[0mcolor\u001b[0m\u001b[0;34m=\u001b[0m\u001b[0;34m'red'\u001b[0m\u001b[0;34m,\u001b[0m \u001b[0mlinestyle\u001b[0m\u001b[0;34m=\u001b[0m\u001b[0;34m'dashed'\u001b[0m\u001b[0;34m)\u001b[0m\u001b[0;34m\u001b[0m\u001b[0;34m\u001b[0m\u001b[0m\n\u001b[1;32m      5\u001b[0m \u001b[0mplt\u001b[0m\u001b[0;34m.\u001b[0m\u001b[0mplot\u001b[0m\u001b[0;34m(\u001b[0m\u001b[0mclosed_df_81\u001b[0m\u001b[0;34m[\u001b[0m\u001b[0;34m'H2O_liq'\u001b[0m\u001b[0;34m]\u001b[0m\u001b[0;34m,\u001b[0m\u001b[0mclosed_df_81\u001b[0m\u001b[0;34m[\u001b[0m\u001b[0;34m'CO2_liq'\u001b[0m\u001b[0;34m]\u001b[0m\u001b[0;34m,\u001b[0m \u001b[0mcolor\u001b[0m\u001b[0;34m=\u001b[0m\u001b[0;34m'b'\u001b[0m\u001b[0;34m)\u001b[0m\u001b[0;34m\u001b[0m\u001b[0;34m\u001b[0m\u001b[0m\n",
      "\u001b[0;31mNameError\u001b[0m: name 'closed_df_8' is not defined"
     ]
    }
   ],
   "source": [
    "\n",
    "#plt.plot(closed_df_21['H2O_liq'],closed_df_21['CO2_liq'] )\n",
    "#plt.plot(open_df_21['H2O_liq'],open_df_21['CO2_liq'] )\n",
    "plt.plot(closed_df_8['H2O_liq'],closed_df_8['CO2_liq'], color='red')\n",
    "plt.plot(open_df_8['H2O_liq'],open_df_8['CO2_liq'], color='red', linestyle='dashed')\n",
    "plt.plot(closed_df_81['H2O_liq'],closed_df_81['CO2_liq'], color='b')\n",
    "plt.plot(open_df_81['H2O_liq'],open_df_81['CO2_liq'], color='b', linestyle='dashed')\n",
    "\n",
    "plt.scatter(data['H2O'], data['CO2'], s=10, marker='o', color='k')\n",
    "\n",
    "plt.xlabel('H2O')\n",
    "plt.ylabel('CO2')\n",
    "myfile.save_excelfile(filename='Samoa2degass.xlsx', \n",
    "                      calculations=[closed_df_8, open_df_8],\n",
    "                      sheet_name=['closed magmasat', 'Open magmasat'])"
   ]
  }
 ],
 "metadata": {
  "kernelspec": {
   "display_name": "Python 3",
   "language": "python",
   "name": "python3"
  },
  "language_info": {
   "codemirror_mode": {
    "name": "ipython",
    "version": 3
   },
   "file_extension": ".py",
   "mimetype": "text/x-python",
   "name": "python",
   "nbconvert_exporter": "python",
   "pygments_lexer": "ipython3",
   "version": "3.7.6"
  }
 },
 "nbformat": 4,
 "nbformat_minor": 4
}
