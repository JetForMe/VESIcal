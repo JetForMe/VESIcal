{
 "cells": [
  {
   "cell_type": "code",
   "execution_count": 7,
   "metadata": {},
   "outputs": [
    {
     "name": "stdout",
     "output_type": "stream",
     "text": [
      "Collecting VESIcal\n",
      "  Using cached VESIcal-0.1.7-py3-none-any.whl (87 kB)\n",
      "Requirement already satisfied: matplotlib in /opt/conda/lib/python3.7/site-packages (from VESIcal) (3.1.3)\n",
      "Requirement already satisfied: sympy in /opt/conda/lib/python3.7/site-packages (from VESIcal) (1.5.1)\n",
      "Requirement already satisfied: cycler in /opt/conda/lib/python3.7/site-packages (from VESIcal) (0.10.0)\n",
      "Requirement already satisfied: scipy in /opt/conda/lib/python3.7/site-packages (from VESIcal) (1.4.1)\n",
      "Requirement already satisfied: pandas in /opt/conda/lib/python3.7/site-packages (from VESIcal) (1.0.2)\n",
      "Requirement already satisfied: numpy in /opt/conda/lib/python3.7/site-packages (from VESIcal) (1.18.1)\n",
      "Requirement already satisfied: pyparsing!=2.0.4,!=2.1.2,!=2.1.6,>=2.0.1 in /opt/conda/lib/python3.7/site-packages (from matplotlib->VESIcal) (2.4.6)\n",
      "Requirement already satisfied: python-dateutil>=2.1 in /opt/conda/lib/python3.7/site-packages (from matplotlib->VESIcal) (2.8.1)\n",
      "Requirement already satisfied: kiwisolver>=1.0.1 in /opt/conda/lib/python3.7/site-packages (from matplotlib->VESIcal) (1.1.0)\n",
      "Requirement already satisfied: mpmath>=0.19 in /opt/conda/lib/python3.7/site-packages (from sympy->VESIcal) (1.1.0)\n",
      "Requirement already satisfied: six in /opt/conda/lib/python3.7/site-packages (from cycler->VESIcal) (1.14.0)\n",
      "Requirement already satisfied: pytz>=2017.2 in /opt/conda/lib/python3.7/site-packages (from pandas->VESIcal) (2019.3)\n",
      "Requirement already satisfied: setuptools in /opt/conda/lib/python3.7/site-packages (from kiwisolver>=1.0.1->matplotlib->VESIcal) (46.0.0.post20200311)\n",
      "Installing collected packages: VESIcal\n",
      "Successfully installed VESIcal-0.1.7\n"
     ]
    }
   ],
   "source": [
    "# This cell installs VESICal. You don't need to run this again - so comment out with a # after running\n",
    "!pip install VESIcal"
   ]
  },
  {
   "cell_type": "code",
   "execution_count": 8,
   "metadata": {},
   "outputs": [],
   "source": [
    "# Importing VESIcal and matplotlib (python's plotting thing)\n",
    "import VESIcal as v\n",
    "import matplotlib.pyplot as plt"
   ]
  },
  {
   "cell_type": "code",
   "execution_count": 9,
   "metadata": {},
   "outputs": [],
   "source": [
    "# Load in melt inclusion data\n",
    "myfile= v.ExcelFile('Cassidy2015_AndesiteMI_YouTubeDemo.xlsx', sheet_name='Sheet1',  input_type='wtpercent')"
   ]
  },
  {
   "cell_type": "code",
   "execution_count": 10,
   "metadata": {},
   "outputs": [
    {
     "data": {
      "text/html": [
       "<div>\n",
       "<style scoped>\n",
       "    .dataframe tbody tr th:only-of-type {\n",
       "        vertical-align: middle;\n",
       "    }\n",
       "\n",
       "    .dataframe tbody tr th {\n",
       "        vertical-align: top;\n",
       "    }\n",
       "\n",
       "    .dataframe thead th {\n",
       "        text-align: right;\n",
       "    }\n",
       "</style>\n",
       "<table border=\"1\" class=\"dataframe\">\n",
       "  <thead>\n",
       "    <tr style=\"text-align: right;\">\n",
       "      <th></th>\n",
       "      <th>Label.1</th>\n",
       "      <th>SiO2</th>\n",
       "      <th>TiO2</th>\n",
       "      <th>Al2O3</th>\n",
       "      <th>FeOTotalfromMike</th>\n",
       "      <th>Fe2O3</th>\n",
       "      <th>FeO</th>\n",
       "      <th>MnO</th>\n",
       "      <th>MgO</th>\n",
       "      <th>CaO</th>\n",
       "      <th>Na2O</th>\n",
       "      <th>K2O</th>\n",
       "      <th>H2O</th>\n",
       "      <th>CO2</th>\n",
       "      <th>Temp</th>\n",
       "      <th>Cr2O3</th>\n",
       "      <th>NiO</th>\n",
       "      <th>CoO</th>\n",
       "      <th>P2O5</th>\n",
       "    </tr>\n",
       "  </thead>\n",
       "  <tbody>\n",
       "    <tr>\n",
       "      <th>SSH4_1</th>\n",
       "      <td>Pyx</td>\n",
       "      <td>64.6</td>\n",
       "      <td>0.86</td>\n",
       "      <td>16.4</td>\n",
       "      <td>3.98</td>\n",
       "      <td>0.663327</td>\n",
       "      <td>3.3830</td>\n",
       "      <td>0</td>\n",
       "      <td>0.87</td>\n",
       "      <td>4.53</td>\n",
       "      <td>4.08</td>\n",
       "      <td>1.05</td>\n",
       "      <td>5.06</td>\n",
       "      <td>0.0105</td>\n",
       "      <td>1050</td>\n",
       "      <td>0.0</td>\n",
       "      <td>0.0</td>\n",
       "      <td>0.0</td>\n",
       "      <td>0.0</td>\n",
       "    </tr>\n",
       "    <tr>\n",
       "      <th>SSH4_2</th>\n",
       "      <td>Pyx</td>\n",
       "      <td>63.6</td>\n",
       "      <td>0.59</td>\n",
       "      <td>16.5</td>\n",
       "      <td>3.44</td>\n",
       "      <td>0.573328</td>\n",
       "      <td>2.9240</td>\n",
       "      <td>0</td>\n",
       "      <td>0.78</td>\n",
       "      <td>4.24</td>\n",
       "      <td>4.31</td>\n",
       "      <td>0.97</td>\n",
       "      <td>5.08</td>\n",
       "      <td>0.0071</td>\n",
       "      <td>1050</td>\n",
       "      <td>0.0</td>\n",
       "      <td>0.0</td>\n",
       "      <td>0.0</td>\n",
       "      <td>0.0</td>\n",
       "    </tr>\n",
       "    <tr>\n",
       "      <th>SSH10_1</th>\n",
       "      <td>Ol</td>\n",
       "      <td>58.7</td>\n",
       "      <td>0.68</td>\n",
       "      <td>15.0</td>\n",
       "      <td>5.57</td>\n",
       "      <td>0.928324</td>\n",
       "      <td>4.7345</td>\n",
       "      <td>0</td>\n",
       "      <td>2.36</td>\n",
       "      <td>5.70</td>\n",
       "      <td>2.13</td>\n",
       "      <td>2.22</td>\n",
       "      <td>5.62</td>\n",
       "      <td>0.0313</td>\n",
       "      <td>1050</td>\n",
       "      <td>0.0</td>\n",
       "      <td>0.0</td>\n",
       "      <td>0.0</td>\n",
       "      <td>0.0</td>\n",
       "    </tr>\n",
       "    <tr>\n",
       "      <th>SSH5B_1</th>\n",
       "      <td>Pyx_2</td>\n",
       "      <td>67.6</td>\n",
       "      <td>0.48</td>\n",
       "      <td>17.0</td>\n",
       "      <td>0.48</td>\n",
       "      <td>0.079999</td>\n",
       "      <td>0.4080</td>\n",
       "      <td>0</td>\n",
       "      <td>0.02</td>\n",
       "      <td>3.14</td>\n",
       "      <td>4.51</td>\n",
       "      <td>1.58</td>\n",
       "      <td>6.19</td>\n",
       "      <td>0.0043</td>\n",
       "      <td>1050</td>\n",
       "      <td>0.0</td>\n",
       "      <td>0.0</td>\n",
       "      <td>0.0</td>\n",
       "      <td>0.0</td>\n",
       "    </tr>\n",
       "    <tr>\n",
       "      <th>SSH5B_2</th>\n",
       "      <td>Pyx</td>\n",
       "      <td>67.2</td>\n",
       "      <td>0.70</td>\n",
       "      <td>16.9</td>\n",
       "      <td>0.46</td>\n",
       "      <td>0.076666</td>\n",
       "      <td>0.3910</td>\n",
       "      <td>0</td>\n",
       "      <td>0.02</td>\n",
       "      <td>3.31</td>\n",
       "      <td>4.49</td>\n",
       "      <td>1.60</td>\n",
       "      <td>5.48</td>\n",
       "      <td>0.0052</td>\n",
       "      <td>1050</td>\n",
       "      <td>0.0</td>\n",
       "      <td>0.0</td>\n",
       "      <td>0.0</td>\n",
       "      <td>0.0</td>\n",
       "    </tr>\n",
       "    <tr>\n",
       "      <th>SSH10</th>\n",
       "      <td>Ol</td>\n",
       "      <td>60.3</td>\n",
       "      <td>0.81</td>\n",
       "      <td>15.8</td>\n",
       "      <td>5.49</td>\n",
       "      <td>0.914991</td>\n",
       "      <td>4.6665</td>\n",
       "      <td>0</td>\n",
       "      <td>2.80</td>\n",
       "      <td>6.56</td>\n",
       "      <td>1.94</td>\n",
       "      <td>0.32</td>\n",
       "      <td>5.20</td>\n",
       "      <td>0.0250</td>\n",
       "      <td>1050</td>\n",
       "      <td>0.0</td>\n",
       "      <td>0.0</td>\n",
       "      <td>0.0</td>\n",
       "      <td>0.0</td>\n",
       "    </tr>\n",
       "    <tr>\n",
       "      <th>SSH5B</th>\n",
       "      <td>Pyx</td>\n",
       "      <td>68.0</td>\n",
       "      <td>0.41</td>\n",
       "      <td>16.2</td>\n",
       "      <td>1.40</td>\n",
       "      <td>0.233331</td>\n",
       "      <td>1.1900</td>\n",
       "      <td>0</td>\n",
       "      <td>0.60</td>\n",
       "      <td>4.20</td>\n",
       "      <td>4.20</td>\n",
       "      <td>1.60</td>\n",
       "      <td>5.70</td>\n",
       "      <td>0.0180</td>\n",
       "      <td>1050</td>\n",
       "      <td>0.0</td>\n",
       "      <td>0.0</td>\n",
       "      <td>0.0</td>\n",
       "      <td>0.0</td>\n",
       "    </tr>\n",
       "    <tr>\n",
       "      <th>SSH4_3</th>\n",
       "      <td>Pyx</td>\n",
       "      <td>63.0</td>\n",
       "      <td>0.62</td>\n",
       "      <td>16.0</td>\n",
       "      <td>4.20</td>\n",
       "      <td>0.699993</td>\n",
       "      <td>3.5700</td>\n",
       "      <td>0</td>\n",
       "      <td>1.10</td>\n",
       "      <td>4.30</td>\n",
       "      <td>3.30</td>\n",
       "      <td>0.90</td>\n",
       "      <td>5.10</td>\n",
       "      <td>0.0140</td>\n",
       "      <td>1050</td>\n",
       "      <td>0.0</td>\n",
       "      <td>0.0</td>\n",
       "      <td>0.0</td>\n",
       "      <td>0.0</td>\n",
       "    </tr>\n",
       "  </tbody>\n",
       "</table>\n",
       "</div>"
      ],
      "text/plain": [
       "        Label.1  SiO2  TiO2  Al2O3  FeOTotalfromMike     Fe2O3     FeO  MnO  \\\n",
       "SSH4_1      Pyx  64.6  0.86   16.4              3.98  0.663327  3.3830    0   \n",
       "SSH4_2      Pyx  63.6  0.59   16.5              3.44  0.573328  2.9240    0   \n",
       "SSH10_1      Ol  58.7  0.68   15.0              5.57  0.928324  4.7345    0   \n",
       "SSH5B_1   Pyx_2  67.6  0.48   17.0              0.48  0.079999  0.4080    0   \n",
       "SSH5B_2     Pyx  67.2  0.70   16.9              0.46  0.076666  0.3910    0   \n",
       "SSH10        Ol  60.3  0.81   15.8              5.49  0.914991  4.6665    0   \n",
       "SSH5B       Pyx  68.0  0.41   16.2              1.40  0.233331  1.1900    0   \n",
       "SSH4_3      Pyx  63.0  0.62   16.0              4.20  0.699993  3.5700    0   \n",
       "\n",
       "          MgO   CaO  Na2O   K2O   H2O     CO2  Temp  Cr2O3  NiO  CoO  P2O5  \n",
       "SSH4_1   0.87  4.53  4.08  1.05  5.06  0.0105  1050    0.0  0.0  0.0   0.0  \n",
       "SSH4_2   0.78  4.24  4.31  0.97  5.08  0.0071  1050    0.0  0.0  0.0   0.0  \n",
       "SSH10_1  2.36  5.70  2.13  2.22  5.62  0.0313  1050    0.0  0.0  0.0   0.0  \n",
       "SSH5B_1  0.02  3.14  4.51  1.58  6.19  0.0043  1050    0.0  0.0  0.0   0.0  \n",
       "SSH5B_2  0.02  3.31  4.49  1.60  5.48  0.0052  1050    0.0  0.0  0.0   0.0  \n",
       "SSH10    2.80  6.56  1.94  0.32  5.20  0.0250  1050    0.0  0.0  0.0   0.0  \n",
       "SSH5B    0.60  4.20  4.20  1.60  5.70  0.0180  1050    0.0  0.0  0.0   0.0  \n",
       "SSH4_3   1.10  4.30  3.30  0.90  5.10  0.0140  1050    0.0  0.0  0.0   0.0  "
      ]
     },
     "execution_count": 10,
     "metadata": {},
     "output_type": "execute_result"
    }
   ],
   "source": [
    "# Allows you to inspect data, and check VESIcal has read column headings correctly (e.g., non zero values for oxides)\n",
    "myfile.data"
   ]
  },
  {
   "cell_type": "code",
   "execution_count": 11,
   "metadata": {},
   "outputs": [
    {
     "name": "stdout",
     "output_type": "stream",
     "text": [
      "Calculating sample SSH4_1\n",
      "Calculating sample SSH4_2\n",
      "Calculating sample SSH10_1\n",
      "Calculating sample SSH5B_1\n",
      "Calculating sample SSH5B_2\n",
      "Calculating sample SSH10\n",
      "Calculating sample SSH5B\n",
      "Calculating sample SSH4_3\n",
      "Done!\n"
     ]
    }
   ],
   "source": [
    "# Calculating saturation pressures using the default model Magmasat\n",
    "Sat_P_MagmaSat=myfile.calculate_saturation_pressure(temperature=1050)"
   ]
  },
  {
   "cell_type": "code",
   "execution_count": 12,
   "metadata": {},
   "outputs": [
    {
     "data": {
      "text/plain": [
       "SSH4_1     1760\n",
       "SSH4_2     1740\n",
       "SSH10_1    2560\n",
       "SSH5B_1    2170\n",
       "SSH5B_2    1850\n",
       "SSH10      2210\n",
       "SSH5B      2090\n",
       "SSH4_3     1930\n",
       "Name: SaturationP_bars_VESIcal, dtype: int64"
      ]
     },
     "execution_count": 12,
     "metadata": {},
     "output_type": "execute_result"
    }
   ],
   "source": [
    "# Inspecting saturation pressures\n",
    "Sat_P_MagmaSat['SaturationP_bars_VESIcal']"
   ]
  },
  {
   "cell_type": "code",
   "execution_count": 13,
   "metadata": {},
   "outputs": [],
   "source": [
    "# Calculating saturation pressures using the simplification of Dixon 1997 implemented in VolatileCalc\n",
    "Sat_P_Dixon=myfile.calculate_saturation_pressure(temperature=1050, model='Dixon')"
   ]
  },
  {
   "cell_type": "code",
   "execution_count": 15,
   "metadata": {},
   "outputs": [
    {
     "data": {
      "image/png": "[encoded data removed]",
      "text/plain": [
       "<Figure size 864x360 with 2 Axes>"
      ]
     },
     "metadata": {
      "needs_background": "light"
     },
     "output_type": "display_data"
    }
   ],
   "source": [
    "# Plotting as histograms (obviously this is a very small dataset, but that is to allow fast computation in this example!)\n",
    "fig, ((ax1, ax2)) = plt.subplots(1, 2, figsize = (12,5), sharex=True)\n",
    "ax1.hist(Sat_P_Dixon['SaturationP_bars_VESIcal'], color='cornflowerblue')\n",
    "ax2.hist(Sat_P_MagmaSat['SaturationP_bars_VESIcal'], color='grey')\n",
    "ax1.set_xlabel('Saturation pressure (bars)')\n",
    "ax2.set_xlabel('Saturation pressure (bars)')\n",
    "ax1.set_ylabel('# of measurements')\n",
    "ax1.locator_params(axis=\"both\", integer=True, tight=True)\n",
    "ax2.locator_params(axis=\"both\", integer=True, tight=True)\n",
    "\n",
    "fig.savefig('Andesitic_MIs_Histogram.svg', transparent=True)"
   ]
  },
  {
   "cell_type": "code",
   "execution_count": 18,
   "metadata": {},
   "outputs": [
    {
     "name": "stdout",
     "output_type": "stream",
     "text": [
      "Saved Andesite_MI_SatPs.xlsx\n"
     ]
    }
   ],
   "source": [
    "# Save calculations to excel for future reference\n",
    "myfile.save_excelfile(filename = 'Andesite_MI_SatPs.xlsx', calculations=[Sat_P_MagmaSat, Sat_P_Dixon], sheet_name=['Magmasat', 'Dixon'])"
   ]
  }
 ],
 "metadata": {
  "kernelspec": {
   "display_name": "Python 3",
   "language": "python",
   "name": "python3"
  },
  "language_info": {
   "codemirror_mode": {
    "name": "ipython",
    "version": 3
   },
   "file_extension": ".py",
   "mimetype": "text/x-python",
   "name": "python",
   "nbconvert_exporter": "python",
   "pygments_lexer": "ipython3",
   "version": "3.7.6"
  }
 },
 "nbformat": 4,
 "nbformat_minor": 4
}
